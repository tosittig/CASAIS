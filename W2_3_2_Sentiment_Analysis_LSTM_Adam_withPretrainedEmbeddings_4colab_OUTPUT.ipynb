{
  "cells": [
    {
      "cell_type": "markdown",
      "metadata": {
        "id": "view-in-github",
        "colab_type": "text"
      },
      "source": [
        "<a href=\"https://colab.research.google.com/github/tosittig/CASAIS/blob/main/W2_3_2_Sentiment_Analysis_LSTM_Adam_withPretrainedEmbeddings_4colab_OUTPUT.ipynb\" target=\"_parent\"><img src=\"https://colab.research.google.com/assets/colab-badge.svg\" alt=\"Open In Colab\"/></a>"
      ]
    },
    {
      "cell_type": "markdown",
      "metadata": {
        "id": "3qLvl1v98A4_"
      },
      "source": [
        "# Simple Sentiment Classification: LSTM\n",
        "\n",
        "We continue the sentiment analysis on the IMDb dataset, and extent the bag-of-word approach of the previous notebook with the following components:\n",
        "* we use an encoding that takes the order of the words into account\n",
        "* we use pre-trained word embeddings\n",
        "* we use LSTM layers to take into account the neightborhood of the words."
      ]
    },
    {
      "cell_type": "markdown",
      "metadata": {
        "id": "X8DKB6tD88y-"
      },
      "source": [
        "## Set-up\n",
        "First of all, we need to load the libraries that we will need for this task. We will use keras and tensorflow for this code example, so we load the relevant parts of this framework:"
      ]
    },
    {
      "cell_type": "code",
      "execution_count": null,
      "metadata": {
        "id": "r2mlKlDL9Sqx"
      },
      "outputs": [],
      "source": [
        "import numpy as np\n",
        "import tensorflow as tf\n",
        "import tensorflow_datasets as tfds"
      ]
    },
    {
      "cell_type": "code",
      "execution_count": null,
      "metadata": {
        "id": "Lmpc4ffC9tuz"
      },
      "outputs": [],
      "source": [
        "from tensorflow.keras.models import Sequential\n",
        "from tensorflow.keras.layers import Dense, Activation, Dropout\n",
        "from tensorflow.keras.layers import Input, TextVectorization, Embedding, Flatten, LSTM, Bidirectional\n",
        "from tensorflow.keras.losses import BinaryCrossentropy\n",
        "from tensorflow.keras.callbacks import EarlyStopping\n",
        "from tensorflow.keras.initializers import Constant\n",
        "from tensorflow.keras.optimizers import Adam\n",
        "from tensorflow.keras.utils import to_categorical"
      ]
    },
    {
      "cell_type": "code",
      "execution_count": null,
      "metadata": {
        "id": "k9CKWApuMOFW"
      },
      "outputs": [],
      "source": [
        "# some more general libraries for evaluation purposes:\n",
        "import matplotlib.pyplot as plt\n",
        "import datetime\n",
        "import pickle"
      ]
    },
    {
      "cell_type": "code",
      "execution_count": null,
      "metadata": {
        "id": "yjdwz9uU9vZM"
      },
      "outputs": [],
      "source": [
        "# initialize random number generators to ensure reproducibility:\n",
        "tf.random.set_seed(123)\n",
        "np.random.seed(123)"
      ]
    },
    {
      "cell_type": "code",
      "execution_count": null,
      "metadata": {
        "id": "6llEwYFAnqiU"
      },
      "outputs": [],
      "source": [
        "# set some model parameters\n",
        "VOCAB_SIZE = 1000\n",
        "NUM_EPOCHS = 50 # set lower for fast results - set higher for good results\n",
        "BUFFER_SIZE = 10000\n",
        "BATCH_SIZE = 512\n",
        "EMBED_DIM = 100"
      ]
    },
    {
      "cell_type": "markdown",
      "metadata": {
        "id": "zkIem1L292T5"
      },
      "source": [
        "## Loading the Data\n",
        "Also, the data loading as before:"
      ]
    },
    {
      "cell_type": "code",
      "execution_count": null,
      "metadata": {
        "colab": {
          "base_uri": "https://localhost:8080/",
          "height": 137,
          "referenced_widgets": [
            "68a9a52e399d464da4575e0162f1d671",
            "390f3069483e49f49e0efcff81b18fec",
            "f3cfa11ffb0848c28291f201c3cd8c4d",
            "90ab419ae0d149b1b7cdb189414d9319",
            "dfdc5e33b7eb4ec69d0c7618a953db0e",
            "d6031a469e04425483481038085ad2ab",
            "0b26d5c6aa214d308a961bdb6c1a63f3",
            "deb10153ebba4d7faef04b0be48cc132",
            "8c1155024ce2401088c7e38c12c4faa8",
            "a35f3f9bb4694604b068313403752a9a",
            "8a92923fdf584b56b323ee47db636057",
            "1edab146c1b44351882421aeabd85585",
            "f19b8beb33094aa78a8f7a7faf7dd3c0",
            "9a24e929d51b42f487ae371493151a18",
            "18f4aee0c6ec4d51a66a3e0b94448f93",
            "0d4baa1f504f42ebb46bb6537d19b98e",
            "d8e46ec9910e41a7bc77a64327ae9e37",
            "544fb71fb35b423a92030027d4b8a8e2",
            "6720535140af427ea7936c7d0eb5af41",
            "c266010213a544ea813abe27d339e9af",
            "c561a4a743b84452996695b1978de491",
            "226710c867794f89837601a4caec3943",
            "36b79724f9c4463a83044d7c03908dcc",
            "179831a994d1449299ff30ad6cd1f739",
            "80002c5237a84378bb026804fe47d40c",
            "81979e2709724acc8708f8f3662ab9d1",
            "5ccc32ec66314deda8314503e0412434",
            "a8ea59aeb87346f08816997658aa26ad",
            "2a0e09bfe0ea4167b5af893bd6d5eb16",
            "97c88f231fac4d81bdee76e753f3dd0c",
            "d403527e79bc45c8bcb74cc4a371b716",
            "3bc57ff659f84aee8a918b6a415a1416",
            "276811a68051495ebeb49ca16e133363",
            "d311b2d0d21846f5bb7520c09f59a9af",
            "42062268b7c341589e45827acfe0a9f2",
            "ea049e55bd2845f7a5a8cde5186f2761",
            "54864be26850481db4dd8474797a169c",
            "f3a7b12cb84546d0ac34e212229aa21d",
            "c992595bf3304a899920915a46bbca17",
            "937ea0873d1f4ba8acda4978a0a12db6",
            "6fa906fa9dc34571b73b46d329c2c066",
            "b92323fa98634cc48c8a464777c539bc",
            "4e83c3a785924f3ca2aad111eafc3df1",
            "3a709a1f0ab541f198863275beda27c5",
            "67eb4cf5e56f47b8836b24e93f970ed6",
            "6603b540c78245918b878637e198d134",
            "057da905e16749769a5af79cfe117d8c",
            "9fe1361d84ae40e091fab683c73ee3b9",
            "a6e944dbfa9047caa6c09db4030ebf73",
            "89ed87426e6342078bb23fa208334210",
            "f43252e476774d01801b701cc1effafe",
            "88a7b419e0094f409a0d09bcbf06cb30",
            "4d08458be90842858eddb7292571d5ce",
            "b975512ce22b43dca46820aa89e1e954",
            "dfb216670fba4c0ca78ec01d5cbd4c5e",
            "9cba0008a31e492b983f138a8901c99b",
            "f2ba4dc969864ce5a7440dfb0812e5a6",
            "b0158834e07843a4bb143c8ed2383cd8",
            "5f82be9428f94fd7a6683a29b6cd0dd7",
            "f1a6505502fa441798b31984b77a784c",
            "2a8031642ed74133be258c042eb36cbe",
            "ba743c4bd2244465a4ce83865d5c35fb",
            "4f0fdb748a794ca7aba42fc5b3951c93",
            "20419452b39b4dd9983f494b432fdaba",
            "3ab471ee3b224972848e454cf33a3ada",
            "332dbdf343c5475f93e3e163eae7ec0d",
            "2e66618deafd40afb73fc065078d0ec5",
            "77c83550744e48cf8fedc9499c98451e",
            "d1c7dda78d754b439e56e488ee0f9b66",
            "d129ecd8a74b4dbc98f92a97dfd6f5c8",
            "888c51c34287408a844488d76c0a065c",
            "5a93cb4dbe574c21ab64a243e817dc61",
            "f192529149624e03bff6dc725f594776",
            "7e544103db4b4e738a5bcf94bc065f00",
            "54f24788425b486ebd26fc2b2cb6c5d7",
            "0564dfbf9336495b9912ec340050fcea",
            "23ce222c39e94c229010c39dbecce13e",
            "a06518b117654581b3356353fc696786",
            "786491206cfd45debbb34e2effe57a86",
            "9f60fcfbb03141be9952cd8e497782be",
            "c46a684a42224d4a988d0da31bbf1195",
            "21c2eff8a2c14184a647564728928d15",
            "0503da5c57624075bdf32cc74fb819e0",
            "9cd4be612935478b8714b07f65c56836",
            "b2866c8220454d8a9c2b92c6992e4949",
            "3892cf95a93e49b098446fe48ce32257",
            "d75b98e7f6af492eb1489aaa77fed83d",
            "3cd923ee3e1047a6a5adbc82a0e06506",
            "6c2e4e141da54b0ca2b991916ac210ce",
            "77fb5f0c15d2498a8733967b4622464c",
            "75afd6dddce74b5eb9273e9bd601f11d",
            "a6a01028d01646ea9fc8b59c0e320403",
            "96b4cac7afac4e39b78e8ddbd66ee14a",
            "542bd7f1385a452d910dba4b7c585fd7",
            "6e913fd4e3d04e7bba450c080d94f69a",
            "cdb22dc19de24ef0a35a526f90f2987e",
            "a03507a6063d4a66a72c993b85680dee",
            "96cff663de1944f48029353afc471032",
            "d7aadba3196b43308e16b1b3528d304c"
          ]
        },
        "id": "b2aEUYnT_uTm",
        "outputId": "ca35ac05-94d1-46cb-cf0e-b97686c7f448"
      },
      "outputs": [
        {
          "output_type": "stream",
          "name": "stdout",
          "text": [
            "Downloading and preparing dataset 80.23 MiB (download: 80.23 MiB, generated: Unknown size, total: 80.23 MiB) to /root/tensorflow_datasets/imdb_reviews/plain_text/1.0.0...\n"
          ]
        },
        {
          "output_type": "display_data",
          "data": {
            "text/plain": [
              "Dl Completed...: 0 url [00:00, ? url/s]"
            ],
            "application/vnd.jupyter.widget-view+json": {
              "version_major": 2,
              "version_minor": 0,
              "model_id": "68a9a52e399d464da4575e0162f1d671"
            }
          },
          "metadata": {}
        },
        {
          "output_type": "display_data",
          "data": {
            "text/plain": [
              "Dl Size...: 0 MiB [00:00, ? MiB/s]"
            ],
            "application/vnd.jupyter.widget-view+json": {
              "version_major": 2,
              "version_minor": 0,
              "model_id": "1edab146c1b44351882421aeabd85585"
            }
          },
          "metadata": {}
        },
        {
          "output_type": "display_data",
          "data": {
            "text/plain": [
              "Generating splits...:   0%|          | 0/3 [00:00<?, ? splits/s]"
            ],
            "application/vnd.jupyter.widget-view+json": {
              "version_major": 2,
              "version_minor": 0,
              "model_id": "36b79724f9c4463a83044d7c03908dcc"
            }
          },
          "metadata": {}
        },
        {
          "output_type": "display_data",
          "data": {
            "text/plain": [
              "Generating train examples...:   0%|          | 0/25000 [00:00<?, ? examples/s]"
            ],
            "application/vnd.jupyter.widget-view+json": {
              "version_major": 2,
              "version_minor": 0,
              "model_id": "d311b2d0d21846f5bb7520c09f59a9af"
            }
          },
          "metadata": {}
        },
        {
          "output_type": "display_data",
          "data": {
            "text/plain": [
              "Shuffling /root/tensorflow_datasets/imdb_reviews/plain_text/1.0.0.incomplete7RT7UA/imdb_reviews-train.tfrecord…"
            ],
            "application/vnd.jupyter.widget-view+json": {
              "version_major": 2,
              "version_minor": 0,
              "model_id": "67eb4cf5e56f47b8836b24e93f970ed6"
            }
          },
          "metadata": {}
        },
        {
          "output_type": "display_data",
          "data": {
            "text/plain": [
              "Generating test examples...:   0%|          | 0/25000 [00:00<?, ? examples/s]"
            ],
            "application/vnd.jupyter.widget-view+json": {
              "version_major": 2,
              "version_minor": 0,
              "model_id": "9cba0008a31e492b983f138a8901c99b"
            }
          },
          "metadata": {}
        },
        {
          "output_type": "display_data",
          "data": {
            "text/plain": [
              "Shuffling /root/tensorflow_datasets/imdb_reviews/plain_text/1.0.0.incomplete7RT7UA/imdb_reviews-test.tfrecord*…"
            ],
            "application/vnd.jupyter.widget-view+json": {
              "version_major": 2,
              "version_minor": 0,
              "model_id": "2e66618deafd40afb73fc065078d0ec5"
            }
          },
          "metadata": {}
        },
        {
          "output_type": "display_data",
          "data": {
            "text/plain": [
              "Generating unsupervised examples...:   0%|          | 0/50000 [00:00<?, ? examples/s]"
            ],
            "application/vnd.jupyter.widget-view+json": {
              "version_major": 2,
              "version_minor": 0,
              "model_id": "a06518b117654581b3356353fc696786"
            }
          },
          "metadata": {}
        },
        {
          "output_type": "display_data",
          "data": {
            "text/plain": [
              "Shuffling /root/tensorflow_datasets/imdb_reviews/plain_text/1.0.0.incomplete7RT7UA/imdb_reviews-unsupervised.t…"
            ],
            "application/vnd.jupyter.widget-view+json": {
              "version_major": 2,
              "version_minor": 0,
              "model_id": "6c2e4e141da54b0ca2b991916ac210ce"
            }
          },
          "metadata": {}
        },
        {
          "output_type": "stream",
          "name": "stdout",
          "text": [
            "Dataset imdb_reviews downloaded and prepared to /root/tensorflow_datasets/imdb_reviews/plain_text/1.0.0. Subsequent calls will reuse this data.\n"
          ]
        }
      ],
      "source": [
        "train_ds, val_ds, test_ds = tfds.load(\n",
        "    name = \"imdb_reviews\",\n",
        "    split = [ 'train[:80%]', 'train[80%:]', 'test' ],\n",
        "    as_supervised = True)"
      ]
    },
    {
      "cell_type": "code",
      "execution_count": null,
      "metadata": {
        "colab": {
          "base_uri": "https://localhost:8080/"
        },
        "id": "i3EEJAJZu-pN",
        "outputId": "6b766276-50e7-4a55-ebae-6880abf01885"
      },
      "outputs": [
        {
          "output_type": "stream",
          "name": "stdout",
          "text": [
            "Input:  tf.Tensor(b\"This was an absolutely terrible movie. Don't be lured in by Christopher Walken or Michael Ironside. Both are great actors, but this must simply be their worst role in history. Even their great acting could not redeem this movie's ridiculous storyline. This movie is an early nineties US propaganda piece. The most pathetic scenes were those when the Columbian rebels were making their cases for revolutions. Maria Conchita Alonso appeared phony, and her pseudo-love affair with Walken was nothing but a pathetic emotional plug in a movie that was devoid of any real meaning. I am disappointed that there are movies like this, ruining actor's like Christopher Walken's good name. I could barely sit through it.\", shape=(), dtype=string)\n",
            "..........\n",
            "Target labels:  tf.Tensor(0, shape=(), dtype=int64)\n",
            "--------------------------------------------------\n"
          ]
        }
      ],
      "source": [
        "for example, label in train_ds.take(1):\n",
        "  print(\"Input: \", example)\n",
        "  print(10*\".\")\n",
        "  print('Target labels: ', label)\n",
        "  print(50*\"-\")"
      ]
    },
    {
      "cell_type": "markdown",
      "metadata": {
        "id": "vBbodQjwBdLj"
      },
      "source": [
        "## Text Representation:\n",
        "A first change considers the text representation: While we used `output_mode = \"count\"` in the previous notebook, we now drop this additional argument for the `TextVectorization`"
      ]
    },
    {
      "cell_type": "code",
      "execution_count": null,
      "metadata": {
        "id": "gOvI4kvACq6_"
      },
      "outputs": [],
      "source": [
        "encoderSEQ = TextVectorization(max_tokens=VOCAB_SIZE)\n",
        "# previously, we had 'output_mode = \"count\", ' as additional arguments for TextVectorization\n",
        "encoderSEQ.adapt(train_ds.map(lambda text, label: text))"
      ]
    },
    {
      "cell_type": "markdown",
      "metadata": {
        "id": "yIBS_Oh2Cxnm"
      },
      "source": [
        "The vocabulary is still the same as for the `encoderBoW`:"
      ]
    },
    {
      "cell_type": "code",
      "execution_count": null,
      "metadata": {
        "colab": {
          "base_uri": "https://localhost:8080/"
        },
        "id": "F4LculaADwBc",
        "outputId": "cd7fc6a1-4f0e-4903-f674-5f03d5daeae1"
      },
      "outputs": [
        {
          "output_type": "execute_result",
          "data": {
            "text/plain": [
              "array(['', '[UNK]', 'the', 'and', 'a', 'of', 'to', 'is', 'in', 'it', 'i',\n",
              "       'this', 'that', 'br', 'was', 'as', 'for', 'with', 'movie', 'but'],\n",
              "      dtype='<U14')"
            ]
          },
          "metadata": {},
          "execution_count": 18
        }
      ],
      "source": [
        "vocab = np.array(encoderSEQ.get_vocabulary())\n",
        "vocab[:20]"
      ]
    },
    {
      "cell_type": "markdown",
      "metadata": {
        "id": "8LgJ-Jg2Dyl3"
      },
      "source": [
        "The first word in the vocabulary is `[UNK]`, the token for the unknown words. Afterwards, we have a number of token for very common words, the so-called **stop words**. The first one being 'the'. So, in the numerical vector that we get after coding, the first column corresponds to all unknown words (i.e. all words that do not appear in the vocabulary), and the second column corresponds to the word 'the'. Also some *domain-specific* words occur frequenty: `movie` and `film` indicate that the vocabulary was built on movie reviews."
      ]
    },
    {
      "cell_type": "markdown",
      "metadata": {
        "id": "PUyQrMr8El0_"
      },
      "source": [
        "We can now get an example encoding:"
      ]
    },
    {
      "cell_type": "code",
      "execution_count": null,
      "metadata": {
        "colab": {
          "base_uri": "https://localhost:8080/"
        },
        "id": "9Acqpkfrp3NW",
        "outputId": "466df682-5833-47f0-df51-d51b51303216"
      },
      "outputs": [
        {
          "output_type": "execute_result",
          "data": {
            "text/plain": [
              "array([2])"
            ]
          },
          "metadata": {},
          "execution_count": 19
        }
      ],
      "source": [
        "encoderSEQ(\"the\").numpy()"
      ]
    },
    {
      "cell_type": "code",
      "execution_count": null,
      "metadata": {
        "colab": {
          "base_uri": "https://localhost:8080/"
        },
        "id": "woR9ozFtob_P",
        "outputId": "e9e832c1-1f7d-45b1-9b5d-9b11b7198f80"
      },
      "outputs": [
        {
          "output_type": "execute_result",
          "data": {
            "text/plain": [
              "<tf.Tensor: shape=(), dtype=string, numpy=b\"This was an absolutely terrible movie. Don't be lured in by Christopher Walken or Michael Ironside. Both are great actors, but this must simply be their worst role in history. Even their great acting could not redeem this movie's ridiculous storyline. This movie is an early nineties US propaganda piece. The most pathetic scenes were those when the Columbian rebels were making their cases for revolutions. Maria Conchita Alonso appeared phony, and her pseudo-love affair with Walken was nothing but a pathetic emotional plug in a movie that was devoid of any real meaning. I am disappointed that there are movies like this, ruining actor's like Christopher Walken's good name. I could barely sit through it.\">"
            ]
          },
          "metadata": {},
          "execution_count": 20
        }
      ],
      "source": [
        "example"
      ]
    },
    {
      "cell_type": "code",
      "execution_count": null,
      "metadata": {
        "colab": {
          "base_uri": "https://localhost:8080/"
        },
        "id": "EqQyaqPaoYRe",
        "outputId": "ec0f3ce4-4e6c-4c7a-d850-294101e2722c"
      },
      "outputs": [
        {
          "output_type": "execute_result",
          "data": {
            "text/plain": [
              "array([ 11,  14,  34, 411, 376,  18,  90,  27,   1,   8,  33,   1,   1,\n",
              "        41, 501,   1, 193,  25,  86, 152,  19,  11, 216, 316,  27,  65,\n",
              "       241, 213,   8, 485,  56,  65,  86, 115,  95,  22,   1,  11,  93,\n",
              "       635, 739,  11,  18,   7,  34, 396,   1, 169,   1, 409,   2,  88,\n",
              "         1, 137,  67, 144,  52,   2,   1,   1,  67, 245,  65,   1,  16,\n",
              "         1,   1,   1,   1,   1,   1,   3,  40,   1,   1,  17,   1,  14,\n",
              "       156,  19,   4,   1, 853,   1,   8,   4,  18,  12,  14,   1,   5,\n",
              "        98, 146,   1,  10, 231, 683,  12,  48,  25,  93,  39,  11,   1,\n",
              "       152,  39,   1,   1,  50, 408,  10,  95,   1, 845, 140,   9])"
            ]
          },
          "metadata": {},
          "execution_count": 21
        }
      ],
      "source": [
        "encoderSEQ(example).numpy()"
      ]
    },
    {
      "cell_type": "markdown",
      "metadata": {
        "id": "siiWv1Z7vHvf"
      },
      "source": [
        "Now, the output is a sequence of the word indices. So we can try to reconstruct the input text:"
      ]
    },
    {
      "cell_type": "code",
      "execution_count": null,
      "metadata": {
        "colab": {
          "base_uri": "https://localhost:8080/"
        },
        "id": "SAAZjF4nvSoK",
        "outputId": "c4428b4a-c16c-493d-a05f-9f997fb52ec8"
      },
      "outputs": [
        {
          "output_type": "stream",
          "name": "stdout",
          "text": [
            "Original:  b\"This was an absolutely terrible movie. Don't be lured in by Christopher Walken or Michael Ironside. Both are great actors, but this must simply be their worst role in history. Even their great acting could not redeem this movie's ridiculous storyline. This movie is an early nineties US propaganda piece. The most pathetic scenes were those when the Columbian rebels were making their cases for revolutions. Maria Conchita Alonso appeared phony, and her pseudo-love affair with Walken was nothing but a pathetic emotional plug in a movie that was devoid of any real meaning. I am disappointed that there are movies like this, ruining actor's like Christopher Walken's good name. I could barely sit through it.\"\n",
            "Reconstruction:  this was an absolutely terrible movie dont be [UNK] in by [UNK] [UNK] or michael [UNK] both are great actors but this must simply be their worst role in history even their great acting could not [UNK] this movies ridiculous storyline this movie is an early [UNK] us [UNK] piece the most [UNK] scenes were those when the [UNK] [UNK] were making their [UNK] for [UNK] [UNK] [UNK] [UNK] [UNK] [UNK] and her [UNK] [UNK] with [UNK] was nothing but a [UNK] emotional [UNK] in a movie that was [UNK] of any real [UNK] i am disappointed that there are movies like this [UNK] actors like [UNK] [UNK] good name i could [UNK] sit through it\n"
          ]
        }
      ],
      "source": [
        "print(\"Original: \", example.numpy())\n",
        "print(\"Reconstruction: \", \" \".join(vocab[encoderSEQ(example)]))"
      ]
    },
    {
      "cell_type": "markdown",
      "metadata": {
        "id": "lXL5DpoimTDP"
      },
      "source": [
        "## Preparation for Model Comparison\n",
        "We want to move on to more complex models. In order to be prepared, we first define a function that does the training and evaluation for us:"
      ]
    },
    {
      "cell_type": "code",
      "execution_count": null,
      "metadata": {
        "id": "vHkaVRHpslwu"
      },
      "outputs": [],
      "source": [
        "def fitAndEval(myModel, from_logits = True, model_name = ''):\n",
        "    # compile\n",
        "    myModel.compile(loss = BinaryCrossentropy(from_logits=from_logits),\n",
        "                    optimizer = 'adam', metrics = ['accuracy'])\n",
        "\n",
        "    # set seeds\n",
        "    tf.random.set_seed(123)\n",
        "\n",
        "    # Train\n",
        "    myHistory = myModel.fit(\n",
        "        train_ds.shuffle(buffer_size=BUFFER_SIZE).batch(BATCH_SIZE),\n",
        "        validation_data = val_ds.batch(BATCH_SIZE),\n",
        "        epochs = NUM_EPOCHS, verbose = 1,\n",
        "        callbacks = [ EarlyStopping(monitor='val_accuracy', patience=5,\n",
        "                                    verbose=False, restore_best_weights=True)])\n",
        "\n",
        "    # Evaluate Training Progress\n",
        "    myHistory_dict = myHistory.history\n",
        "    myHistory_dict.keys()\n",
        "\n",
        "    resDict = {}\n",
        "    resDict['train_loss'] = myHistory_dict['loss']\n",
        "    resDict['val_loss'] = myHistory_dict['val_loss']\n",
        "    resDict['train_accuracy'] = myHistory_dict['accuracy']\n",
        "    resDict['val_accuracy'] = myHistory_dict['val_accuracy']\n",
        "    resDict['epochs'] = range(1, len(resDict['train_accuracy']) + 1)\n",
        "    resDict['model_name'] = model_name\n",
        "\n",
        "    return resDict"
      ]
    },
    {
      "cell_type": "markdown",
      "metadata": {
        "id": "OejtjmjX6lil"
      },
      "source": [
        "# A first LSTM Model\n",
        "Now, let's define and train our first LSTM using the helper function `fitAndEval`:"
      ]
    },
    {
      "cell_type": "code",
      "execution_count": null,
      "metadata": {
        "id": "RbmJ845Pslzk"
      },
      "outputs": [],
      "source": [
        "# initialize random number generators to ensure reproducibility:\n",
        "tf.random.set_seed(123)\n",
        "np.random.seed(123)"
      ]
    },
    {
      "cell_type": "code",
      "execution_count": null,
      "metadata": {
        "id": "61XvQ9_qmb6a"
      },
      "outputs": [],
      "source": [
        "model_embed_1LSTM = Sequential()\n",
        "model_embed_1LSTM.add(Input(shape=(1,), dtype='string'))\n",
        "model_embed_1LSTM.add(encoderSEQ)\n",
        "model_embed_1LSTM.add(Embedding(VOCAB_SIZE, EMBED_DIM))\n",
        "model_embed_1LSTM.add(Bidirectional(LSTM(64)))\n",
        "model_embed_1LSTM.add(Dense(1, activation=\"sigmoid\"))"
      ]
    },
    {
      "cell_type": "markdown",
      "metadata": {
        "id": "nhNdCRKELahb"
      },
      "source": [
        "This is the first model that will need a significant training time. Therefore, we have implemented two variants of running this notebook - either to train the models from scratch, or to use the precomputed weights. To run the model from scratch, set `train_from_scatch` to `True`. We suggest you don't change the model and file names, so it will save the parameters of the results when you train from scratch, and it will load the model weights and results otherwise."
      ]
    },
    {
      "cell_type": "code",
      "execution_count": null,
      "metadata": {
        "id": "q5y8bgOBLahb",
        "colab": {
          "base_uri": "https://localhost:8080/"
        },
        "outputId": "ba30a06a-9b02-4cb6-c4c1-eceba6d279e1"
      },
      "outputs": [
        {
          "output_type": "stream",
          "name": "stdout",
          "text": [
            "Epoch 1/50\n",
            "40/40 [==============================] - 22s 272ms/step - loss: 0.6714 - accuracy: 0.5867 - val_loss: 0.6235 - val_accuracy: 0.6678\n",
            "Epoch 2/50\n",
            "40/40 [==============================] - 10s 260ms/step - loss: 0.5318 - accuracy: 0.7455 - val_loss: 0.4761 - val_accuracy: 0.7826\n",
            "Epoch 3/50\n",
            "40/40 [==============================] - 10s 246ms/step - loss: 0.4349 - accuracy: 0.8070 - val_loss: 0.4055 - val_accuracy: 0.8302\n",
            "Epoch 4/50\n",
            "40/40 [==============================] - 11s 263ms/step - loss: 0.4171 - accuracy: 0.8263 - val_loss: 0.4158 - val_accuracy: 0.8236\n",
            "Epoch 5/50\n",
            "40/40 [==============================] - 10s 227ms/step - loss: 0.4651 - accuracy: 0.7931 - val_loss: 0.6349 - val_accuracy: 0.6170\n",
            "Epoch 6/50\n",
            "40/40 [==============================] - 13s 326ms/step - loss: 0.5939 - accuracy: 0.6936 - val_loss: 0.5577 - val_accuracy: 0.7206\n",
            "Epoch 7/50\n",
            "40/40 [==============================] - 10s 248ms/step - loss: 0.4270 - accuracy: 0.8142 - val_loss: 0.4362 - val_accuracy: 0.8182\n",
            "Epoch 8/50\n",
            "40/40 [==============================] - 11s 267ms/step - loss: 0.3668 - accuracy: 0.8499 - val_loss: 0.3945 - val_accuracy: 0.8376\n",
            "Epoch 9/50\n",
            "40/40 [==============================] - 10s 235ms/step - loss: 0.3930 - accuracy: 0.8314 - val_loss: 0.4409 - val_accuracy: 0.8142\n",
            "Epoch 10/50\n",
            "40/40 [==============================] - 11s 266ms/step - loss: 0.3792 - accuracy: 0.8469 - val_loss: 0.3906 - val_accuracy: 0.8422\n",
            "Epoch 11/50\n",
            "40/40 [==============================] - 10s 251ms/step - loss: 0.3365 - accuracy: 0.8671 - val_loss: 0.3644 - val_accuracy: 0.8512\n",
            "Epoch 12/50\n",
            "40/40 [==============================] - 10s 245ms/step - loss: 0.3248 - accuracy: 0.8704 - val_loss: 0.3559 - val_accuracy: 0.8562\n",
            "Epoch 13/50\n",
            "40/40 [==============================] - 12s 301ms/step - loss: 0.3137 - accuracy: 0.8752 - val_loss: 0.3840 - val_accuracy: 0.8398\n",
            "Epoch 14/50\n",
            "40/40 [==============================] - 11s 258ms/step - loss: 0.3192 - accuracy: 0.8709 - val_loss: 0.3713 - val_accuracy: 0.8436\n",
            "Epoch 15/50\n",
            "40/40 [==============================] - 11s 256ms/step - loss: 0.3073 - accuracy: 0.8797 - val_loss: 0.3546 - val_accuracy: 0.8516\n",
            "Epoch 16/50\n",
            "40/40 [==============================] - 10s 246ms/step - loss: 0.3149 - accuracy: 0.8749 - val_loss: 0.4030 - val_accuracy: 0.8340\n",
            "Epoch 17/50\n",
            "40/40 [==============================] - 11s 266ms/step - loss: 0.3013 - accuracy: 0.8813 - val_loss: 0.3693 - val_accuracy: 0.8584\n",
            "Epoch 18/50\n",
            "40/40 [==============================] - 10s 238ms/step - loss: 0.3095 - accuracy: 0.8755 - val_loss: 0.3567 - val_accuracy: 0.8560\n",
            "Epoch 19/50\n",
            "40/40 [==============================] - 11s 262ms/step - loss: 0.2973 - accuracy: 0.8817 - val_loss: 0.3635 - val_accuracy: 0.8546\n",
            "Epoch 20/50\n",
            "40/40 [==============================] - 10s 253ms/step - loss: 0.2900 - accuracy: 0.8860 - val_loss: 0.3833 - val_accuracy: 0.8452\n",
            "Epoch 21/50\n",
            "40/40 [==============================] - 10s 234ms/step - loss: 0.2870 - accuracy: 0.8868 - val_loss: 0.3682 - val_accuracy: 0.8504\n",
            "Epoch 22/50\n",
            "40/40 [==============================] - 11s 268ms/step - loss: 0.2921 - accuracy: 0.8841 - val_loss: 0.3759 - val_accuracy: 0.8528\n"
          ]
        }
      ],
      "source": [
        "train_from_scatch = True\n",
        "\n",
        "model_name = 'model_1kW_embed_1LSTM'\n",
        "model_weight_file = model_name + '_weights'\n",
        "model_result_file = model_name + '_Results.pkl'\n",
        "\n",
        "if train_from_scatch:\n",
        "    resDict_embed_1LSTM = fitAndEval(model_embed_1LSTM, from_logits=False,\n",
        "                                     model_name = model_name)\n",
        "    # save weights and results\n",
        "    model_embed_1LSTM.save_weights(model_weight_file)\n",
        "    with open(model_result_file, 'wb') as f:\n",
        "        pickle.dump(resDict_embed_1LSTM, f)\n",
        "else:\n",
        "    model_embed_1LSTM.load_weights(model_weight_file)\n",
        "    with open(model_result_file, 'rb') as input_file:\n",
        "        resDict_embed_1LSTM = pickle.load(input_file)"
      ]
    },
    {
      "cell_type": "code",
      "execution_count": null,
      "metadata": {
        "id": "vS0cCcuNLahb"
      },
      "outputs": [],
      "source": [
        "with open(model_result_file, 'wb') as f:\n",
        "    pickle.dump(resDict_embed_1LSTM, f)\n"
      ]
    },
    {
      "cell_type": "code",
      "execution_count": null,
      "metadata": {
        "colab": {
          "base_uri": "https://localhost:8080/"
        },
        "id": "aLs03blzp91b",
        "outputId": "fa3da62b-713b-4216-8b91-1ebd5ec80041"
      },
      "outputs": [
        {
          "output_type": "stream",
          "name": "stdout",
          "text": [
            "Model: \"sequential\"\n",
            "_________________________________________________________________\n",
            " Layer (type)                Output Shape              Param #   \n",
            "=================================================================\n",
            " text_vectorization (TextVe  (None, None)              0         \n",
            " ctorization)                                                    \n",
            "                                                                 \n",
            " embedding (Embedding)       (None, None, 100)         100000    \n",
            "                                                                 \n",
            " bidirectional (Bidirection  (None, 128)               84480     \n",
            " al)                                                             \n",
            "                                                                 \n",
            " dense (Dense)               (None, 1)                 129       \n",
            "                                                                 \n",
            "=================================================================\n",
            "Total params: 184609 (721.13 KB)\n",
            "Trainable params: 184609 (721.13 KB)\n",
            "Non-trainable params: 0 (0.00 Byte)\n",
            "_________________________________________________________________\n"
          ]
        }
      ],
      "source": [
        "model_embed_1LSTM.summary()"
      ]
    },
    {
      "cell_type": "code",
      "execution_count": null,
      "metadata": {
        "colab": {
          "base_uri": "https://localhost:8080/",
          "height": 472
        },
        "id": "K021I4Mun5q1",
        "outputId": "0e4985d8-2b49-4a76-ea96-71c88ea46ca5"
      },
      "outputs": [
        {
          "output_type": "display_data",
          "data": {
            "text/plain": [
              "<Figure size 640x480 with 1 Axes>"
            ],
            "image/png": "[encoded data removed]"
          },
          "metadata": {}
        }
      ],
      "source": [
        "plt.plot(resDict_embed_1LSTM['epochs'], resDict_embed_1LSTM['train_accuracy'],\n",
        "         'r:', label = resDict_embed_1LSTM['model_name'] +', Training acc')\n",
        "plt.plot(resDict_embed_1LSTM['epochs'], resDict_embed_1LSTM['val_accuracy'],\n",
        "         'r',  label = resDict_embed_1LSTM['model_name'] +', Validation acc')\n",
        "\n",
        "plt.title('Training and validation accuracy')\n",
        "plt.xlabel('Epochs')\n",
        "plt.ylabel('Accuracy')\n",
        "plt.legend(loc='lower right')\n",
        "plt.grid(True)\n",
        "plt.show()"
      ]
    },
    {
      "cell_type": "markdown",
      "metadata": {
        "id": "ytpqkYeXCQaR"
      },
      "source": [
        "We see that our model does quite some overfitting: On the training set, it reaches an accuracy of over 95% in several epochs, but on the validation data, the performance does not go above approx. 86%."
      ]
    },
    {
      "cell_type": "markdown",
      "metadata": {
        "id": "LDMV5eBDNtLY"
      },
      "source": [
        "# Using Pretrained Word Embeddings\n"
      ]
    },
    {
      "cell_type": "markdown",
      "metadata": {
        "id": "fSdZcKHehVjt"
      },
      "source": [
        "Here, we are using the pretrained word embeddings from gloVe. Please download the file `glove.6B.100d.txt` from Moodle, and upload it into Google colab, or run the following cell (it might take a few minutes - it load the full file and unzips it):"
      ]
    },
    {
      "cell_type": "code",
      "execution_count": null,
      "metadata": {
        "id": "ExYrbcdhDJHE"
      },
      "outputs": [],
      "source": [
        "have_glove = False # set to True when downloaded\n",
        "\n",
        "if not have_glove:\n",
        "    # The following commands need to be executed the first time this notebook is ran:\n",
        "    !wget http://nlp.stanford.edu/data/glove.6B.zip\n",
        "    !unzip -q glove.6B.zip"
      ]
    },
    {
      "cell_type": "markdown",
      "metadata": {
        "id": "g2ivNGZJLahc"
      },
      "source": [
        "Now we will use these pretrained word vectors to represent our texts:"
      ]
    },
    {
      "cell_type": "code",
      "execution_count": null,
      "metadata": {
        "colab": {
          "base_uri": "https://localhost:8080/"
        },
        "id": "3yMZ3lVRDoVd",
        "outputId": "b20c05c2-b78a-4dd8-f7ed-310b0972e2ed"
      },
      "outputs": [
        {
          "output_type": "stream",
          "name": "stdout",
          "text": [
            "Found 400000 word vectors.\n"
          ]
        }
      ],
      "source": [
        "path_to_glove_file = \"glove.6B.100d.txt\"\n",
        "embeddings_index = {}\n",
        "with open(path_to_glove_file) as f:\n",
        "    for line in f:\n",
        "        word, coefs = line.split(maxsplit=1)\n",
        "        coefs = np.fromstring(coefs, \"f\", sep=\" \")\n",
        "        embeddings_index[word] = coefs\n",
        "\n",
        "print(\"Found %s word vectors.\" % len(embeddings_index))"
      ]
    },
    {
      "cell_type": "code",
      "execution_count": null,
      "metadata": {
        "colab": {
          "base_uri": "https://localhost:8080/"
        },
        "id": "4XfiP8J9EM18",
        "outputId": "35a0ba62-c4c3-4244-bc86-05c7747f5e4d"
      },
      "outputs": [
        {
          "output_type": "stream",
          "name": "stdout",
          "text": [
            "Converted 993 words (7 misses)\n"
          ]
        }
      ],
      "source": [
        "hits = 0\n",
        "misses = 0\n",
        "\n",
        "# Prepare embedding matrix\n",
        "embedding_matrix = np.zeros((VOCAB_SIZE, EMBED_DIM))\n",
        "for i, word in enumerate(encoderSEQ.get_vocabulary()):\n",
        "    embedding_vector = embeddings_index.get(word)\n",
        "    if embedding_vector is not None:\n",
        "        # Words not found in embedding index will be all-zeros.\n",
        "        # This includes the representation for \"padding\" and \"OOV\"\n",
        "        embedding_matrix[i] = embedding_vector\n",
        "        hits += 1\n",
        "    else:\n",
        "        misses += 1\n",
        "        # print(word)\n",
        "print(\"Converted %d words (%d misses)\" % (hits, misses))"
      ]
    },
    {
      "cell_type": "markdown",
      "metadata": {
        "id": "SaeCeXm3EXSg"
      },
      "source": [
        "## Pretrained Word Embeddings without Adaptation\n",
        "We use the same LSTM model as above, but initialize the embedding with the pretrained data from gloVe."
      ]
    },
    {
      "cell_type": "code",
      "execution_count": null,
      "metadata": {
        "id": "Up202xSctMyE"
      },
      "outputs": [],
      "source": [
        "model_pe100_1LSTM = Sequential()\n",
        "model_pe100_1LSTM.add(Input(shape=(1,), dtype='string'))\n",
        "model_pe100_1LSTM.add(encoderSEQ)\n",
        "model_pe100_1LSTM.add(Embedding(\n",
        "    VOCAB_SIZE,\n",
        "    EMBED_DIM,\n",
        "    embeddings_initializer=Constant(embedding_matrix),\n",
        "    trainable=False))\n",
        "model_pe100_1LSTM.add(Bidirectional(LSTM(64)))\n",
        "model_pe100_1LSTM.add(Dense(1, activation=\"sigmoid\"))"
      ]
    },
    {
      "cell_type": "code",
      "execution_count": null,
      "metadata": {
        "id": "NfguuNAbLahc",
        "outputId": "a8f6db71-ace0-48be-d868-3c3e8e28d473",
        "colab": {
          "base_uri": "https://localhost:8080/"
        }
      },
      "outputs": [
        {
          "output_type": "stream",
          "name": "stdout",
          "text": [
            "Epoch 1/50\n",
            "40/40 [==============================] - 17s 298ms/step - loss: 0.6758 - accuracy: 0.5735 - val_loss: 0.6082 - val_accuracy: 0.6774\n",
            "Epoch 2/50\n",
            "40/40 [==============================] - 9s 208ms/step - loss: 0.6534 - accuracy: 0.6177 - val_loss: 0.6128 - val_accuracy: 0.6722\n",
            "Epoch 3/50\n",
            "40/40 [==============================] - 9s 230ms/step - loss: 0.6071 - accuracy: 0.6751 - val_loss: 0.6917 - val_accuracy: 0.6142\n",
            "Epoch 4/50\n",
            "40/40 [==============================] - 9s 221ms/step - loss: 0.6554 - accuracy: 0.6236 - val_loss: 0.6487 - val_accuracy: 0.6224\n",
            "Epoch 5/50\n",
            "40/40 [==============================] - 9s 211ms/step - loss: 0.6077 - accuracy: 0.6776 - val_loss: 0.6193 - val_accuracy: 0.6992\n",
            "Epoch 6/50\n",
            "40/40 [==============================] - 10s 244ms/step - loss: 0.6143 - accuracy: 0.6635 - val_loss: 0.5827 - val_accuracy: 0.7068\n",
            "Epoch 7/50\n",
            "40/40 [==============================] - 9s 218ms/step - loss: 0.5556 - accuracy: 0.7321 - val_loss: 0.5345 - val_accuracy: 0.7516\n",
            "Epoch 8/50\n",
            "40/40 [==============================] - 9s 229ms/step - loss: 0.5314 - accuracy: 0.7463 - val_loss: 0.5057 - val_accuracy: 0.7662\n",
            "Epoch 9/50\n",
            "40/40 [==============================] - 10s 236ms/step - loss: 0.5510 - accuracy: 0.7271 - val_loss: 0.5672 - val_accuracy: 0.7148\n",
            "Epoch 10/50\n",
            "40/40 [==============================] - 9s 210ms/step - loss: 0.5119 - accuracy: 0.7604 - val_loss: 0.5612 - val_accuracy: 0.7384\n",
            "Epoch 11/50\n",
            "40/40 [==============================] - 9s 233ms/step - loss: 0.5226 - accuracy: 0.7512 - val_loss: 0.4986 - val_accuracy: 0.7630\n",
            "Epoch 12/50\n",
            "40/40 [==============================] - 10s 231ms/step - loss: 0.4808 - accuracy: 0.7803 - val_loss: 0.4728 - val_accuracy: 0.7868\n",
            "Epoch 13/50\n",
            "40/40 [==============================] - 9s 216ms/step - loss: 0.4804 - accuracy: 0.7793 - val_loss: 0.5059 - val_accuracy: 0.7492\n",
            "Epoch 14/50\n",
            "40/40 [==============================] - 10s 240ms/step - loss: 0.4977 - accuracy: 0.7737 - val_loss: 0.4578 - val_accuracy: 0.7976\n",
            "Epoch 15/50\n",
            "40/40 [==============================] - 9s 217ms/step - loss: 0.4593 - accuracy: 0.7911 - val_loss: 0.4535 - val_accuracy: 0.8002\n",
            "Epoch 16/50\n",
            "40/40 [==============================] - 9s 228ms/step - loss: 0.4438 - accuracy: 0.8002 - val_loss: 0.4405 - val_accuracy: 0.8034\n",
            "Epoch 17/50\n",
            "40/40 [==============================] - 10s 230ms/step - loss: 0.4410 - accuracy: 0.8001 - val_loss: 0.4258 - val_accuracy: 0.8122\n",
            "Epoch 18/50\n",
            "40/40 [==============================] - 9s 214ms/step - loss: 0.4218 - accuracy: 0.8131 - val_loss: 0.4144 - val_accuracy: 0.8218\n",
            "Epoch 19/50\n",
            "40/40 [==============================] - 10s 236ms/step - loss: 0.4298 - accuracy: 0.8052 - val_loss: 0.4136 - val_accuracy: 0.8190\n",
            "Epoch 20/50\n",
            "40/40 [==============================] - 9s 226ms/step - loss: 0.4628 - accuracy: 0.7987 - val_loss: 0.4486 - val_accuracy: 0.8002\n",
            "Epoch 21/50\n",
            "40/40 [==============================] - 9s 222ms/step - loss: 0.4161 - accuracy: 0.8131 - val_loss: 0.4110 - val_accuracy: 0.8188\n",
            "Epoch 22/50\n",
            "40/40 [==============================] - 10s 244ms/step - loss: 0.4009 - accuracy: 0.8222 - val_loss: 0.4087 - val_accuracy: 0.8262\n",
            "Epoch 23/50\n",
            "40/40 [==============================] - 9s 206ms/step - loss: 0.4105 - accuracy: 0.8164 - val_loss: 0.4184 - val_accuracy: 0.8158\n",
            "Epoch 24/50\n",
            "40/40 [==============================] - 10s 236ms/step - loss: 0.4042 - accuracy: 0.8203 - val_loss: 0.4093 - val_accuracy: 0.8288\n",
            "Epoch 25/50\n",
            "40/40 [==============================] - 10s 231ms/step - loss: 0.3846 - accuracy: 0.8311 - val_loss: 0.4197 - val_accuracy: 0.8042\n",
            "Epoch 26/50\n",
            "40/40 [==============================] - 9s 220ms/step - loss: 0.3959 - accuracy: 0.8239 - val_loss: 0.3841 - val_accuracy: 0.8356\n",
            "Epoch 27/50\n",
            "40/40 [==============================] - 10s 241ms/step - loss: 0.3760 - accuracy: 0.8367 - val_loss: 0.3863 - val_accuracy: 0.8344\n",
            "Epoch 28/50\n",
            "40/40 [==============================] - 9s 217ms/step - loss: 0.3722 - accuracy: 0.8363 - val_loss: 0.3691 - val_accuracy: 0.8430\n",
            "Epoch 29/50\n",
            "40/40 [==============================] - 10s 235ms/step - loss: 0.3728 - accuracy: 0.8403 - val_loss: 0.3822 - val_accuracy: 0.8358\n",
            "Epoch 30/50\n",
            "40/40 [==============================] - 10s 239ms/step - loss: 0.3720 - accuracy: 0.8387 - val_loss: 0.3740 - val_accuracy: 0.8358\n",
            "Epoch 31/50\n",
            "40/40 [==============================] - 9s 210ms/step - loss: 0.3600 - accuracy: 0.8450 - val_loss: 0.3804 - val_accuracy: 0.8362\n",
            "Epoch 32/50\n",
            "40/40 [==============================] - 10s 239ms/step - loss: 0.3882 - accuracy: 0.8287 - val_loss: 0.4176 - val_accuracy: 0.8010\n",
            "Epoch 33/50\n",
            "40/40 [==============================] - 10s 230ms/step - loss: 0.3694 - accuracy: 0.8362 - val_loss: 0.3647 - val_accuracy: 0.8494\n",
            "Epoch 34/50\n",
            "40/40 [==============================] - 9s 223ms/step - loss: 0.3582 - accuracy: 0.8449 - val_loss: 0.3731 - val_accuracy: 0.8458\n",
            "Epoch 35/50\n",
            "40/40 [==============================] - 10s 242ms/step - loss: 0.3522 - accuracy: 0.8478 - val_loss: 0.3519 - val_accuracy: 0.8506\n",
            "Epoch 36/50\n",
            "40/40 [==============================] - 9s 220ms/step - loss: 0.3506 - accuracy: 0.8464 - val_loss: 0.3520 - val_accuracy: 0.8520\n",
            "Epoch 37/50\n",
            "40/40 [==============================] - 9s 231ms/step - loss: 0.3449 - accuracy: 0.8508 - val_loss: 0.3542 - val_accuracy: 0.8508\n",
            "Epoch 38/50\n",
            "40/40 [==============================] - 10s 239ms/step - loss: 0.3453 - accuracy: 0.8530 - val_loss: 0.3761 - val_accuracy: 0.8400\n",
            "Epoch 39/50\n",
            "40/40 [==============================] - 9s 214ms/step - loss: 0.3379 - accuracy: 0.8546 - val_loss: 0.3963 - val_accuracy: 0.8404\n",
            "Epoch 40/50\n",
            "40/40 [==============================] - 10s 239ms/step - loss: 0.3360 - accuracy: 0.8579 - val_loss: 0.3475 - val_accuracy: 0.8550\n",
            "Epoch 41/50\n",
            "40/40 [==============================] - 9s 222ms/step - loss: 0.3299 - accuracy: 0.8590 - val_loss: 0.3841 - val_accuracy: 0.8292\n",
            "Epoch 42/50\n",
            "40/40 [==============================] - 9s 228ms/step - loss: 0.3381 - accuracy: 0.8554 - val_loss: 0.3723 - val_accuracy: 0.8406\n",
            "Epoch 43/50\n",
            "40/40 [==============================] - 10s 244ms/step - loss: 0.3270 - accuracy: 0.8607 - val_loss: 0.3468 - val_accuracy: 0.8546\n",
            "Epoch 44/50\n",
            "40/40 [==============================] - 9s 216ms/step - loss: 0.3179 - accuracy: 0.8658 - val_loss: 0.3602 - val_accuracy: 0.8466\n",
            "Epoch 45/50\n",
            "40/40 [==============================] - 10s 241ms/step - loss: 0.3372 - accuracy: 0.8555 - val_loss: 0.3401 - val_accuracy: 0.8584\n",
            "Epoch 46/50\n",
            "40/40 [==============================] - 10s 231ms/step - loss: 0.3127 - accuracy: 0.8686 - val_loss: 0.3494 - val_accuracy: 0.8532\n",
            "Epoch 47/50\n",
            "40/40 [==============================] - 9s 222ms/step - loss: 0.3127 - accuracy: 0.8683 - val_loss: 0.3538 - val_accuracy: 0.8556\n",
            "Epoch 48/50\n",
            "40/40 [==============================] - 10s 244ms/step - loss: 0.3125 - accuracy: 0.8701 - val_loss: 0.3449 - val_accuracy: 0.8602\n",
            "Epoch 49/50\n",
            "40/40 [==============================] - 9s 220ms/step - loss: 0.3193 - accuracy: 0.8658 - val_loss: 0.3413 - val_accuracy: 0.8592\n",
            "Epoch 50/50\n",
            "40/40 [==============================] - 9s 230ms/step - loss: 0.3035 - accuracy: 0.8732 - val_loss: 0.3500 - val_accuracy: 0.8560\n"
          ]
        }
      ],
      "source": [
        "train_from_scatch = True\n",
        "\n",
        "model_name = 'model_1kW_pe100_1LSTM'\n",
        "model_weight_file = model_name + '_weights'\n",
        "model_result_file = model_name + '_Results.pkl'\n",
        "\n",
        "if train_from_scatch:\n",
        "    resDict_pe100_1LSTM = fitAndEval(model_pe100_1LSTM, from_logits=False,\n",
        "                                     model_name = model_name)\n",
        "    # save weights and results\n",
        "    model_pe100_1LSTM.save_weights(model_weight_file)\n",
        "    with open(model_result_file, 'wb') as f:\n",
        "        pickle.dump(resDict_pe100_1LSTM, f)\n",
        "else:\n",
        "    model_pe100_1LSTM.load_weights(model_weight_file)\n",
        "    with open(model_result_file, 'rb') as input_file:\n",
        "        resDict_pe100_1LSTM = pickle.load(input_file)"
      ]
    },
    {
      "cell_type": "code",
      "execution_count": null,
      "metadata": {
        "colab": {
          "base_uri": "https://localhost:8080/",
          "height": 472
        },
        "id": "F3VSuH2MKrxj",
        "outputId": "a594d605-248b-421b-e908-9a901a9eb58c"
      },
      "outputs": [
        {
          "output_type": "display_data",
          "data": {
            "text/plain": [
              "<Figure size 640x480 with 1 Axes>"
            ],
            "image/png": "[encoded data removed]"
          },
          "metadata": {}
        }
      ],
      "source": [
        "plt.plot(resDict_embed_1LSTM['epochs'], resDict_embed_1LSTM['train_accuracy'],\n",
        "         'r:', label = resDict_embed_1LSTM['model_name'] +', Training acc')\n",
        "plt.plot(resDict_embed_1LSTM['epochs'], resDict_embed_1LSTM['val_accuracy'],\n",
        "         'r',  label = resDict_embed_1LSTM['model_name'] +', Validation acc')\n",
        "\n",
        "plt.plot(resDict_pe100_1LSTM['epochs'], resDict_pe100_1LSTM['train_accuracy'],\n",
        "         'b:', label = resDict_pe100_1LSTM['model_name'] +', Training acc')\n",
        "plt.plot(resDict_pe100_1LSTM['epochs'], resDict_pe100_1LSTM['val_accuracy'],\n",
        "         'b',  label = resDict_pe100_1LSTM['model_name'] +', Validation acc')\n",
        "\n",
        "plt.title('Training and validation accuracy')\n",
        "plt.xlabel('Epochs')\n",
        "plt.ylabel('Accuracy')\n",
        "plt.legend(loc='lower right')\n",
        "plt.grid(True)\n",
        "plt.show()"
      ]
    },
    {
      "cell_type": "markdown",
      "metadata": {
        "id": "sVNIzbAELwQU"
      },
      "source": [
        "## Pretrained Word Embeddings with Adaptation\n",
        "As we have seen the performance actually falling below the performance of the LSTM model with embeddings trained from scratch, we implement a third model, where the pretrained embeddings serve as starting point, from where we allow the model to further train and adapt the embeddings as needed."
      ]
    },
    {
      "cell_type": "code",
      "execution_count": null,
      "metadata": {
        "id": "XNdpQBDNLvYk"
      },
      "outputs": [],
      "source": [
        "model_ae100_1LSTM = Sequential()\n",
        "model_ae100_1LSTM.add(Input(shape=(1,), dtype='string'))\n",
        "model_ae100_1LSTM.add(encoderSEQ)\n",
        "model_ae100_1LSTM.add(Embedding(\n",
        "    VOCAB_SIZE,\n",
        "    EMBED_DIM,\n",
        "    embeddings_initializer=Constant(embedding_matrix),\n",
        "    trainable=True))\n",
        "model_ae100_1LSTM.add(Bidirectional(LSTM(64)))\n",
        "model_ae100_1LSTM.add(Dense(1, activation=\"sigmoid\"))"
      ]
    },
    {
      "cell_type": "code",
      "execution_count": null,
      "metadata": {
        "id": "wC0sU8nRLahd",
        "outputId": "cc26ee2f-9379-4bf6-e626-183cca714f39",
        "colab": {
          "base_uri": "https://localhost:8080/"
        }
      },
      "outputs": [
        {
          "output_type": "stream",
          "name": "stdout",
          "text": [
            "Epoch 1/50\n",
            "40/40 [==============================] - 22s 267ms/step - loss: 0.6674 - accuracy: 0.5907 - val_loss: 0.6843 - val_accuracy: 0.6072\n",
            "Epoch 2/50\n",
            "40/40 [==============================] - 10s 252ms/step - loss: 0.6582 - accuracy: 0.6226 - val_loss: 0.6402 - val_accuracy: 0.6382\n",
            "Epoch 3/50\n",
            "40/40 [==============================] - 10s 250ms/step - loss: 0.6252 - accuracy: 0.6569 - val_loss: 0.6201 - val_accuracy: 0.6404\n",
            "Epoch 4/50\n",
            "40/40 [==============================] - 10s 237ms/step - loss: 0.6577 - accuracy: 0.6231 - val_loss: 0.6908 - val_accuracy: 0.4998\n",
            "Epoch 5/50\n",
            "40/40 [==============================] - 11s 260ms/step - loss: 0.6771 - accuracy: 0.5857 - val_loss: 0.6702 - val_accuracy: 0.6180\n",
            "Epoch 6/50\n",
            "40/40 [==============================] - 11s 261ms/step - loss: 0.6522 - accuracy: 0.6324 - val_loss: 0.6084 - val_accuracy: 0.6732\n",
            "Epoch 7/50\n",
            "40/40 [==============================] - 10s 249ms/step - loss: 0.5741 - accuracy: 0.7150 - val_loss: 0.5090 - val_accuracy: 0.7752\n",
            "Epoch 8/50\n",
            "40/40 [==============================] - 10s 248ms/step - loss: 0.5197 - accuracy: 0.7567 - val_loss: 0.5376 - val_accuracy: 0.7364\n",
            "Epoch 9/50\n",
            "40/40 [==============================] - 13s 314ms/step - loss: 0.4567 - accuracy: 0.7993 - val_loss: 0.4738 - val_accuracy: 0.7812\n",
            "Epoch 10/50\n",
            "40/40 [==============================] - 11s 258ms/step - loss: 0.4081 - accuracy: 0.8271 - val_loss: 0.3845 - val_accuracy: 0.8356\n",
            "Epoch 11/50\n",
            "40/40 [==============================] - 10s 245ms/step - loss: 0.3806 - accuracy: 0.8421 - val_loss: 0.4216 - val_accuracy: 0.8188\n",
            "Epoch 12/50\n",
            "40/40 [==============================] - 11s 264ms/step - loss: 0.3693 - accuracy: 0.8457 - val_loss: 0.3584 - val_accuracy: 0.8498\n",
            "Epoch 13/50\n",
            "40/40 [==============================] - 11s 259ms/step - loss: 0.3446 - accuracy: 0.8582 - val_loss: 0.4803 - val_accuracy: 0.8186\n",
            "Epoch 14/50\n",
            "40/40 [==============================] - 10s 253ms/step - loss: 0.3407 - accuracy: 0.8620 - val_loss: 0.3643 - val_accuracy: 0.8430\n",
            "Epoch 15/50\n",
            "40/40 [==============================] - 10s 236ms/step - loss: 0.3260 - accuracy: 0.8644 - val_loss: 0.3628 - val_accuracy: 0.8464\n",
            "Epoch 16/50\n",
            "40/40 [==============================] - 11s 266ms/step - loss: 0.3154 - accuracy: 0.8706 - val_loss: 0.3395 - val_accuracy: 0.8540\n",
            "Epoch 17/50\n",
            "40/40 [==============================] - 10s 249ms/step - loss: 0.3065 - accuracy: 0.8741 - val_loss: 0.3370 - val_accuracy: 0.8630\n",
            "Epoch 18/50\n",
            "40/40 [==============================] - 10s 239ms/step - loss: 0.3067 - accuracy: 0.8742 - val_loss: 0.3390 - val_accuracy: 0.8534\n",
            "Epoch 19/50\n",
            "40/40 [==============================] - 11s 266ms/step - loss: 0.3012 - accuracy: 0.8751 - val_loss: 0.3363 - val_accuracy: 0.8634\n",
            "Epoch 20/50\n",
            "40/40 [==============================] - 10s 237ms/step - loss: 0.3016 - accuracy: 0.8748 - val_loss: 0.3516 - val_accuracy: 0.8496\n",
            "Epoch 21/50\n",
            "40/40 [==============================] - 10s 256ms/step - loss: 0.3014 - accuracy: 0.8767 - val_loss: 0.3367 - val_accuracy: 0.8584\n",
            "Epoch 22/50\n",
            "40/40 [==============================] - 10s 254ms/step - loss: 0.2998 - accuracy: 0.8758 - val_loss: 0.3344 - val_accuracy: 0.8636\n",
            "Epoch 23/50\n",
            "40/40 [==============================] - 11s 259ms/step - loss: 0.2913 - accuracy: 0.8817 - val_loss: 0.3293 - val_accuracy: 0.8590\n",
            "Epoch 24/50\n",
            "40/40 [==============================] - 11s 258ms/step - loss: 0.2820 - accuracy: 0.8868 - val_loss: 0.3320 - val_accuracy: 0.8648\n",
            "Epoch 25/50\n",
            "40/40 [==============================] - 11s 258ms/step - loss: 0.2792 - accuracy: 0.8874 - val_loss: 0.3550 - val_accuracy: 0.8514\n",
            "Epoch 26/50\n",
            "40/40 [==============================] - 11s 260ms/step - loss: 0.2918 - accuracy: 0.8810 - val_loss: 0.3279 - val_accuracy: 0.8656\n",
            "Epoch 27/50\n",
            "40/40 [==============================] - 10s 239ms/step - loss: 0.2710 - accuracy: 0.8916 - val_loss: 0.3619 - val_accuracy: 0.8572\n",
            "Epoch 28/50\n",
            "40/40 [==============================] - 11s 273ms/step - loss: 0.2683 - accuracy: 0.8924 - val_loss: 0.3258 - val_accuracy: 0.8638\n",
            "Epoch 29/50\n",
            "40/40 [==============================] - 10s 244ms/step - loss: 0.2643 - accuracy: 0.8945 - val_loss: 0.3320 - val_accuracy: 0.8588\n",
            "Epoch 30/50\n",
            "40/40 [==============================] - 11s 264ms/step - loss: 0.2581 - accuracy: 0.8964 - val_loss: 0.3249 - val_accuracy: 0.8644\n",
            "Epoch 31/50\n",
            "40/40 [==============================] - 10s 253ms/step - loss: 0.2563 - accuracy: 0.8978 - val_loss: 0.3569 - val_accuracy: 0.8670\n",
            "Epoch 32/50\n",
            "40/40 [==============================] - 11s 261ms/step - loss: 0.2544 - accuracy: 0.8992 - val_loss: 0.3409 - val_accuracy: 0.8642\n",
            "Epoch 33/50\n",
            "40/40 [==============================] - 10s 240ms/step - loss: 0.2547 - accuracy: 0.8982 - val_loss: 0.3351 - val_accuracy: 0.8656\n",
            "Epoch 34/50\n",
            "40/40 [==============================] - 11s 270ms/step - loss: 0.2453 - accuracy: 0.9028 - val_loss: 0.3447 - val_accuracy: 0.8656\n",
            "Epoch 35/50\n",
            "40/40 [==============================] - 10s 249ms/step - loss: 0.2385 - accuracy: 0.9061 - val_loss: 0.3559 - val_accuracy: 0.8546\n",
            "Epoch 36/50\n",
            "40/40 [==============================] - 11s 255ms/step - loss: 0.2331 - accuracy: 0.9074 - val_loss: 0.3436 - val_accuracy: 0.8600\n"
          ]
        }
      ],
      "source": [
        "train_from_scatch = True\n",
        "\n",
        "model_name = 'model_1kW_ae100_1LSTM'\n",
        "model_weight_file = model_name + '_weights'\n",
        "model_result_file = model_name + '_Results.pkl'\n",
        "\n",
        "if train_from_scatch:\n",
        "    resDict_ae100_1LSTM = fitAndEval(model_ae100_1LSTM, from_logits=False,\n",
        "                                     model_name = model_name)\n",
        "    # save weights and results\n",
        "    model_ae100_1LSTM.save_weights(model_weight_file)\n",
        "    with open(model_result_file, 'wb') as f:\n",
        "        pickle.dump(resDict_ae100_1LSTM, f)\n",
        "else:\n",
        "    model_ae100_1LSTM.load_weights(model_weight_file)\n",
        "    with open(model_result_file, 'rb') as input_file:\n",
        "        resDict_ae100_1LSTM = pickle.load(input_file)"
      ]
    },
    {
      "cell_type": "code",
      "execution_count": null,
      "metadata": {
        "colab": {
          "base_uri": "https://localhost:8080/",
          "height": 472
        },
        "id": "SGoNtXSHRrRJ",
        "outputId": "836d3778-f738-4860-ed75-3316931e98ef"
      },
      "outputs": [
        {
          "output_type": "display_data",
          "data": {
            "text/plain": [
              "<Figure size 640x480 with 1 Axes>"
            ],
            "image/png": "[encoded data removed]"
          },
          "metadata": {}
        }
      ],
      "source": [
        "plt.plot(resDict_embed_1LSTM['epochs'], resDict_embed_1LSTM['train_accuracy'],\n",
        "         'r:', label = resDict_embed_1LSTM['model_name'] +', Training acc')\n",
        "plt.plot(resDict_embed_1LSTM['epochs'], resDict_embed_1LSTM['val_accuracy'],\n",
        "         'r',  label = resDict_embed_1LSTM['model_name'] +', Validation acc')\n",
        "\n",
        "plt.plot(resDict_pe100_1LSTM['epochs'], resDict_pe100_1LSTM['train_accuracy'],\n",
        "         'b:', label = resDict_pe100_1LSTM['model_name'] +', Training acc')\n",
        "plt.plot(resDict_pe100_1LSTM['epochs'], resDict_pe100_1LSTM['val_accuracy'],\n",
        "         'b',  label = resDict_pe100_1LSTM['model_name'] +', Validation acc')\n",
        "\n",
        "plt.plot(resDict_ae100_1LSTM['epochs'], resDict_ae100_1LSTM['train_accuracy'],\n",
        "         'g:', label = resDict_ae100_1LSTM['model_name'] +', Training acc')\n",
        "plt.plot(resDict_ae100_1LSTM['epochs'], resDict_ae100_1LSTM['val_accuracy'],\n",
        "         'g',  label = resDict_ae100_1LSTM['model_name'] +', Validation acc')\n",
        "\n",
        "plt.title('Training and validation accuracy')\n",
        "plt.xlabel('Epochs')\n",
        "plt.ylabel('Accuracy')\n",
        "plt.legend(loc='best')\n",
        "plt.grid(True)\n",
        "plt.show()"
      ]
    },
    {
      "cell_type": "code",
      "source": [],
      "metadata": {
        "id": "2_IKQ1NwnG-W"
      },
      "execution_count": null,
      "outputs": []
    }
  ],
  "metadata": {
    "accelerator": "GPU",
    "colab": {
      "gpuType": "T4",
      "provenance": [],
      "include_colab_link": true
    },
    "kernelspec": {
      "display_name": "Python 3 (ipykernel)",
      "language": "python",
      "name": "python3"
    },
    "language_info": {
      "codemirror_mode": {
        "name": "ipython",
        "version": 3
      },
      "file_extension": ".py",
      "mimetype": "text/x-python",
      "name": "python",
      "nbconvert_exporter": "python",
      "pygments_lexer": "ipython3",
      "version": "3.11.7"
    },
    "widgets": {
      "application/vnd.jupyter.widget-state+json": {
        "68a9a52e399d464da4575e0162f1d671": {
          "model_module": "@jupyter-widgets/controls",
          "model_name": "HBoxModel",
          "model_module_version": "1.5.0",
          "state": {
            "_dom_classes": [],
            "_model_module": "@jupyter-widgets/controls",
            "_model_module_version": "1.5.0",
            "_model_name": "HBoxModel",
            "_view_count": null,
            "_view_module": "@jupyter-widgets/controls",
            "_view_module_version": "1.5.0",
            "_view_name": "HBoxView",
            "box_style": "",
            "children": [
              "IPY_MODEL_390f3069483e49f49e0efcff81b18fec",
              "IPY_MODEL_f3cfa11ffb0848c28291f201c3cd8c4d",
              "IPY_MODEL_90ab419ae0d149b1b7cdb189414d9319"
            ],
            "layout": "IPY_MODEL_dfdc5e33b7eb4ec69d0c7618a953db0e"
          }
        },
        "390f3069483e49f49e0efcff81b18fec": {
          "model_module": "@jupyter-widgets/controls",
          "model_name": "HTMLModel",
          "model_module_version": "1.5.0",
          "state": {
            "_dom_classes": [],
            "_model_module": "@jupyter-widgets/controls",
            "_model_module_version": "1.5.0",
            "_model_name": "HTMLModel",
            "_view_count": null,
            "_view_module": "@jupyter-widgets/controls",
            "_view_module_version": "1.5.0",
            "_view_name": "HTMLView",
            "description": "",
            "description_tooltip": null,
            "layout": "IPY_MODEL_d6031a469e04425483481038085ad2ab",
            "placeholder": "​",
            "style": "IPY_MODEL_0b26d5c6aa214d308a961bdb6c1a63f3",
            "value": "Dl Completed...: 100%"
          }
        },
        "f3cfa11ffb0848c28291f201c3cd8c4d": {
          "model_module": "@jupyter-widgets/controls",
          "model_name": "FloatProgressModel",
          "model_module_version": "1.5.0",
          "state": {
            "_dom_classes": [],
            "_model_module": "@jupyter-widgets/controls",
            "_model_module_version": "1.5.0",
            "_model_name": "FloatProgressModel",
            "_view_count": null,
            "_view_module": "@jupyter-widgets/controls",
            "_view_module_version": "1.5.0",
            "_view_name": "ProgressView",
            "bar_style": "success",
            "description": "",
            "description_tooltip": null,
            "layout": "IPY_MODEL_deb10153ebba4d7faef04b0be48cc132",
            "max": 1,
            "min": 0,
            "orientation": "horizontal",
            "style": "IPY_MODEL_8c1155024ce2401088c7e38c12c4faa8",
            "value": 1
          }
        },
        "90ab419ae0d149b1b7cdb189414d9319": {
          "model_module": "@jupyter-widgets/controls",
          "model_name": "HTMLModel",
          "model_module_version": "1.5.0",
          "state": {
            "_dom_classes": [],
            "_model_module": "@jupyter-widgets/controls",
            "_model_module_version": "1.5.0",
            "_model_name": "HTMLModel",
            "_view_count": null,
            "_view_module": "@jupyter-widgets/controls",
            "_view_module_version": "1.5.0",
            "_view_name": "HTMLView",
            "description": "",
            "description_tooltip": null,
            "layout": "IPY_MODEL_a35f3f9bb4694604b068313403752a9a",
            "placeholder": "​",
            "style": "IPY_MODEL_8a92923fdf584b56b323ee47db636057",
            "value": " 1/1 [00:00&lt;00:00, 11.50 url/s]"
          }
        },
        "dfdc5e33b7eb4ec69d0c7618a953db0e": {
          "model_module": "@jupyter-widgets/base",
          "model_name": "LayoutModel",
          "model_module_version": "1.2.0",
          "state": {
            "_model_module": "@jupyter-widgets/base",
            "_model_module_version": "1.2.0",
            "_model_name": "LayoutModel",
            "_view_count": null,
            "_view_module": "@jupyter-widgets/base",
            "_view_module_version": "1.2.0",
            "_view_name": "LayoutView",
            "align_content": null,
            "align_items": null,
            "align_self": null,
            "border": null,
            "bottom": null,
            "display": null,
            "flex": null,
            "flex_flow": null,
            "grid_area": null,
            "grid_auto_columns": null,
            "grid_auto_flow": null,
            "grid_auto_rows": null,
            "grid_column": null,
            "grid_gap": null,
            "grid_row": null,
            "grid_template_areas": null,
            "grid_template_columns": null,
            "grid_template_rows": null,
            "height": null,
            "justify_content": null,
            "justify_items": null,
            "left": null,
            "margin": null,
            "max_height": null,
            "max_width": null,
            "min_height": null,
            "min_width": null,
            "object_fit": null,
            "object_position": null,
            "order": null,
            "overflow": null,
            "overflow_x": null,
            "overflow_y": null,
            "padding": null,
            "right": null,
            "top": null,
            "visibility": null,
            "width": null
          }
        },
        "d6031a469e04425483481038085ad2ab": {
          "model_module": "@jupyter-widgets/base",
          "model_name": "LayoutModel",
          "model_module_version": "1.2.0",
          "state": {
            "_model_module": "@jupyter-widgets/base",
            "_model_module_version": "1.2.0",
            "_model_name": "LayoutModel",
            "_view_count": null,
            "_view_module": "@jupyter-widgets/base",
            "_view_module_version": "1.2.0",
            "_view_name": "LayoutView",
            "align_content": null,
            "align_items": null,
            "align_self": null,
            "border": null,
            "bottom": null,
            "display": null,
            "flex": null,
            "flex_flow": null,
            "grid_area": null,
            "grid_auto_columns": null,
            "grid_auto_flow": null,
            "grid_auto_rows": null,
            "grid_column": null,
            "grid_gap": null,
            "grid_row": null,
            "grid_template_areas": null,
            "grid_template_columns": null,
            "grid_template_rows": null,
            "height": null,
            "justify_content": null,
            "justify_items": null,
            "left": null,
            "margin": null,
            "max_height": null,
            "max_width": null,
            "min_height": null,
            "min_width": null,
            "object_fit": null,
            "object_position": null,
            "order": null,
            "overflow": null,
            "overflow_x": null,
            "overflow_y": null,
            "padding": null,
            "right": null,
            "top": null,
            "visibility": null,
            "width": null
          }
        },
        "0b26d5c6aa214d308a961bdb6c1a63f3": {
          "model_module": "@jupyter-widgets/controls",
          "model_name": "DescriptionStyleModel",
          "model_module_version": "1.5.0",
          "state": {
            "_model_module": "@jupyter-widgets/controls",
            "_model_module_version": "1.5.0",
            "_model_name": "DescriptionStyleModel",
            "_view_count": null,
            "_view_module": "@jupyter-widgets/base",
            "_view_module_version": "1.2.0",
            "_view_name": "StyleView",
            "description_width": ""
          }
        },
        "deb10153ebba4d7faef04b0be48cc132": {
          "model_module": "@jupyter-widgets/base",
          "model_name": "LayoutModel",
          "model_module_version": "1.2.0",
          "state": {
            "_model_module": "@jupyter-widgets/base",
            "_model_module_version": "1.2.0",
            "_model_name": "LayoutModel",
            "_view_count": null,
            "_view_module": "@jupyter-widgets/base",
            "_view_module_version": "1.2.0",
            "_view_name": "LayoutView",
            "align_content": null,
            "align_items": null,
            "align_self": null,
            "border": null,
            "bottom": null,
            "display": null,
            "flex": null,
            "flex_flow": null,
            "grid_area": null,
            "grid_auto_columns": null,
            "grid_auto_flow": null,
            "grid_auto_rows": null,
            "grid_column": null,
            "grid_gap": null,
            "grid_row": null,
            "grid_template_areas": null,
            "grid_template_columns": null,
            "grid_template_rows": null,
            "height": null,
            "justify_content": null,
            "justify_items": null,
            "left": null,
            "margin": null,
            "max_height": null,
            "max_width": null,
            "min_height": null,
            "min_width": null,
            "object_fit": null,
            "object_position": null,
            "order": null,
            "overflow": null,
            "overflow_x": null,
            "overflow_y": null,
            "padding": null,
            "right": null,
            "top": null,
            "visibility": null,
            "width": "20px"
          }
        },
        "8c1155024ce2401088c7e38c12c4faa8": {
          "model_module": "@jupyter-widgets/controls",
          "model_name": "ProgressStyleModel",
          "model_module_version": "1.5.0",
          "state": {
            "_model_module": "@jupyter-widgets/controls",
            "_model_module_version": "1.5.0",
            "_model_name": "ProgressStyleModel",
            "_view_count": null,
            "_view_module": "@jupyter-widgets/base",
            "_view_module_version": "1.2.0",
            "_view_name": "StyleView",
            "bar_color": null,
            "description_width": ""
          }
        },
        "a35f3f9bb4694604b068313403752a9a": {
          "model_module": "@jupyter-widgets/base",
          "model_name": "LayoutModel",
          "model_module_version": "1.2.0",
          "state": {
            "_model_module": "@jupyter-widgets/base",
            "_model_module_version": "1.2.0",
            "_model_name": "LayoutModel",
            "_view_count": null,
            "_view_module": "@jupyter-widgets/base",
            "_view_module_version": "1.2.0",
            "_view_name": "LayoutView",
            "align_content": null,
            "align_items": null,
            "align_self": null,
            "border": null,
            "bottom": null,
            "display": null,
            "flex": null,
            "flex_flow": null,
            "grid_area": null,
            "grid_auto_columns": null,
            "grid_auto_flow": null,
            "grid_auto_rows": null,
            "grid_column": null,
            "grid_gap": null,
            "grid_row": null,
            "grid_template_areas": null,
            "grid_template_columns": null,
            "grid_template_rows": null,
            "height": null,
            "justify_content": null,
            "justify_items": null,
            "left": null,
            "margin": null,
            "max_height": null,
            "max_width": null,
            "min_height": null,
            "min_width": null,
            "object_fit": null,
            "object_position": null,
            "order": null,
            "overflow": null,
            "overflow_x": null,
            "overflow_y": null,
            "padding": null,
            "right": null,
            "top": null,
            "visibility": null,
            "width": null
          }
        },
        "8a92923fdf584b56b323ee47db636057": {
          "model_module": "@jupyter-widgets/controls",
          "model_name": "DescriptionStyleModel",
          "model_module_version": "1.5.0",
          "state": {
            "_model_module": "@jupyter-widgets/controls",
            "_model_module_version": "1.5.0",
            "_model_name": "DescriptionStyleModel",
            "_view_count": null,
            "_view_module": "@jupyter-widgets/base",
            "_view_module_version": "1.2.0",
            "_view_name": "StyleView",
            "description_width": ""
          }
        },
        "1edab146c1b44351882421aeabd85585": {
          "model_module": "@jupyter-widgets/controls",
          "model_name": "HBoxModel",
          "model_module_version": "1.5.0",
          "state": {
            "_dom_classes": [],
            "_model_module": "@jupyter-widgets/controls",
            "_model_module_version": "1.5.0",
            "_model_name": "HBoxModel",
            "_view_count": null,
            "_view_module": "@jupyter-widgets/controls",
            "_view_module_version": "1.5.0",
            "_view_name": "HBoxView",
            "box_style": "",
            "children": [
              "IPY_MODEL_f19b8beb33094aa78a8f7a7faf7dd3c0",
              "IPY_MODEL_9a24e929d51b42f487ae371493151a18",
              "IPY_MODEL_18f4aee0c6ec4d51a66a3e0b94448f93"
            ],
            "layout": "IPY_MODEL_0d4baa1f504f42ebb46bb6537d19b98e"
          }
        },
        "f19b8beb33094aa78a8f7a7faf7dd3c0": {
          "model_module": "@jupyter-widgets/controls",
          "model_name": "HTMLModel",
          "model_module_version": "1.5.0",
          "state": {
            "_dom_classes": [],
            "_model_module": "@jupyter-widgets/controls",
            "_model_module_version": "1.5.0",
            "_model_name": "HTMLModel",
            "_view_count": null,
            "_view_module": "@jupyter-widgets/controls",
            "_view_module_version": "1.5.0",
            "_view_name": "HTMLView",
            "description": "",
            "description_tooltip": null,
            "layout": "IPY_MODEL_d8e46ec9910e41a7bc77a64327ae9e37",
            "placeholder": "​",
            "style": "IPY_MODEL_544fb71fb35b423a92030027d4b8a8e2",
            "value": "Dl Size...: 100%"
          }
        },
        "9a24e929d51b42f487ae371493151a18": {
          "model_module": "@jupyter-widgets/controls",
          "model_name": "FloatProgressModel",
          "model_module_version": "1.5.0",
          "state": {
            "_dom_classes": [],
            "_model_module": "@jupyter-widgets/controls",
            "_model_module_version": "1.5.0",
            "_model_name": "FloatProgressModel",
            "_view_count": null,
            "_view_module": "@jupyter-widgets/controls",
            "_view_module_version": "1.5.0",
            "_view_name": "ProgressView",
            "bar_style": "success",
            "description": "",
            "description_tooltip": null,
            "layout": "IPY_MODEL_6720535140af427ea7936c7d0eb5af41",
            "max": 1,
            "min": 0,
            "orientation": "horizontal",
            "style": "IPY_MODEL_c266010213a544ea813abe27d339e9af",
            "value": 1
          }
        },
        "18f4aee0c6ec4d51a66a3e0b94448f93": {
          "model_module": "@jupyter-widgets/controls",
          "model_name": "HTMLModel",
          "model_module_version": "1.5.0",
          "state": {
            "_dom_classes": [],
            "_model_module": "@jupyter-widgets/controls",
            "_model_module_version": "1.5.0",
            "_model_name": "HTMLModel",
            "_view_count": null,
            "_view_module": "@jupyter-widgets/controls",
            "_view_module_version": "1.5.0",
            "_view_name": "HTMLView",
            "description": "",
            "description_tooltip": null,
            "layout": "IPY_MODEL_c561a4a743b84452996695b1978de491",
            "placeholder": "​",
            "style": "IPY_MODEL_226710c867794f89837601a4caec3943",
            "value": " 84125825/84125825 [00:00&lt;00:00, 1892785483.70 MiB/s]"
          }
        },
        "0d4baa1f504f42ebb46bb6537d19b98e": {
          "model_module": "@jupyter-widgets/base",
          "model_name": "LayoutModel",
          "model_module_version": "1.2.0",
          "state": {
            "_model_module": "@jupyter-widgets/base",
            "_model_module_version": "1.2.0",
            "_model_name": "LayoutModel",
            "_view_count": null,
            "_view_module": "@jupyter-widgets/base",
            "_view_module_version": "1.2.0",
            "_view_name": "LayoutView",
            "align_content": null,
            "align_items": null,
            "align_self": null,
            "border": null,
            "bottom": null,
            "display": null,
            "flex": null,
            "flex_flow": null,
            "grid_area": null,
            "grid_auto_columns": null,
            "grid_auto_flow": null,
            "grid_auto_rows": null,
            "grid_column": null,
            "grid_gap": null,
            "grid_row": null,
            "grid_template_areas": null,
            "grid_template_columns": null,
            "grid_template_rows": null,
            "height": null,
            "justify_content": null,
            "justify_items": null,
            "left": null,
            "margin": null,
            "max_height": null,
            "max_width": null,
            "min_height": null,
            "min_width": null,
            "object_fit": null,
            "object_position": null,
            "order": null,
            "overflow": null,
            "overflow_x": null,
            "overflow_y": null,
            "padding": null,
            "right": null,
            "top": null,
            "visibility": null,
            "width": null
          }
        },
        "d8e46ec9910e41a7bc77a64327ae9e37": {
          "model_module": "@jupyter-widgets/base",
          "model_name": "LayoutModel",
          "model_module_version": "1.2.0",
          "state": {
            "_model_module": "@jupyter-widgets/base",
            "_model_module_version": "1.2.0",
            "_model_name": "LayoutModel",
            "_view_count": null,
            "_view_module": "@jupyter-widgets/base",
            "_view_module_version": "1.2.0",
            "_view_name": "LayoutView",
            "align_content": null,
            "align_items": null,
            "align_self": null,
            "border": null,
            "bottom": null,
            "display": null,
            "flex": null,
            "flex_flow": null,
            "grid_area": null,
            "grid_auto_columns": null,
            "grid_auto_flow": null,
            "grid_auto_rows": null,
            "grid_column": null,
            "grid_gap": null,
            "grid_row": null,
            "grid_template_areas": null,
            "grid_template_columns": null,
            "grid_template_rows": null,
            "height": null,
            "justify_content": null,
            "justify_items": null,
            "left": null,
            "margin": null,
            "max_height": null,
            "max_width": null,
            "min_height": null,
            "min_width": null,
            "object_fit": null,
            "object_position": null,
            "order": null,
            "overflow": null,
            "overflow_x": null,
            "overflow_y": null,
            "padding": null,
            "right": null,
            "top": null,
            "visibility": null,
            "width": null
          }
        },
        "544fb71fb35b423a92030027d4b8a8e2": {
          "model_module": "@jupyter-widgets/controls",
          "model_name": "DescriptionStyleModel",
          "model_module_version": "1.5.0",
          "state": {
            "_model_module": "@jupyter-widgets/controls",
            "_model_module_version": "1.5.0",
            "_model_name": "DescriptionStyleModel",
            "_view_count": null,
            "_view_module": "@jupyter-widgets/base",
            "_view_module_version": "1.2.0",
            "_view_name": "StyleView",
            "description_width": ""
          }
        },
        "6720535140af427ea7936c7d0eb5af41": {
          "model_module": "@jupyter-widgets/base",
          "model_name": "LayoutModel",
          "model_module_version": "1.2.0",
          "state": {
            "_model_module": "@jupyter-widgets/base",
            "_model_module_version": "1.2.0",
            "_model_name": "LayoutModel",
            "_view_count": null,
            "_view_module": "@jupyter-widgets/base",
            "_view_module_version": "1.2.0",
            "_view_name": "LayoutView",
            "align_content": null,
            "align_items": null,
            "align_self": null,
            "border": null,
            "bottom": null,
            "display": null,
            "flex": null,
            "flex_flow": null,
            "grid_area": null,
            "grid_auto_columns": null,
            "grid_auto_flow": null,
            "grid_auto_rows": null,
            "grid_column": null,
            "grid_gap": null,
            "grid_row": null,
            "grid_template_areas": null,
            "grid_template_columns": null,
            "grid_template_rows": null,
            "height": null,
            "justify_content": null,
            "justify_items": null,
            "left": null,
            "margin": null,
            "max_height": null,
            "max_width": null,
            "min_height": null,
            "min_width": null,
            "object_fit": null,
            "object_position": null,
            "order": null,
            "overflow": null,
            "overflow_x": null,
            "overflow_y": null,
            "padding": null,
            "right": null,
            "top": null,
            "visibility": null,
            "width": "20px"
          }
        },
        "c266010213a544ea813abe27d339e9af": {
          "model_module": "@jupyter-widgets/controls",
          "model_name": "ProgressStyleModel",
          "model_module_version": "1.5.0",
          "state": {
            "_model_module": "@jupyter-widgets/controls",
            "_model_module_version": "1.5.0",
            "_model_name": "ProgressStyleModel",
            "_view_count": null,
            "_view_module": "@jupyter-widgets/base",
            "_view_module_version": "1.2.0",
            "_view_name": "StyleView",
            "bar_color": null,
            "description_width": ""
          }
        },
        "c561a4a743b84452996695b1978de491": {
          "model_module": "@jupyter-widgets/base",
          "model_name": "LayoutModel",
          "model_module_version": "1.2.0",
          "state": {
            "_model_module": "@jupyter-widgets/base",
            "_model_module_version": "1.2.0",
            "_model_name": "LayoutModel",
            "_view_count": null,
            "_view_module": "@jupyter-widgets/base",
            "_view_module_version": "1.2.0",
            "_view_name": "LayoutView",
            "align_content": null,
            "align_items": null,
            "align_self": null,
            "border": null,
            "bottom": null,
            "display": null,
            "flex": null,
            "flex_flow": null,
            "grid_area": null,
            "grid_auto_columns": null,
            "grid_auto_flow": null,
            "grid_auto_rows": null,
            "grid_column": null,
            "grid_gap": null,
            "grid_row": null,
            "grid_template_areas": null,
            "grid_template_columns": null,
            "grid_template_rows": null,
            "height": null,
            "justify_content": null,
            "justify_items": null,
            "left": null,
            "margin": null,
            "max_height": null,
            "max_width": null,
            "min_height": null,
            "min_width": null,
            "object_fit": null,
            "object_position": null,
            "order": null,
            "overflow": null,
            "overflow_x": null,
            "overflow_y": null,
            "padding": null,
            "right": null,
            "top": null,
            "visibility": null,
            "width": null
          }
        },
        "226710c867794f89837601a4caec3943": {
          "model_module": "@jupyter-widgets/controls",
          "model_name": "DescriptionStyleModel",
          "model_module_version": "1.5.0",
          "state": {
            "_model_module": "@jupyter-widgets/controls",
            "_model_module_version": "1.5.0",
            "_model_name": "DescriptionStyleModel",
            "_view_count": null,
            "_view_module": "@jupyter-widgets/base",
            "_view_module_version": "1.2.0",
            "_view_name": "StyleView",
            "description_width": ""
          }
        },
        "36b79724f9c4463a83044d7c03908dcc": {
          "model_module": "@jupyter-widgets/controls",
          "model_name": "HBoxModel",
          "model_module_version": "1.5.0",
          "state": {
            "_dom_classes": [],
            "_model_module": "@jupyter-widgets/controls",
            "_model_module_version": "1.5.0",
            "_model_name": "HBoxModel",
            "_view_count": null,
            "_view_module": "@jupyter-widgets/controls",
            "_view_module_version": "1.5.0",
            "_view_name": "HBoxView",
            "box_style": "",
            "children": [
              "IPY_MODEL_179831a994d1449299ff30ad6cd1f739",
              "IPY_MODEL_80002c5237a84378bb026804fe47d40c",
              "IPY_MODEL_81979e2709724acc8708f8f3662ab9d1"
            ],
            "layout": "IPY_MODEL_5ccc32ec66314deda8314503e0412434"
          }
        },
        "179831a994d1449299ff30ad6cd1f739": {
          "model_module": "@jupyter-widgets/controls",
          "model_name": "HTMLModel",
          "model_module_version": "1.5.0",
          "state": {
            "_dom_classes": [],
            "_model_module": "@jupyter-widgets/controls",
            "_model_module_version": "1.5.0",
            "_model_name": "HTMLModel",
            "_view_count": null,
            "_view_module": "@jupyter-widgets/controls",
            "_view_module_version": "1.5.0",
            "_view_name": "HTMLView",
            "description": "",
            "description_tooltip": null,
            "layout": "IPY_MODEL_a8ea59aeb87346f08816997658aa26ad",
            "placeholder": "​",
            "style": "IPY_MODEL_2a0e09bfe0ea4167b5af893bd6d5eb16",
            "value": "Generating splits...: 100%"
          }
        },
        "80002c5237a84378bb026804fe47d40c": {
          "model_module": "@jupyter-widgets/controls",
          "model_name": "FloatProgressModel",
          "model_module_version": "1.5.0",
          "state": {
            "_dom_classes": [],
            "_model_module": "@jupyter-widgets/controls",
            "_model_module_version": "1.5.0",
            "_model_name": "FloatProgressModel",
            "_view_count": null,
            "_view_module": "@jupyter-widgets/controls",
            "_view_module_version": "1.5.0",
            "_view_name": "ProgressView",
            "bar_style": "",
            "description": "",
            "description_tooltip": null,
            "layout": "IPY_MODEL_97c88f231fac4d81bdee76e753f3dd0c",
            "max": 3,
            "min": 0,
            "orientation": "horizontal",
            "style": "IPY_MODEL_d403527e79bc45c8bcb74cc4a371b716",
            "value": 3
          }
        },
        "81979e2709724acc8708f8f3662ab9d1": {
          "model_module": "@jupyter-widgets/controls",
          "model_name": "HTMLModel",
          "model_module_version": "1.5.0",
          "state": {
            "_dom_classes": [],
            "_model_module": "@jupyter-widgets/controls",
            "_model_module_version": "1.5.0",
            "_model_name": "HTMLModel",
            "_view_count": null,
            "_view_module": "@jupyter-widgets/controls",
            "_view_module_version": "1.5.0",
            "_view_name": "HTMLView",
            "description": "",
            "description_tooltip": null,
            "layout": "IPY_MODEL_3bc57ff659f84aee8a918b6a415a1416",
            "placeholder": "​",
            "style": "IPY_MODEL_276811a68051495ebeb49ca16e133363",
            "value": " 3/3 [00:43&lt;00:00, 14.80s/ splits]"
          }
        },
        "5ccc32ec66314deda8314503e0412434": {
          "model_module": "@jupyter-widgets/base",
          "model_name": "LayoutModel",
          "model_module_version": "1.2.0",
          "state": {
            "_model_module": "@jupyter-widgets/base",
            "_model_module_version": "1.2.0",
            "_model_name": "LayoutModel",
            "_view_count": null,
            "_view_module": "@jupyter-widgets/base",
            "_view_module_version": "1.2.0",
            "_view_name": "LayoutView",
            "align_content": null,
            "align_items": null,
            "align_self": null,
            "border": null,
            "bottom": null,
            "display": null,
            "flex": null,
            "flex_flow": null,
            "grid_area": null,
            "grid_auto_columns": null,
            "grid_auto_flow": null,
            "grid_auto_rows": null,
            "grid_column": null,
            "grid_gap": null,
            "grid_row": null,
            "grid_template_areas": null,
            "grid_template_columns": null,
            "grid_template_rows": null,
            "height": null,
            "justify_content": null,
            "justify_items": null,
            "left": null,
            "margin": null,
            "max_height": null,
            "max_width": null,
            "min_height": null,
            "min_width": null,
            "object_fit": null,
            "object_position": null,
            "order": null,
            "overflow": null,
            "overflow_x": null,
            "overflow_y": null,
            "padding": null,
            "right": null,
            "top": null,
            "visibility": "hidden",
            "width": null
          }
        },
        "a8ea59aeb87346f08816997658aa26ad": {
          "model_module": "@jupyter-widgets/base",
          "model_name": "LayoutModel",
          "model_module_version": "1.2.0",
          "state": {
            "_model_module": "@jupyter-widgets/base",
            "_model_module_version": "1.2.0",
            "_model_name": "LayoutModel",
            "_view_count": null,
            "_view_module": "@jupyter-widgets/base",
            "_view_module_version": "1.2.0",
            "_view_name": "LayoutView",
            "align_content": null,
            "align_items": null,
            "align_self": null,
            "border": null,
            "bottom": null,
            "display": null,
            "flex": null,
            "flex_flow": null,
            "grid_area": null,
            "grid_auto_columns": null,
            "grid_auto_flow": null,
            "grid_auto_rows": null,
            "grid_column": null,
            "grid_gap": null,
            "grid_row": null,
            "grid_template_areas": null,
            "grid_template_columns": null,
            "grid_template_rows": null,
            "height": null,
            "justify_content": null,
            "justify_items": null,
            "left": null,
            "margin": null,
            "max_height": null,
            "max_width": null,
            "min_height": null,
            "min_width": null,
            "object_fit": null,
            "object_position": null,
            "order": null,
            "overflow": null,
            "overflow_x": null,
            "overflow_y": null,
            "padding": null,
            "right": null,
            "top": null,
            "visibility": null,
            "width": null
          }
        },
        "2a0e09bfe0ea4167b5af893bd6d5eb16": {
          "model_module": "@jupyter-widgets/controls",
          "model_name": "DescriptionStyleModel",
          "model_module_version": "1.5.0",
          "state": {
            "_model_module": "@jupyter-widgets/controls",
            "_model_module_version": "1.5.0",
            "_model_name": "DescriptionStyleModel",
            "_view_count": null,
            "_view_module": "@jupyter-widgets/base",
            "_view_module_version": "1.2.0",
            "_view_name": "StyleView",
            "description_width": ""
          }
        },
        "97c88f231fac4d81bdee76e753f3dd0c": {
          "model_module": "@jupyter-widgets/base",
          "model_name": "LayoutModel",
          "model_module_version": "1.2.0",
          "state": {
            "_model_module": "@jupyter-widgets/base",
            "_model_module_version": "1.2.0",
            "_model_name": "LayoutModel",
            "_view_count": null,
            "_view_module": "@jupyter-widgets/base",
            "_view_module_version": "1.2.0",
            "_view_name": "LayoutView",
            "align_content": null,
            "align_items": null,
            "align_self": null,
            "border": null,
            "bottom": null,
            "display": null,
            "flex": null,
            "flex_flow": null,
            "grid_area": null,
            "grid_auto_columns": null,
            "grid_auto_flow": null,
            "grid_auto_rows": null,
            "grid_column": null,
            "grid_gap": null,
            "grid_row": null,
            "grid_template_areas": null,
            "grid_template_columns": null,
            "grid_template_rows": null,
            "height": null,
            "justify_content": null,
            "justify_items": null,
            "left": null,
            "margin": null,
            "max_height": null,
            "max_width": null,
            "min_height": null,
            "min_width": null,
            "object_fit": null,
            "object_position": null,
            "order": null,
            "overflow": null,
            "overflow_x": null,
            "overflow_y": null,
            "padding": null,
            "right": null,
            "top": null,
            "visibility": null,
            "width": null
          }
        },
        "d403527e79bc45c8bcb74cc4a371b716": {
          "model_module": "@jupyter-widgets/controls",
          "model_name": "ProgressStyleModel",
          "model_module_version": "1.5.0",
          "state": {
            "_model_module": "@jupyter-widgets/controls",
            "_model_module_version": "1.5.0",
            "_model_name": "ProgressStyleModel",
            "_view_count": null,
            "_view_module": "@jupyter-widgets/base",
            "_view_module_version": "1.2.0",
            "_view_name": "StyleView",
            "bar_color": null,
            "description_width": ""
          }
        },
        "3bc57ff659f84aee8a918b6a415a1416": {
          "model_module": "@jupyter-widgets/base",
          "model_name": "LayoutModel",
          "model_module_version": "1.2.0",
          "state": {
            "_model_module": "@jupyter-widgets/base",
            "_model_module_version": "1.2.0",
            "_model_name": "LayoutModel",
            "_view_count": null,
            "_view_module": "@jupyter-widgets/base",
            "_view_module_version": "1.2.0",
            "_view_name": "LayoutView",
            "align_content": null,
            "align_items": null,
            "align_self": null,
            "border": null,
            "bottom": null,
            "display": null,
            "flex": null,
            "flex_flow": null,
            "grid_area": null,
            "grid_auto_columns": null,
            "grid_auto_flow": null,
            "grid_auto_rows": null,
            "grid_column": null,
            "grid_gap": null,
            "grid_row": null,
            "grid_template_areas": null,
            "grid_template_columns": null,
            "grid_template_rows": null,
            "height": null,
            "justify_content": null,
            "justify_items": null,
            "left": null,
            "margin": null,
            "max_height": null,
            "max_width": null,
            "min_height": null,
            "min_width": null,
            "object_fit": null,
            "object_position": null,
            "order": null,
            "overflow": null,
            "overflow_x": null,
            "overflow_y": null,
            "padding": null,
            "right": null,
            "top": null,
            "visibility": null,
            "width": null
          }
        },
        "276811a68051495ebeb49ca16e133363": {
          "model_module": "@jupyter-widgets/controls",
          "model_name": "DescriptionStyleModel",
          "model_module_version": "1.5.0",
          "state": {
            "_model_module": "@jupyter-widgets/controls",
            "_model_module_version": "1.5.0",
            "_model_name": "DescriptionStyleModel",
            "_view_count": null,
            "_view_module": "@jupyter-widgets/base",
            "_view_module_version": "1.2.0",
            "_view_name": "StyleView",
            "description_width": ""
          }
        },
        "d311b2d0d21846f5bb7520c09f59a9af": {
          "model_module": "@jupyter-widgets/controls",
          "model_name": "HBoxModel",
          "model_module_version": "1.5.0",
          "state": {
            "_dom_classes": [],
            "_model_module": "@jupyter-widgets/controls",
            "_model_module_version": "1.5.0",
            "_model_name": "HBoxModel",
            "_view_count": null,
            "_view_module": "@jupyter-widgets/controls",
            "_view_module_version": "1.5.0",
            "_view_name": "HBoxView",
            "box_style": "",
            "children": [
              "IPY_MODEL_42062268b7c341589e45827acfe0a9f2",
              "IPY_MODEL_ea049e55bd2845f7a5a8cde5186f2761",
              "IPY_MODEL_54864be26850481db4dd8474797a169c"
            ],
            "layout": "IPY_MODEL_f3a7b12cb84546d0ac34e212229aa21d"
          }
        },
        "42062268b7c341589e45827acfe0a9f2": {
          "model_module": "@jupyter-widgets/controls",
          "model_name": "HTMLModel",
          "model_module_version": "1.5.0",
          "state": {
            "_dom_classes": [],
            "_model_module": "@jupyter-widgets/controls",
            "_model_module_version": "1.5.0",
            "_model_name": "HTMLModel",
            "_view_count": null,
            "_view_module": "@jupyter-widgets/controls",
            "_view_module_version": "1.5.0",
            "_view_name": "HTMLView",
            "description": "",
            "description_tooltip": null,
            "layout": "IPY_MODEL_c992595bf3304a899920915a46bbca17",
            "placeholder": "​",
            "style": "IPY_MODEL_937ea0873d1f4ba8acda4978a0a12db6",
            "value": "Generating train examples...:  92%"
          }
        },
        "ea049e55bd2845f7a5a8cde5186f2761": {
          "model_module": "@jupyter-widgets/controls",
          "model_name": "FloatProgressModel",
          "model_module_version": "1.5.0",
          "state": {
            "_dom_classes": [],
            "_model_module": "@jupyter-widgets/controls",
            "_model_module_version": "1.5.0",
            "_model_name": "FloatProgressModel",
            "_view_count": null,
            "_view_module": "@jupyter-widgets/controls",
            "_view_module_version": "1.5.0",
            "_view_name": "ProgressView",
            "bar_style": "",
            "description": "",
            "description_tooltip": null,
            "layout": "IPY_MODEL_6fa906fa9dc34571b73b46d329c2c066",
            "max": 25000,
            "min": 0,
            "orientation": "horizontal",
            "style": "IPY_MODEL_b92323fa98634cc48c8a464777c539bc",
            "value": 25000
          }
        },
        "54864be26850481db4dd8474797a169c": {
          "model_module": "@jupyter-widgets/controls",
          "model_name": "HTMLModel",
          "model_module_version": "1.5.0",
          "state": {
            "_dom_classes": [],
            "_model_module": "@jupyter-widgets/controls",
            "_model_module_version": "1.5.0",
            "_model_name": "HTMLModel",
            "_view_count": null,
            "_view_module": "@jupyter-widgets/controls",
            "_view_module_version": "1.5.0",
            "_view_name": "HTMLView",
            "description": "",
            "description_tooltip": null,
            "layout": "IPY_MODEL_4e83c3a785924f3ca2aad111eafc3df1",
            "placeholder": "​",
            "style": "IPY_MODEL_3a709a1f0ab541f198863275beda27c5",
            "value": " 22895/25000 [00:08&lt;00:00, 4033.06 examples/s]"
          }
        },
        "f3a7b12cb84546d0ac34e212229aa21d": {
          "model_module": "@jupyter-widgets/base",
          "model_name": "LayoutModel",
          "model_module_version": "1.2.0",
          "state": {
            "_model_module": "@jupyter-widgets/base",
            "_model_module_version": "1.2.0",
            "_model_name": "LayoutModel",
            "_view_count": null,
            "_view_module": "@jupyter-widgets/base",
            "_view_module_version": "1.2.0",
            "_view_name": "LayoutView",
            "align_content": null,
            "align_items": null,
            "align_self": null,
            "border": null,
            "bottom": null,
            "display": null,
            "flex": null,
            "flex_flow": null,
            "grid_area": null,
            "grid_auto_columns": null,
            "grid_auto_flow": null,
            "grid_auto_rows": null,
            "grid_column": null,
            "grid_gap": null,
            "grid_row": null,
            "grid_template_areas": null,
            "grid_template_columns": null,
            "grid_template_rows": null,
            "height": null,
            "justify_content": null,
            "justify_items": null,
            "left": null,
            "margin": null,
            "max_height": null,
            "max_width": null,
            "min_height": null,
            "min_width": null,
            "object_fit": null,
            "object_position": null,
            "order": null,
            "overflow": null,
            "overflow_x": null,
            "overflow_y": null,
            "padding": null,
            "right": null,
            "top": null,
            "visibility": "hidden",
            "width": null
          }
        },
        "c992595bf3304a899920915a46bbca17": {
          "model_module": "@jupyter-widgets/base",
          "model_name": "LayoutModel",
          "model_module_version": "1.2.0",
          "state": {
            "_model_module": "@jupyter-widgets/base",
            "_model_module_version": "1.2.0",
            "_model_name": "LayoutModel",
            "_view_count": null,
            "_view_module": "@jupyter-widgets/base",
            "_view_module_version": "1.2.0",
            "_view_name": "LayoutView",
            "align_content": null,
            "align_items": null,
            "align_self": null,
            "border": null,
            "bottom": null,
            "display": null,
            "flex": null,
            "flex_flow": null,
            "grid_area": null,
            "grid_auto_columns": null,
            "grid_auto_flow": null,
            "grid_auto_rows": null,
            "grid_column": null,
            "grid_gap": null,
            "grid_row": null,
            "grid_template_areas": null,
            "grid_template_columns": null,
            "grid_template_rows": null,
            "height": null,
            "justify_content": null,
            "justify_items": null,
            "left": null,
            "margin": null,
            "max_height": null,
            "max_width": null,
            "min_height": null,
            "min_width": null,
            "object_fit": null,
            "object_position": null,
            "order": null,
            "overflow": null,
            "overflow_x": null,
            "overflow_y": null,
            "padding": null,
            "right": null,
            "top": null,
            "visibility": null,
            "width": null
          }
        },
        "937ea0873d1f4ba8acda4978a0a12db6": {
          "model_module": "@jupyter-widgets/controls",
          "model_name": "DescriptionStyleModel",
          "model_module_version": "1.5.0",
          "state": {
            "_model_module": "@jupyter-widgets/controls",
            "_model_module_version": "1.5.0",
            "_model_name": "DescriptionStyleModel",
            "_view_count": null,
            "_view_module": "@jupyter-widgets/base",
            "_view_module_version": "1.2.0",
            "_view_name": "StyleView",
            "description_width": ""
          }
        },
        "6fa906fa9dc34571b73b46d329c2c066": {
          "model_module": "@jupyter-widgets/base",
          "model_name": "LayoutModel",
          "model_module_version": "1.2.0",
          "state": {
            "_model_module": "@jupyter-widgets/base",
            "_model_module_version": "1.2.0",
            "_model_name": "LayoutModel",
            "_view_count": null,
            "_view_module": "@jupyter-widgets/base",
            "_view_module_version": "1.2.0",
            "_view_name": "LayoutView",
            "align_content": null,
            "align_items": null,
            "align_self": null,
            "border": null,
            "bottom": null,
            "display": null,
            "flex": null,
            "flex_flow": null,
            "grid_area": null,
            "grid_auto_columns": null,
            "grid_auto_flow": null,
            "grid_auto_rows": null,
            "grid_column": null,
            "grid_gap": null,
            "grid_row": null,
            "grid_template_areas": null,
            "grid_template_columns": null,
            "grid_template_rows": null,
            "height": null,
            "justify_content": null,
            "justify_items": null,
            "left": null,
            "margin": null,
            "max_height": null,
            "max_width": null,
            "min_height": null,
            "min_width": null,
            "object_fit": null,
            "object_position": null,
            "order": null,
            "overflow": null,
            "overflow_x": null,
            "overflow_y": null,
            "padding": null,
            "right": null,
            "top": null,
            "visibility": null,
            "width": null
          }
        },
        "b92323fa98634cc48c8a464777c539bc": {
          "model_module": "@jupyter-widgets/controls",
          "model_name": "ProgressStyleModel",
          "model_module_version": "1.5.0",
          "state": {
            "_model_module": "@jupyter-widgets/controls",
            "_model_module_version": "1.5.0",
            "_model_name": "ProgressStyleModel",
            "_view_count": null,
            "_view_module": "@jupyter-widgets/base",
            "_view_module_version": "1.2.0",
            "_view_name": "StyleView",
            "bar_color": null,
            "description_width": ""
          }
        },
        "4e83c3a785924f3ca2aad111eafc3df1": {
          "model_module": "@jupyter-widgets/base",
          "model_name": "LayoutModel",
          "model_module_version": "1.2.0",
          "state": {
            "_model_module": "@jupyter-widgets/base",
            "_model_module_version": "1.2.0",
            "_model_name": "LayoutModel",
            "_view_count": null,
            "_view_module": "@jupyter-widgets/base",
            "_view_module_version": "1.2.0",
            "_view_name": "LayoutView",
            "align_content": null,
            "align_items": null,
            "align_self": null,
            "border": null,
            "bottom": null,
            "display": null,
            "flex": null,
            "flex_flow": null,
            "grid_area": null,
            "grid_auto_columns": null,
            "grid_auto_flow": null,
            "grid_auto_rows": null,
            "grid_column": null,
            "grid_gap": null,
            "grid_row": null,
            "grid_template_areas": null,
            "grid_template_columns": null,
            "grid_template_rows": null,
            "height": null,
            "justify_content": null,
            "justify_items": null,
            "left": null,
            "margin": null,
            "max_height": null,
            "max_width": null,
            "min_height": null,
            "min_width": null,
            "object_fit": null,
            "object_position": null,
            "order": null,
            "overflow": null,
            "overflow_x": null,
            "overflow_y": null,
            "padding": null,
            "right": null,
            "top": null,
            "visibility": null,
            "width": null
          }
        },
        "3a709a1f0ab541f198863275beda27c5": {
          "model_module": "@jupyter-widgets/controls",
          "model_name": "DescriptionStyleModel",
          "model_module_version": "1.5.0",
          "state": {
            "_model_module": "@jupyter-widgets/controls",
            "_model_module_version": "1.5.0",
            "_model_name": "DescriptionStyleModel",
            "_view_count": null,
            "_view_module": "@jupyter-widgets/base",
            "_view_module_version": "1.2.0",
            "_view_name": "StyleView",
            "description_width": ""
          }
        },
        "67eb4cf5e56f47b8836b24e93f970ed6": {
          "model_module": "@jupyter-widgets/controls",
          "model_name": "HBoxModel",
          "model_module_version": "1.5.0",
          "state": {
            "_dom_classes": [],
            "_model_module": "@jupyter-widgets/controls",
            "_model_module_version": "1.5.0",
            "_model_name": "HBoxModel",
            "_view_count": null,
            "_view_module": "@jupyter-widgets/controls",
            "_view_module_version": "1.5.0",
            "_view_name": "HBoxView",
            "box_style": "",
            "children": [
              "IPY_MODEL_6603b540c78245918b878637e198d134",
              "IPY_MODEL_057da905e16749769a5af79cfe117d8c",
              "IPY_MODEL_9fe1361d84ae40e091fab683c73ee3b9"
            ],
            "layout": "IPY_MODEL_a6e944dbfa9047caa6c09db4030ebf73"
          }
        },
        "6603b540c78245918b878637e198d134": {
          "model_module": "@jupyter-widgets/controls",
          "model_name": "HTMLModel",
          "model_module_version": "1.5.0",
          "state": {
            "_dom_classes": [],
            "_model_module": "@jupyter-widgets/controls",
            "_model_module_version": "1.5.0",
            "_model_name": "HTMLModel",
            "_view_count": null,
            "_view_module": "@jupyter-widgets/controls",
            "_view_module_version": "1.5.0",
            "_view_name": "HTMLView",
            "description": "",
            "description_tooltip": null,
            "layout": "IPY_MODEL_89ed87426e6342078bb23fa208334210",
            "placeholder": "​",
            "style": "IPY_MODEL_f43252e476774d01801b701cc1effafe",
            "value": "Shuffling /root/tensorflow_datasets/imdb_reviews/plain_text/1.0.0.incomplete7RT7UA/imdb_reviews-train.tfrecord*...:  47%"
          }
        },
        "057da905e16749769a5af79cfe117d8c": {
          "model_module": "@jupyter-widgets/controls",
          "model_name": "FloatProgressModel",
          "model_module_version": "1.5.0",
          "state": {
            "_dom_classes": [],
            "_model_module": "@jupyter-widgets/controls",
            "_model_module_version": "1.5.0",
            "_model_name": "FloatProgressModel",
            "_view_count": null,
            "_view_module": "@jupyter-widgets/controls",
            "_view_module_version": "1.5.0",
            "_view_name": "ProgressView",
            "bar_style": "",
            "description": "",
            "description_tooltip": null,
            "layout": "IPY_MODEL_88a7b419e0094f409a0d09bcbf06cb30",
            "max": 25000,
            "min": 0,
            "orientation": "horizontal",
            "style": "IPY_MODEL_4d08458be90842858eddb7292571d5ce",
            "value": 25000
          }
        },
        "9fe1361d84ae40e091fab683c73ee3b9": {
          "model_module": "@jupyter-widgets/controls",
          "model_name": "HTMLModel",
          "model_module_version": "1.5.0",
          "state": {
            "_dom_classes": [],
            "_model_module": "@jupyter-widgets/controls",
            "_model_module_version": "1.5.0",
            "_model_name": "HTMLModel",
            "_view_count": null,
            "_view_module": "@jupyter-widgets/controls",
            "_view_module_version": "1.5.0",
            "_view_name": "HTMLView",
            "description": "",
            "description_tooltip": null,
            "layout": "IPY_MODEL_b975512ce22b43dca46820aa89e1e954",
            "placeholder": "​",
            "style": "IPY_MODEL_dfb216670fba4c0ca78ec01d5cbd4c5e",
            "value": " 11776/25000 [00:00&lt;00:00, 117744.39 examples/s]"
          }
        },
        "a6e944dbfa9047caa6c09db4030ebf73": {
          "model_module": "@jupyter-widgets/base",
          "model_name": "LayoutModel",
          "model_module_version": "1.2.0",
          "state": {
            "_model_module": "@jupyter-widgets/base",
            "_model_module_version": "1.2.0",
            "_model_name": "LayoutModel",
            "_view_count": null,
            "_view_module": "@jupyter-widgets/base",
            "_view_module_version": "1.2.0",
            "_view_name": "LayoutView",
            "align_content": null,
            "align_items": null,
            "align_self": null,
            "border": null,
            "bottom": null,
            "display": null,
            "flex": null,
            "flex_flow": null,
            "grid_area": null,
            "grid_auto_columns": null,
            "grid_auto_flow": null,
            "grid_auto_rows": null,
            "grid_column": null,
            "grid_gap": null,
            "grid_row": null,
            "grid_template_areas": null,
            "grid_template_columns": null,
            "grid_template_rows": null,
            "height": null,
            "justify_content": null,
            "justify_items": null,
            "left": null,
            "margin": null,
            "max_height": null,
            "max_width": null,
            "min_height": null,
            "min_width": null,
            "object_fit": null,
            "object_position": null,
            "order": null,
            "overflow": null,
            "overflow_x": null,
            "overflow_y": null,
            "padding": null,
            "right": null,
            "top": null,
            "visibility": "hidden",
            "width": null
          }
        },
        "89ed87426e6342078bb23fa208334210": {
          "model_module": "@jupyter-widgets/base",
          "model_name": "LayoutModel",
          "model_module_version": "1.2.0",
          "state": {
            "_model_module": "@jupyter-widgets/base",
            "_model_module_version": "1.2.0",
            "_model_name": "LayoutModel",
            "_view_count": null,
            "_view_module": "@jupyter-widgets/base",
            "_view_module_version": "1.2.0",
            "_view_name": "LayoutView",
            "align_content": null,
            "align_items": null,
            "align_self": null,
            "border": null,
            "bottom": null,
            "display": null,
            "flex": null,
            "flex_flow": null,
            "grid_area": null,
            "grid_auto_columns": null,
            "grid_auto_flow": null,
            "grid_auto_rows": null,
            "grid_column": null,
            "grid_gap": null,
            "grid_row": null,
            "grid_template_areas": null,
            "grid_template_columns": null,
            "grid_template_rows": null,
            "height": null,
            "justify_content": null,
            "justify_items": null,
            "left": null,
            "margin": null,
            "max_height": null,
            "max_width": null,
            "min_height": null,
            "min_width": null,
            "object_fit": null,
            "object_position": null,
            "order": null,
            "overflow": null,
            "overflow_x": null,
            "overflow_y": null,
            "padding": null,
            "right": null,
            "top": null,
            "visibility": null,
            "width": null
          }
        },
        "f43252e476774d01801b701cc1effafe": {
          "model_module": "@jupyter-widgets/controls",
          "model_name": "DescriptionStyleModel",
          "model_module_version": "1.5.0",
          "state": {
            "_model_module": "@jupyter-widgets/controls",
            "_model_module_version": "1.5.0",
            "_model_name": "DescriptionStyleModel",
            "_view_count": null,
            "_view_module": "@jupyter-widgets/base",
            "_view_module_version": "1.2.0",
            "_view_name": "StyleView",
            "description_width": ""
          }
        },
        "88a7b419e0094f409a0d09bcbf06cb30": {
          "model_module": "@jupyter-widgets/base",
          "model_name": "LayoutModel",
          "model_module_version": "1.2.0",
          "state": {
            "_model_module": "@jupyter-widgets/base",
            "_model_module_version": "1.2.0",
            "_model_name": "LayoutModel",
            "_view_count": null,
            "_view_module": "@jupyter-widgets/base",
            "_view_module_version": "1.2.0",
            "_view_name": "LayoutView",
            "align_content": null,
            "align_items": null,
            "align_self": null,
            "border": null,
            "bottom": null,
            "display": null,
            "flex": null,
            "flex_flow": null,
            "grid_area": null,
            "grid_auto_columns": null,
            "grid_auto_flow": null,
            "grid_auto_rows": null,
            "grid_column": null,
            "grid_gap": null,
            "grid_row": null,
            "grid_template_areas": null,
            "grid_template_columns": null,
            "grid_template_rows": null,
            "height": null,
            "justify_content": null,
            "justify_items": null,
            "left": null,
            "margin": null,
            "max_height": null,
            "max_width": null,
            "min_height": null,
            "min_width": null,
            "object_fit": null,
            "object_position": null,
            "order": null,
            "overflow": null,
            "overflow_x": null,
            "overflow_y": null,
            "padding": null,
            "right": null,
            "top": null,
            "visibility": null,
            "width": null
          }
        },
        "4d08458be90842858eddb7292571d5ce": {
          "model_module": "@jupyter-widgets/controls",
          "model_name": "ProgressStyleModel",
          "model_module_version": "1.5.0",
          "state": {
            "_model_module": "@jupyter-widgets/controls",
            "_model_module_version": "1.5.0",
            "_model_name": "ProgressStyleModel",
            "_view_count": null,
            "_view_module": "@jupyter-widgets/base",
            "_view_module_version": "1.2.0",
            "_view_name": "StyleView",
            "bar_color": null,
            "description_width": ""
          }
        },
        "b975512ce22b43dca46820aa89e1e954": {
          "model_module": "@jupyter-widgets/base",
          "model_name": "LayoutModel",
          "model_module_version": "1.2.0",
          "state": {
            "_model_module": "@jupyter-widgets/base",
            "_model_module_version": "1.2.0",
            "_model_name": "LayoutModel",
            "_view_count": null,
            "_view_module": "@jupyter-widgets/base",
            "_view_module_version": "1.2.0",
            "_view_name": "LayoutView",
            "align_content": null,
            "align_items": null,
            "align_self": null,
            "border": null,
            "bottom": null,
            "display": null,
            "flex": null,
            "flex_flow": null,
            "grid_area": null,
            "grid_auto_columns": null,
            "grid_auto_flow": null,
            "grid_auto_rows": null,
            "grid_column": null,
            "grid_gap": null,
            "grid_row": null,
            "grid_template_areas": null,
            "grid_template_columns": null,
            "grid_template_rows": null,
            "height": null,
            "justify_content": null,
            "justify_items": null,
            "left": null,
            "margin": null,
            "max_height": null,
            "max_width": null,
            "min_height": null,
            "min_width": null,
            "object_fit": null,
            "object_position": null,
            "order": null,
            "overflow": null,
            "overflow_x": null,
            "overflow_y": null,
            "padding": null,
            "right": null,
            "top": null,
            "visibility": null,
            "width": null
          }
        },
        "dfb216670fba4c0ca78ec01d5cbd4c5e": {
          "model_module": "@jupyter-widgets/controls",
          "model_name": "DescriptionStyleModel",
          "model_module_version": "1.5.0",
          "state": {
            "_model_module": "@jupyter-widgets/controls",
            "_model_module_version": "1.5.0",
            "_model_name": "DescriptionStyleModel",
            "_view_count": null,
            "_view_module": "@jupyter-widgets/base",
            "_view_module_version": "1.2.0",
            "_view_name": "StyleView",
            "description_width": ""
          }
        },
        "9cba0008a31e492b983f138a8901c99b": {
          "model_module": "@jupyter-widgets/controls",
          "model_name": "HBoxModel",
          "model_module_version": "1.5.0",
          "state": {
            "_dom_classes": [],
            "_model_module": "@jupyter-widgets/controls",
            "_model_module_version": "1.5.0",
            "_model_name": "HBoxModel",
            "_view_count": null,
            "_view_module": "@jupyter-widgets/controls",
            "_view_module_version": "1.5.0",
            "_view_name": "HBoxView",
            "box_style": "",
            "children": [
              "IPY_MODEL_f2ba4dc969864ce5a7440dfb0812e5a6",
              "IPY_MODEL_b0158834e07843a4bb143c8ed2383cd8",
              "IPY_MODEL_5f82be9428f94fd7a6683a29b6cd0dd7"
            ],
            "layout": "IPY_MODEL_f1a6505502fa441798b31984b77a784c"
          }
        },
        "f2ba4dc969864ce5a7440dfb0812e5a6": {
          "model_module": "@jupyter-widgets/controls",
          "model_name": "HTMLModel",
          "model_module_version": "1.5.0",
          "state": {
            "_dom_classes": [],
            "_model_module": "@jupyter-widgets/controls",
            "_model_module_version": "1.5.0",
            "_model_name": "HTMLModel",
            "_view_count": null,
            "_view_module": "@jupyter-widgets/controls",
            "_view_module_version": "1.5.0",
            "_view_name": "HTMLView",
            "description": "",
            "description_tooltip": null,
            "layout": "IPY_MODEL_2a8031642ed74133be258c042eb36cbe",
            "placeholder": "​",
            "style": "IPY_MODEL_ba743c4bd2244465a4ce83865d5c35fb",
            "value": "Generating test examples...:  85%"
          }
        },
        "b0158834e07843a4bb143c8ed2383cd8": {
          "model_module": "@jupyter-widgets/controls",
          "model_name": "FloatProgressModel",
          "model_module_version": "1.5.0",
          "state": {
            "_dom_classes": [],
            "_model_module": "@jupyter-widgets/controls",
            "_model_module_version": "1.5.0",
            "_model_name": "FloatProgressModel",
            "_view_count": null,
            "_view_module": "@jupyter-widgets/controls",
            "_view_module_version": "1.5.0",
            "_view_name": "ProgressView",
            "bar_style": "",
            "description": "",
            "description_tooltip": null,
            "layout": "IPY_MODEL_4f0fdb748a794ca7aba42fc5b3951c93",
            "max": 25000,
            "min": 0,
            "orientation": "horizontal",
            "style": "IPY_MODEL_20419452b39b4dd9983f494b432fdaba",
            "value": 25000
          }
        },
        "5f82be9428f94fd7a6683a29b6cd0dd7": {
          "model_module": "@jupyter-widgets/controls",
          "model_name": "HTMLModel",
          "model_module_version": "1.5.0",
          "state": {
            "_dom_classes": [],
            "_model_module": "@jupyter-widgets/controls",
            "_model_module_version": "1.5.0",
            "_model_name": "HTMLModel",
            "_view_count": null,
            "_view_module": "@jupyter-widgets/controls",
            "_view_module_version": "1.5.0",
            "_view_name": "HTMLView",
            "description": "",
            "description_tooltip": null,
            "layout": "IPY_MODEL_3ab471ee3b224972848e454cf33a3ada",
            "placeholder": "​",
            "style": "IPY_MODEL_332dbdf343c5475f93e3e163eae7ec0d",
            "value": " 21364/25000 [00:05&lt;00:00, 3672.01 examples/s]"
          }
        },
        "f1a6505502fa441798b31984b77a784c": {
          "model_module": "@jupyter-widgets/base",
          "model_name": "LayoutModel",
          "model_module_version": "1.2.0",
          "state": {
            "_model_module": "@jupyter-widgets/base",
            "_model_module_version": "1.2.0",
            "_model_name": "LayoutModel",
            "_view_count": null,
            "_view_module": "@jupyter-widgets/base",
            "_view_module_version": "1.2.0",
            "_view_name": "LayoutView",
            "align_content": null,
            "align_items": null,
            "align_self": null,
            "border": null,
            "bottom": null,
            "display": null,
            "flex": null,
            "flex_flow": null,
            "grid_area": null,
            "grid_auto_columns": null,
            "grid_auto_flow": null,
            "grid_auto_rows": null,
            "grid_column": null,
            "grid_gap": null,
            "grid_row": null,
            "grid_template_areas": null,
            "grid_template_columns": null,
            "grid_template_rows": null,
            "height": null,
            "justify_content": null,
            "justify_items": null,
            "left": null,
            "margin": null,
            "max_height": null,
            "max_width": null,
            "min_height": null,
            "min_width": null,
            "object_fit": null,
            "object_position": null,
            "order": null,
            "overflow": null,
            "overflow_x": null,
            "overflow_y": null,
            "padding": null,
            "right": null,
            "top": null,
            "visibility": "hidden",
            "width": null
          }
        },
        "2a8031642ed74133be258c042eb36cbe": {
          "model_module": "@jupyter-widgets/base",
          "model_name": "LayoutModel",
          "model_module_version": "1.2.0",
          "state": {
            "_model_module": "@jupyter-widgets/base",
            "_model_module_version": "1.2.0",
            "_model_name": "LayoutModel",
            "_view_count": null,
            "_view_module": "@jupyter-widgets/base",
            "_view_module_version": "1.2.0",
            "_view_name": "LayoutView",
            "align_content": null,
            "align_items": null,
            "align_self": null,
            "border": null,
            "bottom": null,
            "display": null,
            "flex": null,
            "flex_flow": null,
            "grid_area": null,
            "grid_auto_columns": null,
            "grid_auto_flow": null,
            "grid_auto_rows": null,
            "grid_column": null,
            "grid_gap": null,
            "grid_row": null,
            "grid_template_areas": null,
            "grid_template_columns": null,
            "grid_template_rows": null,
            "height": null,
            "justify_content": null,
            "justify_items": null,
            "left": null,
            "margin": null,
            "max_height": null,
            "max_width": null,
            "min_height": null,
            "min_width": null,
            "object_fit": null,
            "object_position": null,
            "order": null,
            "overflow": null,
            "overflow_x": null,
            "overflow_y": null,
            "padding": null,
            "right": null,
            "top": null,
            "visibility": null,
            "width": null
          }
        },
        "ba743c4bd2244465a4ce83865d5c35fb": {
          "model_module": "@jupyter-widgets/controls",
          "model_name": "DescriptionStyleModel",
          "model_module_version": "1.5.0",
          "state": {
            "_model_module": "@jupyter-widgets/controls",
            "_model_module_version": "1.5.0",
            "_model_name": "DescriptionStyleModel",
            "_view_count": null,
            "_view_module": "@jupyter-widgets/base",
            "_view_module_version": "1.2.0",
            "_view_name": "StyleView",
            "description_width": ""
          }
        },
        "4f0fdb748a794ca7aba42fc5b3951c93": {
          "model_module": "@jupyter-widgets/base",
          "model_name": "LayoutModel",
          "model_module_version": "1.2.0",
          "state": {
            "_model_module": "@jupyter-widgets/base",
            "_model_module_version": "1.2.0",
            "_model_name": "LayoutModel",
            "_view_count": null,
            "_view_module": "@jupyter-widgets/base",
            "_view_module_version": "1.2.0",
            "_view_name": "LayoutView",
            "align_content": null,
            "align_items": null,
            "align_self": null,
            "border": null,
            "bottom": null,
            "display": null,
            "flex": null,
            "flex_flow": null,
            "grid_area": null,
            "grid_auto_columns": null,
            "grid_auto_flow": null,
            "grid_auto_rows": null,
            "grid_column": null,
            "grid_gap": null,
            "grid_row": null,
            "grid_template_areas": null,
            "grid_template_columns": null,
            "grid_template_rows": null,
            "height": null,
            "justify_content": null,
            "justify_items": null,
            "left": null,
            "margin": null,
            "max_height": null,
            "max_width": null,
            "min_height": null,
            "min_width": null,
            "object_fit": null,
            "object_position": null,
            "order": null,
            "overflow": null,
            "overflow_x": null,
            "overflow_y": null,
            "padding": null,
            "right": null,
            "top": null,
            "visibility": null,
            "width": null
          }
        },
        "20419452b39b4dd9983f494b432fdaba": {
          "model_module": "@jupyter-widgets/controls",
          "model_name": "ProgressStyleModel",
          "model_module_version": "1.5.0",
          "state": {
            "_model_module": "@jupyter-widgets/controls",
            "_model_module_version": "1.5.0",
            "_model_name": "ProgressStyleModel",
            "_view_count": null,
            "_view_module": "@jupyter-widgets/base",
            "_view_module_version": "1.2.0",
            "_view_name": "StyleView",
            "bar_color": null,
            "description_width": ""
          }
        },
        "3ab471ee3b224972848e454cf33a3ada": {
          "model_module": "@jupyter-widgets/base",
          "model_name": "LayoutModel",
          "model_module_version": "1.2.0",
          "state": {
            "_model_module": "@jupyter-widgets/base",
            "_model_module_version": "1.2.0",
            "_model_name": "LayoutModel",
            "_view_count": null,
            "_view_module": "@jupyter-widgets/base",
            "_view_module_version": "1.2.0",
            "_view_name": "LayoutView",
            "align_content": null,
            "align_items": null,
            "align_self": null,
            "border": null,
            "bottom": null,
            "display": null,
            "flex": null,
            "flex_flow": null,
            "grid_area": null,
            "grid_auto_columns": null,
            "grid_auto_flow": null,
            "grid_auto_rows": null,
            "grid_column": null,
            "grid_gap": null,
            "grid_row": null,
            "grid_template_areas": null,
            "grid_template_columns": null,
            "grid_template_rows": null,
            "height": null,
            "justify_content": null,
            "justify_items": null,
            "left": null,
            "margin": null,
            "max_height": null,
            "max_width": null,
            "min_height": null,
            "min_width": null,
            "object_fit": null,
            "object_position": null,
            "order": null,
            "overflow": null,
            "overflow_x": null,
            "overflow_y": null,
            "padding": null,
            "right": null,
            "top": null,
            "visibility": null,
            "width": null
          }
        },
        "332dbdf343c5475f93e3e163eae7ec0d": {
          "model_module": "@jupyter-widgets/controls",
          "model_name": "DescriptionStyleModel",
          "model_module_version": "1.5.0",
          "state": {
            "_model_module": "@jupyter-widgets/controls",
            "_model_module_version": "1.5.0",
            "_model_name": "DescriptionStyleModel",
            "_view_count": null,
            "_view_module": "@jupyter-widgets/base",
            "_view_module_version": "1.2.0",
            "_view_name": "StyleView",
            "description_width": ""
          }
        },
        "2e66618deafd40afb73fc065078d0ec5": {
          "model_module": "@jupyter-widgets/controls",
          "model_name": "HBoxModel",
          "model_module_version": "1.5.0",
          "state": {
            "_dom_classes": [],
            "_model_module": "@jupyter-widgets/controls",
            "_model_module_version": "1.5.0",
            "_model_name": "HBoxModel",
            "_view_count": null,
            "_view_module": "@jupyter-widgets/controls",
            "_view_module_version": "1.5.0",
            "_view_name": "HBoxView",
            "box_style": "",
            "children": [
              "IPY_MODEL_77c83550744e48cf8fedc9499c98451e",
              "IPY_MODEL_d1c7dda78d754b439e56e488ee0f9b66",
              "IPY_MODEL_d129ecd8a74b4dbc98f92a97dfd6f5c8"
            ],
            "layout": "IPY_MODEL_888c51c34287408a844488d76c0a065c"
          }
        },
        "77c83550744e48cf8fedc9499c98451e": {
          "model_module": "@jupyter-widgets/controls",
          "model_name": "HTMLModel",
          "model_module_version": "1.5.0",
          "state": {
            "_dom_classes": [],
            "_model_module": "@jupyter-widgets/controls",
            "_model_module_version": "1.5.0",
            "_model_name": "HTMLModel",
            "_view_count": null,
            "_view_module": "@jupyter-widgets/controls",
            "_view_module_version": "1.5.0",
            "_view_name": "HTMLView",
            "description": "",
            "description_tooltip": null,
            "layout": "IPY_MODEL_5a93cb4dbe574c21ab64a243e817dc61",
            "placeholder": "​",
            "style": "IPY_MODEL_f192529149624e03bff6dc725f594776",
            "value": "Shuffling /root/tensorflow_datasets/imdb_reviews/plain_text/1.0.0.incomplete7RT7UA/imdb_reviews-test.tfrecord*...:  74%"
          }
        },
        "d1c7dda78d754b439e56e488ee0f9b66": {
          "model_module": "@jupyter-widgets/controls",
          "model_name": "FloatProgressModel",
          "model_module_version": "1.5.0",
          "state": {
            "_dom_classes": [],
            "_model_module": "@jupyter-widgets/controls",
            "_model_module_version": "1.5.0",
            "_model_name": "FloatProgressModel",
            "_view_count": null,
            "_view_module": "@jupyter-widgets/controls",
            "_view_module_version": "1.5.0",
            "_view_name": "ProgressView",
            "bar_style": "",
            "description": "",
            "description_tooltip": null,
            "layout": "IPY_MODEL_7e544103db4b4e738a5bcf94bc065f00",
            "max": 25000,
            "min": 0,
            "orientation": "horizontal",
            "style": "IPY_MODEL_54f24788425b486ebd26fc2b2cb6c5d7",
            "value": 25000
          }
        },
        "d129ecd8a74b4dbc98f92a97dfd6f5c8": {
          "model_module": "@jupyter-widgets/controls",
          "model_name": "HTMLModel",
          "model_module_version": "1.5.0",
          "state": {
            "_dom_classes": [],
            "_model_module": "@jupyter-widgets/controls",
            "_model_module_version": "1.5.0",
            "_model_name": "HTMLModel",
            "_view_count": null,
            "_view_module": "@jupyter-widgets/controls",
            "_view_module_version": "1.5.0",
            "_view_name": "HTMLView",
            "description": "",
            "description_tooltip": null,
            "layout": "IPY_MODEL_0564dfbf9336495b9912ec340050fcea",
            "placeholder": "​",
            "style": "IPY_MODEL_23ce222c39e94c229010c39dbecce13e",
            "value": " 18563/25000 [00:00&lt;00:00, 97646.89 examples/s]"
          }
        },
        "888c51c34287408a844488d76c0a065c": {
          "model_module": "@jupyter-widgets/base",
          "model_name": "LayoutModel",
          "model_module_version": "1.2.0",
          "state": {
            "_model_module": "@jupyter-widgets/base",
            "_model_module_version": "1.2.0",
            "_model_name": "LayoutModel",
            "_view_count": null,
            "_view_module": "@jupyter-widgets/base",
            "_view_module_version": "1.2.0",
            "_view_name": "LayoutView",
            "align_content": null,
            "align_items": null,
            "align_self": null,
            "border": null,
            "bottom": null,
            "display": null,
            "flex": null,
            "flex_flow": null,
            "grid_area": null,
            "grid_auto_columns": null,
            "grid_auto_flow": null,
            "grid_auto_rows": null,
            "grid_column": null,
            "grid_gap": null,
            "grid_row": null,
            "grid_template_areas": null,
            "grid_template_columns": null,
            "grid_template_rows": null,
            "height": null,
            "justify_content": null,
            "justify_items": null,
            "left": null,
            "margin": null,
            "max_height": null,
            "max_width": null,
            "min_height": null,
            "min_width": null,
            "object_fit": null,
            "object_position": null,
            "order": null,
            "overflow": null,
            "overflow_x": null,
            "overflow_y": null,
            "padding": null,
            "right": null,
            "top": null,
            "visibility": "hidden",
            "width": null
          }
        },
        "5a93cb4dbe574c21ab64a243e817dc61": {
          "model_module": "@jupyter-widgets/base",
          "model_name": "LayoutModel",
          "model_module_version": "1.2.0",
          "state": {
            "_model_module": "@jupyter-widgets/base",
            "_model_module_version": "1.2.0",
            "_model_name": "LayoutModel",
            "_view_count": null,
            "_view_module": "@jupyter-widgets/base",
            "_view_module_version": "1.2.0",
            "_view_name": "LayoutView",
            "align_content": null,
            "align_items": null,
            "align_self": null,
            "border": null,
            "bottom": null,
            "display": null,
            "flex": null,
            "flex_flow": null,
            "grid_area": null,
            "grid_auto_columns": null,
            "grid_auto_flow": null,
            "grid_auto_rows": null,
            "grid_column": null,
            "grid_gap": null,
            "grid_row": null,
            "grid_template_areas": null,
            "grid_template_columns": null,
            "grid_template_rows": null,
            "height": null,
            "justify_content": null,
            "justify_items": null,
            "left": null,
            "margin": null,
            "max_height": null,
            "max_width": null,
            "min_height": null,
            "min_width": null,
            "object_fit": null,
            "object_position": null,
            "order": null,
            "overflow": null,
            "overflow_x": null,
            "overflow_y": null,
            "padding": null,
            "right": null,
            "top": null,
            "visibility": null,
            "width": null
          }
        },
        "f192529149624e03bff6dc725f594776": {
          "model_module": "@jupyter-widgets/controls",
          "model_name": "DescriptionStyleModel",
          "model_module_version": "1.5.0",
          "state": {
            "_model_module": "@jupyter-widgets/controls",
            "_model_module_version": "1.5.0",
            "_model_name": "DescriptionStyleModel",
            "_view_count": null,
            "_view_module": "@jupyter-widgets/base",
            "_view_module_version": "1.2.0",
            "_view_name": "StyleView",
            "description_width": ""
          }
        },
        "7e544103db4b4e738a5bcf94bc065f00": {
          "model_module": "@jupyter-widgets/base",
          "model_name": "LayoutModel",
          "model_module_version": "1.2.0",
          "state": {
            "_model_module": "@jupyter-widgets/base",
            "_model_module_version": "1.2.0",
            "_model_name": "LayoutModel",
            "_view_count": null,
            "_view_module": "@jupyter-widgets/base",
            "_view_module_version": "1.2.0",
            "_view_name": "LayoutView",
            "align_content": null,
            "align_items": null,
            "align_self": null,
            "border": null,
            "bottom": null,
            "display": null,
            "flex": null,
            "flex_flow": null,
            "grid_area": null,
            "grid_auto_columns": null,
            "grid_auto_flow": null,
            "grid_auto_rows": null,
            "grid_column": null,
            "grid_gap": null,
            "grid_row": null,
            "grid_template_areas": null,
            "grid_template_columns": null,
            "grid_template_rows": null,
            "height": null,
            "justify_content": null,
            "justify_items": null,
            "left": null,
            "margin": null,
            "max_height": null,
            "max_width": null,
            "min_height": null,
            "min_width": null,
            "object_fit": null,
            "object_position": null,
            "order": null,
            "overflow": null,
            "overflow_x": null,
            "overflow_y": null,
            "padding": null,
            "right": null,
            "top": null,
            "visibility": null,
            "width": null
          }
        },
        "54f24788425b486ebd26fc2b2cb6c5d7": {
          "model_module": "@jupyter-widgets/controls",
          "model_name": "ProgressStyleModel",
          "model_module_version": "1.5.0",
          "state": {
            "_model_module": "@jupyter-widgets/controls",
            "_model_module_version": "1.5.0",
            "_model_name": "ProgressStyleModel",
            "_view_count": null,
            "_view_module": "@jupyter-widgets/base",
            "_view_module_version": "1.2.0",
            "_view_name": "StyleView",
            "bar_color": null,
            "description_width": ""
          }
        },
        "0564dfbf9336495b9912ec340050fcea": {
          "model_module": "@jupyter-widgets/base",
          "model_name": "LayoutModel",
          "model_module_version": "1.2.0",
          "state": {
            "_model_module": "@jupyter-widgets/base",
            "_model_module_version": "1.2.0",
            "_model_name": "LayoutModel",
            "_view_count": null,
            "_view_module": "@jupyter-widgets/base",
            "_view_module_version": "1.2.0",
            "_view_name": "LayoutView",
            "align_content": null,
            "align_items": null,
            "align_self": null,
            "border": null,
            "bottom": null,
            "display": null,
            "flex": null,
            "flex_flow": null,
            "grid_area": null,
            "grid_auto_columns": null,
            "grid_auto_flow": null,
            "grid_auto_rows": null,
            "grid_column": null,
            "grid_gap": null,
            "grid_row": null,
            "grid_template_areas": null,
            "grid_template_columns": null,
            "grid_template_rows": null,
            "height": null,
            "justify_content": null,
            "justify_items": null,
            "left": null,
            "margin": null,
            "max_height": null,
            "max_width": null,
            "min_height": null,
            "min_width": null,
            "object_fit": null,
            "object_position": null,
            "order": null,
            "overflow": null,
            "overflow_x": null,
            "overflow_y": null,
            "padding": null,
            "right": null,
            "top": null,
            "visibility": null,
            "width": null
          }
        },
        "23ce222c39e94c229010c39dbecce13e": {
          "model_module": "@jupyter-widgets/controls",
          "model_name": "DescriptionStyleModel",
          "model_module_version": "1.5.0",
          "state": {
            "_model_module": "@jupyter-widgets/controls",
            "_model_module_version": "1.5.0",
            "_model_name": "DescriptionStyleModel",
            "_view_count": null,
            "_view_module": "@jupyter-widgets/base",
            "_view_module_version": "1.2.0",
            "_view_name": "StyleView",
            "description_width": ""
          }
        },
        "a06518b117654581b3356353fc696786": {
          "model_module": "@jupyter-widgets/controls",
          "model_name": "HBoxModel",
          "model_module_version": "1.5.0",
          "state": {
            "_dom_classes": [],
            "_model_module": "@jupyter-widgets/controls",
            "_model_module_version": "1.5.0",
            "_model_name": "HBoxModel",
            "_view_count": null,
            "_view_module": "@jupyter-widgets/controls",
            "_view_module_version": "1.5.0",
            "_view_name": "HBoxView",
            "box_style": "",
            "children": [
              "IPY_MODEL_786491206cfd45debbb34e2effe57a86",
              "IPY_MODEL_9f60fcfbb03141be9952cd8e497782be",
              "IPY_MODEL_c46a684a42224d4a988d0da31bbf1195"
            ],
            "layout": "IPY_MODEL_21c2eff8a2c14184a647564728928d15"
          }
        },
        "786491206cfd45debbb34e2effe57a86": {
          "model_module": "@jupyter-widgets/controls",
          "model_name": "HTMLModel",
          "model_module_version": "1.5.0",
          "state": {
            "_dom_classes": [],
            "_model_module": "@jupyter-widgets/controls",
            "_model_module_version": "1.5.0",
            "_model_name": "HTMLModel",
            "_view_count": null,
            "_view_module": "@jupyter-widgets/controls",
            "_view_module_version": "1.5.0",
            "_view_name": "HTMLView",
            "description": "",
            "description_tooltip": null,
            "layout": "IPY_MODEL_0503da5c57624075bdf32cc74fb819e0",
            "placeholder": "​",
            "style": "IPY_MODEL_9cd4be612935478b8714b07f65c56836",
            "value": "Generating unsupervised examples...:  95%"
          }
        },
        "9f60fcfbb03141be9952cd8e497782be": {
          "model_module": "@jupyter-widgets/controls",
          "model_name": "FloatProgressModel",
          "model_module_version": "1.5.0",
          "state": {
            "_dom_classes": [],
            "_model_module": "@jupyter-widgets/controls",
            "_model_module_version": "1.5.0",
            "_model_name": "FloatProgressModel",
            "_view_count": null,
            "_view_module": "@jupyter-widgets/controls",
            "_view_module_version": "1.5.0",
            "_view_name": "ProgressView",
            "bar_style": "",
            "description": "",
            "description_tooltip": null,
            "layout": "IPY_MODEL_b2866c8220454d8a9c2b92c6992e4949",
            "max": 50000,
            "min": 0,
            "orientation": "horizontal",
            "style": "IPY_MODEL_3892cf95a93e49b098446fe48ce32257",
            "value": 50000
          }
        },
        "c46a684a42224d4a988d0da31bbf1195": {
          "model_module": "@jupyter-widgets/controls",
          "model_name": "HTMLModel",
          "model_module_version": "1.5.0",
          "state": {
            "_dom_classes": [],
            "_model_module": "@jupyter-widgets/controls",
            "_model_module_version": "1.5.0",
            "_model_name": "HTMLModel",
            "_view_count": null,
            "_view_module": "@jupyter-widgets/controls",
            "_view_module_version": "1.5.0",
            "_view_name": "HTMLView",
            "description": "",
            "description_tooltip": null,
            "layout": "IPY_MODEL_d75b98e7f6af492eb1489aaa77fed83d",
            "placeholder": "​",
            "style": "IPY_MODEL_3cd923ee3e1047a6a5adbc82a0e06506",
            "value": " 47679/50000 [00:14&lt;00:00, 4189.59 examples/s]"
          }
        },
        "21c2eff8a2c14184a647564728928d15": {
          "model_module": "@jupyter-widgets/base",
          "model_name": "LayoutModel",
          "model_module_version": "1.2.0",
          "state": {
            "_model_module": "@jupyter-widgets/base",
            "_model_module_version": "1.2.0",
            "_model_name": "LayoutModel",
            "_view_count": null,
            "_view_module": "@jupyter-widgets/base",
            "_view_module_version": "1.2.0",
            "_view_name": "LayoutView",
            "align_content": null,
            "align_items": null,
            "align_self": null,
            "border": null,
            "bottom": null,
            "display": null,
            "flex": null,
            "flex_flow": null,
            "grid_area": null,
            "grid_auto_columns": null,
            "grid_auto_flow": null,
            "grid_auto_rows": null,
            "grid_column": null,
            "grid_gap": null,
            "grid_row": null,
            "grid_template_areas": null,
            "grid_template_columns": null,
            "grid_template_rows": null,
            "height": null,
            "justify_content": null,
            "justify_items": null,
            "left": null,
            "margin": null,
            "max_height": null,
            "max_width": null,
            "min_height": null,
            "min_width": null,
            "object_fit": null,
            "object_position": null,
            "order": null,
            "overflow": null,
            "overflow_x": null,
            "overflow_y": null,
            "padding": null,
            "right": null,
            "top": null,
            "visibility": "hidden",
            "width": null
          }
        },
        "0503da5c57624075bdf32cc74fb819e0": {
          "model_module": "@jupyter-widgets/base",
          "model_name": "LayoutModel",
          "model_module_version": "1.2.0",
          "state": {
            "_model_module": "@jupyter-widgets/base",
            "_model_module_version": "1.2.0",
            "_model_name": "LayoutModel",
            "_view_count": null,
            "_view_module": "@jupyter-widgets/base",
            "_view_module_version": "1.2.0",
            "_view_name": "LayoutView",
            "align_content": null,
            "align_items": null,
            "align_self": null,
            "border": null,
            "bottom": null,
            "display": null,
            "flex": null,
            "flex_flow": null,
            "grid_area": null,
            "grid_auto_columns": null,
            "grid_auto_flow": null,
            "grid_auto_rows": null,
            "grid_column": null,
            "grid_gap": null,
            "grid_row": null,
            "grid_template_areas": null,
            "grid_template_columns": null,
            "grid_template_rows": null,
            "height": null,
            "justify_content": null,
            "justify_items": null,
            "left": null,
            "margin": null,
            "max_height": null,
            "max_width": null,
            "min_height": null,
            "min_width": null,
            "object_fit": null,
            "object_position": null,
            "order": null,
            "overflow": null,
            "overflow_x": null,
            "overflow_y": null,
            "padding": null,
            "right": null,
            "top": null,
            "visibility": null,
            "width": null
          }
        },
        "9cd4be612935478b8714b07f65c56836": {
          "model_module": "@jupyter-widgets/controls",
          "model_name": "DescriptionStyleModel",
          "model_module_version": "1.5.0",
          "state": {
            "_model_module": "@jupyter-widgets/controls",
            "_model_module_version": "1.5.0",
            "_model_name": "DescriptionStyleModel",
            "_view_count": null,
            "_view_module": "@jupyter-widgets/base",
            "_view_module_version": "1.2.0",
            "_view_name": "StyleView",
            "description_width": ""
          }
        },
        "b2866c8220454d8a9c2b92c6992e4949": {
          "model_module": "@jupyter-widgets/base",
          "model_name": "LayoutModel",
          "model_module_version": "1.2.0",
          "state": {
            "_model_module": "@jupyter-widgets/base",
            "_model_module_version": "1.2.0",
            "_model_name": "LayoutModel",
            "_view_count": null,
            "_view_module": "@jupyter-widgets/base",
            "_view_module_version": "1.2.0",
            "_view_name": "LayoutView",
            "align_content": null,
            "align_items": null,
            "align_self": null,
            "border": null,
            "bottom": null,
            "display": null,
            "flex": null,
            "flex_flow": null,
            "grid_area": null,
            "grid_auto_columns": null,
            "grid_auto_flow": null,
            "grid_auto_rows": null,
            "grid_column": null,
            "grid_gap": null,
            "grid_row": null,
            "grid_template_areas": null,
            "grid_template_columns": null,
            "grid_template_rows": null,
            "height": null,
            "justify_content": null,
            "justify_items": null,
            "left": null,
            "margin": null,
            "max_height": null,
            "max_width": null,
            "min_height": null,
            "min_width": null,
            "object_fit": null,
            "object_position": null,
            "order": null,
            "overflow": null,
            "overflow_x": null,
            "overflow_y": null,
            "padding": null,
            "right": null,
            "top": null,
            "visibility": null,
            "width": null
          }
        },
        "3892cf95a93e49b098446fe48ce32257": {
          "model_module": "@jupyter-widgets/controls",
          "model_name": "ProgressStyleModel",
          "model_module_version": "1.5.0",
          "state": {
            "_model_module": "@jupyter-widgets/controls",
            "_model_module_version": "1.5.0",
            "_model_name": "ProgressStyleModel",
            "_view_count": null,
            "_view_module": "@jupyter-widgets/base",
            "_view_module_version": "1.2.0",
            "_view_name": "StyleView",
            "bar_color": null,
            "description_width": ""
          }
        },
        "d75b98e7f6af492eb1489aaa77fed83d": {
          "model_module": "@jupyter-widgets/base",
          "model_name": "LayoutModel",
          "model_module_version": "1.2.0",
          "state": {
            "_model_module": "@jupyter-widgets/base",
            "_model_module_version": "1.2.0",
            "_model_name": "LayoutModel",
            "_view_count": null,
            "_view_module": "@jupyter-widgets/base",
            "_view_module_version": "1.2.0",
            "_view_name": "LayoutView",
            "align_content": null,
            "align_items": null,
            "align_self": null,
            "border": null,
            "bottom": null,
            "display": null,
            "flex": null,
            "flex_flow": null,
            "grid_area": null,
            "grid_auto_columns": null,
            "grid_auto_flow": null,
            "grid_auto_rows": null,
            "grid_column": null,
            "grid_gap": null,
            "grid_row": null,
            "grid_template_areas": null,
            "grid_template_columns": null,
            "grid_template_rows": null,
            "height": null,
            "justify_content": null,
            "justify_items": null,
            "left": null,
            "margin": null,
            "max_height": null,
            "max_width": null,
            "min_height": null,
            "min_width": null,
            "object_fit": null,
            "object_position": null,
            "order": null,
            "overflow": null,
            "overflow_x": null,
            "overflow_y": null,
            "padding": null,
            "right": null,
            "top": null,
            "visibility": null,
            "width": null
          }
        },
        "3cd923ee3e1047a6a5adbc82a0e06506": {
          "model_module": "@jupyter-widgets/controls",
          "model_name": "DescriptionStyleModel",
          "model_module_version": "1.5.0",
          "state": {
            "_model_module": "@jupyter-widgets/controls",
            "_model_module_version": "1.5.0",
            "_model_name": "DescriptionStyleModel",
            "_view_count": null,
            "_view_module": "@jupyter-widgets/base",
            "_view_module_version": "1.2.0",
            "_view_name": "StyleView",
            "description_width": ""
          }
        },
        "6c2e4e141da54b0ca2b991916ac210ce": {
          "model_module": "@jupyter-widgets/controls",
          "model_name": "HBoxModel",
          "model_module_version": "1.5.0",
          "state": {
            "_dom_classes": [],
            "_model_module": "@jupyter-widgets/controls",
            "_model_module_version": "1.5.0",
            "_model_name": "HBoxModel",
            "_view_count": null,
            "_view_module": "@jupyter-widgets/controls",
            "_view_module_version": "1.5.0",
            "_view_name": "HBoxView",
            "box_style": "",
            "children": [
              "IPY_MODEL_77fb5f0c15d2498a8733967b4622464c",
              "IPY_MODEL_75afd6dddce74b5eb9273e9bd601f11d",
              "IPY_MODEL_a6a01028d01646ea9fc8b59c0e320403"
            ],
            "layout": "IPY_MODEL_96b4cac7afac4e39b78e8ddbd66ee14a"
          }
        },
        "77fb5f0c15d2498a8733967b4622464c": {
          "model_module": "@jupyter-widgets/controls",
          "model_name": "HTMLModel",
          "model_module_version": "1.5.0",
          "state": {
            "_dom_classes": [],
            "_model_module": "@jupyter-widgets/controls",
            "_model_module_version": "1.5.0",
            "_model_name": "HTMLModel",
            "_view_count": null,
            "_view_module": "@jupyter-widgets/controls",
            "_view_module_version": "1.5.0",
            "_view_name": "HTMLView",
            "description": "",
            "description_tooltip": null,
            "layout": "IPY_MODEL_542bd7f1385a452d910dba4b7c585fd7",
            "placeholder": "​",
            "style": "IPY_MODEL_6e913fd4e3d04e7bba450c080d94f69a",
            "value": "Shuffling /root/tensorflow_datasets/imdb_reviews/plain_text/1.0.0.incomplete7RT7UA/imdb_reviews-unsupervised.tfrecord*...:  87%"
          }
        },
        "75afd6dddce74b5eb9273e9bd601f11d": {
          "model_module": "@jupyter-widgets/controls",
          "model_name": "FloatProgressModel",
          "model_module_version": "1.5.0",
          "state": {
            "_dom_classes": [],
            "_model_module": "@jupyter-widgets/controls",
            "_model_module_version": "1.5.0",
            "_model_name": "FloatProgressModel",
            "_view_count": null,
            "_view_module": "@jupyter-widgets/controls",
            "_view_module_version": "1.5.0",
            "_view_name": "ProgressView",
            "bar_style": "",
            "description": "",
            "description_tooltip": null,
            "layout": "IPY_MODEL_cdb22dc19de24ef0a35a526f90f2987e",
            "max": 50000,
            "min": 0,
            "orientation": "horizontal",
            "style": "IPY_MODEL_a03507a6063d4a66a72c993b85680dee",
            "value": 50000
          }
        },
        "a6a01028d01646ea9fc8b59c0e320403": {
          "model_module": "@jupyter-widgets/controls",
          "model_name": "HTMLModel",
          "model_module_version": "1.5.0",
          "state": {
            "_dom_classes": [],
            "_model_module": "@jupyter-widgets/controls",
            "_model_module_version": "1.5.0",
            "_model_name": "HTMLModel",
            "_view_count": null,
            "_view_module": "@jupyter-widgets/controls",
            "_view_module_version": "1.5.0",
            "_view_name": "HTMLView",
            "description": "",
            "description_tooltip": null,
            "layout": "IPY_MODEL_96cff663de1944f48029353afc471032",
            "placeholder": "​",
            "style": "IPY_MODEL_d7aadba3196b43308e16b1b3528d304c",
            "value": " 43512/50000 [00:00&lt;00:00, 120635.10 examples/s]"
          }
        },
        "96b4cac7afac4e39b78e8ddbd66ee14a": {
          "model_module": "@jupyter-widgets/base",
          "model_name": "LayoutModel",
          "model_module_version": "1.2.0",
          "state": {
            "_model_module": "@jupyter-widgets/base",
            "_model_module_version": "1.2.0",
            "_model_name": "LayoutModel",
            "_view_count": null,
            "_view_module": "@jupyter-widgets/base",
            "_view_module_version": "1.2.0",
            "_view_name": "LayoutView",
            "align_content": null,
            "align_items": null,
            "align_self": null,
            "border": null,
            "bottom": null,
            "display": null,
            "flex": null,
            "flex_flow": null,
            "grid_area": null,
            "grid_auto_columns": null,
            "grid_auto_flow": null,
            "grid_auto_rows": null,
            "grid_column": null,
            "grid_gap": null,
            "grid_row": null,
            "grid_template_areas": null,
            "grid_template_columns": null,
            "grid_template_rows": null,
            "height": null,
            "justify_content": null,
            "justify_items": null,
            "left": null,
            "margin": null,
            "max_height": null,
            "max_width": null,
            "min_height": null,
            "min_width": null,
            "object_fit": null,
            "object_position": null,
            "order": null,
            "overflow": null,
            "overflow_x": null,
            "overflow_y": null,
            "padding": null,
            "right": null,
            "top": null,
            "visibility": "hidden",
            "width": null
          }
        },
        "542bd7f1385a452d910dba4b7c585fd7": {
          "model_module": "@jupyter-widgets/base",
          "model_name": "LayoutModel",
          "model_module_version": "1.2.0",
          "state": {
            "_model_module": "@jupyter-widgets/base",
            "_model_module_version": "1.2.0",
            "_model_name": "LayoutModel",
            "_view_count": null,
            "_view_module": "@jupyter-widgets/base",
            "_view_module_version": "1.2.0",
            "_view_name": "LayoutView",
            "align_content": null,
            "align_items": null,
            "align_self": null,
            "border": null,
            "bottom": null,
            "display": null,
            "flex": null,
            "flex_flow": null,
            "grid_area": null,
            "grid_auto_columns": null,
            "grid_auto_flow": null,
            "grid_auto_rows": null,
            "grid_column": null,
            "grid_gap": null,
            "grid_row": null,
            "grid_template_areas": null,
            "grid_template_columns": null,
            "grid_template_rows": null,
            "height": null,
            "justify_content": null,
            "justify_items": null,
            "left": null,
            "margin": null,
            "max_height": null,
            "max_width": null,
            "min_height": null,
            "min_width": null,
            "object_fit": null,
            "object_position": null,
            "order": null,
            "overflow": null,
            "overflow_x": null,
            "overflow_y": null,
            "padding": null,
            "right": null,
            "top": null,
            "visibility": null,
            "width": null
          }
        },
        "6e913fd4e3d04e7bba450c080d94f69a": {
          "model_module": "@jupyter-widgets/controls",
          "model_name": "DescriptionStyleModel",
          "model_module_version": "1.5.0",
          "state": {
            "_model_module": "@jupyter-widgets/controls",
            "_model_module_version": "1.5.0",
            "_model_name": "DescriptionStyleModel",
            "_view_count": null,
            "_view_module": "@jupyter-widgets/base",
            "_view_module_version": "1.2.0",
            "_view_name": "StyleView",
            "description_width": ""
          }
        },
        "cdb22dc19de24ef0a35a526f90f2987e": {
          "model_module": "@jupyter-widgets/base",
          "model_name": "LayoutModel",
          "model_module_version": "1.2.0",
          "state": {
            "_model_module": "@jupyter-widgets/base",
            "_model_module_version": "1.2.0",
            "_model_name": "LayoutModel",
            "_view_count": null,
            "_view_module": "@jupyter-widgets/base",
            "_view_module_version": "1.2.0",
            "_view_name": "LayoutView",
            "align_content": null,
            "align_items": null,
            "align_self": null,
            "border": null,
            "bottom": null,
            "display": null,
            "flex": null,
            "flex_flow": null,
            "grid_area": null,
            "grid_auto_columns": null,
            "grid_auto_flow": null,
            "grid_auto_rows": null,
            "grid_column": null,
            "grid_gap": null,
            "grid_row": null,
            "grid_template_areas": null,
            "grid_template_columns": null,
            "grid_template_rows": null,
            "height": null,
            "justify_content": null,
            "justify_items": null,
            "left": null,
            "margin": null,
            "max_height": null,
            "max_width": null,
            "min_height": null,
            "min_width": null,
            "object_fit": null,
            "object_position": null,
            "order": null,
            "overflow": null,
            "overflow_x": null,
            "overflow_y": null,
            "padding": null,
            "right": null,
            "top": null,
            "visibility": null,
            "width": null
          }
        },
        "a03507a6063d4a66a72c993b85680dee": {
          "model_module": "@jupyter-widgets/controls",
          "model_name": "ProgressStyleModel",
          "model_module_version": "1.5.0",
          "state": {
            "_model_module": "@jupyter-widgets/controls",
            "_model_module_version": "1.5.0",
            "_model_name": "ProgressStyleModel",
            "_view_count": null,
            "_view_module": "@jupyter-widgets/base",
            "_view_module_version": "1.2.0",
            "_view_name": "StyleView",
            "bar_color": null,
            "description_width": ""
          }
        },
        "96cff663de1944f48029353afc471032": {
          "model_module": "@jupyter-widgets/base",
          "model_name": "LayoutModel",
          "model_module_version": "1.2.0",
          "state": {
            "_model_module": "@jupyter-widgets/base",
            "_model_module_version": "1.2.0",
            "_model_name": "LayoutModel",
            "_view_count": null,
            "_view_module": "@jupyter-widgets/base",
            "_view_module_version": "1.2.0",
            "_view_name": "LayoutView",
            "align_content": null,
            "align_items": null,
            "align_self": null,
            "border": null,
            "bottom": null,
            "display": null,
            "flex": null,
            "flex_flow": null,
            "grid_area": null,
            "grid_auto_columns": null,
            "grid_auto_flow": null,
            "grid_auto_rows": null,
            "grid_column": null,
            "grid_gap": null,
            "grid_row": null,
            "grid_template_areas": null,
            "grid_template_columns": null,
            "grid_template_rows": null,
            "height": null,
            "justify_content": null,
            "justify_items": null,
            "left": null,
            "margin": null,
            "max_height": null,
            "max_width": null,
            "min_height": null,
            "min_width": null,
            "object_fit": null,
            "object_position": null,
            "order": null,
            "overflow": null,
            "overflow_x": null,
            "overflow_y": null,
            "padding": null,
            "right": null,
            "top": null,
            "visibility": null,
            "width": null
          }
        },
        "d7aadba3196b43308e16b1b3528d304c": {
          "model_module": "@jupyter-widgets/controls",
          "model_name": "DescriptionStyleModel",
          "model_module_version": "1.5.0",
          "state": {
            "_model_module": "@jupyter-widgets/controls",
            "_model_module_version": "1.5.0",
            "_model_name": "DescriptionStyleModel",
            "_view_count": null,
            "_view_module": "@jupyter-widgets/base",
            "_view_module_version": "1.2.0",
            "_view_name": "StyleView",
            "description_width": ""
          }
        }
      }
    }
  },
  "nbformat": 4,
  "nbformat_minor": 0
}