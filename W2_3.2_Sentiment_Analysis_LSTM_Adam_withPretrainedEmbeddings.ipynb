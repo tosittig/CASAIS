{
 "cells": [
  {
   "cell_type": "markdown",
   "metadata": {
    "id": "3qLvl1v98A4_"
   },
   "source": [
    "# Simple Sentiment Classification: LSTM\n",
    "\n",
    "We continue the sentiment analysis on the IMDb dataset, and extent the bag-of-word approach of the previous notebook with the following components:\n",
    "* we use an encoding that takes the order of the words into account\n",
    "* we use pre-trained word embeddings\n",
    "* we use LSTM layers to take into account the neightborhood of the words."
   ]
  },
  {
   "cell_type": "markdown",
   "metadata": {
    "id": "X8DKB6tD88y-"
   },
   "source": [
    "## Set-up\n",
    "First of all, we need to load the libraries that we will need for this task. We will use keras and tensorflow for this code example, so we load the relevant parts of this framework:"
   ]
  },
  {
   "cell_type": "code",
   "execution_count": null,
   "metadata": {
    "executionInfo": {
     "elapsed": 7,
     "status": "aborted",
     "timestamp": 1707725669590,
     "user": {
      "displayName": "Andreas Streich",
      "userId": "10357269094555195421"
     },
     "user_tz": -60
    },
    "id": "r2mlKlDL9Sqx"
   },
   "outputs": [],
   "source": [
    "import numpy as np\n",
    "import tensorflow as tf\n",
    "import tensorflow_datasets as tfds"
   ]
  },
  {
   "cell_type": "code",
   "execution_count": null,
   "metadata": {
    "executionInfo": {
     "elapsed": 480,
     "status": "ok",
     "timestamp": 1707725155762,
     "user": {
      "displayName": "Andreas Streich",
      "userId": "10357269094555195421"
     },
     "user_tz": -60
    },
    "id": "Lmpc4ffC9tuz"
   },
   "outputs": [],
   "source": [
    "from tensorflow.keras.models import Sequential\n",
    "from tensorflow.keras.layers import Dense, Activation, Dropout\n",
    "from tensorflow.keras.layers import Input, TextVectorization, Embedding, Flatten, LSTM, Bidirectional\n",
    "from tensorflow.keras.losses import BinaryCrossentropy\n",
    "from tensorflow.keras.callbacks import EarlyStopping\n",
    "from tensorflow.keras.initializers import Constant\n",
    "from tensorflow.keras.optimizers import Adam\n",
    "from tensorflow.keras.utils import to_categorical"
   ]
  },
  {
   "cell_type": "code",
   "execution_count": null,
   "metadata": {
    "executionInfo": {
     "elapsed": 2,
     "status": "ok",
     "timestamp": 1707725155762,
     "user": {
      "displayName": "Andreas Streich",
      "userId": "10357269094555195421"
     },
     "user_tz": -60
    },
    "id": "k9CKWApuMOFW"
   },
   "outputs": [],
   "source": [
    "# some more general libraries for evaluation purposes:\n",
    "import matplotlib.pyplot as plt\n",
    "import datetime\n",
    "import pickle"
   ]
  },
  {
   "cell_type": "code",
   "execution_count": null,
   "metadata": {
    "executionInfo": {
     "elapsed": 1,
     "status": "ok",
     "timestamp": 1707725155762,
     "user": {
      "displayName": "Andreas Streich",
      "userId": "10357269094555195421"
     },
     "user_tz": -60
    },
    "id": "yjdwz9uU9vZM"
   },
   "outputs": [],
   "source": [
    "# initialize random number generators to ensure reproducibility:\n",
    "tf.random.set_seed(123)\n",
    "np.random.seed(123)"
   ]
  },
  {
   "cell_type": "code",
   "execution_count": null,
   "metadata": {
    "executionInfo": {
     "elapsed": 1,
     "status": "ok",
     "timestamp": 1707725155762,
     "user": {
      "displayName": "Andreas Streich",
      "userId": "10357269094555195421"
     },
     "user_tz": -60
    },
    "id": "6llEwYFAnqiU"
   },
   "outputs": [],
   "source": [
    "# set some model parameters\n",
    "VOCAB_SIZE = 5000\n",
    "NUM_EPOCHS = 50 # set lower for fast results - set higher for good results\n",
    "BUFFER_SIZE = 10000\n",
    "BATCH_SIZE = 512\n",
    "EMBED_DIM = 100"
   ]
  },
  {
   "cell_type": "markdown",
   "metadata": {
    "id": "mWsA2sb4Y-ZB"
   },
   "source": [
    "Optional: Set up Google Drive"
   ]
  },
  {
   "cell_type": "code",
   "execution_count": null,
   "metadata": {
    "executionInfo": {
     "elapsed": 2,
     "status": "ok",
     "timestamp": 1707725870304,
     "user": {
      "displayName": "Andreas Streich",
      "userId": "10357269094555195421"
     },
     "user_tz": -60
    },
    "id": "dmD3TT_IY70j"
   },
   "outputs": [],
   "source": [
    "use_gdrive = False\n",
    "if use_gdrive:\n",
    "    from google.colab import drive\n",
    "    drive.mount('/content/gdrive', force_remount = True)\n",
    "\n",
    "    # define target directories\n",
    "    targetDir_root = 'gdrive/MyDrive/CAS_AIS_2024_FS/Results/'\n",
    "    targetDir_models = targetDir_root + 'trainedWeights/'\n",
    "    targetDir_results = targetDir_root + 'PerformanceMeasures/'"
   ]
  },
  {
   "cell_type": "markdown",
   "metadata": {
    "id": "zkIem1L292T5"
   },
   "source": [
    "## Loading the Data\n",
    "Also, the data loading as before:"
   ]
  },
  {
   "cell_type": "code",
   "execution_count": null,
   "metadata": {
    "colab": {
     "base_uri": "https://localhost:8080/",
     "height": 117,
     "referenced_widgets": [
      "417764d6789645adbb053f0dbfd79783",
      "176e0e8c78b446fe8c52983152bf720f",
      "edc9fd13b76d49febbcd889458bb0592",
      "742549c37dd140c3a5767aa8c16cdc9d",
      "46a1c15ab38b4edba20476fb07dd11cc",
      "1608b7220b294b8d8c4630d5efb06422",
      "305c8703a09d4cb7870279649b6fc733",
      "fb554cae074e4039a8de977ca0a9fc15",
      "661eadb021594b548aaf290db49755a7",
      "e86b06f021ee41a1936155b0d67e6900",
      "c81a14e5313e44b1b7af34ac2ff19645",
      "c039053c23774f96b0155a244bb0ef9a",
      "67b2f079a9ce4be888e8a8e8d7083054",
      "8b6db1b17e514f408b67c4652078e60c",
      "bb12691dc89f4bfc805f92a9740f8f24",
      "0e80f77fb03c43ff9ed5f79c7d2ce4ef",
      "3d0ab7405a74473da2e7972989c314c5",
      "ee4a3997a16e4de0b76436b82ff4ba4f",
      "09ea431baa4447738317ee936c8b4f9c",
      "e9630727cee743e18b9881a3d07371d4",
      "a3f2e0d211b64b418dfe068fa16bd472",
      "dbb4e89fdf064af58a7bc0a210f3bf3d",
      "69f1aaea956b4b30922b3780f2ba41d1",
      "177f5325a59542069bc7ac8c71c03126",
      "7df733d2360546b29e01e80fd89a9c2c",
      "14b930aae38140b6958595fa27af03e2",
      "64f742ec12464bf2b81822cf930e3963",
      "0df057cff45648d09af733f1114c7bff",
      "8a555707227e426eb06640390f87fd48",
      "d44a01ab2e6d4f5f8c49493350ea8ce9",
      "5f70d5c58420469e98adeb8ff1d52697",
      "a31437e8405541e6b340981974cbfc32",
      "b62187ea4d3e42fe93e6c68aee28adc8",
      "533ceba65aba43a983098cf3cafb4192",
      "395446669fd8470f86e1d9e00f0073dd",
      "8a1032e9f34d4a82ac31c019a0abdfa6",
      "a6fce7c64cb24ca4b95b3d50b351ae2a",
      "2a781a56df0a48aea79fd1bca8a7d130",
      "fa7ecab6cbed460fbac30d5738d682a5",
      "323f456a592549fc93fc163a48512f75",
      "1ba65e39eb1942deafbf02a7c41fd32f",
      "1abdf898b41b4abdbfc918085d891f2e",
      "6fa4bc9f5aff486d8d7c128f7ff95658",
      "6ad2bcff415644fbab70b4c13ac25468",
      "66499ee932be4ef38466741e5b971a5e",
      "adcb6f80cb3b49c6959051f602f27bd6",
      "c90571259f63454596bfdb23f315a84c",
      "aeb96164ccf64192bd6490c65fe59558",
      "9f8633f7e72742da8a65a52582d58d7e",
      "e8a4dc660c174f46ae0f1691c0514228",
      "db8c615b989f4d8cbeefda263b462aff",
      "bbb33a4b21a74b9a86c1aaab1d249160",
      "8c06db427ca1484cbcb5b8b35dc98025",
      "ee85c84b85174c82aae448e02acaec03",
      "4bb4361891d0486090e50fe63b8ac43e",
      "cfb50bd564de4f369db94ec4d548b6f8",
      "5b1c2fba0f6e41aca6cd9bd4aa34c697",
      "afda596903fd4817ac516e64e9b41ae0",
      "ac9e8aaba2294d09bbf903ea121d5d52",
      "55444a0fa238499588dd4859696179b1",
      "1165d3db32fe4bddb2c38e91cbfff2dd",
      "98541caefa1043618c6ace3d36f891d1",
      "5096c1e8063e4a9b8122941a2af53cf6",
      "d686b567f98b463db6b0ce82d5cd52db",
      "3f9a0b486a2b48428c17a161556cf7fd",
      "39c59c8852f04ff7aefd2e052d0fd6a2",
      "fba4045cf5684122a80f982efce02645",
      "a1e8c2ab03364101b0c793e9eaf4bcee",
      "f63da8f2c0bf413fa3bd7a87f7884141",
      "bb34ff08bcfc4e5987155adb1126d45f",
      "10522b3b500f468bbae07e689527db94",
      "f1767f480f0042d8bd6bd116c818878f",
      "6dae39afdea34466ab35476ef88f53d9",
      "4473cf451dbc4f889f610c178bdd5af5",
      "c891a104f51b45dbbbdbca21094e5220",
      "0daf346ae5014f2b971a6fc0ad94d51e",
      "1fb391c7b90b49b5ae99b4bb06efd019",
      "b6e5eebc5fcc438d9fb5bec250289d39",
      "ff48dd025cfd4a2eac2c1057a38bc2ca",
      "b73b5ad6c0314e679a520319eb12d1ad",
      "3cf474a4ef494989a5472423a16e4cb1",
      "b91fc94838814320bbf49cef7464ba56",
      "5aec027b04f04dcb8b87829a2a0c46d4",
      "4c1fa9c4c8e04e1589c1145319d5d5cb",
      "1f9a0f99538d4e4e9134979ea4701cce",
      "89700afb3e5b480e9e3929cb506994f8",
      "dc0065dbe64b497aa868168eca0c6295",
      "38bc399e9c74473ba1d5429b5610a80f",
      "698855c84d294be68ec1914de0827e1d",
      "e858a0bd4d3c40f1b7d23446eaaa5fe5",
      "5b36b7ba5d094eb0b92e3a83252bef24",
      "7637591caa7f4832a939378b9a78b129",
      "7336e887c6be4d0ba8d517cfe27c06b0",
      "05a1aac4aea94b2d8fb4cc402642457d",
      "4067f8c5fc7b43ba90b124f2a18a77b8",
      "f58963948a91431489ea8c27ad55b299",
      "85daeae2fb31464fb71854f853a6cece",
      "5b3c7d39b0d84759a3f636c218062fe4",
      "9cace6d4593f42d8ad86ccb221d117ee"
     ]
    },
    "executionInfo": {
     "elapsed": 52521,
     "status": "ok",
     "timestamp": 1707725208282,
     "user": {
      "displayName": "Andreas Streich",
      "userId": "10357269094555195421"
     },
     "user_tz": -60
    },
    "id": "b2aEUYnT_uTm",
    "outputId": "f39e5ba8-53dd-44c7-c09e-039738c235c5"
   },
   "outputs": [],
   "source": [
    "train_ds, val_ds, test_ds = tfds.load(\n",
    "    name = \"imdb_reviews\",\n",
    "    split = [ 'train[:80%]', 'train[80%:]', 'test' ],\n",
    "    as_supervised = True)"
   ]
  },
  {
   "cell_type": "code",
   "execution_count": null,
   "metadata": {
    "colab": {
     "base_uri": "https://localhost:8080/"
    },
    "executionInfo": {
     "elapsed": 9,
     "status": "ok",
     "timestamp": 1707725208283,
     "user": {
      "displayName": "Andreas Streich",
      "userId": "10357269094555195421"
     },
     "user_tz": -60
    },
    "id": "i3EEJAJZu-pN",
    "outputId": "62c0ab3b-b390-4932-976b-f42c64d7303b"
   },
   "outputs": [],
   "source": [
    "for example, label in train_ds.take(1):\n",
    "  print(\"Input: \", example)\n",
    "  print(10*\".\")\n",
    "  print('Target labels: ', label)\n",
    "  print(50*\"-\")"
   ]
  },
  {
   "cell_type": "markdown",
   "metadata": {
    "id": "vBbodQjwBdLj"
   },
   "source": [
    "## Text Representation:\n",
    "A first change considers the text representation: While we used `output_mode = \"count\"` in the previous notebook, we now drop this additional argument for the `TextVectorization`"
   ]
  },
  {
   "cell_type": "code",
   "execution_count": null,
   "metadata": {
    "executionInfo": {
     "elapsed": 41736,
     "status": "ok",
     "timestamp": 1707725250014,
     "user": {
      "displayName": "Andreas Streich",
      "userId": "10357269094555195421"
     },
     "user_tz": -60
    },
    "id": "gOvI4kvACq6_"
   },
   "outputs": [],
   "source": [
    "encoderSEQ = TextVectorization(max_tokens=VOCAB_SIZE)\n",
    "# previously, we had 'output_mode = \"count\", ' as additional arguments for TextVectorization\n",
    "encoderSEQ.adapt(train_ds.map(lambda text, label: text))"
   ]
  },
  {
   "cell_type": "markdown",
   "metadata": {
    "id": "yIBS_Oh2Cxnm"
   },
   "source": [
    "The vocabulary is still the same as for the `encoderBoW`:"
   ]
  },
  {
   "cell_type": "code",
   "execution_count": null,
   "metadata": {
    "colab": {
     "base_uri": "https://localhost:8080/"
    },
    "executionInfo": {
     "elapsed": 7,
     "status": "ok",
     "timestamp": 1707725250014,
     "user": {
      "displayName": "Andreas Streich",
      "userId": "10357269094555195421"
     },
     "user_tz": -60
    },
    "id": "F4LculaADwBc",
    "outputId": "6211a428-7eea-465e-8732-c0c31efc3958"
   },
   "outputs": [],
   "source": [
    "vocab = np.array(encoderSEQ.get_vocabulary())\n",
    "vocab[:20]"
   ]
  },
  {
   "cell_type": "markdown",
   "metadata": {
    "id": "8LgJ-Jg2Dyl3"
   },
   "source": [
    "The first word in the vocabulary is `[UNK]`, the token for the unknown words. Afterwards, we have a number of token for very common words, the so-called **stop words**. The first one being 'the'. So, in the numerical vector that we get after coding, the first column corresponds to all unknown words (i.e. all words that do not appear in the vocabulary), and the second column corresponds to the word 'the'. Also some *domain-specific* words occur frequenty: `movie` and `film` indicate that the vocabulary was built on movie reviews."
   ]
  },
  {
   "cell_type": "markdown",
   "metadata": {
    "id": "PUyQrMr8El0_"
   },
   "source": [
    "We can now get an example encoding:"
   ]
  },
  {
   "cell_type": "code",
   "execution_count": null,
   "metadata": {
    "colab": {
     "base_uri": "https://localhost:8080/"
    },
    "executionInfo": {
     "elapsed": 1302,
     "status": "ok",
     "timestamp": 1707725251313,
     "user": {
      "displayName": "Andreas Streich",
      "userId": "10357269094555195421"
     },
     "user_tz": -60
    },
    "id": "9Acqpkfrp3NW",
    "outputId": "a453a40c-d117-4a62-b342-9105c3631a45"
   },
   "outputs": [],
   "source": [
    "encoderSEQ(\"the\").numpy()"
   ]
  },
  {
   "cell_type": "code",
   "execution_count": null,
   "metadata": {
    "colab": {
     "base_uri": "https://localhost:8080/"
    },
    "executionInfo": {
     "elapsed": 8,
     "status": "ok",
     "timestamp": 1707725251313,
     "user": {
      "displayName": "Andreas Streich",
      "userId": "10357269094555195421"
     },
     "user_tz": -60
    },
    "id": "woR9ozFtob_P",
    "outputId": "e3b495c6-a252-429b-da6e-014bfd1de505"
   },
   "outputs": [],
   "source": [
    "example"
   ]
  },
  {
   "cell_type": "code",
   "execution_count": null,
   "metadata": {
    "colab": {
     "base_uri": "https://localhost:8080/"
    },
    "executionInfo": {
     "elapsed": 6,
     "status": "ok",
     "timestamp": 1707725251313,
     "user": {
      "displayName": "Andreas Streich",
      "userId": "10357269094555195421"
     },
     "user_tz": -60
    },
    "id": "EqQyaqPaoYRe",
    "outputId": "50b8df06-9ae9-454f-bd0a-78d30253149d"
   },
   "outputs": [],
   "source": [
    "encoderSEQ(example).numpy()"
   ]
  },
  {
   "cell_type": "markdown",
   "metadata": {
    "id": "siiWv1Z7vHvf"
   },
   "source": [
    "Now, the output is a sequence of the word indices. So we can try to reconstruct the input text:"
   ]
  },
  {
   "cell_type": "code",
   "execution_count": null,
   "metadata": {
    "colab": {
     "base_uri": "https://localhost:8080/"
    },
    "executionInfo": {
     "elapsed": 4,
     "status": "ok",
     "timestamp": 1707725251313,
     "user": {
      "displayName": "Andreas Streich",
      "userId": "10357269094555195421"
     },
     "user_tz": -60
    },
    "id": "SAAZjF4nvSoK",
    "outputId": "322846c7-28e0-48dd-ebcc-f1da89c359e2"
   },
   "outputs": [],
   "source": [
    "print(\"Original: \", example.numpy())\n",
    "print(\"Reconstruction: \", \" \".join(vocab[encoderSEQ(example)]))"
   ]
  },
  {
   "cell_type": "markdown",
   "metadata": {
    "id": "lXL5DpoimTDP"
   },
   "source": [
    "## Preparation for Model Comparison\n",
    "We want to move on to more complex models. In order to be prepared, we first define a function that does the training and evaluation for us:"
   ]
  },
  {
   "cell_type": "code",
   "execution_count": null,
   "metadata": {
    "executionInfo": {
     "elapsed": 2,
     "status": "ok",
     "timestamp": 1707725251313,
     "user": {
      "displayName": "Andreas Streich",
      "userId": "10357269094555195421"
     },
     "user_tz": -60
    },
    "id": "vHkaVRHpslwu"
   },
   "outputs": [],
   "source": [
    "def fitAndEval(myModel, from_logits = True, model_name = ''):\n",
    "    # compile\n",
    "    myModel.compile(loss = BinaryCrossentropy(from_logits=from_logits),\n",
    "                    optimizer = 'adam', metrics = ['accuracy'])\n",
    "\n",
    "    # set seeds\n",
    "    tf.random.set_seed(123)\n",
    "\n",
    "    # Train\n",
    "    myHistory = myModel.fit(\n",
    "        train_ds.shuffle(buffer_size=BUFFER_SIZE).batch(BATCH_SIZE),\n",
    "        validation_data = val_ds.batch(BATCH_SIZE),\n",
    "        epochs = NUM_EPOCHS, verbose = 1,\n",
    "        callbacks = [ EarlyStopping(monitor='val_accuracy', patience=5,\n",
    "                                    verbose=False, restore_best_weights=True)])\n",
    "\n",
    "    # Evaluate Training Progress\n",
    "    myHistory_dict = myHistory.history\n",
    "    myHistory_dict.keys()\n",
    "\n",
    "    resDict = {}\n",
    "    resDict['train_loss'] = myHistory_dict['loss']\n",
    "    resDict['val_loss'] = myHistory_dict['val_loss']\n",
    "    resDict['train_accuracy'] = myHistory_dict['accuracy']\n",
    "    resDict['val_accuracy'] = myHistory_dict['val_accuracy']\n",
    "    resDict['epochs'] = range(1, len(resDict['train_accuracy']) + 1)\n",
    "    resDict['model_name'] = model_name\n",
    "\n",
    "    return resDict"
   ]
  },
  {
   "cell_type": "markdown",
   "metadata": {
    "id": "OejtjmjX6lil"
   },
   "source": [
    "# A first LSTM Model\n",
    "Now, let's define and train our first LSTM using the helper function `fitAndEval`:"
   ]
  },
  {
   "cell_type": "code",
   "execution_count": null,
   "metadata": {
    "executionInfo": {
     "elapsed": 2,
     "status": "ok",
     "timestamp": 1707725251313,
     "user": {
      "displayName": "Andreas Streich",
      "userId": "10357269094555195421"
     },
     "user_tz": -60
    },
    "id": "RbmJ845Pslzk"
   },
   "outputs": [],
   "source": [
    "# initialize random number generators to ensure reproducibility:\n",
    "tf.random.set_seed(123)\n",
    "np.random.seed(123)"
   ]
  },
  {
   "cell_type": "code",
   "execution_count": null,
   "metadata": {
    "executionInfo": {
     "elapsed": 763,
     "status": "ok",
     "timestamp": 1707725252075,
     "user": {
      "displayName": "Andreas Streich",
      "userId": "10357269094555195421"
     },
     "user_tz": -60
    },
    "id": "61XvQ9_qmb6a"
   },
   "outputs": [],
   "source": [
    "model_embed_1LSTM = Sequential()\n",
    "model_embed_1LSTM.add(Input(shape=(1,), dtype='string'))\n",
    "model_embed_1LSTM.add(encoderSEQ)\n",
    "model_embed_1LSTM.add(Embedding(VOCAB_SIZE, EMBED_DIM))\n",
    "model_embed_1LSTM.add(Bidirectional(LSTM(64)))\n",
    "model_embed_1LSTM.add(Dense(1, activation=\"sigmoid\"))"
   ]
  },
  {
   "cell_type": "markdown",
   "metadata": {},
   "source": [
    "This is the first model that will need a significant training time. Therefore, we have implemented two variants of running this notebook - either to train the models from scratch, or to use the precomputed weights. To run the model from scratch, set `train_from_scatch` to `True`. We suggest you don't change the model and file names, so it will save the parameters of the results when you train from scratch, and it will load the model weights and results otherwise."
   ]
  },
  {
   "cell_type": "code",
   "execution_count": null,
   "metadata": {},
   "outputs": [],
   "source": [
    "train_from_scatch = False\n",
    "\n",
    "model_name = 'model_5kW_embed_1LSTM_ADAM'\n",
    "model_weight_file = model_name + '_weights'\n",
    "model_result_file = model_name + '_Results.pkl'\n",
    "\n",
    "if train_from_scatch: \n",
    "    resDict_embed_1LSTM = fitAndEval(model_embed_1LSTM, from_logits=False,\n",
    "                                     model_name = model_name)\n",
    "    # save weights and results\n",
    "    model_embed_1LSTM.save_weights(model_weight_file)\n",
    "    with open(model_result_file, 'wb') as f:\n",
    "        pickle.dump(resDict_embed_1LSTM, f)\n",
    "else:\n",
    "    model_embed_1LSTM.load_weights(model_weight_file)\n",
    "    with open(model_result_file, 'rb') as input_file:\n",
    "        resDict_embed_1LSTM = pickle.load(input_file)"
   ]
  },
  {
   "cell_type": "code",
   "execution_count": null,
   "metadata": {},
   "outputs": [],
   "source": [
    "resDict_embed_1LSTM['model_name'] = model_name\n",
    "\n",
    "resDict_embed_1LSTM['model_name']\n",
    "\n",
    "model_name = 'model_5kW_embed_1LSTM_ADAM'\n",
    "model_weight_file = model_name + '_weights'\n",
    "model_result_file = model_name + '_Results.pkl'\n",
    "model_result_file"
   ]
  },
  {
   "cell_type": "code",
   "execution_count": null,
   "metadata": {},
   "outputs": [],
   "source": [
    "with open(model_result_file, 'wb') as f:\n",
    "    pickle.dump(resDict_embed_1LSTM, f)\n"
   ]
  },
  {
   "cell_type": "code",
   "execution_count": null,
   "metadata": {
    "colab": {
     "base_uri": "https://localhost:8080/"
    },
    "executionInfo": {
     "elapsed": 8,
     "status": "ok",
     "timestamp": 1707725452247,
     "user": {
      "displayName": "Andreas Streich",
      "userId": "10357269094555195421"
     },
     "user_tz": -60
    },
    "id": "aLs03blzp91b",
    "outputId": "865a055b-2df8-4562-8d35-31166588015a"
   },
   "outputs": [],
   "source": [
    "model_embed_1LSTM.summary()"
   ]
  },
  {
   "cell_type": "code",
   "execution_count": null,
   "metadata": {
    "colab": {
     "base_uri": "https://localhost:8080/",
     "height": 472
    },
    "executionInfo": {
     "elapsed": 646,
     "status": "ok",
     "timestamp": 1707725452889,
     "user": {
      "displayName": "Andreas Streich",
      "userId": "10357269094555195421"
     },
     "user_tz": -60
    },
    "id": "K021I4Mun5q1",
    "outputId": "db7de286-3a2d-487b-b03c-d8f6fd2bd54b"
   },
   "outputs": [],
   "source": [
    "plt.plot(resDict_embed_1LSTM['epochs'], resDict_embed_1LSTM['train_accuracy'],\n",
    "         'r:', label = resDict_embed_1LSTM['model_name'] +', Training acc')\n",
    "plt.plot(resDict_embed_1LSTM['epochs'], resDict_embed_1LSTM['val_accuracy'],\n",
    "         'r',  label = resDict_embed_1LSTM['model_name'] +', Validation acc')\n",
    "\n",
    "plt.title('Training and validation accuracy')\n",
    "plt.xlabel('Epochs')\n",
    "plt.ylabel('Accuracy')\n",
    "plt.legend(loc='lower right')\n",
    "plt.grid(True)\n",
    "plt.show()"
   ]
  },
  {
   "cell_type": "markdown",
   "metadata": {
    "id": "ytpqkYeXCQaR"
   },
   "source": [
    "We see that our model does quite some overfitting: On the training set, it reaches an accuracy of over 95% in several epochs, but on the validation data, the performance does not go above approx. 86%."
   ]
  },
  {
   "cell_type": "markdown",
   "metadata": {
    "id": "LDMV5eBDNtLY"
   },
   "source": [
    "# Using Pretrained Word Embeddings\n"
   ]
  },
  {
   "cell_type": "markdown",
   "metadata": {
    "id": "fSdZcKHehVjt"
   },
   "source": [
    "Here, we are using the pretrained word embeddings from glove:"
   ]
  },
  {
   "cell_type": "code",
   "execution_count": null,
   "metadata": {
    "colab": {
     "base_uri": "https://localhost:8080/"
    },
    "executionInfo": {
     "elapsed": 190695,
     "status": "ok",
     "timestamp": 1707726763371,
     "user": {
      "displayName": "Andreas Streich",
      "userId": "10357269094555195421"
     },
     "user_tz": -60
    },
    "id": "ExYrbcdhDJHE",
    "outputId": "f53974b0-ce72-44fa-b008-916e20edcb23"
   },
   "outputs": [],
   "source": [
    "have_glove = False # set to true when downloaded\n",
    "\n",
    "if use_gdrive & have_glove:\n",
    "    glove_file = targetDir_models + 'glove.6B.100d.txt'\n",
    "    # have_glove = !test -f $glove_file;\n",
    "    %cp gdrive/MyDrive/CAS_AIS_2024_FS/Results/trainedWeights/glove.6B.100d.txt .\n",
    "\n",
    "else:\n",
    "    # The following commands need to be executed the first time this notebook is ran:\n",
    "    !wget http://nlp.stanford.edu/data/glove.6B.zip\n",
    "    !unzip -q glove.6B.zip\n",
    "\n",
    "if use_gdrive:\n",
    "    %cp glove.6B.100d.txt !targetDir_models"
   ]
  },
  {
   "cell_type": "markdown",
   "metadata": {},
   "source": [
    "Now we will use these pretrained word vectors to represent our texts:"
   ]
  },
  {
   "cell_type": "code",
   "execution_count": null,
   "metadata": {
    "colab": {
     "base_uri": "https://localhost:8080/"
    },
    "executionInfo": {
     "elapsed": 9690,
     "status": "ok",
     "timestamp": 1707726773057,
     "user": {
      "displayName": "Andreas Streich",
      "userId": "10357269094555195421"
     },
     "user_tz": -60
    },
    "id": "3yMZ3lVRDoVd",
    "outputId": "9d932350-d7bb-4874-adb2-b466d04914b3"
   },
   "outputs": [],
   "source": [
    "path_to_glove_file = \"glove.6B.100d.txt\"\n",
    "\n",
    "embeddings_index = {}\n",
    "with open(path_to_glove_file) as f:\n",
    "    for line in f:\n",
    "        word, coefs = line.split(maxsplit=1)\n",
    "        coefs = np.fromstring(coefs, \"f\", sep=\" \")\n",
    "        embeddings_index[word] = coefs\n",
    "\n",
    "print(\"Found %s word vectors.\" % len(embeddings_index))"
   ]
  },
  {
   "cell_type": "code",
   "execution_count": null,
   "metadata": {
    "colab": {
     "base_uri": "https://localhost:8080/"
    },
    "executionInfo": {
     "elapsed": 299,
     "status": "ok",
     "timestamp": 1707726778016,
     "user": {
      "displayName": "Andreas Streich",
      "userId": "10357269094555195421"
     },
     "user_tz": -60
    },
    "id": "4XfiP8J9EM18",
    "outputId": "d1446454-cc5e-4091-b87d-71ae4d60559c"
   },
   "outputs": [],
   "source": [
    "hits = 0\n",
    "misses = 0\n",
    "\n",
    "# Prepare embedding matrix\n",
    "embedding_matrix = np.zeros((VOCAB_SIZE, EMBED_DIM))\n",
    "for i, word in enumerate(encoderSEQ.get_vocabulary()):\n",
    "    embedding_vector = embeddings_index.get(word)\n",
    "    if embedding_vector is not None:\n",
    "        # Words not found in embedding index will be all-zeros.\n",
    "        # This includes the representation for \"padding\" and \"OOV\"\n",
    "        embedding_matrix[i] = embedding_vector\n",
    "        hits += 1\n",
    "    else:\n",
    "        misses += 1\n",
    "        # print(word)\n",
    "print(\"Converted %d words (%d misses)\" % (hits, misses))"
   ]
  },
  {
   "cell_type": "markdown",
   "metadata": {
    "id": "SaeCeXm3EXSg"
   },
   "source": [
    "## Pretrained Word Embeddings without Adaptation\n",
    "We use the same LSTM model as above, but initialize the embedding with the pretrained data from gloVe."
   ]
  },
  {
   "cell_type": "code",
   "execution_count": null,
   "metadata": {
    "executionInfo": {
     "elapsed": 762,
     "status": "ok",
     "timestamp": 1707726800388,
     "user": {
      "displayName": "Andreas Streich",
      "userId": "10357269094555195421"
     },
     "user_tz": -60
    },
    "id": "Up202xSctMyE"
   },
   "outputs": [],
   "source": [
    "model_pe100_1LSTM = Sequential()\n",
    "model_pe100_1LSTM.add(Input(shape=(1,), dtype='string'))\n",
    "model_pe100_1LSTM.add(encoderSEQ)\n",
    "model_pe100_1LSTM.add(Embedding(\n",
    "    VOCAB_SIZE,\n",
    "    EMBED_DIM,\n",
    "    embeddings_initializer=Constant(embedding_matrix),\n",
    "    trainable=False))\n",
    "model_pe100_1LSTM.add(Bidirectional(LSTM(64)))\n",
    "model_pe100_1LSTM.add(Dense(1, activation=\"sigmoid\"))"
   ]
  },
  {
   "cell_type": "code",
   "execution_count": null,
   "metadata": {},
   "outputs": [],
   "source": [
    "train_from_scatch = False\n",
    "\n",
    "model_name = 'model_5kW_pe100_1LSTM_ADAM'\n",
    "model_weight_file = model_name + '_weights'\n",
    "model_result_file = model_name + '_Results.pkl'\n",
    "\n",
    "if train_from_scatch: \n",
    "    resDict_pe100_1LSTM = fitAndEval(model_pe100_1LSTM, from_logits=False,\n",
    "                                     model_name = model_name)\n",
    "    # save weights and results\n",
    "    model_pe100_1LSTM.save_weights(model_weight_file)\n",
    "    with open(model_result_file, 'wb') as f:\n",
    "        pickle.dump(resDict_pe100_1LSTM, f)\n",
    "else:\n",
    "    model_pe100_1LSTM.load_weights(model_weight_file)\n",
    "    with open(model_result_file, 'rb') as input_file:\n",
    "        resDict_pe100_1LSTM = pickle.load(input_file)"
   ]
  },
  {
   "cell_type": "code",
   "execution_count": null,
   "metadata": {
    "colab": {
     "base_uri": "https://localhost:8080/",
     "height": 472
    },
    "executionInfo": {
     "elapsed": 60176,
     "status": "ok",
     "timestamp": 1707727097174,
     "user": {
      "displayName": "Andreas Streich",
      "userId": "10357269094555195421"
     },
     "user_tz": -60
    },
    "id": "F3VSuH2MKrxj",
    "outputId": "1019c87a-30aa-49d4-9dc6-01af3eb3a46c"
   },
   "outputs": [],
   "source": [
    "plt.plot(resDict_embed_1LSTM['epochs'], resDict_embed_1LSTM['train_accuracy'],\n",
    "         'r:', label = resDict_embed_1LSTM['model_name'] +', Training acc')\n",
    "plt.plot(resDict_embed_1LSTM['epochs'], resDict_embed_1LSTM['val_accuracy'],\n",
    "         'r',  label = resDict_embed_1LSTM['model_name'] +', Validation acc')\n",
    "\n",
    "plt.plot(resDict_pe100_1LSTM['epochs'], resDict_pe100_1LSTM['train_accuracy'],\n",
    "         'b:', label = resDict_pe100_1LSTM['model_name'] +', Training acc')\n",
    "plt.plot(resDict_pe100_1LSTM['epochs'], resDict_pe100_1LSTM['val_accuracy'],\n",
    "         'b',  label = resDict_pe100_1LSTM['model_name'] +', Validation acc')\n",
    "\n",
    "plt.title('Training and validation accuracy')\n",
    "plt.xlabel('Epochs')\n",
    "plt.ylabel('Accuracy')\n",
    "plt.legend(loc='lower right')\n",
    "plt.grid(True)\n",
    "plt.show()"
   ]
  },
  {
   "cell_type": "markdown",
   "metadata": {
    "id": "sVNIzbAELwQU"
   },
   "source": [
    "## Pretrained Word Embeddings with Adaptation\n",
    "As we have seen the performance actually falling below the performance of the LSTM model with embeddings trained from scratch, we implement a third model, where the pretrained embeddings serve as starting point, from where we allow the model to further train and adapt the embeddings as needed."
   ]
  },
  {
   "cell_type": "code",
   "execution_count": null,
   "metadata": {
    "executionInfo": {
     "elapsed": 1261,
     "status": "ok",
     "timestamp": 1707727138057,
     "user": {
      "displayName": "Andreas Streich",
      "userId": "10357269094555195421"
     },
     "user_tz": -60
    },
    "id": "XNdpQBDNLvYk"
   },
   "outputs": [],
   "source": [
    "model_ae100_1LSTM = Sequential()\n",
    "model_ae100_1LSTM.add(Input(shape=(1,), dtype='string'))\n",
    "model_ae100_1LSTM.add(encoderSEQ)\n",
    "model_ae100_1LSTM.add(Embedding(\n",
    "    VOCAB_SIZE,\n",
    "    EMBED_DIM,\n",
    "    embeddings_initializer=Constant(embedding_matrix),\n",
    "    trainable=True))\n",
    "model_ae100_1LSTM.add(Bidirectional(LSTM(64)))\n",
    "model_ae100_1LSTM.add(Dense(1, activation=\"sigmoid\"))"
   ]
  },
  {
   "cell_type": "code",
   "execution_count": null,
   "metadata": {},
   "outputs": [],
   "source": [
    "train_from_scatch = False\n",
    "\n",
    "model_name = 'model_5kW_ae100_1LSTM_ADAM'\n",
    "model_weight_file = model_name + '_weights'\n",
    "model_result_file = model_name + '_Results.pkl'\n",
    "\n",
    "if train_from_scatch: \n",
    "    resDict_ae100_1LSTM = fitAndEval(model_ae100_1LSTM, from_logits=False,\n",
    "                                     model_name = model_name)\n",
    "    # save weights and results\n",
    "    model_ae100_1LSTM.save_weights(model_weight_file)\n",
    "    with open(model_result_file, 'wb') as f:\n",
    "        pickle.dump(resDict_ae100_1LSTM, f)\n",
    "else:\n",
    "    model_ae100_1LSTM.load_weights(model_weight_file)\n",
    "    with open(model_result_file, 'rb') as input_file:\n",
    "        resDict_ae100_1LSTM = pickle.load(input_file)"
   ]
  },
  {
   "cell_type": "code",
   "execution_count": null,
   "metadata": {
    "colab": {
     "base_uri": "https://localhost:8080/",
     "height": 472
    },
    "executionInfo": {
     "elapsed": 1232,
     "status": "ok",
     "timestamp": 1707727662374,
     "user": {
      "displayName": "Andreas Streich",
      "userId": "10357269094555195421"
     },
     "user_tz": -60
    },
    "id": "SGoNtXSHRrRJ",
    "outputId": "2ccc7ea3-d48c-42dc-a233-0e6601047f1d"
   },
   "outputs": [],
   "source": [
    "plt.plot(resDict_embed_1LSTM['epochs'], resDict_embed_1LSTM['train_accuracy'],\n",
    "         'r:', label = resDict_embed_1LSTM['model_name'] +', Training acc')\n",
    "plt.plot(resDict_embed_1LSTM['epochs'], resDict_embed_1LSTM['val_accuracy'],\n",
    "         'r',  label = resDict_embed_1LSTM['model_name'] +', Validation acc')\n",
    "\n",
    "plt.plot(resDict_pe100_1LSTM['epochs'], resDict_pe100_1LSTM['train_accuracy'],\n",
    "         'b:', label = resDict_pe100_1LSTM['model_name'] +', Training acc')\n",
    "plt.plot(resDict_pe100_1LSTM['epochs'], resDict_pe100_1LSTM['val_accuracy'],\n",
    "         'b',  label = resDict_pe100_1LSTM['model_name'] +', Validation acc')\n",
    "\n",
    "plt.plot(resDict_ae100_1LSTM['epochs'], resDict_ae100_1LSTM['train_accuracy'],\n",
    "         'g:', label = resDict_ae100_1LSTM['model_name'] +', Training acc')\n",
    "plt.plot(resDict_ae100_1LSTM['epochs'], resDict_ae100_1LSTM['val_accuracy'],\n",
    "         'g',  label = resDict_ae100_1LSTM['model_name'] +', Validation acc')\n",
    "\n",
    "plt.title('Training and validation accuracy')\n",
    "plt.xlabel('Epochs')\n",
    "plt.ylabel('Accuracy')\n",
    "plt.legend(loc='best')\n",
    "plt.grid(True)\n",
    "plt.show()"
   ]
  },
  {
   "cell_type": "markdown",
   "metadata": {
    "id": "xF6FZOu0V0ok"
   },
   "source": [
    "Copy files to Google Drive (if wanted):"
   ]
  },
  {
   "cell_type": "code",
   "execution_count": null,
   "metadata": {
    "executionInfo": {
     "elapsed": 8,
     "status": "aborted",
     "timestamp": 1707725669591,
     "user": {
      "displayName": "Andreas Streich",
      "userId": "10357269094555195421"
     },
     "user_tz": -60
    },
    "id": "-QulqKUKWX6l"
   },
   "outputs": [],
   "source": [
    "# copy files\n",
    "if use_gdrive:\n",
    "    %cp model_pe100_1LSTM_weights* $targetDir_models\n",
    "    %cp model_pe100_1LSTM_Results* $targetDir_results\n",
    "    %cp model_embed_1LSTM_weights* $targetDir_models\n",
    "    %cp model_embed_1LSTM_Results* $targetDir_results\n",
    "    %cp model_ae100_1LSTM_weights* $targetDir_models\n",
    "    %cp model_ae100_1LSTM_Results* $targetDir_results"
   ]
  }
 ],
 "metadata": {
  "accelerator": "GPU",
  "colab": {
   "gpuType": "T4",
   "provenance": [
    {
     "file_id": "1SDXEAlLgwqlAgjQCSrCSHPX_GDxiL5AS",
     "timestamp": 1702022717977
    },
    {
     "file_id": "17vUvk7t_5jiqHDi0xRcPG4Vu8WA0zlEO",
     "timestamp": 1699258581721
    }
   ]
  },
  "kernelspec": {
   "display_name": "Python 3 (ipykernel)",
   "language": "python",
   "name": "python3"
  },
  "language_info": {
   "codemirror_mode": {
    "name": "ipython",
    "version": 3
   },
   "file_extension": ".py",
   "mimetype": "text/x-python",
   "name": "python",
   "nbconvert_exporter": "python",
   "pygments_lexer": "ipython3",
   "version": "3.11.7"
  },
  "widgets": {
   "application/vnd.jupyter.widget-state+json": {
    "05a1aac4aea94b2d8fb4cc402642457d": {
     "model_module": "@jupyter-widgets/base",
     "model_module_version": "1.2.0",
     "model_name": "LayoutModel",
     "state": {
      "_model_module": "@jupyter-widgets/base",
      "_model_module_version": "1.2.0",
      "_model_name": "LayoutModel",
      "_view_count": null,
      "_view_module": "@jupyter-widgets/base",
      "_view_module_version": "1.2.0",
      "_view_name": "LayoutView",
      "align_content": null,
      "align_items": null,
      "align_self": null,
      "border": null,
      "bottom": null,
      "display": null,
      "flex": null,
      "flex_flow": null,
      "grid_area": null,
      "grid_auto_columns": null,
      "grid_auto_flow": null,
      "grid_auto_rows": null,
      "grid_column": null,
      "grid_gap": null,
      "grid_row": null,
      "grid_template_areas": null,
      "grid_template_columns": null,
      "grid_template_rows": null,
      "height": null,
      "justify_content": null,
      "justify_items": null,
      "left": null,
      "margin": null,
      "max_height": null,
      "max_width": null,
      "min_height": null,
      "min_width": null,
      "object_fit": null,
      "object_position": null,
      "order": null,
      "overflow": null,
      "overflow_x": null,
      "overflow_y": null,
      "padding": null,
      "right": null,
      "top": null,
      "visibility": null,
      "width": null
     }
    },
    "09ea431baa4447738317ee936c8b4f9c": {
     "model_module": "@jupyter-widgets/base",
     "model_module_version": "1.2.0",
     "model_name": "LayoutModel",
     "state": {
      "_model_module": "@jupyter-widgets/base",
      "_model_module_version": "1.2.0",
      "_model_name": "LayoutModel",
      "_view_count": null,
      "_view_module": "@jupyter-widgets/base",
      "_view_module_version": "1.2.0",
      "_view_name": "LayoutView",
      "align_content": null,
      "align_items": null,
      "align_self": null,
      "border": null,
      "bottom": null,
      "display": null,
      "flex": null,
      "flex_flow": null,
      "grid_area": null,
      "grid_auto_columns": null,
      "grid_auto_flow": null,
      "grid_auto_rows": null,
      "grid_column": null,
      "grid_gap": null,
      "grid_row": null,
      "grid_template_areas": null,
      "grid_template_columns": null,
      "grid_template_rows": null,
      "height": null,
      "justify_content": null,
      "justify_items": null,
      "left": null,
      "margin": null,
      "max_height": null,
      "max_width": null,
      "min_height": null,
      "min_width": null,
      "object_fit": null,
      "object_position": null,
      "order": null,
      "overflow": null,
      "overflow_x": null,
      "overflow_y": null,
      "padding": null,
      "right": null,
      "top": null,
      "visibility": null,
      "width": "20px"
     }
    },
    "0daf346ae5014f2b971a6fc0ad94d51e": {
     "model_module": "@jupyter-widgets/base",
     "model_module_version": "1.2.0",
     "model_name": "LayoutModel",
     "state": {
      "_model_module": "@jupyter-widgets/base",
      "_model_module_version": "1.2.0",
      "_model_name": "LayoutModel",
      "_view_count": null,
      "_view_module": "@jupyter-widgets/base",
      "_view_module_version": "1.2.0",
      "_view_name": "LayoutView",
      "align_content": null,
      "align_items": null,
      "align_self": null,
      "border": null,
      "bottom": null,
      "display": null,
      "flex": null,
      "flex_flow": null,
      "grid_area": null,
      "grid_auto_columns": null,
      "grid_auto_flow": null,
      "grid_auto_rows": null,
      "grid_column": null,
      "grid_gap": null,
      "grid_row": null,
      "grid_template_areas": null,
      "grid_template_columns": null,
      "grid_template_rows": null,
      "height": null,
      "justify_content": null,
      "justify_items": null,
      "left": null,
      "margin": null,
      "max_height": null,
      "max_width": null,
      "min_height": null,
      "min_width": null,
      "object_fit": null,
      "object_position": null,
      "order": null,
      "overflow": null,
      "overflow_x": null,
      "overflow_y": null,
      "padding": null,
      "right": null,
      "top": null,
      "visibility": null,
      "width": null
     }
    },
    "0df057cff45648d09af733f1114c7bff": {
     "model_module": "@jupyter-widgets/base",
     "model_module_version": "1.2.0",
     "model_name": "LayoutModel",
     "state": {
      "_model_module": "@jupyter-widgets/base",
      "_model_module_version": "1.2.0",
      "_model_name": "LayoutModel",
      "_view_count": null,
      "_view_module": "@jupyter-widgets/base",
      "_view_module_version": "1.2.0",
      "_view_name": "LayoutView",
      "align_content": null,
      "align_items": null,
      "align_self": null,
      "border": null,
      "bottom": null,
      "display": null,
      "flex": null,
      "flex_flow": null,
      "grid_area": null,
      "grid_auto_columns": null,
      "grid_auto_flow": null,
      "grid_auto_rows": null,
      "grid_column": null,
      "grid_gap": null,
      "grid_row": null,
      "grid_template_areas": null,
      "grid_template_columns": null,
      "grid_template_rows": null,
      "height": null,
      "justify_content": null,
      "justify_items": null,
      "left": null,
      "margin": null,
      "max_height": null,
      "max_width": null,
      "min_height": null,
      "min_width": null,
      "object_fit": null,
      "object_position": null,
      "order": null,
      "overflow": null,
      "overflow_x": null,
      "overflow_y": null,
      "padding": null,
      "right": null,
      "top": null,
      "visibility": null,
      "width": null
     }
    },
    "0e80f77fb03c43ff9ed5f79c7d2ce4ef": {
     "model_module": "@jupyter-widgets/base",
     "model_module_version": "1.2.0",
     "model_name": "LayoutModel",
     "state": {
      "_model_module": "@jupyter-widgets/base",
      "_model_module_version": "1.2.0",
      "_model_name": "LayoutModel",
      "_view_count": null,
      "_view_module": "@jupyter-widgets/base",
      "_view_module_version": "1.2.0",
      "_view_name": "LayoutView",
      "align_content": null,
      "align_items": null,
      "align_self": null,
      "border": null,
      "bottom": null,
      "display": null,
      "flex": null,
      "flex_flow": null,
      "grid_area": null,
      "grid_auto_columns": null,
      "grid_auto_flow": null,
      "grid_auto_rows": null,
      "grid_column": null,
      "grid_gap": null,
      "grid_row": null,
      "grid_template_areas": null,
      "grid_template_columns": null,
      "grid_template_rows": null,
      "height": null,
      "justify_content": null,
      "justify_items": null,
      "left": null,
      "margin": null,
      "max_height": null,
      "max_width": null,
      "min_height": null,
      "min_width": null,
      "object_fit": null,
      "object_position": null,
      "order": null,
      "overflow": null,
      "overflow_x": null,
      "overflow_y": null,
      "padding": null,
      "right": null,
      "top": null,
      "visibility": null,
      "width": null
     }
    },
    "10522b3b500f468bbae07e689527db94": {
     "model_module": "@jupyter-widgets/base",
     "model_module_version": "1.2.0",
     "model_name": "LayoutModel",
     "state": {
      "_model_module": "@jupyter-widgets/base",
      "_model_module_version": "1.2.0",
      "_model_name": "LayoutModel",
      "_view_count": null,
      "_view_module": "@jupyter-widgets/base",
      "_view_module_version": "1.2.0",
      "_view_name": "LayoutView",
      "align_content": null,
      "align_items": null,
      "align_self": null,
      "border": null,
      "bottom": null,
      "display": null,
      "flex": null,
      "flex_flow": null,
      "grid_area": null,
      "grid_auto_columns": null,
      "grid_auto_flow": null,
      "grid_auto_rows": null,
      "grid_column": null,
      "grid_gap": null,
      "grid_row": null,
      "grid_template_areas": null,
      "grid_template_columns": null,
      "grid_template_rows": null,
      "height": null,
      "justify_content": null,
      "justify_items": null,
      "left": null,
      "margin": null,
      "max_height": null,
      "max_width": null,
      "min_height": null,
      "min_width": null,
      "object_fit": null,
      "object_position": null,
      "order": null,
      "overflow": null,
      "overflow_x": null,
      "overflow_y": null,
      "padding": null,
      "right": null,
      "top": null,
      "visibility": "hidden",
      "width": null
     }
    },
    "1165d3db32fe4bddb2c38e91cbfff2dd": {
     "model_module": "@jupyter-widgets/base",
     "model_module_version": "1.2.0",
     "model_name": "LayoutModel",
     "state": {
      "_model_module": "@jupyter-widgets/base",
      "_model_module_version": "1.2.0",
      "_model_name": "LayoutModel",
      "_view_count": null,
      "_view_module": "@jupyter-widgets/base",
      "_view_module_version": "1.2.0",
      "_view_name": "LayoutView",
      "align_content": null,
      "align_items": null,
      "align_self": null,
      "border": null,
      "bottom": null,
      "display": null,
      "flex": null,
      "flex_flow": null,
      "grid_area": null,
      "grid_auto_columns": null,
      "grid_auto_flow": null,
      "grid_auto_rows": null,
      "grid_column": null,
      "grid_gap": null,
      "grid_row": null,
      "grid_template_areas": null,
      "grid_template_columns": null,
      "grid_template_rows": null,
      "height": null,
      "justify_content": null,
      "justify_items": null,
      "left": null,
      "margin": null,
      "max_height": null,
      "max_width": null,
      "min_height": null,
      "min_width": null,
      "object_fit": null,
      "object_position": null,
      "order": null,
      "overflow": null,
      "overflow_x": null,
      "overflow_y": null,
      "padding": null,
      "right": null,
      "top": null,
      "visibility": null,
      "width": null
     }
    },
    "14b930aae38140b6958595fa27af03e2": {
     "model_module": "@jupyter-widgets/controls",
     "model_module_version": "1.5.0",
     "model_name": "HTMLModel",
     "state": {
      "_dom_classes": [],
      "_model_module": "@jupyter-widgets/controls",
      "_model_module_version": "1.5.0",
      "_model_name": "HTMLModel",
      "_view_count": null,
      "_view_module": "@jupyter-widgets/controls",
      "_view_module_version": "1.5.0",
      "_view_name": "HTMLView",
      "description": "",
      "description_tooltip": null,
      "layout": "IPY_MODEL_a31437e8405541e6b340981974cbfc32",
      "placeholder": "​",
      "style": "IPY_MODEL_b62187ea4d3e42fe93e6c68aee28adc8",
      "value": " 3/3 [00:33&lt;00:00, 11.60s/ splits]"
     }
    },
    "1608b7220b294b8d8c4630d5efb06422": {
     "model_module": "@jupyter-widgets/base",
     "model_module_version": "1.2.0",
     "model_name": "LayoutModel",
     "state": {
      "_model_module": "@jupyter-widgets/base",
      "_model_module_version": "1.2.0",
      "_model_name": "LayoutModel",
      "_view_count": null,
      "_view_module": "@jupyter-widgets/base",
      "_view_module_version": "1.2.0",
      "_view_name": "LayoutView",
      "align_content": null,
      "align_items": null,
      "align_self": null,
      "border": null,
      "bottom": null,
      "display": null,
      "flex": null,
      "flex_flow": null,
      "grid_area": null,
      "grid_auto_columns": null,
      "grid_auto_flow": null,
      "grid_auto_rows": null,
      "grid_column": null,
      "grid_gap": null,
      "grid_row": null,
      "grid_template_areas": null,
      "grid_template_columns": null,
      "grid_template_rows": null,
      "height": null,
      "justify_content": null,
      "justify_items": null,
      "left": null,
      "margin": null,
      "max_height": null,
      "max_width": null,
      "min_height": null,
      "min_width": null,
      "object_fit": null,
      "object_position": null,
      "order": null,
      "overflow": null,
      "overflow_x": null,
      "overflow_y": null,
      "padding": null,
      "right": null,
      "top": null,
      "visibility": null,
      "width": null
     }
    },
    "176e0e8c78b446fe8c52983152bf720f": {
     "model_module": "@jupyter-widgets/controls",
     "model_module_version": "1.5.0",
     "model_name": "HTMLModel",
     "state": {
      "_dom_classes": [],
      "_model_module": "@jupyter-widgets/controls",
      "_model_module_version": "1.5.0",
      "_model_name": "HTMLModel",
      "_view_count": null,
      "_view_module": "@jupyter-widgets/controls",
      "_view_module_version": "1.5.0",
      "_view_name": "HTMLView",
      "description": "",
      "description_tooltip": null,
      "layout": "IPY_MODEL_1608b7220b294b8d8c4630d5efb06422",
      "placeholder": "​",
      "style": "IPY_MODEL_305c8703a09d4cb7870279649b6fc733",
      "value": "Dl Completed...: 100%"
     }
    },
    "177f5325a59542069bc7ac8c71c03126": {
     "model_module": "@jupyter-widgets/controls",
     "model_module_version": "1.5.0",
     "model_name": "HTMLModel",
     "state": {
      "_dom_classes": [],
      "_model_module": "@jupyter-widgets/controls",
      "_model_module_version": "1.5.0",
      "_model_name": "HTMLModel",
      "_view_count": null,
      "_view_module": "@jupyter-widgets/controls",
      "_view_module_version": "1.5.0",
      "_view_name": "HTMLView",
      "description": "",
      "description_tooltip": null,
      "layout": "IPY_MODEL_0df057cff45648d09af733f1114c7bff",
      "placeholder": "​",
      "style": "IPY_MODEL_8a555707227e426eb06640390f87fd48",
      "value": "Generating splits...: 100%"
     }
    },
    "1abdf898b41b4abdbfc918085d891f2e": {
     "model_module": "@jupyter-widgets/controls",
     "model_module_version": "1.5.0",
     "model_name": "ProgressStyleModel",
     "state": {
      "_model_module": "@jupyter-widgets/controls",
      "_model_module_version": "1.5.0",
      "_model_name": "ProgressStyleModel",
      "_view_count": null,
      "_view_module": "@jupyter-widgets/base",
      "_view_module_version": "1.2.0",
      "_view_name": "StyleView",
      "bar_color": null,
      "description_width": ""
     }
    },
    "1ba65e39eb1942deafbf02a7c41fd32f": {
     "model_module": "@jupyter-widgets/base",
     "model_module_version": "1.2.0",
     "model_name": "LayoutModel",
     "state": {
      "_model_module": "@jupyter-widgets/base",
      "_model_module_version": "1.2.0",
      "_model_name": "LayoutModel",
      "_view_count": null,
      "_view_module": "@jupyter-widgets/base",
      "_view_module_version": "1.2.0",
      "_view_name": "LayoutView",
      "align_content": null,
      "align_items": null,
      "align_self": null,
      "border": null,
      "bottom": null,
      "display": null,
      "flex": null,
      "flex_flow": null,
      "grid_area": null,
      "grid_auto_columns": null,
      "grid_auto_flow": null,
      "grid_auto_rows": null,
      "grid_column": null,
      "grid_gap": null,
      "grid_row": null,
      "grid_template_areas": null,
      "grid_template_columns": null,
      "grid_template_rows": null,
      "height": null,
      "justify_content": null,
      "justify_items": null,
      "left": null,
      "margin": null,
      "max_height": null,
      "max_width": null,
      "min_height": null,
      "min_width": null,
      "object_fit": null,
      "object_position": null,
      "order": null,
      "overflow": null,
      "overflow_x": null,
      "overflow_y": null,
      "padding": null,
      "right": null,
      "top": null,
      "visibility": null,
      "width": null
     }
    },
    "1f9a0f99538d4e4e9134979ea4701cce": {
     "model_module": "@jupyter-widgets/base",
     "model_module_version": "1.2.0",
     "model_name": "LayoutModel",
     "state": {
      "_model_module": "@jupyter-widgets/base",
      "_model_module_version": "1.2.0",
      "_model_name": "LayoutModel",
      "_view_count": null,
      "_view_module": "@jupyter-widgets/base",
      "_view_module_version": "1.2.0",
      "_view_name": "LayoutView",
      "align_content": null,
      "align_items": null,
      "align_self": null,
      "border": null,
      "bottom": null,
      "display": null,
      "flex": null,
      "flex_flow": null,
      "grid_area": null,
      "grid_auto_columns": null,
      "grid_auto_flow": null,
      "grid_auto_rows": null,
      "grid_column": null,
      "grid_gap": null,
      "grid_row": null,
      "grid_template_areas": null,
      "grid_template_columns": null,
      "grid_template_rows": null,
      "height": null,
      "justify_content": null,
      "justify_items": null,
      "left": null,
      "margin": null,
      "max_height": null,
      "max_width": null,
      "min_height": null,
      "min_width": null,
      "object_fit": null,
      "object_position": null,
      "order": null,
      "overflow": null,
      "overflow_x": null,
      "overflow_y": null,
      "padding": null,
      "right": null,
      "top": null,
      "visibility": null,
      "width": null
     }
    },
    "1fb391c7b90b49b5ae99b4bb06efd019": {
     "model_module": "@jupyter-widgets/controls",
     "model_module_version": "1.5.0",
     "model_name": "DescriptionStyleModel",
     "state": {
      "_model_module": "@jupyter-widgets/controls",
      "_model_module_version": "1.5.0",
      "_model_name": "DescriptionStyleModel",
      "_view_count": null,
      "_view_module": "@jupyter-widgets/base",
      "_view_module_version": "1.2.0",
      "_view_name": "StyleView",
      "description_width": ""
     }
    },
    "2a781a56df0a48aea79fd1bca8a7d130": {
     "model_module": "@jupyter-widgets/base",
     "model_module_version": "1.2.0",
     "model_name": "LayoutModel",
     "state": {
      "_model_module": "@jupyter-widgets/base",
      "_model_module_version": "1.2.0",
      "_model_name": "LayoutModel",
      "_view_count": null,
      "_view_module": "@jupyter-widgets/base",
      "_view_module_version": "1.2.0",
      "_view_name": "LayoutView",
      "align_content": null,
      "align_items": null,
      "align_self": null,
      "border": null,
      "bottom": null,
      "display": null,
      "flex": null,
      "flex_flow": null,
      "grid_area": null,
      "grid_auto_columns": null,
      "grid_auto_flow": null,
      "grid_auto_rows": null,
      "grid_column": null,
      "grid_gap": null,
      "grid_row": null,
      "grid_template_areas": null,
      "grid_template_columns": null,
      "grid_template_rows": null,
      "height": null,
      "justify_content": null,
      "justify_items": null,
      "left": null,
      "margin": null,
      "max_height": null,
      "max_width": null,
      "min_height": null,
      "min_width": null,
      "object_fit": null,
      "object_position": null,
      "order": null,
      "overflow": null,
      "overflow_x": null,
      "overflow_y": null,
      "padding": null,
      "right": null,
      "top": null,
      "visibility": "hidden",
      "width": null
     }
    },
    "305c8703a09d4cb7870279649b6fc733": {
     "model_module": "@jupyter-widgets/controls",
     "model_module_version": "1.5.0",
     "model_name": "DescriptionStyleModel",
     "state": {
      "_model_module": "@jupyter-widgets/controls",
      "_model_module_version": "1.5.0",
      "_model_name": "DescriptionStyleModel",
      "_view_count": null,
      "_view_module": "@jupyter-widgets/base",
      "_view_module_version": "1.2.0",
      "_view_name": "StyleView",
      "description_width": ""
     }
    },
    "323f456a592549fc93fc163a48512f75": {
     "model_module": "@jupyter-widgets/controls",
     "model_module_version": "1.5.0",
     "model_name": "DescriptionStyleModel",
     "state": {
      "_model_module": "@jupyter-widgets/controls",
      "_model_module_version": "1.5.0",
      "_model_name": "DescriptionStyleModel",
      "_view_count": null,
      "_view_module": "@jupyter-widgets/base",
      "_view_module_version": "1.2.0",
      "_view_name": "StyleView",
      "description_width": ""
     }
    },
    "38bc399e9c74473ba1d5429b5610a80f": {
     "model_module": "@jupyter-widgets/controls",
     "model_module_version": "1.5.0",
     "model_name": "DescriptionStyleModel",
     "state": {
      "_model_module": "@jupyter-widgets/controls",
      "_model_module_version": "1.5.0",
      "_model_name": "DescriptionStyleModel",
      "_view_count": null,
      "_view_module": "@jupyter-widgets/base",
      "_view_module_version": "1.2.0",
      "_view_name": "StyleView",
      "description_width": ""
     }
    },
    "395446669fd8470f86e1d9e00f0073dd": {
     "model_module": "@jupyter-widgets/controls",
     "model_module_version": "1.5.0",
     "model_name": "HTMLModel",
     "state": {
      "_dom_classes": [],
      "_model_module": "@jupyter-widgets/controls",
      "_model_module_version": "1.5.0",
      "_model_name": "HTMLModel",
      "_view_count": null,
      "_view_module": "@jupyter-widgets/controls",
      "_view_module_version": "1.5.0",
      "_view_name": "HTMLView",
      "description": "",
      "description_tooltip": null,
      "layout": "IPY_MODEL_fa7ecab6cbed460fbac30d5738d682a5",
      "placeholder": "​",
      "style": "IPY_MODEL_323f456a592549fc93fc163a48512f75",
      "value": "Generating train examples...:  79%"
     }
    },
    "39c59c8852f04ff7aefd2e052d0fd6a2": {
     "model_module": "@jupyter-widgets/controls",
     "model_module_version": "1.5.0",
     "model_name": "DescriptionStyleModel",
     "state": {
      "_model_module": "@jupyter-widgets/controls",
      "_model_module_version": "1.5.0",
      "_model_name": "DescriptionStyleModel",
      "_view_count": null,
      "_view_module": "@jupyter-widgets/base",
      "_view_module_version": "1.2.0",
      "_view_name": "StyleView",
      "description_width": ""
     }
    },
    "3cf474a4ef494989a5472423a16e4cb1": {
     "model_module": "@jupyter-widgets/controls",
     "model_module_version": "1.5.0",
     "model_name": "HTMLModel",
     "state": {
      "_dom_classes": [],
      "_model_module": "@jupyter-widgets/controls",
      "_model_module_version": "1.5.0",
      "_model_name": "HTMLModel",
      "_view_count": null,
      "_view_module": "@jupyter-widgets/controls",
      "_view_module_version": "1.5.0",
      "_view_name": "HTMLView",
      "description": "",
      "description_tooltip": null,
      "layout": "IPY_MODEL_dc0065dbe64b497aa868168eca0c6295",
      "placeholder": "​",
      "style": "IPY_MODEL_38bc399e9c74473ba1d5429b5610a80f",
      "value": " 45150/50000 [00:12&lt;00:00, 4935.21 examples/s]"
     }
    },
    "3d0ab7405a74473da2e7972989c314c5": {
     "model_module": "@jupyter-widgets/base",
     "model_module_version": "1.2.0",
     "model_name": "LayoutModel",
     "state": {
      "_model_module": "@jupyter-widgets/base",
      "_model_module_version": "1.2.0",
      "_model_name": "LayoutModel",
      "_view_count": null,
      "_view_module": "@jupyter-widgets/base",
      "_view_module_version": "1.2.0",
      "_view_name": "LayoutView",
      "align_content": null,
      "align_items": null,
      "align_self": null,
      "border": null,
      "bottom": null,
      "display": null,
      "flex": null,
      "flex_flow": null,
      "grid_area": null,
      "grid_auto_columns": null,
      "grid_auto_flow": null,
      "grid_auto_rows": null,
      "grid_column": null,
      "grid_gap": null,
      "grid_row": null,
      "grid_template_areas": null,
      "grid_template_columns": null,
      "grid_template_rows": null,
      "height": null,
      "justify_content": null,
      "justify_items": null,
      "left": null,
      "margin": null,
      "max_height": null,
      "max_width": null,
      "min_height": null,
      "min_width": null,
      "object_fit": null,
      "object_position": null,
      "order": null,
      "overflow": null,
      "overflow_x": null,
      "overflow_y": null,
      "padding": null,
      "right": null,
      "top": null,
      "visibility": null,
      "width": null
     }
    },
    "3f9a0b486a2b48428c17a161556cf7fd": {
     "model_module": "@jupyter-widgets/base",
     "model_module_version": "1.2.0",
     "model_name": "LayoutModel",
     "state": {
      "_model_module": "@jupyter-widgets/base",
      "_model_module_version": "1.2.0",
      "_model_name": "LayoutModel",
      "_view_count": null,
      "_view_module": "@jupyter-widgets/base",
      "_view_module_version": "1.2.0",
      "_view_name": "LayoutView",
      "align_content": null,
      "align_items": null,
      "align_self": null,
      "border": null,
      "bottom": null,
      "display": null,
      "flex": null,
      "flex_flow": null,
      "grid_area": null,
      "grid_auto_columns": null,
      "grid_auto_flow": null,
      "grid_auto_rows": null,
      "grid_column": null,
      "grid_gap": null,
      "grid_row": null,
      "grid_template_areas": null,
      "grid_template_columns": null,
      "grid_template_rows": null,
      "height": null,
      "justify_content": null,
      "justify_items": null,
      "left": null,
      "margin": null,
      "max_height": null,
      "max_width": null,
      "min_height": null,
      "min_width": null,
      "object_fit": null,
      "object_position": null,
      "order": null,
      "overflow": null,
      "overflow_x": null,
      "overflow_y": null,
      "padding": null,
      "right": null,
      "top": null,
      "visibility": null,
      "width": null
     }
    },
    "4067f8c5fc7b43ba90b124f2a18a77b8": {
     "model_module": "@jupyter-widgets/controls",
     "model_module_version": "1.5.0",
     "model_name": "DescriptionStyleModel",
     "state": {
      "_model_module": "@jupyter-widgets/controls",
      "_model_module_version": "1.5.0",
      "_model_name": "DescriptionStyleModel",
      "_view_count": null,
      "_view_module": "@jupyter-widgets/base",
      "_view_module_version": "1.2.0",
      "_view_name": "StyleView",
      "description_width": ""
     }
    },
    "417764d6789645adbb053f0dbfd79783": {
     "model_module": "@jupyter-widgets/controls",
     "model_module_version": "1.5.0",
     "model_name": "HBoxModel",
     "state": {
      "_dom_classes": [],
      "_model_module": "@jupyter-widgets/controls",
      "_model_module_version": "1.5.0",
      "_model_name": "HBoxModel",
      "_view_count": null,
      "_view_module": "@jupyter-widgets/controls",
      "_view_module_version": "1.5.0",
      "_view_name": "HBoxView",
      "box_style": "",
      "children": [
       "IPY_MODEL_176e0e8c78b446fe8c52983152bf720f",
       "IPY_MODEL_edc9fd13b76d49febbcd889458bb0592",
       "IPY_MODEL_742549c37dd140c3a5767aa8c16cdc9d"
      ],
      "layout": "IPY_MODEL_46a1c15ab38b4edba20476fb07dd11cc"
     }
    },
    "4473cf451dbc4f889f610c178bdd5af5": {
     "model_module": "@jupyter-widgets/base",
     "model_module_version": "1.2.0",
     "model_name": "LayoutModel",
     "state": {
      "_model_module": "@jupyter-widgets/base",
      "_model_module_version": "1.2.0",
      "_model_name": "LayoutModel",
      "_view_count": null,
      "_view_module": "@jupyter-widgets/base",
      "_view_module_version": "1.2.0",
      "_view_name": "LayoutView",
      "align_content": null,
      "align_items": null,
      "align_self": null,
      "border": null,
      "bottom": null,
      "display": null,
      "flex": null,
      "flex_flow": null,
      "grid_area": null,
      "grid_auto_columns": null,
      "grid_auto_flow": null,
      "grid_auto_rows": null,
      "grid_column": null,
      "grid_gap": null,
      "grid_row": null,
      "grid_template_areas": null,
      "grid_template_columns": null,
      "grid_template_rows": null,
      "height": null,
      "justify_content": null,
      "justify_items": null,
      "left": null,
      "margin": null,
      "max_height": null,
      "max_width": null,
      "min_height": null,
      "min_width": null,
      "object_fit": null,
      "object_position": null,
      "order": null,
      "overflow": null,
      "overflow_x": null,
      "overflow_y": null,
      "padding": null,
      "right": null,
      "top": null,
      "visibility": null,
      "width": null
     }
    },
    "46a1c15ab38b4edba20476fb07dd11cc": {
     "model_module": "@jupyter-widgets/base",
     "model_module_version": "1.2.0",
     "model_name": "LayoutModel",
     "state": {
      "_model_module": "@jupyter-widgets/base",
      "_model_module_version": "1.2.0",
      "_model_name": "LayoutModel",
      "_view_count": null,
      "_view_module": "@jupyter-widgets/base",
      "_view_module_version": "1.2.0",
      "_view_name": "LayoutView",
      "align_content": null,
      "align_items": null,
      "align_self": null,
      "border": null,
      "bottom": null,
      "display": null,
      "flex": null,
      "flex_flow": null,
      "grid_area": null,
      "grid_auto_columns": null,
      "grid_auto_flow": null,
      "grid_auto_rows": null,
      "grid_column": null,
      "grid_gap": null,
      "grid_row": null,
      "grid_template_areas": null,
      "grid_template_columns": null,
      "grid_template_rows": null,
      "height": null,
      "justify_content": null,
      "justify_items": null,
      "left": null,
      "margin": null,
      "max_height": null,
      "max_width": null,
      "min_height": null,
      "min_width": null,
      "object_fit": null,
      "object_position": null,
      "order": null,
      "overflow": null,
      "overflow_x": null,
      "overflow_y": null,
      "padding": null,
      "right": null,
      "top": null,
      "visibility": null,
      "width": null
     }
    },
    "4bb4361891d0486090e50fe63b8ac43e": {
     "model_module": "@jupyter-widgets/controls",
     "model_module_version": "1.5.0",
     "model_name": "DescriptionStyleModel",
     "state": {
      "_model_module": "@jupyter-widgets/controls",
      "_model_module_version": "1.5.0",
      "_model_name": "DescriptionStyleModel",
      "_view_count": null,
      "_view_module": "@jupyter-widgets/base",
      "_view_module_version": "1.2.0",
      "_view_name": "StyleView",
      "description_width": ""
     }
    },
    "4c1fa9c4c8e04e1589c1145319d5d5cb": {
     "model_module": "@jupyter-widgets/controls",
     "model_module_version": "1.5.0",
     "model_name": "DescriptionStyleModel",
     "state": {
      "_model_module": "@jupyter-widgets/controls",
      "_model_module_version": "1.5.0",
      "_model_name": "DescriptionStyleModel",
      "_view_count": null,
      "_view_module": "@jupyter-widgets/base",
      "_view_module_version": "1.2.0",
      "_view_name": "StyleView",
      "description_width": ""
     }
    },
    "5096c1e8063e4a9b8122941a2af53cf6": {
     "model_module": "@jupyter-widgets/base",
     "model_module_version": "1.2.0",
     "model_name": "LayoutModel",
     "state": {
      "_model_module": "@jupyter-widgets/base",
      "_model_module_version": "1.2.0",
      "_model_name": "LayoutModel",
      "_view_count": null,
      "_view_module": "@jupyter-widgets/base",
      "_view_module_version": "1.2.0",
      "_view_name": "LayoutView",
      "align_content": null,
      "align_items": null,
      "align_self": null,
      "border": null,
      "bottom": null,
      "display": null,
      "flex": null,
      "flex_flow": null,
      "grid_area": null,
      "grid_auto_columns": null,
      "grid_auto_flow": null,
      "grid_auto_rows": null,
      "grid_column": null,
      "grid_gap": null,
      "grid_row": null,
      "grid_template_areas": null,
      "grid_template_columns": null,
      "grid_template_rows": null,
      "height": null,
      "justify_content": null,
      "justify_items": null,
      "left": null,
      "margin": null,
      "max_height": null,
      "max_width": null,
      "min_height": null,
      "min_width": null,
      "object_fit": null,
      "object_position": null,
      "order": null,
      "overflow": null,
      "overflow_x": null,
      "overflow_y": null,
      "padding": null,
      "right": null,
      "top": null,
      "visibility": null,
      "width": null
     }
    },
    "533ceba65aba43a983098cf3cafb4192": {
     "model_module": "@jupyter-widgets/controls",
     "model_module_version": "1.5.0",
     "model_name": "HBoxModel",
     "state": {
      "_dom_classes": [],
      "_model_module": "@jupyter-widgets/controls",
      "_model_module_version": "1.5.0",
      "_model_name": "HBoxModel",
      "_view_count": null,
      "_view_module": "@jupyter-widgets/controls",
      "_view_module_version": "1.5.0",
      "_view_name": "HBoxView",
      "box_style": "",
      "children": [
       "IPY_MODEL_395446669fd8470f86e1d9e00f0073dd",
       "IPY_MODEL_8a1032e9f34d4a82ac31c019a0abdfa6",
       "IPY_MODEL_a6fce7c64cb24ca4b95b3d50b351ae2a"
      ],
      "layout": "IPY_MODEL_2a781a56df0a48aea79fd1bca8a7d130"
     }
    },
    "55444a0fa238499588dd4859696179b1": {
     "model_module": "@jupyter-widgets/base",
     "model_module_version": "1.2.0",
     "model_name": "LayoutModel",
     "state": {
      "_model_module": "@jupyter-widgets/base",
      "_model_module_version": "1.2.0",
      "_model_name": "LayoutModel",
      "_view_count": null,
      "_view_module": "@jupyter-widgets/base",
      "_view_module_version": "1.2.0",
      "_view_name": "LayoutView",
      "align_content": null,
      "align_items": null,
      "align_self": null,
      "border": null,
      "bottom": null,
      "display": null,
      "flex": null,
      "flex_flow": null,
      "grid_area": null,
      "grid_auto_columns": null,
      "grid_auto_flow": null,
      "grid_auto_rows": null,
      "grid_column": null,
      "grid_gap": null,
      "grid_row": null,
      "grid_template_areas": null,
      "grid_template_columns": null,
      "grid_template_rows": null,
      "height": null,
      "justify_content": null,
      "justify_items": null,
      "left": null,
      "margin": null,
      "max_height": null,
      "max_width": null,
      "min_height": null,
      "min_width": null,
      "object_fit": null,
      "object_position": null,
      "order": null,
      "overflow": null,
      "overflow_x": null,
      "overflow_y": null,
      "padding": null,
      "right": null,
      "top": null,
      "visibility": "hidden",
      "width": null
     }
    },
    "5aec027b04f04dcb8b87829a2a0c46d4": {
     "model_module": "@jupyter-widgets/base",
     "model_module_version": "1.2.0",
     "model_name": "LayoutModel",
     "state": {
      "_model_module": "@jupyter-widgets/base",
      "_model_module_version": "1.2.0",
      "_model_name": "LayoutModel",
      "_view_count": null,
      "_view_module": "@jupyter-widgets/base",
      "_view_module_version": "1.2.0",
      "_view_name": "LayoutView",
      "align_content": null,
      "align_items": null,
      "align_self": null,
      "border": null,
      "bottom": null,
      "display": null,
      "flex": null,
      "flex_flow": null,
      "grid_area": null,
      "grid_auto_columns": null,
      "grid_auto_flow": null,
      "grid_auto_rows": null,
      "grid_column": null,
      "grid_gap": null,
      "grid_row": null,
      "grid_template_areas": null,
      "grid_template_columns": null,
      "grid_template_rows": null,
      "height": null,
      "justify_content": null,
      "justify_items": null,
      "left": null,
      "margin": null,
      "max_height": null,
      "max_width": null,
      "min_height": null,
      "min_width": null,
      "object_fit": null,
      "object_position": null,
      "order": null,
      "overflow": null,
      "overflow_x": null,
      "overflow_y": null,
      "padding": null,
      "right": null,
      "top": null,
      "visibility": null,
      "width": null
     }
    },
    "5b1c2fba0f6e41aca6cd9bd4aa34c697": {
     "model_module": "@jupyter-widgets/controls",
     "model_module_version": "1.5.0",
     "model_name": "HTMLModel",
     "state": {
      "_dom_classes": [],
      "_model_module": "@jupyter-widgets/controls",
      "_model_module_version": "1.5.0",
      "_model_name": "HTMLModel",
      "_view_count": null,
      "_view_module": "@jupyter-widgets/controls",
      "_view_module_version": "1.5.0",
      "_view_name": "HTMLView",
      "description": "",
      "description_tooltip": null,
      "layout": "IPY_MODEL_1165d3db32fe4bddb2c38e91cbfff2dd",
      "placeholder": "​",
      "style": "IPY_MODEL_98541caefa1043618c6ace3d36f891d1",
      "value": "Generating test examples...:  83%"
     }
    },
    "5b36b7ba5d094eb0b92e3a83252bef24": {
     "model_module": "@jupyter-widgets/controls",
     "model_module_version": "1.5.0",
     "model_name": "FloatProgressModel",
     "state": {
      "_dom_classes": [],
      "_model_module": "@jupyter-widgets/controls",
      "_model_module_version": "1.5.0",
      "_model_name": "FloatProgressModel",
      "_view_count": null,
      "_view_module": "@jupyter-widgets/controls",
      "_view_module_version": "1.5.0",
      "_view_name": "ProgressView",
      "bar_style": "",
      "description": "",
      "description_tooltip": null,
      "layout": "IPY_MODEL_f58963948a91431489ea8c27ad55b299",
      "max": 50000,
      "min": 0,
      "orientation": "horizontal",
      "style": "IPY_MODEL_85daeae2fb31464fb71854f853a6cece",
      "value": 50000
     }
    },
    "5b3c7d39b0d84759a3f636c218062fe4": {
     "model_module": "@jupyter-widgets/base",
     "model_module_version": "1.2.0",
     "model_name": "LayoutModel",
     "state": {
      "_model_module": "@jupyter-widgets/base",
      "_model_module_version": "1.2.0",
      "_model_name": "LayoutModel",
      "_view_count": null,
      "_view_module": "@jupyter-widgets/base",
      "_view_module_version": "1.2.0",
      "_view_name": "LayoutView",
      "align_content": null,
      "align_items": null,
      "align_self": null,
      "border": null,
      "bottom": null,
      "display": null,
      "flex": null,
      "flex_flow": null,
      "grid_area": null,
      "grid_auto_columns": null,
      "grid_auto_flow": null,
      "grid_auto_rows": null,
      "grid_column": null,
      "grid_gap": null,
      "grid_row": null,
      "grid_template_areas": null,
      "grid_template_columns": null,
      "grid_template_rows": null,
      "height": null,
      "justify_content": null,
      "justify_items": null,
      "left": null,
      "margin": null,
      "max_height": null,
      "max_width": null,
      "min_height": null,
      "min_width": null,
      "object_fit": null,
      "object_position": null,
      "order": null,
      "overflow": null,
      "overflow_x": null,
      "overflow_y": null,
      "padding": null,
      "right": null,
      "top": null,
      "visibility": null,
      "width": null
     }
    },
    "5f70d5c58420469e98adeb8ff1d52697": {
     "model_module": "@jupyter-widgets/controls",
     "model_module_version": "1.5.0",
     "model_name": "ProgressStyleModel",
     "state": {
      "_model_module": "@jupyter-widgets/controls",
      "_model_module_version": "1.5.0",
      "_model_name": "ProgressStyleModel",
      "_view_count": null,
      "_view_module": "@jupyter-widgets/base",
      "_view_module_version": "1.2.0",
      "_view_name": "StyleView",
      "bar_color": null,
      "description_width": ""
     }
    },
    "64f742ec12464bf2b81822cf930e3963": {
     "model_module": "@jupyter-widgets/base",
     "model_module_version": "1.2.0",
     "model_name": "LayoutModel",
     "state": {
      "_model_module": "@jupyter-widgets/base",
      "_model_module_version": "1.2.0",
      "_model_name": "LayoutModel",
      "_view_count": null,
      "_view_module": "@jupyter-widgets/base",
      "_view_module_version": "1.2.0",
      "_view_name": "LayoutView",
      "align_content": null,
      "align_items": null,
      "align_self": null,
      "border": null,
      "bottom": null,
      "display": null,
      "flex": null,
      "flex_flow": null,
      "grid_area": null,
      "grid_auto_columns": null,
      "grid_auto_flow": null,
      "grid_auto_rows": null,
      "grid_column": null,
      "grid_gap": null,
      "grid_row": null,
      "grid_template_areas": null,
      "grid_template_columns": null,
      "grid_template_rows": null,
      "height": null,
      "justify_content": null,
      "justify_items": null,
      "left": null,
      "margin": null,
      "max_height": null,
      "max_width": null,
      "min_height": null,
      "min_width": null,
      "object_fit": null,
      "object_position": null,
      "order": null,
      "overflow": null,
      "overflow_x": null,
      "overflow_y": null,
      "padding": null,
      "right": null,
      "top": null,
      "visibility": "hidden",
      "width": null
     }
    },
    "661eadb021594b548aaf290db49755a7": {
     "model_module": "@jupyter-widgets/controls",
     "model_module_version": "1.5.0",
     "model_name": "ProgressStyleModel",
     "state": {
      "_model_module": "@jupyter-widgets/controls",
      "_model_module_version": "1.5.0",
      "_model_name": "ProgressStyleModel",
      "_view_count": null,
      "_view_module": "@jupyter-widgets/base",
      "_view_module_version": "1.2.0",
      "_view_name": "StyleView",
      "bar_color": null,
      "description_width": ""
     }
    },
    "66499ee932be4ef38466741e5b971a5e": {
     "model_module": "@jupyter-widgets/controls",
     "model_module_version": "1.5.0",
     "model_name": "HBoxModel",
     "state": {
      "_dom_classes": [],
      "_model_module": "@jupyter-widgets/controls",
      "_model_module_version": "1.5.0",
      "_model_name": "HBoxModel",
      "_view_count": null,
      "_view_module": "@jupyter-widgets/controls",
      "_view_module_version": "1.5.0",
      "_view_name": "HBoxView",
      "box_style": "",
      "children": [
       "IPY_MODEL_adcb6f80cb3b49c6959051f602f27bd6",
       "IPY_MODEL_c90571259f63454596bfdb23f315a84c",
       "IPY_MODEL_aeb96164ccf64192bd6490c65fe59558"
      ],
      "layout": "IPY_MODEL_9f8633f7e72742da8a65a52582d58d7e"
     }
    },
    "67b2f079a9ce4be888e8a8e8d7083054": {
     "model_module": "@jupyter-widgets/controls",
     "model_module_version": "1.5.0",
     "model_name": "HTMLModel",
     "state": {
      "_dom_classes": [],
      "_model_module": "@jupyter-widgets/controls",
      "_model_module_version": "1.5.0",
      "_model_name": "HTMLModel",
      "_view_count": null,
      "_view_module": "@jupyter-widgets/controls",
      "_view_module_version": "1.5.0",
      "_view_name": "HTMLView",
      "description": "",
      "description_tooltip": null,
      "layout": "IPY_MODEL_3d0ab7405a74473da2e7972989c314c5",
      "placeholder": "​",
      "style": "IPY_MODEL_ee4a3997a16e4de0b76436b82ff4ba4f",
      "value": "Dl Size...: 100%"
     }
    },
    "698855c84d294be68ec1914de0827e1d": {
     "model_module": "@jupyter-widgets/controls",
     "model_module_version": "1.5.0",
     "model_name": "HBoxModel",
     "state": {
      "_dom_classes": [],
      "_model_module": "@jupyter-widgets/controls",
      "_model_module_version": "1.5.0",
      "_model_name": "HBoxModel",
      "_view_count": null,
      "_view_module": "@jupyter-widgets/controls",
      "_view_module_version": "1.5.0",
      "_view_name": "HBoxView",
      "box_style": "",
      "children": [
       "IPY_MODEL_e858a0bd4d3c40f1b7d23446eaaa5fe5",
       "IPY_MODEL_5b36b7ba5d094eb0b92e3a83252bef24",
       "IPY_MODEL_7637591caa7f4832a939378b9a78b129"
      ],
      "layout": "IPY_MODEL_7336e887c6be4d0ba8d517cfe27c06b0"
     }
    },
    "69f1aaea956b4b30922b3780f2ba41d1": {
     "model_module": "@jupyter-widgets/controls",
     "model_module_version": "1.5.0",
     "model_name": "HBoxModel",
     "state": {
      "_dom_classes": [],
      "_model_module": "@jupyter-widgets/controls",
      "_model_module_version": "1.5.0",
      "_model_name": "HBoxModel",
      "_view_count": null,
      "_view_module": "@jupyter-widgets/controls",
      "_view_module_version": "1.5.0",
      "_view_name": "HBoxView",
      "box_style": "",
      "children": [
       "IPY_MODEL_177f5325a59542069bc7ac8c71c03126",
       "IPY_MODEL_7df733d2360546b29e01e80fd89a9c2c",
       "IPY_MODEL_14b930aae38140b6958595fa27af03e2"
      ],
      "layout": "IPY_MODEL_64f742ec12464bf2b81822cf930e3963"
     }
    },
    "6ad2bcff415644fbab70b4c13ac25468": {
     "model_module": "@jupyter-widgets/controls",
     "model_module_version": "1.5.0",
     "model_name": "DescriptionStyleModel",
     "state": {
      "_model_module": "@jupyter-widgets/controls",
      "_model_module_version": "1.5.0",
      "_model_name": "DescriptionStyleModel",
      "_view_count": null,
      "_view_module": "@jupyter-widgets/base",
      "_view_module_version": "1.2.0",
      "_view_name": "StyleView",
      "description_width": ""
     }
    },
    "6dae39afdea34466ab35476ef88f53d9": {
     "model_module": "@jupyter-widgets/controls",
     "model_module_version": "1.5.0",
     "model_name": "DescriptionStyleModel",
     "state": {
      "_model_module": "@jupyter-widgets/controls",
      "_model_module_version": "1.5.0",
      "_model_name": "DescriptionStyleModel",
      "_view_count": null,
      "_view_module": "@jupyter-widgets/base",
      "_view_module_version": "1.2.0",
      "_view_name": "StyleView",
      "description_width": ""
     }
    },
    "6fa4bc9f5aff486d8d7c128f7ff95658": {
     "model_module": "@jupyter-widgets/base",
     "model_module_version": "1.2.0",
     "model_name": "LayoutModel",
     "state": {
      "_model_module": "@jupyter-widgets/base",
      "_model_module_version": "1.2.0",
      "_model_name": "LayoutModel",
      "_view_count": null,
      "_view_module": "@jupyter-widgets/base",
      "_view_module_version": "1.2.0",
      "_view_name": "LayoutView",
      "align_content": null,
      "align_items": null,
      "align_self": null,
      "border": null,
      "bottom": null,
      "display": null,
      "flex": null,
      "flex_flow": null,
      "grid_area": null,
      "grid_auto_columns": null,
      "grid_auto_flow": null,
      "grid_auto_rows": null,
      "grid_column": null,
      "grid_gap": null,
      "grid_row": null,
      "grid_template_areas": null,
      "grid_template_columns": null,
      "grid_template_rows": null,
      "height": null,
      "justify_content": null,
      "justify_items": null,
      "left": null,
      "margin": null,
      "max_height": null,
      "max_width": null,
      "min_height": null,
      "min_width": null,
      "object_fit": null,
      "object_position": null,
      "order": null,
      "overflow": null,
      "overflow_x": null,
      "overflow_y": null,
      "padding": null,
      "right": null,
      "top": null,
      "visibility": null,
      "width": null
     }
    },
    "7336e887c6be4d0ba8d517cfe27c06b0": {
     "model_module": "@jupyter-widgets/base",
     "model_module_version": "1.2.0",
     "model_name": "LayoutModel",
     "state": {
      "_model_module": "@jupyter-widgets/base",
      "_model_module_version": "1.2.0",
      "_model_name": "LayoutModel",
      "_view_count": null,
      "_view_module": "@jupyter-widgets/base",
      "_view_module_version": "1.2.0",
      "_view_name": "LayoutView",
      "align_content": null,
      "align_items": null,
      "align_self": null,
      "border": null,
      "bottom": null,
      "display": null,
      "flex": null,
      "flex_flow": null,
      "grid_area": null,
      "grid_auto_columns": null,
      "grid_auto_flow": null,
      "grid_auto_rows": null,
      "grid_column": null,
      "grid_gap": null,
      "grid_row": null,
      "grid_template_areas": null,
      "grid_template_columns": null,
      "grid_template_rows": null,
      "height": null,
      "justify_content": null,
      "justify_items": null,
      "left": null,
      "margin": null,
      "max_height": null,
      "max_width": null,
      "min_height": null,
      "min_width": null,
      "object_fit": null,
      "object_position": null,
      "order": null,
      "overflow": null,
      "overflow_x": null,
      "overflow_y": null,
      "padding": null,
      "right": null,
      "top": null,
      "visibility": "hidden",
      "width": null
     }
    },
    "742549c37dd140c3a5767aa8c16cdc9d": {
     "model_module": "@jupyter-widgets/controls",
     "model_module_version": "1.5.0",
     "model_name": "HTMLModel",
     "state": {
      "_dom_classes": [],
      "_model_module": "@jupyter-widgets/controls",
      "_model_module_version": "1.5.0",
      "_model_name": "HTMLModel",
      "_view_count": null,
      "_view_module": "@jupyter-widgets/controls",
      "_view_module_version": "1.5.0",
      "_view_name": "HTMLView",
      "description": "",
      "description_tooltip": null,
      "layout": "IPY_MODEL_e86b06f021ee41a1936155b0d67e6900",
      "placeholder": "​",
      "style": "IPY_MODEL_c81a14e5313e44b1b7af34ac2ff19645",
      "value": " 1/1 [00:16&lt;00:00, 16.89s/ url]"
     }
    },
    "7637591caa7f4832a939378b9a78b129": {
     "model_module": "@jupyter-widgets/controls",
     "model_module_version": "1.5.0",
     "model_name": "HTMLModel",
     "state": {
      "_dom_classes": [],
      "_model_module": "@jupyter-widgets/controls",
      "_model_module_version": "1.5.0",
      "_model_name": "HTMLModel",
      "_view_count": null,
      "_view_module": "@jupyter-widgets/controls",
      "_view_module_version": "1.5.0",
      "_view_name": "HTMLView",
      "description": "",
      "description_tooltip": null,
      "layout": "IPY_MODEL_5b3c7d39b0d84759a3f636c218062fe4",
      "placeholder": "​",
      "style": "IPY_MODEL_9cace6d4593f42d8ad86ccb221d117ee",
      "value": " 33771/50000 [00:00&lt;00:00, 183253.10 examples/s]"
     }
    },
    "7df733d2360546b29e01e80fd89a9c2c": {
     "model_module": "@jupyter-widgets/controls",
     "model_module_version": "1.5.0",
     "model_name": "FloatProgressModel",
     "state": {
      "_dom_classes": [],
      "_model_module": "@jupyter-widgets/controls",
      "_model_module_version": "1.5.0",
      "_model_name": "FloatProgressModel",
      "_view_count": null,
      "_view_module": "@jupyter-widgets/controls",
      "_view_module_version": "1.5.0",
      "_view_name": "ProgressView",
      "bar_style": "",
      "description": "",
      "description_tooltip": null,
      "layout": "IPY_MODEL_d44a01ab2e6d4f5f8c49493350ea8ce9",
      "max": 3,
      "min": 0,
      "orientation": "horizontal",
      "style": "IPY_MODEL_5f70d5c58420469e98adeb8ff1d52697",
      "value": 3
     }
    },
    "85daeae2fb31464fb71854f853a6cece": {
     "model_module": "@jupyter-widgets/controls",
     "model_module_version": "1.5.0",
     "model_name": "ProgressStyleModel",
     "state": {
      "_model_module": "@jupyter-widgets/controls",
      "_model_module_version": "1.5.0",
      "_model_name": "ProgressStyleModel",
      "_view_count": null,
      "_view_module": "@jupyter-widgets/base",
      "_view_module_version": "1.2.0",
      "_view_name": "StyleView",
      "bar_color": null,
      "description_width": ""
     }
    },
    "89700afb3e5b480e9e3929cb506994f8": {
     "model_module": "@jupyter-widgets/controls",
     "model_module_version": "1.5.0",
     "model_name": "ProgressStyleModel",
     "state": {
      "_model_module": "@jupyter-widgets/controls",
      "_model_module_version": "1.5.0",
      "_model_name": "ProgressStyleModel",
      "_view_count": null,
      "_view_module": "@jupyter-widgets/base",
      "_view_module_version": "1.2.0",
      "_view_name": "StyleView",
      "bar_color": null,
      "description_width": ""
     }
    },
    "8a1032e9f34d4a82ac31c019a0abdfa6": {
     "model_module": "@jupyter-widgets/controls",
     "model_module_version": "1.5.0",
     "model_name": "FloatProgressModel",
     "state": {
      "_dom_classes": [],
      "_model_module": "@jupyter-widgets/controls",
      "_model_module_version": "1.5.0",
      "_model_name": "FloatProgressModel",
      "_view_count": null,
      "_view_module": "@jupyter-widgets/controls",
      "_view_module_version": "1.5.0",
      "_view_name": "ProgressView",
      "bar_style": "",
      "description": "",
      "description_tooltip": null,
      "layout": "IPY_MODEL_1ba65e39eb1942deafbf02a7c41fd32f",
      "max": 25000,
      "min": 0,
      "orientation": "horizontal",
      "style": "IPY_MODEL_1abdf898b41b4abdbfc918085d891f2e",
      "value": 25000
     }
    },
    "8a555707227e426eb06640390f87fd48": {
     "model_module": "@jupyter-widgets/controls",
     "model_module_version": "1.5.0",
     "model_name": "DescriptionStyleModel",
     "state": {
      "_model_module": "@jupyter-widgets/controls",
      "_model_module_version": "1.5.0",
      "_model_name": "DescriptionStyleModel",
      "_view_count": null,
      "_view_module": "@jupyter-widgets/base",
      "_view_module_version": "1.2.0",
      "_view_name": "StyleView",
      "description_width": ""
     }
    },
    "8b6db1b17e514f408b67c4652078e60c": {
     "model_module": "@jupyter-widgets/controls",
     "model_module_version": "1.5.0",
     "model_name": "FloatProgressModel",
     "state": {
      "_dom_classes": [],
      "_model_module": "@jupyter-widgets/controls",
      "_model_module_version": "1.5.0",
      "_model_name": "FloatProgressModel",
      "_view_count": null,
      "_view_module": "@jupyter-widgets/controls",
      "_view_module_version": "1.5.0",
      "_view_name": "ProgressView",
      "bar_style": "success",
      "description": "",
      "description_tooltip": null,
      "layout": "IPY_MODEL_09ea431baa4447738317ee936c8b4f9c",
      "max": 1,
      "min": 0,
      "orientation": "horizontal",
      "style": "IPY_MODEL_e9630727cee743e18b9881a3d07371d4",
      "value": 1
     }
    },
    "8c06db427ca1484cbcb5b8b35dc98025": {
     "model_module": "@jupyter-widgets/controls",
     "model_module_version": "1.5.0",
     "model_name": "ProgressStyleModel",
     "state": {
      "_model_module": "@jupyter-widgets/controls",
      "_model_module_version": "1.5.0",
      "_model_name": "ProgressStyleModel",
      "_view_count": null,
      "_view_module": "@jupyter-widgets/base",
      "_view_module_version": "1.2.0",
      "_view_name": "StyleView",
      "bar_color": null,
      "description_width": ""
     }
    },
    "98541caefa1043618c6ace3d36f891d1": {
     "model_module": "@jupyter-widgets/controls",
     "model_module_version": "1.5.0",
     "model_name": "DescriptionStyleModel",
     "state": {
      "_model_module": "@jupyter-widgets/controls",
      "_model_module_version": "1.5.0",
      "_model_name": "DescriptionStyleModel",
      "_view_count": null,
      "_view_module": "@jupyter-widgets/base",
      "_view_module_version": "1.2.0",
      "_view_name": "StyleView",
      "description_width": ""
     }
    },
    "9cace6d4593f42d8ad86ccb221d117ee": {
     "model_module": "@jupyter-widgets/controls",
     "model_module_version": "1.5.0",
     "model_name": "DescriptionStyleModel",
     "state": {
      "_model_module": "@jupyter-widgets/controls",
      "_model_module_version": "1.5.0",
      "_model_name": "DescriptionStyleModel",
      "_view_count": null,
      "_view_module": "@jupyter-widgets/base",
      "_view_module_version": "1.2.0",
      "_view_name": "StyleView",
      "description_width": ""
     }
    },
    "9f8633f7e72742da8a65a52582d58d7e": {
     "model_module": "@jupyter-widgets/base",
     "model_module_version": "1.2.0",
     "model_name": "LayoutModel",
     "state": {
      "_model_module": "@jupyter-widgets/base",
      "_model_module_version": "1.2.0",
      "_model_name": "LayoutModel",
      "_view_count": null,
      "_view_module": "@jupyter-widgets/base",
      "_view_module_version": "1.2.0",
      "_view_name": "LayoutView",
      "align_content": null,
      "align_items": null,
      "align_self": null,
      "border": null,
      "bottom": null,
      "display": null,
      "flex": null,
      "flex_flow": null,
      "grid_area": null,
      "grid_auto_columns": null,
      "grid_auto_flow": null,
      "grid_auto_rows": null,
      "grid_column": null,
      "grid_gap": null,
      "grid_row": null,
      "grid_template_areas": null,
      "grid_template_columns": null,
      "grid_template_rows": null,
      "height": null,
      "justify_content": null,
      "justify_items": null,
      "left": null,
      "margin": null,
      "max_height": null,
      "max_width": null,
      "min_height": null,
      "min_width": null,
      "object_fit": null,
      "object_position": null,
      "order": null,
      "overflow": null,
      "overflow_x": null,
      "overflow_y": null,
      "padding": null,
      "right": null,
      "top": null,
      "visibility": "hidden",
      "width": null
     }
    },
    "a1e8c2ab03364101b0c793e9eaf4bcee": {
     "model_module": "@jupyter-widgets/controls",
     "model_module_version": "1.5.0",
     "model_name": "HTMLModel",
     "state": {
      "_dom_classes": [],
      "_model_module": "@jupyter-widgets/controls",
      "_model_module_version": "1.5.0",
      "_model_name": "HTMLModel",
      "_view_count": null,
      "_view_module": "@jupyter-widgets/controls",
      "_view_module_version": "1.5.0",
      "_view_name": "HTMLView",
      "description": "",
      "description_tooltip": null,
      "layout": "IPY_MODEL_f1767f480f0042d8bd6bd116c818878f",
      "placeholder": "​",
      "style": "IPY_MODEL_6dae39afdea34466ab35476ef88f53d9",
      "value": "Shuffling /root/tensorflow_datasets/imdb_reviews/plain_text/1.0.0.incompleteT9MS8H/imdb_reviews-test.tfrecord*...:  51%"
     }
    },
    "a31437e8405541e6b340981974cbfc32": {
     "model_module": "@jupyter-widgets/base",
     "model_module_version": "1.2.0",
     "model_name": "LayoutModel",
     "state": {
      "_model_module": "@jupyter-widgets/base",
      "_model_module_version": "1.2.0",
      "_model_name": "LayoutModel",
      "_view_count": null,
      "_view_module": "@jupyter-widgets/base",
      "_view_module_version": "1.2.0",
      "_view_name": "LayoutView",
      "align_content": null,
      "align_items": null,
      "align_self": null,
      "border": null,
      "bottom": null,
      "display": null,
      "flex": null,
      "flex_flow": null,
      "grid_area": null,
      "grid_auto_columns": null,
      "grid_auto_flow": null,
      "grid_auto_rows": null,
      "grid_column": null,
      "grid_gap": null,
      "grid_row": null,
      "grid_template_areas": null,
      "grid_template_columns": null,
      "grid_template_rows": null,
      "height": null,
      "justify_content": null,
      "justify_items": null,
      "left": null,
      "margin": null,
      "max_height": null,
      "max_width": null,
      "min_height": null,
      "min_width": null,
      "object_fit": null,
      "object_position": null,
      "order": null,
      "overflow": null,
      "overflow_x": null,
      "overflow_y": null,
      "padding": null,
      "right": null,
      "top": null,
      "visibility": null,
      "width": null
     }
    },
    "a3f2e0d211b64b418dfe068fa16bd472": {
     "model_module": "@jupyter-widgets/base",
     "model_module_version": "1.2.0",
     "model_name": "LayoutModel",
     "state": {
      "_model_module": "@jupyter-widgets/base",
      "_model_module_version": "1.2.0",
      "_model_name": "LayoutModel",
      "_view_count": null,
      "_view_module": "@jupyter-widgets/base",
      "_view_module_version": "1.2.0",
      "_view_name": "LayoutView",
      "align_content": null,
      "align_items": null,
      "align_self": null,
      "border": null,
      "bottom": null,
      "display": null,
      "flex": null,
      "flex_flow": null,
      "grid_area": null,
      "grid_auto_columns": null,
      "grid_auto_flow": null,
      "grid_auto_rows": null,
      "grid_column": null,
      "grid_gap": null,
      "grid_row": null,
      "grid_template_areas": null,
      "grid_template_columns": null,
      "grid_template_rows": null,
      "height": null,
      "justify_content": null,
      "justify_items": null,
      "left": null,
      "margin": null,
      "max_height": null,
      "max_width": null,
      "min_height": null,
      "min_width": null,
      "object_fit": null,
      "object_position": null,
      "order": null,
      "overflow": null,
      "overflow_x": null,
      "overflow_y": null,
      "padding": null,
      "right": null,
      "top": null,
      "visibility": null,
      "width": null
     }
    },
    "a6fce7c64cb24ca4b95b3d50b351ae2a": {
     "model_module": "@jupyter-widgets/controls",
     "model_module_version": "1.5.0",
     "model_name": "HTMLModel",
     "state": {
      "_dom_classes": [],
      "_model_module": "@jupyter-widgets/controls",
      "_model_module_version": "1.5.0",
      "_model_name": "HTMLModel",
      "_view_count": null,
      "_view_module": "@jupyter-widgets/controls",
      "_view_module_version": "1.5.0",
      "_view_name": "HTMLView",
      "description": "",
      "description_tooltip": null,
      "layout": "IPY_MODEL_6fa4bc9f5aff486d8d7c128f7ff95658",
      "placeholder": "​",
      "style": "IPY_MODEL_6ad2bcff415644fbab70b4c13ac25468",
      "value": " 19642/25000 [00:06&lt;00:01, 3766.71 examples/s]"
     }
    },
    "ac9e8aaba2294d09bbf903ea121d5d52": {
     "model_module": "@jupyter-widgets/controls",
     "model_module_version": "1.5.0",
     "model_name": "HTMLModel",
     "state": {
      "_dom_classes": [],
      "_model_module": "@jupyter-widgets/controls",
      "_model_module_version": "1.5.0",
      "_model_name": "HTMLModel",
      "_view_count": null,
      "_view_module": "@jupyter-widgets/controls",
      "_view_module_version": "1.5.0",
      "_view_name": "HTMLView",
      "description": "",
      "description_tooltip": null,
      "layout": "IPY_MODEL_3f9a0b486a2b48428c17a161556cf7fd",
      "placeholder": "​",
      "style": "IPY_MODEL_39c59c8852f04ff7aefd2e052d0fd6a2",
      "value": " 20857/25000 [00:04&lt;00:00, 5585.89 examples/s]"
     }
    },
    "adcb6f80cb3b49c6959051f602f27bd6": {
     "model_module": "@jupyter-widgets/controls",
     "model_module_version": "1.5.0",
     "model_name": "HTMLModel",
     "state": {
      "_dom_classes": [],
      "_model_module": "@jupyter-widgets/controls",
      "_model_module_version": "1.5.0",
      "_model_name": "HTMLModel",
      "_view_count": null,
      "_view_module": "@jupyter-widgets/controls",
      "_view_module_version": "1.5.0",
      "_view_name": "HTMLView",
      "description": "",
      "description_tooltip": null,
      "layout": "IPY_MODEL_e8a4dc660c174f46ae0f1691c0514228",
      "placeholder": "​",
      "style": "IPY_MODEL_db8c615b989f4d8cbeefda263b462aff",
      "value": "Shuffling /root/tensorflow_datasets/imdb_reviews/plain_text/1.0.0.incompleteT9MS8H/imdb_reviews-train.tfrecord*...:  55%"
     }
    },
    "aeb96164ccf64192bd6490c65fe59558": {
     "model_module": "@jupyter-widgets/controls",
     "model_module_version": "1.5.0",
     "model_name": "HTMLModel",
     "state": {
      "_dom_classes": [],
      "_model_module": "@jupyter-widgets/controls",
      "_model_module_version": "1.5.0",
      "_model_name": "HTMLModel",
      "_view_count": null,
      "_view_module": "@jupyter-widgets/controls",
      "_view_module_version": "1.5.0",
      "_view_name": "HTMLView",
      "description": "",
      "description_tooltip": null,
      "layout": "IPY_MODEL_ee85c84b85174c82aae448e02acaec03",
      "placeholder": "​",
      "style": "IPY_MODEL_4bb4361891d0486090e50fe63b8ac43e",
      "value": " 13825/25000 [00:00&lt;00:00, 138236.29 examples/s]"
     }
    },
    "afda596903fd4817ac516e64e9b41ae0": {
     "model_module": "@jupyter-widgets/controls",
     "model_module_version": "1.5.0",
     "model_name": "FloatProgressModel",
     "state": {
      "_dom_classes": [],
      "_model_module": "@jupyter-widgets/controls",
      "_model_module_version": "1.5.0",
      "_model_name": "FloatProgressModel",
      "_view_count": null,
      "_view_module": "@jupyter-widgets/controls",
      "_view_module_version": "1.5.0",
      "_view_name": "ProgressView",
      "bar_style": "",
      "description": "",
      "description_tooltip": null,
      "layout": "IPY_MODEL_5096c1e8063e4a9b8122941a2af53cf6",
      "max": 25000,
      "min": 0,
      "orientation": "horizontal",
      "style": "IPY_MODEL_d686b567f98b463db6b0ce82d5cd52db",
      "value": 25000
     }
    },
    "b62187ea4d3e42fe93e6c68aee28adc8": {
     "model_module": "@jupyter-widgets/controls",
     "model_module_version": "1.5.0",
     "model_name": "DescriptionStyleModel",
     "state": {
      "_model_module": "@jupyter-widgets/controls",
      "_model_module_version": "1.5.0",
      "_model_name": "DescriptionStyleModel",
      "_view_count": null,
      "_view_module": "@jupyter-widgets/base",
      "_view_module_version": "1.2.0",
      "_view_name": "StyleView",
      "description_width": ""
     }
    },
    "b6e5eebc5fcc438d9fb5bec250289d39": {
     "model_module": "@jupyter-widgets/controls",
     "model_module_version": "1.5.0",
     "model_name": "HBoxModel",
     "state": {
      "_dom_classes": [],
      "_model_module": "@jupyter-widgets/controls",
      "_model_module_version": "1.5.0",
      "_model_name": "HBoxModel",
      "_view_count": null,
      "_view_module": "@jupyter-widgets/controls",
      "_view_module_version": "1.5.0",
      "_view_name": "HBoxView",
      "box_style": "",
      "children": [
       "IPY_MODEL_ff48dd025cfd4a2eac2c1057a38bc2ca",
       "IPY_MODEL_b73b5ad6c0314e679a520319eb12d1ad",
       "IPY_MODEL_3cf474a4ef494989a5472423a16e4cb1"
      ],
      "layout": "IPY_MODEL_b91fc94838814320bbf49cef7464ba56"
     }
    },
    "b73b5ad6c0314e679a520319eb12d1ad": {
     "model_module": "@jupyter-widgets/controls",
     "model_module_version": "1.5.0",
     "model_name": "FloatProgressModel",
     "state": {
      "_dom_classes": [],
      "_model_module": "@jupyter-widgets/controls",
      "_model_module_version": "1.5.0",
      "_model_name": "FloatProgressModel",
      "_view_count": null,
      "_view_module": "@jupyter-widgets/controls",
      "_view_module_version": "1.5.0",
      "_view_name": "ProgressView",
      "bar_style": "",
      "description": "",
      "description_tooltip": null,
      "layout": "IPY_MODEL_1f9a0f99538d4e4e9134979ea4701cce",
      "max": 50000,
      "min": 0,
      "orientation": "horizontal",
      "style": "IPY_MODEL_89700afb3e5b480e9e3929cb506994f8",
      "value": 50000
     }
    },
    "b91fc94838814320bbf49cef7464ba56": {
     "model_module": "@jupyter-widgets/base",
     "model_module_version": "1.2.0",
     "model_name": "LayoutModel",
     "state": {
      "_model_module": "@jupyter-widgets/base",
      "_model_module_version": "1.2.0",
      "_model_name": "LayoutModel",
      "_view_count": null,
      "_view_module": "@jupyter-widgets/base",
      "_view_module_version": "1.2.0",
      "_view_name": "LayoutView",
      "align_content": null,
      "align_items": null,
      "align_self": null,
      "border": null,
      "bottom": null,
      "display": null,
      "flex": null,
      "flex_flow": null,
      "grid_area": null,
      "grid_auto_columns": null,
      "grid_auto_flow": null,
      "grid_auto_rows": null,
      "grid_column": null,
      "grid_gap": null,
      "grid_row": null,
      "grid_template_areas": null,
      "grid_template_columns": null,
      "grid_template_rows": null,
      "height": null,
      "justify_content": null,
      "justify_items": null,
      "left": null,
      "margin": null,
      "max_height": null,
      "max_width": null,
      "min_height": null,
      "min_width": null,
      "object_fit": null,
      "object_position": null,
      "order": null,
      "overflow": null,
      "overflow_x": null,
      "overflow_y": null,
      "padding": null,
      "right": null,
      "top": null,
      "visibility": "hidden",
      "width": null
     }
    },
    "bb12691dc89f4bfc805f92a9740f8f24": {
     "model_module": "@jupyter-widgets/controls",
     "model_module_version": "1.5.0",
     "model_name": "HTMLModel",
     "state": {
      "_dom_classes": [],
      "_model_module": "@jupyter-widgets/controls",
      "_model_module_version": "1.5.0",
      "_model_name": "HTMLModel",
      "_view_count": null,
      "_view_module": "@jupyter-widgets/controls",
      "_view_module_version": "1.5.0",
      "_view_name": "HTMLView",
      "description": "",
      "description_tooltip": null,
      "layout": "IPY_MODEL_a3f2e0d211b64b418dfe068fa16bd472",
      "placeholder": "​",
      "style": "IPY_MODEL_dbb4e89fdf064af58a7bc0a210f3bf3d",
      "value": " 80/80 [00:16&lt;00:00,  5.81 MiB/s]"
     }
    },
    "bb34ff08bcfc4e5987155adb1126d45f": {
     "model_module": "@jupyter-widgets/controls",
     "model_module_version": "1.5.0",
     "model_name": "HTMLModel",
     "state": {
      "_dom_classes": [],
      "_model_module": "@jupyter-widgets/controls",
      "_model_module_version": "1.5.0",
      "_model_name": "HTMLModel",
      "_view_count": null,
      "_view_module": "@jupyter-widgets/controls",
      "_view_module_version": "1.5.0",
      "_view_name": "HTMLView",
      "description": "",
      "description_tooltip": null,
      "layout": "IPY_MODEL_0daf346ae5014f2b971a6fc0ad94d51e",
      "placeholder": "​",
      "style": "IPY_MODEL_1fb391c7b90b49b5ae99b4bb06efd019",
      "value": " 12772/25000 [00:00&lt;00:00, 127707.94 examples/s]"
     }
    },
    "bbb33a4b21a74b9a86c1aaab1d249160": {
     "model_module": "@jupyter-widgets/base",
     "model_module_version": "1.2.0",
     "model_name": "LayoutModel",
     "state": {
      "_model_module": "@jupyter-widgets/base",
      "_model_module_version": "1.2.0",
      "_model_name": "LayoutModel",
      "_view_count": null,
      "_view_module": "@jupyter-widgets/base",
      "_view_module_version": "1.2.0",
      "_view_name": "LayoutView",
      "align_content": null,
      "align_items": null,
      "align_self": null,
      "border": null,
      "bottom": null,
      "display": null,
      "flex": null,
      "flex_flow": null,
      "grid_area": null,
      "grid_auto_columns": null,
      "grid_auto_flow": null,
      "grid_auto_rows": null,
      "grid_column": null,
      "grid_gap": null,
      "grid_row": null,
      "grid_template_areas": null,
      "grid_template_columns": null,
      "grid_template_rows": null,
      "height": null,
      "justify_content": null,
      "justify_items": null,
      "left": null,
      "margin": null,
      "max_height": null,
      "max_width": null,
      "min_height": null,
      "min_width": null,
      "object_fit": null,
      "object_position": null,
      "order": null,
      "overflow": null,
      "overflow_x": null,
      "overflow_y": null,
      "padding": null,
      "right": null,
      "top": null,
      "visibility": null,
      "width": null
     }
    },
    "c039053c23774f96b0155a244bb0ef9a": {
     "model_module": "@jupyter-widgets/controls",
     "model_module_version": "1.5.0",
     "model_name": "HBoxModel",
     "state": {
      "_dom_classes": [],
      "_model_module": "@jupyter-widgets/controls",
      "_model_module_version": "1.5.0",
      "_model_name": "HBoxModel",
      "_view_count": null,
      "_view_module": "@jupyter-widgets/controls",
      "_view_module_version": "1.5.0",
      "_view_name": "HBoxView",
      "box_style": "",
      "children": [
       "IPY_MODEL_67b2f079a9ce4be888e8a8e8d7083054",
       "IPY_MODEL_8b6db1b17e514f408b67c4652078e60c",
       "IPY_MODEL_bb12691dc89f4bfc805f92a9740f8f24"
      ],
      "layout": "IPY_MODEL_0e80f77fb03c43ff9ed5f79c7d2ce4ef"
     }
    },
    "c81a14e5313e44b1b7af34ac2ff19645": {
     "model_module": "@jupyter-widgets/controls",
     "model_module_version": "1.5.0",
     "model_name": "DescriptionStyleModel",
     "state": {
      "_model_module": "@jupyter-widgets/controls",
      "_model_module_version": "1.5.0",
      "_model_name": "DescriptionStyleModel",
      "_view_count": null,
      "_view_module": "@jupyter-widgets/base",
      "_view_module_version": "1.2.0",
      "_view_name": "StyleView",
      "description_width": ""
     }
    },
    "c891a104f51b45dbbbdbca21094e5220": {
     "model_module": "@jupyter-widgets/controls",
     "model_module_version": "1.5.0",
     "model_name": "ProgressStyleModel",
     "state": {
      "_model_module": "@jupyter-widgets/controls",
      "_model_module_version": "1.5.0",
      "_model_name": "ProgressStyleModel",
      "_view_count": null,
      "_view_module": "@jupyter-widgets/base",
      "_view_module_version": "1.2.0",
      "_view_name": "StyleView",
      "bar_color": null,
      "description_width": ""
     }
    },
    "c90571259f63454596bfdb23f315a84c": {
     "model_module": "@jupyter-widgets/controls",
     "model_module_version": "1.5.0",
     "model_name": "FloatProgressModel",
     "state": {
      "_dom_classes": [],
      "_model_module": "@jupyter-widgets/controls",
      "_model_module_version": "1.5.0",
      "_model_name": "FloatProgressModel",
      "_view_count": null,
      "_view_module": "@jupyter-widgets/controls",
      "_view_module_version": "1.5.0",
      "_view_name": "ProgressView",
      "bar_style": "",
      "description": "",
      "description_tooltip": null,
      "layout": "IPY_MODEL_bbb33a4b21a74b9a86c1aaab1d249160",
      "max": 25000,
      "min": 0,
      "orientation": "horizontal",
      "style": "IPY_MODEL_8c06db427ca1484cbcb5b8b35dc98025",
      "value": 25000
     }
    },
    "cfb50bd564de4f369db94ec4d548b6f8": {
     "model_module": "@jupyter-widgets/controls",
     "model_module_version": "1.5.0",
     "model_name": "HBoxModel",
     "state": {
      "_dom_classes": [],
      "_model_module": "@jupyter-widgets/controls",
      "_model_module_version": "1.5.0",
      "_model_name": "HBoxModel",
      "_view_count": null,
      "_view_module": "@jupyter-widgets/controls",
      "_view_module_version": "1.5.0",
      "_view_name": "HBoxView",
      "box_style": "",
      "children": [
       "IPY_MODEL_5b1c2fba0f6e41aca6cd9bd4aa34c697",
       "IPY_MODEL_afda596903fd4817ac516e64e9b41ae0",
       "IPY_MODEL_ac9e8aaba2294d09bbf903ea121d5d52"
      ],
      "layout": "IPY_MODEL_55444a0fa238499588dd4859696179b1"
     }
    },
    "d44a01ab2e6d4f5f8c49493350ea8ce9": {
     "model_module": "@jupyter-widgets/base",
     "model_module_version": "1.2.0",
     "model_name": "LayoutModel",
     "state": {
      "_model_module": "@jupyter-widgets/base",
      "_model_module_version": "1.2.0",
      "_model_name": "LayoutModel",
      "_view_count": null,
      "_view_module": "@jupyter-widgets/base",
      "_view_module_version": "1.2.0",
      "_view_name": "LayoutView",
      "align_content": null,
      "align_items": null,
      "align_self": null,
      "border": null,
      "bottom": null,
      "display": null,
      "flex": null,
      "flex_flow": null,
      "grid_area": null,
      "grid_auto_columns": null,
      "grid_auto_flow": null,
      "grid_auto_rows": null,
      "grid_column": null,
      "grid_gap": null,
      "grid_row": null,
      "grid_template_areas": null,
      "grid_template_columns": null,
      "grid_template_rows": null,
      "height": null,
      "justify_content": null,
      "justify_items": null,
      "left": null,
      "margin": null,
      "max_height": null,
      "max_width": null,
      "min_height": null,
      "min_width": null,
      "object_fit": null,
      "object_position": null,
      "order": null,
      "overflow": null,
      "overflow_x": null,
      "overflow_y": null,
      "padding": null,
      "right": null,
      "top": null,
      "visibility": null,
      "width": null
     }
    },
    "d686b567f98b463db6b0ce82d5cd52db": {
     "model_module": "@jupyter-widgets/controls",
     "model_module_version": "1.5.0",
     "model_name": "ProgressStyleModel",
     "state": {
      "_model_module": "@jupyter-widgets/controls",
      "_model_module_version": "1.5.0",
      "_model_name": "ProgressStyleModel",
      "_view_count": null,
      "_view_module": "@jupyter-widgets/base",
      "_view_module_version": "1.2.0",
      "_view_name": "StyleView",
      "bar_color": null,
      "description_width": ""
     }
    },
    "db8c615b989f4d8cbeefda263b462aff": {
     "model_module": "@jupyter-widgets/controls",
     "model_module_version": "1.5.0",
     "model_name": "DescriptionStyleModel",
     "state": {
      "_model_module": "@jupyter-widgets/controls",
      "_model_module_version": "1.5.0",
      "_model_name": "DescriptionStyleModel",
      "_view_count": null,
      "_view_module": "@jupyter-widgets/base",
      "_view_module_version": "1.2.0",
      "_view_name": "StyleView",
      "description_width": ""
     }
    },
    "dbb4e89fdf064af58a7bc0a210f3bf3d": {
     "model_module": "@jupyter-widgets/controls",
     "model_module_version": "1.5.0",
     "model_name": "DescriptionStyleModel",
     "state": {
      "_model_module": "@jupyter-widgets/controls",
      "_model_module_version": "1.5.0",
      "_model_name": "DescriptionStyleModel",
      "_view_count": null,
      "_view_module": "@jupyter-widgets/base",
      "_view_module_version": "1.2.0",
      "_view_name": "StyleView",
      "description_width": ""
     }
    },
    "dc0065dbe64b497aa868168eca0c6295": {
     "model_module": "@jupyter-widgets/base",
     "model_module_version": "1.2.0",
     "model_name": "LayoutModel",
     "state": {
      "_model_module": "@jupyter-widgets/base",
      "_model_module_version": "1.2.0",
      "_model_name": "LayoutModel",
      "_view_count": null,
      "_view_module": "@jupyter-widgets/base",
      "_view_module_version": "1.2.0",
      "_view_name": "LayoutView",
      "align_content": null,
      "align_items": null,
      "align_self": null,
      "border": null,
      "bottom": null,
      "display": null,
      "flex": null,
      "flex_flow": null,
      "grid_area": null,
      "grid_auto_columns": null,
      "grid_auto_flow": null,
      "grid_auto_rows": null,
      "grid_column": null,
      "grid_gap": null,
      "grid_row": null,
      "grid_template_areas": null,
      "grid_template_columns": null,
      "grid_template_rows": null,
      "height": null,
      "justify_content": null,
      "justify_items": null,
      "left": null,
      "margin": null,
      "max_height": null,
      "max_width": null,
      "min_height": null,
      "min_width": null,
      "object_fit": null,
      "object_position": null,
      "order": null,
      "overflow": null,
      "overflow_x": null,
      "overflow_y": null,
      "padding": null,
      "right": null,
      "top": null,
      "visibility": null,
      "width": null
     }
    },
    "e858a0bd4d3c40f1b7d23446eaaa5fe5": {
     "model_module": "@jupyter-widgets/controls",
     "model_module_version": "1.5.0",
     "model_name": "HTMLModel",
     "state": {
      "_dom_classes": [],
      "_model_module": "@jupyter-widgets/controls",
      "_model_module_version": "1.5.0",
      "_model_name": "HTMLModel",
      "_view_count": null,
      "_view_module": "@jupyter-widgets/controls",
      "_view_module_version": "1.5.0",
      "_view_name": "HTMLView",
      "description": "",
      "description_tooltip": null,
      "layout": "IPY_MODEL_05a1aac4aea94b2d8fb4cc402642457d",
      "placeholder": "​",
      "style": "IPY_MODEL_4067f8c5fc7b43ba90b124f2a18a77b8",
      "value": "Shuffling /root/tensorflow_datasets/imdb_reviews/plain_text/1.0.0.incompleteT9MS8H/imdb_reviews-unsupervised.tfrecord*...:  68%"
     }
    },
    "e86b06f021ee41a1936155b0d67e6900": {
     "model_module": "@jupyter-widgets/base",
     "model_module_version": "1.2.0",
     "model_name": "LayoutModel",
     "state": {
      "_model_module": "@jupyter-widgets/base",
      "_model_module_version": "1.2.0",
      "_model_name": "LayoutModel",
      "_view_count": null,
      "_view_module": "@jupyter-widgets/base",
      "_view_module_version": "1.2.0",
      "_view_name": "LayoutView",
      "align_content": null,
      "align_items": null,
      "align_self": null,
      "border": null,
      "bottom": null,
      "display": null,
      "flex": null,
      "flex_flow": null,
      "grid_area": null,
      "grid_auto_columns": null,
      "grid_auto_flow": null,
      "grid_auto_rows": null,
      "grid_column": null,
      "grid_gap": null,
      "grid_row": null,
      "grid_template_areas": null,
      "grid_template_columns": null,
      "grid_template_rows": null,
      "height": null,
      "justify_content": null,
      "justify_items": null,
      "left": null,
      "margin": null,
      "max_height": null,
      "max_width": null,
      "min_height": null,
      "min_width": null,
      "object_fit": null,
      "object_position": null,
      "order": null,
      "overflow": null,
      "overflow_x": null,
      "overflow_y": null,
      "padding": null,
      "right": null,
      "top": null,
      "visibility": null,
      "width": null
     }
    },
    "e8a4dc660c174f46ae0f1691c0514228": {
     "model_module": "@jupyter-widgets/base",
     "model_module_version": "1.2.0",
     "model_name": "LayoutModel",
     "state": {
      "_model_module": "@jupyter-widgets/base",
      "_model_module_version": "1.2.0",
      "_model_name": "LayoutModel",
      "_view_count": null,
      "_view_module": "@jupyter-widgets/base",
      "_view_module_version": "1.2.0",
      "_view_name": "LayoutView",
      "align_content": null,
      "align_items": null,
      "align_self": null,
      "border": null,
      "bottom": null,
      "display": null,
      "flex": null,
      "flex_flow": null,
      "grid_area": null,
      "grid_auto_columns": null,
      "grid_auto_flow": null,
      "grid_auto_rows": null,
      "grid_column": null,
      "grid_gap": null,
      "grid_row": null,
      "grid_template_areas": null,
      "grid_template_columns": null,
      "grid_template_rows": null,
      "height": null,
      "justify_content": null,
      "justify_items": null,
      "left": null,
      "margin": null,
      "max_height": null,
      "max_width": null,
      "min_height": null,
      "min_width": null,
      "object_fit": null,
      "object_position": null,
      "order": null,
      "overflow": null,
      "overflow_x": null,
      "overflow_y": null,
      "padding": null,
      "right": null,
      "top": null,
      "visibility": null,
      "width": null
     }
    },
    "e9630727cee743e18b9881a3d07371d4": {
     "model_module": "@jupyter-widgets/controls",
     "model_module_version": "1.5.0",
     "model_name": "ProgressStyleModel",
     "state": {
      "_model_module": "@jupyter-widgets/controls",
      "_model_module_version": "1.5.0",
      "_model_name": "ProgressStyleModel",
      "_view_count": null,
      "_view_module": "@jupyter-widgets/base",
      "_view_module_version": "1.2.0",
      "_view_name": "StyleView",
      "bar_color": null,
      "description_width": ""
     }
    },
    "edc9fd13b76d49febbcd889458bb0592": {
     "model_module": "@jupyter-widgets/controls",
     "model_module_version": "1.5.0",
     "model_name": "FloatProgressModel",
     "state": {
      "_dom_classes": [],
      "_model_module": "@jupyter-widgets/controls",
      "_model_module_version": "1.5.0",
      "_model_name": "FloatProgressModel",
      "_view_count": null,
      "_view_module": "@jupyter-widgets/controls",
      "_view_module_version": "1.5.0",
      "_view_name": "ProgressView",
      "bar_style": "success",
      "description": "",
      "description_tooltip": null,
      "layout": "IPY_MODEL_fb554cae074e4039a8de977ca0a9fc15",
      "max": 1,
      "min": 0,
      "orientation": "horizontal",
      "style": "IPY_MODEL_661eadb021594b548aaf290db49755a7",
      "value": 1
     }
    },
    "ee4a3997a16e4de0b76436b82ff4ba4f": {
     "model_module": "@jupyter-widgets/controls",
     "model_module_version": "1.5.0",
     "model_name": "DescriptionStyleModel",
     "state": {
      "_model_module": "@jupyter-widgets/controls",
      "_model_module_version": "1.5.0",
      "_model_name": "DescriptionStyleModel",
      "_view_count": null,
      "_view_module": "@jupyter-widgets/base",
      "_view_module_version": "1.2.0",
      "_view_name": "StyleView",
      "description_width": ""
     }
    },
    "ee85c84b85174c82aae448e02acaec03": {
     "model_module": "@jupyter-widgets/base",
     "model_module_version": "1.2.0",
     "model_name": "LayoutModel",
     "state": {
      "_model_module": "@jupyter-widgets/base",
      "_model_module_version": "1.2.0",
      "_model_name": "LayoutModel",
      "_view_count": null,
      "_view_module": "@jupyter-widgets/base",
      "_view_module_version": "1.2.0",
      "_view_name": "LayoutView",
      "align_content": null,
      "align_items": null,
      "align_self": null,
      "border": null,
      "bottom": null,
      "display": null,
      "flex": null,
      "flex_flow": null,
      "grid_area": null,
      "grid_auto_columns": null,
      "grid_auto_flow": null,
      "grid_auto_rows": null,
      "grid_column": null,
      "grid_gap": null,
      "grid_row": null,
      "grid_template_areas": null,
      "grid_template_columns": null,
      "grid_template_rows": null,
      "height": null,
      "justify_content": null,
      "justify_items": null,
      "left": null,
      "margin": null,
      "max_height": null,
      "max_width": null,
      "min_height": null,
      "min_width": null,
      "object_fit": null,
      "object_position": null,
      "order": null,
      "overflow": null,
      "overflow_x": null,
      "overflow_y": null,
      "padding": null,
      "right": null,
      "top": null,
      "visibility": null,
      "width": null
     }
    },
    "f1767f480f0042d8bd6bd116c818878f": {
     "model_module": "@jupyter-widgets/base",
     "model_module_version": "1.2.0",
     "model_name": "LayoutModel",
     "state": {
      "_model_module": "@jupyter-widgets/base",
      "_model_module_version": "1.2.0",
      "_model_name": "LayoutModel",
      "_view_count": null,
      "_view_module": "@jupyter-widgets/base",
      "_view_module_version": "1.2.0",
      "_view_name": "LayoutView",
      "align_content": null,
      "align_items": null,
      "align_self": null,
      "border": null,
      "bottom": null,
      "display": null,
      "flex": null,
      "flex_flow": null,
      "grid_area": null,
      "grid_auto_columns": null,
      "grid_auto_flow": null,
      "grid_auto_rows": null,
      "grid_column": null,
      "grid_gap": null,
      "grid_row": null,
      "grid_template_areas": null,
      "grid_template_columns": null,
      "grid_template_rows": null,
      "height": null,
      "justify_content": null,
      "justify_items": null,
      "left": null,
      "margin": null,
      "max_height": null,
      "max_width": null,
      "min_height": null,
      "min_width": null,
      "object_fit": null,
      "object_position": null,
      "order": null,
      "overflow": null,
      "overflow_x": null,
      "overflow_y": null,
      "padding": null,
      "right": null,
      "top": null,
      "visibility": null,
      "width": null
     }
    },
    "f58963948a91431489ea8c27ad55b299": {
     "model_module": "@jupyter-widgets/base",
     "model_module_version": "1.2.0",
     "model_name": "LayoutModel",
     "state": {
      "_model_module": "@jupyter-widgets/base",
      "_model_module_version": "1.2.0",
      "_model_name": "LayoutModel",
      "_view_count": null,
      "_view_module": "@jupyter-widgets/base",
      "_view_module_version": "1.2.0",
      "_view_name": "LayoutView",
      "align_content": null,
      "align_items": null,
      "align_self": null,
      "border": null,
      "bottom": null,
      "display": null,
      "flex": null,
      "flex_flow": null,
      "grid_area": null,
      "grid_auto_columns": null,
      "grid_auto_flow": null,
      "grid_auto_rows": null,
      "grid_column": null,
      "grid_gap": null,
      "grid_row": null,
      "grid_template_areas": null,
      "grid_template_columns": null,
      "grid_template_rows": null,
      "height": null,
      "justify_content": null,
      "justify_items": null,
      "left": null,
      "margin": null,
      "max_height": null,
      "max_width": null,
      "min_height": null,
      "min_width": null,
      "object_fit": null,
      "object_position": null,
      "order": null,
      "overflow": null,
      "overflow_x": null,
      "overflow_y": null,
      "padding": null,
      "right": null,
      "top": null,
      "visibility": null,
      "width": null
     }
    },
    "f63da8f2c0bf413fa3bd7a87f7884141": {
     "model_module": "@jupyter-widgets/controls",
     "model_module_version": "1.5.0",
     "model_name": "FloatProgressModel",
     "state": {
      "_dom_classes": [],
      "_model_module": "@jupyter-widgets/controls",
      "_model_module_version": "1.5.0",
      "_model_name": "FloatProgressModel",
      "_view_count": null,
      "_view_module": "@jupyter-widgets/controls",
      "_view_module_version": "1.5.0",
      "_view_name": "ProgressView",
      "bar_style": "",
      "description": "",
      "description_tooltip": null,
      "layout": "IPY_MODEL_4473cf451dbc4f889f610c178bdd5af5",
      "max": 25000,
      "min": 0,
      "orientation": "horizontal",
      "style": "IPY_MODEL_c891a104f51b45dbbbdbca21094e5220",
      "value": 25000
     }
    },
    "fa7ecab6cbed460fbac30d5738d682a5": {
     "model_module": "@jupyter-widgets/base",
     "model_module_version": "1.2.0",
     "model_name": "LayoutModel",
     "state": {
      "_model_module": "@jupyter-widgets/base",
      "_model_module_version": "1.2.0",
      "_model_name": "LayoutModel",
      "_view_count": null,
      "_view_module": "@jupyter-widgets/base",
      "_view_module_version": "1.2.0",
      "_view_name": "LayoutView",
      "align_content": null,
      "align_items": null,
      "align_self": null,
      "border": null,
      "bottom": null,
      "display": null,
      "flex": null,
      "flex_flow": null,
      "grid_area": null,
      "grid_auto_columns": null,
      "grid_auto_flow": null,
      "grid_auto_rows": null,
      "grid_column": null,
      "grid_gap": null,
      "grid_row": null,
      "grid_template_areas": null,
      "grid_template_columns": null,
      "grid_template_rows": null,
      "height": null,
      "justify_content": null,
      "justify_items": null,
      "left": null,
      "margin": null,
      "max_height": null,
      "max_width": null,
      "min_height": null,
      "min_width": null,
      "object_fit": null,
      "object_position": null,
      "order": null,
      "overflow": null,
      "overflow_x": null,
      "overflow_y": null,
      "padding": null,
      "right": null,
      "top": null,
      "visibility": null,
      "width": null
     }
    },
    "fb554cae074e4039a8de977ca0a9fc15": {
     "model_module": "@jupyter-widgets/base",
     "model_module_version": "1.2.0",
     "model_name": "LayoutModel",
     "state": {
      "_model_module": "@jupyter-widgets/base",
      "_model_module_version": "1.2.0",
      "_model_name": "LayoutModel",
      "_view_count": null,
      "_view_module": "@jupyter-widgets/base",
      "_view_module_version": "1.2.0",
      "_view_name": "LayoutView",
      "align_content": null,
      "align_items": null,
      "align_self": null,
      "border": null,
      "bottom": null,
      "display": null,
      "flex": null,
      "flex_flow": null,
      "grid_area": null,
      "grid_auto_columns": null,
      "grid_auto_flow": null,
      "grid_auto_rows": null,
      "grid_column": null,
      "grid_gap": null,
      "grid_row": null,
      "grid_template_areas": null,
      "grid_template_columns": null,
      "grid_template_rows": null,
      "height": null,
      "justify_content": null,
      "justify_items": null,
      "left": null,
      "margin": null,
      "max_height": null,
      "max_width": null,
      "min_height": null,
      "min_width": null,
      "object_fit": null,
      "object_position": null,
      "order": null,
      "overflow": null,
      "overflow_x": null,
      "overflow_y": null,
      "padding": null,
      "right": null,
      "top": null,
      "visibility": null,
      "width": "20px"
     }
    },
    "fba4045cf5684122a80f982efce02645": {
     "model_module": "@jupyter-widgets/controls",
     "model_module_version": "1.5.0",
     "model_name": "HBoxModel",
     "state": {
      "_dom_classes": [],
      "_model_module": "@jupyter-widgets/controls",
      "_model_module_version": "1.5.0",
      "_model_name": "HBoxModel",
      "_view_count": null,
      "_view_module": "@jupyter-widgets/controls",
      "_view_module_version": "1.5.0",
      "_view_name": "HBoxView",
      "box_style": "",
      "children": [
       "IPY_MODEL_a1e8c2ab03364101b0c793e9eaf4bcee",
       "IPY_MODEL_f63da8f2c0bf413fa3bd7a87f7884141",
       "IPY_MODEL_bb34ff08bcfc4e5987155adb1126d45f"
      ],
      "layout": "IPY_MODEL_10522b3b500f468bbae07e689527db94"
     }
    },
    "ff48dd025cfd4a2eac2c1057a38bc2ca": {
     "model_module": "@jupyter-widgets/controls",
     "model_module_version": "1.5.0",
     "model_name": "HTMLModel",
     "state": {
      "_dom_classes": [],
      "_model_module": "@jupyter-widgets/controls",
      "_model_module_version": "1.5.0",
      "_model_name": "HTMLModel",
      "_view_count": null,
      "_view_module": "@jupyter-widgets/controls",
      "_view_module_version": "1.5.0",
      "_view_name": "HTMLView",
      "description": "",
      "description_tooltip": null,
      "layout": "IPY_MODEL_5aec027b04f04dcb8b87829a2a0c46d4",
      "placeholder": "​",
      "style": "IPY_MODEL_4c1fa9c4c8e04e1589c1145319d5d5cb",
      "value": "Generating unsupervised examples...:  90%"
     }
    }
   }
  }
 },
 "nbformat": 4,
 "nbformat_minor": 4
}
