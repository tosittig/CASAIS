{
  "cells": [
    {
      "cell_type": "markdown",
      "metadata": {
        "id": "view-in-github",
        "colab_type": "text"
      },
      "source": [
        "<a href=\"https://colab.research.google.com/github/tosittig/CASAIS/blob/main/CAS_project4_newsreader_chatbot_ts.ipynb\" target=\"_parent\"><img src=\"https://colab.research.google.com/assets/colab-badge.svg\" alt=\"Open In Colab\"/></a>"
      ]
    },
    {
      "cell_type": "markdown",
      "metadata": {
        "id": "BQdr5vdLyDEP"
      },
      "source": [
        "# The *Newsreader Chatbot*: news retrieval, summarization and question answering\n",
        "\n",
        "In this project, you will build a simple chat-based interface for news consumption, the *Newsreader Chatbot*. This chatbot will feature three modules under the hood:\n",
        "1. a news retrieval system (the corresponding task is generally referred to as **document retrieval**),\n",
        "2. an automatic summarizer (this task is called **summarization** or **summary generation**),\n",
        "3. a question-answering system (the task is simply referred to as **question answering** or, in short, **QA**).\n",
        "\n",
        "In the end, you (the user) will be able to query the *Newsreader Chatbot* with a short sentence indicating the topic you would like to read about. The chatbot will retrieve the most relevant news stories and it will summarise them. You will then be able to select one of the stories and ask questions about it.\n",
        "\n",
        "The main techniques this project will cover are:\n",
        "- *Semantic search*, an approach to information retrieval that relies on text embeddings. You will implement two methods, one based on sentence embeddings and the other based on document embeddings.\n",
        "- *Conditional text generation*, the task of generating a piece of text—for example, a summary or an open-ended answer—given another conditioning piece of text—such as a news story, optionally paired with a question. This task is more generally referred to as Natural Language Generation (NLG) and can serve many use cases, from translation and paraphrasing to storytelling and dialogue response generation. As NLG systems, you will use both general-purpose pre-trained language models and language models specifically fine-tuned on summarization or question answering. You will compare different models using standard NLG evaluation metrics.\n",
        "\n",
        "\n",
        "----\n",
        "Before getting started, let's change the Runtime type to `T4 GPU` (only if you are in Google Colab, using the dropdown menu on the top right). Let's also install and load the necessary libraries and define convenience functions."
      ]
    },
    {
      "cell_type": "code",
      "execution_count": 1,
      "metadata": {
        "cellView": "form",
        "id": "Iyev5KxAr3t5",
        "colab": {
          "base_uri": "https://localhost:8080/"
        },
        "outputId": "0c89ef0d-cf15-4a85-9986-417ab40ff8f3"
      },
      "outputs": [
        {
          "output_type": "stream",
          "name": "stdout",
          "text": [
            "Requirement already satisfied: transformers in /usr/local/lib/python3.10/dist-packages (4.38.2)\n",
            "Collecting transformers\n",
            "  Downloading transformers-4.39.3-py3-none-any.whl (8.8 MB)\n",
            "\u001b[2K     \u001b[90m━━━━━━━━━━━━━━━━━━━━━━━━━━━━━━━━━━━━━━━━\u001b[0m \u001b[32m8.8/8.8 MB\u001b[0m \u001b[31m66.2 MB/s\u001b[0m eta \u001b[36m0:00:00\u001b[0m\n",
            "\u001b[?25hCollecting datasets\n",
            "  Downloading datasets-2.18.0-py3-none-any.whl (510 kB)\n",
            "\u001b[2K     \u001b[90m━━━━━━━━━━━━━━━━━━━━━━━━━━━━━━━━━━━━━━━━\u001b[0m \u001b[32m510.5/510.5 kB\u001b[0m \u001b[31m46.0 MB/s\u001b[0m eta \u001b[36m0:00:00\u001b[0m\n",
            "\u001b[?25hRequirement already satisfied: sentencepiece in /usr/local/lib/python3.10/dist-packages (0.1.99)\n",
            "Collecting sentencepiece\n",
            "  Downloading sentencepiece-0.2.0-cp310-cp310-manylinux_2_17_x86_64.manylinux2014_x86_64.whl (1.3 MB)\n",
            "\u001b[2K     \u001b[90m━━━━━━━━━━━━━━━━━━━━━━━━━━━━━━━━━━━━━━━━\u001b[0m \u001b[32m1.3/1.3 MB\u001b[0m \u001b[31m44.1 MB/s\u001b[0m eta \u001b[36m0:00:00\u001b[0m\n",
            "\u001b[?25hCollecting accelerate\n",
            "  Downloading accelerate-0.29.2-py3-none-any.whl (297 kB)\n",
            "\u001b[2K     \u001b[90m━━━━━━━━━━━━━━━━━━━━━━━━━━━━━━━━━━━━━━━━\u001b[0m \u001b[32m297.4/297.4 kB\u001b[0m \u001b[31m35.0 MB/s\u001b[0m eta \u001b[36m0:00:00\u001b[0m\n",
            "\u001b[?25hCollecting evaluate\n",
            "  Downloading evaluate-0.4.1-py3-none-any.whl (84 kB)\n",
            "\u001b[2K     \u001b[90m━━━━━━━━━━━━━━━━━━━━━━━━━━━━━━━━━━━━━━━━\u001b[0m \u001b[32m84.1/84.1 kB\u001b[0m \u001b[31m10.7 MB/s\u001b[0m eta \u001b[36m0:00:00\u001b[0m\n",
            "\u001b[?25hCollecting rouge_score\n",
            "  Downloading rouge_score-0.1.2.tar.gz (17 kB)\n",
            "  Preparing metadata (setup.py) ... \u001b[?25l\u001b[?25hdone\n",
            "Collecting bert_score\n",
            "  Downloading bert_score-0.3.13-py3-none-any.whl (61 kB)\n",
            "\u001b[2K     \u001b[90m━━━━━━━━━━━━━━━━━━━━━━━━━━━━━━━━━━━━━━━━\u001b[0m \u001b[32m61.1/61.1 kB\u001b[0m \u001b[31m4.2 MB/s\u001b[0m eta \u001b[36m0:00:00\u001b[0m\n",
            "\u001b[?25hCollecting sentence-transformers\n",
            "  Downloading sentence_transformers-2.6.1-py3-none-any.whl (163 kB)\n",
            "\u001b[2K     \u001b[90m━━━━━━━━━━━━━━━━━━━━━━━━━━━━━━━━━━━━━━━━\u001b[0m \u001b[32m163.3/163.3 kB\u001b[0m \u001b[31m12.3 MB/s\u001b[0m eta \u001b[36m0:00:00\u001b[0m\n",
            "\u001b[?25hRequirement already satisfied: filelock in /usr/local/lib/python3.10/dist-packages (from transformers) (3.13.3)\n",
            "Requirement already satisfied: huggingface-hub<1.0,>=0.19.3 in /usr/local/lib/python3.10/dist-packages (from transformers) (0.20.3)\n",
            "Requirement already satisfied: numpy>=1.17 in /usr/local/lib/python3.10/dist-packages (from transformers) (1.25.2)\n",
            "Requirement already satisfied: packaging>=20.0 in /usr/local/lib/python3.10/dist-packages (from transformers) (24.0)\n",
            "Requirement already satisfied: pyyaml>=5.1 in /usr/local/lib/python3.10/dist-packages (from transformers) (6.0.1)\n",
            "Requirement already satisfied: regex!=2019.12.17 in /usr/local/lib/python3.10/dist-packages (from transformers) (2023.12.25)\n",
            "Requirement already satisfied: requests in /usr/local/lib/python3.10/dist-packages (from transformers) (2.31.0)\n",
            "Requirement already satisfied: tokenizers<0.19,>=0.14 in /usr/local/lib/python3.10/dist-packages (from transformers) (0.15.2)\n",
            "Requirement already satisfied: safetensors>=0.4.1 in /usr/local/lib/python3.10/dist-packages (from transformers) (0.4.2)\n",
            "Requirement already satisfied: tqdm>=4.27 in /usr/local/lib/python3.10/dist-packages (from transformers) (4.66.2)\n",
            "Requirement already satisfied: pyarrow>=12.0.0 in /usr/local/lib/python3.10/dist-packages (from datasets) (14.0.2)\n",
            "Requirement already satisfied: pyarrow-hotfix in /usr/local/lib/python3.10/dist-packages (from datasets) (0.6)\n",
            "Collecting dill<0.3.9,>=0.3.0 (from datasets)\n",
            "  Downloading dill-0.3.8-py3-none-any.whl (116 kB)\n",
            "\u001b[2K     \u001b[90m━━━━━━━━━━━━━━━━━━━━━━━━━━━━━━━━━━━━━━━━\u001b[0m \u001b[32m116.3/116.3 kB\u001b[0m \u001b[31m12.1 MB/s\u001b[0m eta \u001b[36m0:00:00\u001b[0m\n",
            "\u001b[?25hRequirement already satisfied: pandas in /usr/local/lib/python3.10/dist-packages (from datasets) (2.0.3)\n",
            "Collecting xxhash (from datasets)\n",
            "  Downloading xxhash-3.4.1-cp310-cp310-manylinux_2_17_x86_64.manylinux2014_x86_64.whl (194 kB)\n",
            "\u001b[2K     \u001b[90m━━━━━━━━━━━━━━━━━━━━━━━━━━━━━━━━━━━━━━━━\u001b[0m \u001b[32m194.1/194.1 kB\u001b[0m \u001b[31m24.0 MB/s\u001b[0m eta \u001b[36m0:00:00\u001b[0m\n",
            "\u001b[?25hCollecting multiprocess (from datasets)\n",
            "  Downloading multiprocess-0.70.16-py310-none-any.whl (134 kB)\n",
            "\u001b[2K     \u001b[90m━━━━━━━━━━━━━━━━━━━━━━━━━━━━━━━━━━━━━━━━\u001b[0m \u001b[32m134.8/134.8 kB\u001b[0m \u001b[31m22.2 MB/s\u001b[0m eta \u001b[36m0:00:00\u001b[0m\n",
            "\u001b[?25hRequirement already satisfied: fsspec[http]<=2024.2.0,>=2023.1.0 in /usr/local/lib/python3.10/dist-packages (from datasets) (2023.6.0)\n",
            "Requirement already satisfied: aiohttp in /usr/local/lib/python3.10/dist-packages (from datasets) (3.9.3)\n",
            "Requirement already satisfied: psutil in /usr/local/lib/python3.10/dist-packages (from accelerate) (5.9.5)\n",
            "Requirement already satisfied: torch>=1.10.0 in /usr/local/lib/python3.10/dist-packages (from accelerate) (2.2.1+cu121)\n",
            "Collecting responses<0.19 (from evaluate)\n",
            "  Downloading responses-0.18.0-py3-none-any.whl (38 kB)\n",
            "Requirement already satisfied: absl-py in /usr/local/lib/python3.10/dist-packages (from rouge_score) (1.4.0)\n",
            "Requirement already satisfied: nltk in /usr/local/lib/python3.10/dist-packages (from rouge_score) (3.8.1)\n",
            "Requirement already satisfied: six>=1.14.0 in /usr/local/lib/python3.10/dist-packages (from rouge_score) (1.16.0)\n",
            "Requirement already satisfied: matplotlib in /usr/local/lib/python3.10/dist-packages (from bert_score) (3.7.1)\n",
            "Requirement already satisfied: scikit-learn in /usr/local/lib/python3.10/dist-packages (from sentence-transformers) (1.2.2)\n",
            "Requirement already satisfied: scipy in /usr/local/lib/python3.10/dist-packages (from sentence-transformers) (1.11.4)\n",
            "Requirement already satisfied: Pillow in /usr/local/lib/python3.10/dist-packages (from sentence-transformers) (9.4.0)\n",
            "Requirement already satisfied: aiosignal>=1.1.2 in /usr/local/lib/python3.10/dist-packages (from aiohttp->datasets) (1.3.1)\n",
            "Requirement already satisfied: attrs>=17.3.0 in /usr/local/lib/python3.10/dist-packages (from aiohttp->datasets) (23.2.0)\n",
            "Requirement already satisfied: frozenlist>=1.1.1 in /usr/local/lib/python3.10/dist-packages (from aiohttp->datasets) (1.4.1)\n",
            "Requirement already satisfied: multidict<7.0,>=4.5 in /usr/local/lib/python3.10/dist-packages (from aiohttp->datasets) (6.0.5)\n",
            "Requirement already satisfied: yarl<2.0,>=1.0 in /usr/local/lib/python3.10/dist-packages (from aiohttp->datasets) (1.9.4)\n",
            "Requirement already satisfied: async-timeout<5.0,>=4.0 in /usr/local/lib/python3.10/dist-packages (from aiohttp->datasets) (4.0.3)\n",
            "Requirement already satisfied: typing-extensions>=3.7.4.3 in /usr/local/lib/python3.10/dist-packages (from huggingface-hub<1.0,>=0.19.3->transformers) (4.10.0)\n",
            "Requirement already satisfied: python-dateutil>=2.8.2 in /usr/local/lib/python3.10/dist-packages (from pandas->datasets) (2.8.2)\n",
            "Requirement already satisfied: pytz>=2020.1 in /usr/local/lib/python3.10/dist-packages (from pandas->datasets) (2023.4)\n",
            "Requirement already satisfied: tzdata>=2022.1 in /usr/local/lib/python3.10/dist-packages (from pandas->datasets) (2024.1)\n",
            "Requirement already satisfied: charset-normalizer<4,>=2 in /usr/local/lib/python3.10/dist-packages (from requests->transformers) (3.3.2)\n",
            "Requirement already satisfied: idna<4,>=2.5 in /usr/local/lib/python3.10/dist-packages (from requests->transformers) (3.6)\n",
            "Requirement already satisfied: urllib3<3,>=1.21.1 in /usr/local/lib/python3.10/dist-packages (from requests->transformers) (2.0.7)\n",
            "Requirement already satisfied: certifi>=2017.4.17 in /usr/local/lib/python3.10/dist-packages (from requests->transformers) (2024.2.2)\n",
            "Requirement already satisfied: sympy in /usr/local/lib/python3.10/dist-packages (from torch>=1.10.0->accelerate) (1.12)\n",
            "Requirement already satisfied: networkx in /usr/local/lib/python3.10/dist-packages (from torch>=1.10.0->accelerate) (3.2.1)\n",
            "Requirement already satisfied: jinja2 in /usr/local/lib/python3.10/dist-packages (from torch>=1.10.0->accelerate) (3.1.3)\n",
            "Collecting nvidia-cuda-nvrtc-cu12==12.1.105 (from torch>=1.10.0->accelerate)\n",
            "  Using cached nvidia_cuda_nvrtc_cu12-12.1.105-py3-none-manylinux1_x86_64.whl (23.7 MB)\n",
            "Collecting nvidia-cuda-runtime-cu12==12.1.105 (from torch>=1.10.0->accelerate)\n",
            "  Using cached nvidia_cuda_runtime_cu12-12.1.105-py3-none-manylinux1_x86_64.whl (823 kB)\n",
            "Collecting nvidia-cuda-cupti-cu12==12.1.105 (from torch>=1.10.0->accelerate)\n",
            "  Using cached nvidia_cuda_cupti_cu12-12.1.105-py3-none-manylinux1_x86_64.whl (14.1 MB)\n",
            "Collecting nvidia-cudnn-cu12==8.9.2.26 (from torch>=1.10.0->accelerate)\n",
            "  Using cached nvidia_cudnn_cu12-8.9.2.26-py3-none-manylinux1_x86_64.whl (731.7 MB)\n",
            "Collecting nvidia-cublas-cu12==12.1.3.1 (from torch>=1.10.0->accelerate)\n",
            "  Using cached nvidia_cublas_cu12-12.1.3.1-py3-none-manylinux1_x86_64.whl (410.6 MB)\n",
            "Collecting nvidia-cufft-cu12==11.0.2.54 (from torch>=1.10.0->accelerate)\n",
            "  Using cached nvidia_cufft_cu12-11.0.2.54-py3-none-manylinux1_x86_64.whl (121.6 MB)\n",
            "Collecting nvidia-curand-cu12==10.3.2.106 (from torch>=1.10.0->accelerate)\n",
            "  Using cached nvidia_curand_cu12-10.3.2.106-py3-none-manylinux1_x86_64.whl (56.5 MB)\n",
            "Collecting nvidia-cusolver-cu12==11.4.5.107 (from torch>=1.10.0->accelerate)\n",
            "  Using cached nvidia_cusolver_cu12-11.4.5.107-py3-none-manylinux1_x86_64.whl (124.2 MB)\n",
            "Collecting nvidia-cusparse-cu12==12.1.0.106 (from torch>=1.10.0->accelerate)\n",
            "  Using cached nvidia_cusparse_cu12-12.1.0.106-py3-none-manylinux1_x86_64.whl (196.0 MB)\n",
            "Collecting nvidia-nccl-cu12==2.19.3 (from torch>=1.10.0->accelerate)\n",
            "  Using cached nvidia_nccl_cu12-2.19.3-py3-none-manylinux1_x86_64.whl (166.0 MB)\n",
            "Collecting nvidia-nvtx-cu12==12.1.105 (from torch>=1.10.0->accelerate)\n",
            "  Using cached nvidia_nvtx_cu12-12.1.105-py3-none-manylinux1_x86_64.whl (99 kB)\n",
            "Requirement already satisfied: triton==2.2.0 in /usr/local/lib/python3.10/dist-packages (from torch>=1.10.0->accelerate) (2.2.0)\n",
            "Collecting nvidia-nvjitlink-cu12 (from nvidia-cusolver-cu12==11.4.5.107->torch>=1.10.0->accelerate)\n",
            "  Using cached nvidia_nvjitlink_cu12-12.4.127-py3-none-manylinux2014_x86_64.whl (21.1 MB)\n",
            "Requirement already satisfied: contourpy>=1.0.1 in /usr/local/lib/python3.10/dist-packages (from matplotlib->bert_score) (1.2.1)\n",
            "Requirement already satisfied: cycler>=0.10 in /usr/local/lib/python3.10/dist-packages (from matplotlib->bert_score) (0.12.1)\n",
            "Requirement already satisfied: fonttools>=4.22.0 in /usr/local/lib/python3.10/dist-packages (from matplotlib->bert_score) (4.50.0)\n",
            "Requirement already satisfied: kiwisolver>=1.0.1 in /usr/local/lib/python3.10/dist-packages (from matplotlib->bert_score) (1.4.5)\n",
            "Requirement already satisfied: pyparsing>=2.3.1 in /usr/local/lib/python3.10/dist-packages (from matplotlib->bert_score) (3.1.2)\n",
            "Requirement already satisfied: click in /usr/local/lib/python3.10/dist-packages (from nltk->rouge_score) (8.1.7)\n",
            "Requirement already satisfied: joblib in /usr/local/lib/python3.10/dist-packages (from nltk->rouge_score) (1.3.2)\n",
            "Requirement already satisfied: threadpoolctl>=2.0.0 in /usr/local/lib/python3.10/dist-packages (from scikit-learn->sentence-transformers) (3.4.0)\n",
            "Requirement already satisfied: MarkupSafe>=2.0 in /usr/local/lib/python3.10/dist-packages (from jinja2->torch>=1.10.0->accelerate) (2.1.5)\n",
            "Requirement already satisfied: mpmath>=0.19 in /usr/local/lib/python3.10/dist-packages (from sympy->torch>=1.10.0->accelerate) (1.3.0)\n",
            "Building wheels for collected packages: rouge_score\n",
            "  Building wheel for rouge_score (setup.py) ... \u001b[?25l\u001b[?25hdone\n",
            "  Created wheel for rouge_score: filename=rouge_score-0.1.2-py3-none-any.whl size=24933 sha256=b328ad1ad5dbdd8e16ff4c72b97719a6c560b235e62f9d8471ca652789446725\n",
            "  Stored in directory: /root/.cache/pip/wheels/5f/dd/89/461065a73be61a532ff8599a28e9beef17985c9e9c31e541b4\n",
            "Successfully built rouge_score\n",
            "Installing collected packages: sentencepiece, xxhash, nvidia-nvtx-cu12, nvidia-nvjitlink-cu12, nvidia-nccl-cu12, nvidia-curand-cu12, nvidia-cufft-cu12, nvidia-cuda-runtime-cu12, nvidia-cuda-nvrtc-cu12, nvidia-cuda-cupti-cu12, nvidia-cublas-cu12, dill, rouge_score, responses, nvidia-cusparse-cu12, nvidia-cudnn-cu12, multiprocess, nvidia-cusolver-cu12, transformers, datasets, sentence-transformers, evaluate, bert_score, accelerate\n",
            "  Attempting uninstall: sentencepiece\n",
            "    Found existing installation: sentencepiece 0.1.99\n",
            "    Uninstalling sentencepiece-0.1.99:\n",
            "      Successfully uninstalled sentencepiece-0.1.99\n",
            "  Attempting uninstall: transformers\n",
            "    Found existing installation: transformers 4.38.2\n",
            "    Uninstalling transformers-4.38.2:\n",
            "      Successfully uninstalled transformers-4.38.2\n",
            "Successfully installed accelerate-0.29.2 bert_score-0.3.13 datasets-2.18.0 dill-0.3.8 evaluate-0.4.1 multiprocess-0.70.16 nvidia-cublas-cu12-12.1.3.1 nvidia-cuda-cupti-cu12-12.1.105 nvidia-cuda-nvrtc-cu12-12.1.105 nvidia-cuda-runtime-cu12-12.1.105 nvidia-cudnn-cu12-8.9.2.26 nvidia-cufft-cu12-11.0.2.54 nvidia-curand-cu12-10.3.2.106 nvidia-cusolver-cu12-11.4.5.107 nvidia-cusparse-cu12-12.1.0.106 nvidia-nccl-cu12-2.19.3 nvidia-nvjitlink-cu12-12.4.127 nvidia-nvtx-cu12-12.1.105 responses-0.18.0 rouge_score-0.1.2 sentence-transformers-2.6.1 sentencepiece-0.2.0 transformers-4.39.3 xxhash-3.4.1\n"
          ]
        }
      ],
      "source": [
        "# @title Install libraries\n",
        "# @markdown Please execute this cell.\n",
        "\n",
        "# import locale\n",
        "# locale.getpreferredencoding = lambda: \"UTF-8\"\n",
        "\n",
        "!pip install -U transformers datasets sentencepiece accelerate evaluate rouge_score bert_score sentence-transformers"
      ]
    },
    {
      "cell_type": "code",
      "execution_count": 2,
      "metadata": {
        "id": "02JNfPK5vA4q"
      },
      "outputs": [],
      "source": [
        "## Generic libraries\n",
        "\n",
        "# Dataframes\n",
        "import pandas as pd\n",
        "\n",
        "# Scientific computing\n",
        "import numpy as np\n",
        "\n",
        "# PyTorch, a machine learning framework\n",
        "import torch\n",
        "\n",
        "# Basic Python tools\n",
        "import itertools\n",
        "from collections import defaultdict\n",
        "\n",
        "# Pretty printing\n",
        "import textwrap\n",
        "\n",
        "# A smart progress meter\n",
        "from tqdm.notebook import trange, tqdm\n",
        "\n",
        "\n",
        "## Project-specific libraries\n",
        "\n",
        "# Evaluation metrics (for document retrieval)\n",
        "from sklearn.metrics import accuracy_score, top_k_accuracy_score\n",
        "\n",
        "# Spacy, a multi-use NLP library -- here, for sentence segmentation\n",
        "from spacy.lang.en import English\n",
        "\n",
        "# A library for sentence embeddings\n",
        "from sentence_transformers import SentenceTransformer, util\n",
        "\n",
        "\n",
        "## HuggingFace libraries\n",
        "\n",
        "# A library for easy-to-use Transformer language models (and more)\n",
        "from transformers import pipeline, AutoModelForCausalLM, AutoTokenizer, T5Tokenizer, T5ForConditionalGeneration, BartForConditionalGeneration, BartTokenizer, AutoModelForQuestionAnswering\n",
        "\n",
        "# A library for ready-to-use NLP evaluation metrics\n",
        "import evaluate\n",
        "\n",
        "# A library to easily import datasets from the HuggingFace hub\n",
        "from datasets import load_dataset\n"
      ]
    },
    {
      "cell_type": "code",
      "execution_count": 3,
      "metadata": {
        "id": "GQ6rawS8bwR5"
      },
      "outputs": [],
      "source": [
        "# @title Convenience function for pretty printing\n",
        "# @markdown Please execute this cell.\n",
        "\n",
        "def pprint(string, width=120):\n",
        "  print(textwrap.fill(string, width=width))"
      ]
    },
    {
      "cell_type": "markdown",
      "metadata": {
        "id": "p5oX9R_Oy_iw"
      },
      "source": [
        "## News data: preliminary analysis\n",
        "\n",
        "We have compiled a dataset of over 10,000 CNN news articles for the purpose of this project. It is available through the Hugging Face dataset hub for extra ease of use: [news-qa-summarization](https://huggingface.co/datasets/glnmario/news-qa-summarization). Each article in the dataset is annotated by humans with a summary as well as a list of questions and corresponding answers. We are going to use this dataset for the development and evaluation of the three submodules of the *Newsreader Chatbot*.\n",
        "\n",
        "Let's load the dataset."
      ]
    },
    {
      "cell_type": "code",
      "execution_count": 4,
      "metadata": {
        "id": "80RfsHPdxydb",
        "colab": {
          "base_uri": "https://localhost:8080/",
          "height": 243,
          "referenced_widgets": [
            "3d4529c58d4047ceab128bf067762b2f",
            "789eb762b5c04fb19d0fc99a2de50a9e",
            "9eceda2dde2c4a36915c3ff40e5ce59b",
            "539fd54c3c484e8a86d138c0322d9f8e",
            "1b0ba57e43ac48558a8dc671abf85cf6",
            "5bd2ec24b59949418bb7bb65459158cc",
            "995352ed0e5b4aa18a00e7835dc168e4",
            "fc2205f54d584aebac8a58a3e6a02343",
            "92783087dadf4fd48742ede9a178d9b7",
            "e25aa5647708460b9f710bf70c4bd8e4",
            "305573c278dc4865a59d7f9446122ae2",
            "1ba48feb091a40c59e35f8ab85c39390",
            "6fc47eb9930d40c5a17c7f4e192c3ad9",
            "65329b3341f643dea06c84f671e70f98",
            "380478070d0a495fa8bf493bf1bf1bb3",
            "0c3f6284347548ab99ae40205d5e294e",
            "0c72798b748e466a86bfc97f98caf541",
            "1c82422e66f344f79072f83b802273c7",
            "58db6bfa80d54ba4bbdf276e2de1c6e6",
            "b1cf387a16d24bcfab1275f81ecb12a0",
            "6ffdd2e3525e4ceab708c04faa754f07",
            "81c47c41c13f42388907e0a237de3411",
            "931a0c98a956473a8b8744158cb19e5a",
            "f042fa8531444103a336f1dfbc8242ec",
            "1047efcfa98f46b4a05fa6ba6984c5f4",
            "a97676b5f1904dce8ffe7e64e859a858",
            "bfa82fecb6f44daf9fc7639128a4125f",
            "d480c75231a64dca940f14d4b5b3a126",
            "44653482688e474caed4d15a12ed2dee",
            "ed49c2aa1d104dfcb308f01ccee31927",
            "206753228f1b421c94d1f037948f98f2",
            "94c52c03b4d345fd9579de6b4f425f77",
            "cca101be3acb4f0ca01525f1b70175cd"
          ]
        },
        "outputId": "ed4b8f87-1eee-48c8-848a-9661bdb051b1"
      },
      "outputs": [
        {
          "output_type": "stream",
          "name": "stderr",
          "text": [
            "/usr/local/lib/python3.10/dist-packages/huggingface_hub/utils/_token.py:88: UserWarning: \n",
            "The secret `HF_TOKEN` does not exist in your Colab secrets.\n",
            "To authenticate with the Hugging Face Hub, create a token in your settings tab (https://huggingface.co/settings/tokens), set it as secret in your Google Colab and restart your session.\n",
            "You will be able to reuse this secret in all of your notebooks.\n",
            "Please note that authentication is recommended but still optional to access public models or datasets.\n",
            "  warnings.warn(\n"
          ]
        },
        {
          "output_type": "display_data",
          "data": {
            "text/plain": [
              "Downloading readme:   0%|          | 0.00/715 [00:00<?, ?B/s]"
            ],
            "application/vnd.jupyter.widget-view+json": {
              "version_major": 2,
              "version_minor": 0,
              "model_id": "3d4529c58d4047ceab128bf067762b2f"
            }
          },
          "metadata": {}
        },
        {
          "output_type": "display_data",
          "data": {
            "text/plain": [
              "Downloading data:   0%|          | 0.00/40.7M [00:00<?, ?B/s]"
            ],
            "application/vnd.jupyter.widget-view+json": {
              "version_major": 2,
              "version_minor": 0,
              "model_id": "1ba48feb091a40c59e35f8ab85c39390"
            }
          },
          "metadata": {}
        },
        {
          "output_type": "display_data",
          "data": {
            "text/plain": [
              "Generating train split: 0 examples [00:00, ? examples/s]"
            ],
            "application/vnd.jupyter.widget-view+json": {
              "version_major": 2,
              "version_minor": 0,
              "model_id": "931a0c98a956473a8b8744158cb19e5a"
            }
          },
          "metadata": {}
        }
      ],
      "source": [
        "dataset = load_dataset(\"glnmario/news-qa-summarization\")"
      ]
    },
    {
      "cell_type": "markdown",
      "metadata": {
        "id": "cBAgOgPZZrdS"
      },
      "source": [
        "The dataset contains a single partition, which is called `train` by default, and consists of four fields:\n",
        "- `story`: the news story\n",
        "- `questions`: a list of questions regarding the news story\n",
        "- `answers`: the list of answers to `questions`\n",
        "- `summary`: a brief summary of the news story"
      ]
    },
    {
      "cell_type": "code",
      "execution_count": 5,
      "metadata": {
        "id": "9gWCvEL7ZpkM",
        "colab": {
          "base_uri": "https://localhost:8080/"
        },
        "outputId": "67523d3f-2108-46dc-adea-5a4eaf956215"
      },
      "outputs": [
        {
          "output_type": "execute_result",
          "data": {
            "text/plain": [
              "DatasetDict({\n",
              "    train: Dataset({\n",
              "        features: ['story', 'questions', 'answers', 'summary'],\n",
              "        num_rows: 10388\n",
              "    })\n",
              "})"
            ]
          },
          "metadata": {},
          "execution_count": 5
        }
      ],
      "source": [
        "dataset"
      ]
    },
    {
      "cell_type": "markdown",
      "metadata": {
        "id": "xdB_j1lAbpmd"
      },
      "source": [
        "Let's take a look at one data point."
      ]
    },
    {
      "cell_type": "code",
      "execution_count": 6,
      "metadata": {
        "id": "MsC96wX4a6Yh",
        "colab": {
          "base_uri": "https://localhost:8080/"
        },
        "outputId": "c8481588-72e4-4f74-9d1e-03aa34a3ee98"
      },
      "outputs": [
        {
          "output_type": "stream",
          "name": "stdout",
          "text": [
            "(AOL Autos)  -- At the 2009 Detroit Auto Show, Chrysler, Mercedes-Benz, Toyota and MINI showed the world what electric\n",
            "vehicles of the future will look like. And the future of driving looks fun. The Dodge Circuit EV can blast from 0-to-60\n",
            "mph in around 4 seconds. Those in the know realize that sometime in the future, the vast majority of light cars and\n",
            "trucks in the US will feature electric final drive systems. The motors used in these systems will be powered by\n",
            "batteries, fuel cells, on-board generators, and perhaps even the sun. But this open issue doesn't change the\n",
            "inevitability of this reality. Given our current economic times, reality demands practical, tangible, and achievable\n",
            "ideas of what electric vehicles (or \"EVs\" for short) might actually look like. This is it ... Chrysler Three of the four\n",
            "electric vehicles Chrysler showed in Detroit, Michigan, were shown at other events and even to Washington bureaucrats.\n",
            "Each of these vehicles is a running prototype, not some pie-in-the-sky-we'll-never-build that idea. ENVI is the special\n",
            "group of engineers at Chrysler that develops the company's EVs. To date, the ENVI group has developed four electrically\n",
            "powered models, each quite different from the other: a Dodge Circuit EV sports car (rear-wheel drive), a Chrysler Town &\n",
            "Country minivan (front-wheel-drive), a Jeep Wrangler Unlimited (all-wheel-drive), and now a Jeep Patriot (front-wheel-\n",
            "drive). Chrysler promises to offer at least one of these models in 2010, and three more by 2013. AOL Autos: Dodge\n",
            "Circuit EV photos Chrysler approaches electric vehicles with simple plug-and-play engineering. Every one of their\n",
            "vehicles uses similar electric drive motors (only varying in power output), advanced lithium-ion batteries, and a power\n",
            "management controller. Each plugs in to 110- or 220-volt household outlets for recharging. The Chrysler and both Jeeps\n",
            "use an on-board range-extending battery charger (a generator). This generator automatically turns on after the vehicle's\n",
            "initial batter charge has been spent (usually within a range of 40 miles), supplying extra voltage that give these three\n",
            "vehicles an estimated range of approximately 400 miles. The generator is powered by a small gasoline-powered engine that\n",
            "runs with exceptional efficiency. This technology is similar in concept to what General Motors has shown in their\n",
            "Chevrolet Volt, a vehicle that should be ready for production in 2010. AOL Autos: Cadillac Converj photos The Dodge\n",
            "Circuit carries a larger battery pack and no generator, so its range on the charge it carries is approximately 150-200\n",
            "miles. Its large battery pack combined with compact dimensions and the exceptional torque provided by its electric motor\n",
            "blast the car from zero-to-sixty mph in around four seconds, exceptionally fast for any sports car regardless of engine\n",
            "type. Mercedes-Benz Mercedes-Benz used the 2009 Detroit Auto Show to showcase their Concept BlueZERO vehicles. The\n",
            "Mercedes approach was to develop one efficient body style, and then equip it with three different electric drive\n",
            "packages. AOL Autos: Mercedes Stirling Moss photos Much of the hardware for the all-electric front-wheel-drive\n",
            "propulsion units is built into what Mercedes calls \"sandwich-floor\" architecture that the company uses on several\n",
            "production cars. The design helps keep heavy components mounted low on the chassis for better handling, enhanced safety,\n",
            "and maximized interior room. All three Concept BlueZERO vehicles include electric drive and batteries. The E-Cell uses a\n",
            "large battery pack that is said to deliver a range of 120 miles. The F-Cell utilizes a smaller battery pack, but\n",
            "supplements the vehicle's range with a hydrogen fuel cell. The fuel cell produces electricity to recharge the battery\n",
            "pack that extends cruising range to 240 miles. The E-Cell Plus, with a range of approximately 360 miles, is the distance\n",
            "champion. The key is the on-board generator powered by tiny 1-liter turbo-charged three-cylinder gasoline engine.\n"
          ]
        }
      ],
      "source": [
        "# The news story\n",
        "pprint(dataset['train'][1]['story'])"
      ]
    },
    {
      "cell_type": "code",
      "execution_count": 7,
      "metadata": {
        "id": "Gepj7rWrdEwg",
        "colab": {
          "base_uri": "https://localhost:8080/"
        },
        "outputId": "c496635a-8ae4-4992-8d8b-e033f168f040"
      },
      "outputs": [
        {
          "output_type": "execute_result",
          "data": {
            "text/plain": [
              "['What debuts at the 2009 Detroit Auto Show?',\n",
              " 'Who shows electric cars?',\n",
              " 'Where is the Detroit Auto Show located?']"
            ]
          },
          "metadata": {},
          "execution_count": 7
        }
      ],
      "source": [
        "# The list of questions\n",
        "dataset['train'][1]['questions']"
      ]
    },
    {
      "cell_type": "code",
      "execution_count": 8,
      "metadata": {
        "id": "rvE2R-ZWdJ6y",
        "colab": {
          "base_uri": "https://localhost:8080/"
        },
        "outputId": "bf6079bd-c80e-4ccc-9642-c26cdf3f8832"
      },
      "outputs": [
        {
          "output_type": "execute_result",
          "data": {
            "text/plain": [
              "[['electric vehicles'],\n",
              " ['Chrysler, Mercedes-Benz, Toyota and MINI'],\n",
              " ['Michigan,']]"
            ]
          },
          "metadata": {},
          "execution_count": 8
        }
      ],
      "source": [
        "# The corresponding answers\n",
        "dataset['train'][1]['answers']"
      ]
    },
    {
      "cell_type": "markdown",
      "metadata": {
        "id": "YR_kbMMNcHQf"
      },
      "source": [
        "***Write code to print out the summary.***"
      ]
    },
    {
      "cell_type": "code",
      "execution_count": 9,
      "metadata": {
        "id": "6OvnycVbdm0T",
        "colab": {
          "base_uri": "https://localhost:8080/"
        },
        "outputId": "4b5d1880-c415-406e-d6e8-027a80964216"
      },
      "outputs": [
        {
          "output_type": "stream",
          "name": "stdout",
          "text": [
            "Latest technologies debut at the 2009 Detroit Auto Show .\n",
            "Chrysler, Mercedes-Benz, Toyota and MINI show what electric cars of future will be .\n",
            "Toyota confirms plans to add as many as 10 new gas/electric hybrid vehicles .\n",
            "The \"charged\" MINI E can run up to 150 miles on a full battery pack .\n"
          ]
        }
      ],
      "source": [
        "# The summary\n",
        "print(dataset['train'][1]['summary'])"
      ]
    },
    {
      "cell_type": "markdown",
      "metadata": {
        "id": "gd4kkYXbeaU2"
      },
      "source": [
        "For a more user-friendly dataset exploration, you can use the Hugging Face dataset hub: [news-qa-summarization](https://huggingface.co/datasets/glnmario/news-qa-summarization)."
      ]
    },
    {
      "cell_type": "markdown",
      "metadata": {
        "id": "YrVednFr3a2d"
      },
      "source": [
        "## News retrieval (semantic search)\n",
        "\n",
        "We will start by implementing a document retrieval system based on *semantic search*. Given a database of documents—in our case, news stories—this system takes in as input a natural language query and outputs a short list of documents matching that query.\n",
        "\n",
        "Roughly, a semantic search system works as follows:\n",
        "\n",
        "1. All the documents in the database are transformed and stored as *document embeddings*, that is, vectors of real numbers that represent the content of documents in an abstract, high-dimensional meaning space. (You can think of these as the document-level equivalent of the word embeddings from Project 3.)\n",
        "2. When a user produces a query, the text of the query, too, is embedded in the same abstract meaning space, producing a *query embedding*.\n",
        "3. The documents in the database are ranked according to the geometric (semantic) distance between their respective document embeddings and the query embedding.\n",
        "\n",
        "We will test two retrieval methods: one with paragraph-level embeddings and one with sentence-level embeddings. These two methods vary with respect to how document embeddings are created.\n"
      ]
    },
    {
      "cell_type": "markdown",
      "metadata": {
        "id": "vHP7cJRdm4r5"
      },
      "source": [
        "**Data.** To develop and evaluate the news retrieval system, we will use news stories as documents and questions as queries. *Run the following cell to create a dataset class.*"
      ]
    },
    {
      "cell_type": "code",
      "execution_count": 10,
      "metadata": {
        "id": "NLvaUk2Rm1k2"
      },
      "outputs": [],
      "source": [
        "# @title RetrievalDataset class\n",
        "# @markdown Please execute this cell.\n",
        "class RetrievalDataset:\n",
        "\n",
        "  def __init__(self, dataset, num_documents=None):\n",
        "    self.dataset = dataset\n",
        "\n",
        "    if num_documents:\n",
        "      self.num_documents = num_documents\n",
        "      self.documents = self.dataset['train']['story'][:self.num_documents]\n",
        "      self.queries = list(itertools.chain.from_iterable(self.dataset['train']['questions'][:self.num_documents]))\n",
        "      self.num_queries = len(self.queries)\n",
        "    else:\n",
        "      self.documents = self.dataset['train']['story']\n",
        "      self.queries = list(itertools.chain.from_iterable(self.dataset['train']['questions']))\n",
        "      self.num_documents = len(self.documents)\n",
        "      self.num_queries = len(self.queries)\n",
        "\n",
        "    self.true_indices = []\n",
        "    for i, qs in enumerate(self.dataset['train']['questions'][:self.num_documents]):\n",
        "      for _ in qs:\n",
        "        self.true_indices.append(i)\n"
      ]
    },
    {
      "cell_type": "markdown",
      "metadata": {
        "id": "_w1TrIjEpGEC"
      },
      "source": [
        "Let's construct the retrieval dataset using stories as documents and questions as queries. Use only a subset of the news stories (e.g., `num_documents = 500`) as a development set for more manageable runtimes.\n",
        "\n"
      ]
    },
    {
      "cell_type": "code",
      "execution_count": 11,
      "metadata": {
        "id": "HFa9xprznVAm"
      },
      "outputs": [],
      "source": [
        "retrieval_dataset = RetrievalDataset(dataset, num_documents=100)"
      ]
    },
    {
      "cell_type": "markdown",
      "metadata": {
        "id": "fN91fOLFqsDw"
      },
      "source": [
        "**Model**. To transform texts (documents or sentences) into embeddings, you will take the nowadays standard approach of using a Transformer language model. For example, you can use the [`multi-qa-MiniLM-L6-cos-v1`](https://huggingface.co/sentence-transformers/multi-qa-MiniLM-L6-cos-v1) Sentence Transformer."
      ]
    },
    {
      "cell_type": "code",
      "execution_count": 12,
      "metadata": {
        "id": "ILe-wqAhqA07",
        "colab": {
          "base_uri": "https://localhost:8080/",
          "height": 369,
          "referenced_widgets": [
            "4823163c90c84d97812549a77bad99a1",
            "2ff12471d6234b0fbaa80b0da9faddbb",
            "b0b00ce47b2848f8b13b905be9fa123f",
            "d4c32ac1b4904e62850e756364b22be4",
            "9567c3d8db40413792306294feffa676",
            "c762a9f7b8ca41b5bda9fd78fa71a9b0",
            "eb3afc20684d4f559e7adf72bbf4aaf4",
            "6e349c6271d04c24b39dd729b6ca50d8",
            "7af548f73e044e90a06bcde75d20b320",
            "9fa075ce993b4d06bf5d7caf8c56bcac",
            "670fbfd3469b4b4db749755cd4a006ee",
            "46ffa3da6ca046308c7b665869bc0fc9",
            "788dbc1ef93f44f6b97672e32275c175",
            "dfc328d3f7cc4b97b1034f3c7c04f76b",
            "a9ef1720db79473c8dd84fbf33f4ed9e",
            "867ebb77261b4833b38d6c0990f32206",
            "ca6fd480d693410c8cdc5aa3f282cf05",
            "79e2ca34d4f449d58a51336a0760b6f3",
            "31039d9ecbf54603a8d3dfd7481ab57f",
            "7662d2d2d5434feca3d8e7a842f21a2f",
            "e367857d68164b82b100cc2414603851",
            "e23c223afa85487c972d4e5df5e21860",
            "9682222987644c6fa208ef20690e6bda",
            "6ce44ba5877449c980d9910db8cf9278",
            "d858781c9b9345b9b27237e57692407d",
            "c7f675bfbfc242ae973ebd84a25a5050",
            "fac737b3c945476e9133f043c29e0628",
            "95bb5ed39d1a4c168e530083e9b74a32",
            "14c18b9dd7db4c96ab07e674995246d5",
            "d65e7b2b54234e9ebf0ccad59560f511",
            "cc62941d56b4499b881618538c6226d1",
            "89189e6baa434d008ed3975bd1067bf8",
            "556d79acd98a47cdafa29151b5c336c6",
            "1d9e959da16e42259878b9dd1d17aeba",
            "5952f037005142a4ac1f1a570be05492",
            "dbd7e88674cd4986b322235c84458c47",
            "23e973c814e14b7093421f6b8ed72ada",
            "7bc84c93cc7741dfbf7a6617d2b1070f",
            "2cc640e6bfe44c3db2e05d7252f769e5",
            "61a5b911d20945ddb0be4c105989bb22",
            "cb553ef60a824b4c96a370ada5a7b671",
            "00ecfd4680f444389fb4a93ee122fd0d",
            "dfdf89a8be61414fa3753e3ed70db18e",
            "7527206c2ab1491c8993f80c5608fc76",
            "e4eb953c7afb4e879d7fbfcce6f0e408",
            "5445d761fec2447a83d0728cef41935a",
            "7cfbea78eec749c485061c55196ec3c1",
            "115a9d26dcc84fcc9e33be214c4af0c6",
            "d16baee7459c409e92e5f5b6592b5165",
            "69b491eba582491d9552a452f86ba6a6",
            "47a4e360fbc44df58c87f1e516513051",
            "ca747b7a6f584a74b4b9cc1ed4305b82",
            "39d08950fd434b928a55416de91a52b7",
            "58135d4405f5408285f9585f58799b4b",
            "6f248bce6e434d5291b7ff8ed3416dc9",
            "e81aa6276031423a96c08991508075fb",
            "d3e4fcf391d647f9ac5a0aec41c7eabd",
            "10ab5963923146308828a6f96da335a5",
            "90a65637dfb04e26a1b618b46596b3ea",
            "ddae77cff8824f5f9e27c38920f2b2a2",
            "1a9dfe8b39e64d5aaa553aa0880da877",
            "784d5fe4be004a18a942a30ff51c882e",
            "accc4e09606a4fe599dd742b8c38e3a5",
            "4b06034ce0f7405ba3c701e2cf1ee101",
            "4f2b6080c2c74d2a8a5baa1e8411d1b4",
            "b5f740428c2d401cb640d68d314d5014",
            "ab26c9f6244b484981e77408370ede86",
            "d7c9598cd350489e913255b9707cde32",
            "c7454781bc5f4855840036734a219ab0",
            "6f85c4165f24433a9264f98df109ab4a",
            "a701bf8a67f046a998a60a11c0ed2739",
            "9e20121f3f454064b96b5dfd7b720b2a",
            "4de0e6d1dd6c43ff9e332bd332ae8123",
            "f4c9185f3ec24cfeb66cb0a7dc2ce2ac",
            "01bd853cb9fc42ae8a5696d613cdc31a",
            "3145639497a14f4fbbc83d0bb4696721",
            "c1d6de242e0540a1b5b1c355d0bd3494",
            "3fa673ea25ce4a7c85287b94ca75663f",
            "a283948cf1f24bbc838da28929e3a709",
            "81112ffb91c048898134504b3d7b7b64",
            "1a30f02b76e540e18eb0cd8b7ea122e5",
            "f7b0212f39b7460f80c49863af8dc8e9",
            "166edbc816174e0b8d7544d06e155659",
            "887f9cd008374af98def833172d8df3c",
            "5034cfd7278549b59258cbe990e213ee",
            "cf7fedca232e4818abb0f7785c81e047",
            "d2579e0f92404b61ad3d06f5ce20b271",
            "c10ce0d49daf40c7a6a98f984351dc6a",
            "2638a0760b434597b9a067c86f8ffe48",
            "f5d10d6c61764501b7c14c1ce3adc695",
            "a69f017ad2f8460e8cf004c13ab8934e",
            "b925390f9d2c4aef91f16a63498d7268",
            "cb22612451784dc3a0aa468b09a7f473",
            "9904f3f2e8154ed8ab8db419f0de970c",
            "9edae43297cf45a59e4859d8f589878d",
            "29c8d76c7fe44764946120c9828ebcef",
            "52bbbc2eba1f42ff8af72ee5e2e5858f",
            "3b273c43682d486a804baccaa6d6f894",
            "8b3cf5bd59ed4c2dab4a2cc695a26315",
            "201e79605c1049dbb979b8d01ba5dc6b",
            "98a5f7f87df94cb294e11c3a46b7741a",
            "b61170456ad841a4b00f1de99299c0b9",
            "e822b134a1e64956b28c07033b63130b",
            "ed34d339c3ad420892ddca0bd7e43705",
            "83b7c8c700674551bfd4b99ceeadc546",
            "4b15ddbd0cc846238b6e77af915e5d64",
            "a4ed721753804fcfaa10e49dbea40b42",
            "fdacf6eb0dff448e8e03a71358e9db76",
            "4b874e7f733b4846b232540f8f39e43a",
            "0dbd27cccd5b4b42b04b536e44a73c5c",
            "50ecf1c23c1748fd8e19eb646215e0ff",
            "f5efd94a316a41fc85fb523336ecb29c",
            "8dbf34fce6d94db293d01207b2413ecc",
            "bb30efec1ef94fa28b4688bbf4d76bca",
            "31c84f6faeaa40e3a64609d59b4943c0",
            "2b66bfd2d5d84228b48858306af3f336",
            "32128b861b974fa4ae55862aa3433b2f",
            "589c7b669b25483e8b9301652a8cd61b",
            "ecdea9cd4ea2454ea6a60fad48d415aa",
            "5504727158e242f28de868af6a802245",
            "cb45cf29e4144fb584282ec4ccc46219"
          ]
        },
        "outputId": "c2952d33-50cb-43e5-9706-aef9d2de1e7d"
      },
      "outputs": [
        {
          "output_type": "display_data",
          "data": {
            "text/plain": [
              "modules.json:   0%|          | 0.00/349 [00:00<?, ?B/s]"
            ],
            "application/vnd.jupyter.widget-view+json": {
              "version_major": 2,
              "version_minor": 0,
              "model_id": "4823163c90c84d97812549a77bad99a1"
            }
          },
          "metadata": {}
        },
        {
          "output_type": "display_data",
          "data": {
            "text/plain": [
              "config_sentence_transformers.json:   0%|          | 0.00/116 [00:00<?, ?B/s]"
            ],
            "application/vnd.jupyter.widget-view+json": {
              "version_major": 2,
              "version_minor": 0,
              "model_id": "46ffa3da6ca046308c7b665869bc0fc9"
            }
          },
          "metadata": {}
        },
        {
          "output_type": "display_data",
          "data": {
            "text/plain": [
              "README.md:   0%|          | 0.00/11.6k [00:00<?, ?B/s]"
            ],
            "application/vnd.jupyter.widget-view+json": {
              "version_major": 2,
              "version_minor": 0,
              "model_id": "9682222987644c6fa208ef20690e6bda"
            }
          },
          "metadata": {}
        },
        {
          "output_type": "display_data",
          "data": {
            "text/plain": [
              "sentence_bert_config.json:   0%|          | 0.00/53.0 [00:00<?, ?B/s]"
            ],
            "application/vnd.jupyter.widget-view+json": {
              "version_major": 2,
              "version_minor": 0,
              "model_id": "1d9e959da16e42259878b9dd1d17aeba"
            }
          },
          "metadata": {}
        },
        {
          "output_type": "display_data",
          "data": {
            "text/plain": [
              "config.json:   0%|          | 0.00/612 [00:00<?, ?B/s]"
            ],
            "application/vnd.jupyter.widget-view+json": {
              "version_major": 2,
              "version_minor": 0,
              "model_id": "e4eb953c7afb4e879d7fbfcce6f0e408"
            }
          },
          "metadata": {}
        },
        {
          "output_type": "display_data",
          "data": {
            "text/plain": [
              "model.safetensors:   0%|          | 0.00/90.9M [00:00<?, ?B/s]"
            ],
            "application/vnd.jupyter.widget-view+json": {
              "version_major": 2,
              "version_minor": 0,
              "model_id": "e81aa6276031423a96c08991508075fb"
            }
          },
          "metadata": {}
        },
        {
          "output_type": "display_data",
          "data": {
            "text/plain": [
              "tokenizer_config.json:   0%|          | 0.00/383 [00:00<?, ?B/s]"
            ],
            "application/vnd.jupyter.widget-view+json": {
              "version_major": 2,
              "version_minor": 0,
              "model_id": "ab26c9f6244b484981e77408370ede86"
            }
          },
          "metadata": {}
        },
        {
          "output_type": "display_data",
          "data": {
            "text/plain": [
              "vocab.txt:   0%|          | 0.00/232k [00:00<?, ?B/s]"
            ],
            "application/vnd.jupyter.widget-view+json": {
              "version_major": 2,
              "version_minor": 0,
              "model_id": "3fa673ea25ce4a7c85287b94ca75663f"
            }
          },
          "metadata": {}
        },
        {
          "output_type": "display_data",
          "data": {
            "text/plain": [
              "tokenizer.json:   0%|          | 0.00/466k [00:00<?, ?B/s]"
            ],
            "application/vnd.jupyter.widget-view+json": {
              "version_major": 2,
              "version_minor": 0,
              "model_id": "2638a0760b434597b9a067c86f8ffe48"
            }
          },
          "metadata": {}
        },
        {
          "output_type": "display_data",
          "data": {
            "text/plain": [
              "special_tokens_map.json:   0%|          | 0.00/112 [00:00<?, ?B/s]"
            ],
            "application/vnd.jupyter.widget-view+json": {
              "version_major": 2,
              "version_minor": 0,
              "model_id": "201e79605c1049dbb979b8d01ba5dc6b"
            }
          },
          "metadata": {}
        },
        {
          "output_type": "display_data",
          "data": {
            "text/plain": [
              "1_Pooling/config.json:   0%|          | 0.00/190 [00:00<?, ?B/s]"
            ],
            "application/vnd.jupyter.widget-view+json": {
              "version_major": 2,
              "version_minor": 0,
              "model_id": "50ecf1c23c1748fd8e19eb646215e0ff"
            }
          },
          "metadata": {}
        }
      ],
      "source": [
        "# Load the language model\n",
        "model_name = \"multi-qa-MiniLM-L6-cos-v1\"\n",
        "model = SentenceTransformer(model_name)\n"
      ]
    },
    {
      "cell_type": "markdown",
      "metadata": {
        "id": "0yvdznzt3eAS"
      },
      "source": [
        "### Paragraph-level embeddings\n",
        "\n",
        "The first method will rely on paragraph-level embeddings. That is, an entire paragraph (e.g., a whole news story) is passed as an input to a language model, the contextualised word embeddings produced by the language model for all the words in the paragraph are extracted, and the average embedding is taken to be the document representation. Luckily, the SentenceTransformer library used in the cell above automates this process for us.\n"
      ]
    },
    {
      "cell_type": "markdown",
      "metadata": {
        "id": "rTuHfWPNeSLs"
      },
      "source": [
        "First, we embed the news stories."
      ]
    },
    {
      "cell_type": "code",
      "execution_count": 13,
      "metadata": {
        "id": "f2gFoE2Ppo3F"
      },
      "outputs": [],
      "source": [
        "story_embeddings = model.encode(retrieval_dataset.documents)"
      ]
    },
    {
      "cell_type": "markdown",
      "metadata": {
        "id": "O9HbDvJ3eWwn"
      },
      "source": [
        "Then, we embed an example query."
      ]
    },
    {
      "cell_type": "code",
      "execution_count": 14,
      "metadata": {
        "id": "uaZSzQZdtJLu"
      },
      "outputs": [],
      "source": [
        "query_embedding = model.encode('electric vehicles')"
      ]
    },
    {
      "cell_type": "markdown",
      "metadata": {
        "id": "opW_o8oTebLu"
      },
      "source": [
        "Now we can compute the similarity between the query and the story embeddings. We will use the dot product between embedding as a measure of their geometric distance.\n",
        "\n",
        "***Fill in the code below by providing the right arguments to the `dot_score` function.***"
      ]
    },
    {
      "cell_type": "code",
      "execution_count": 15,
      "metadata": {
        "id": "144dhiUQtK5g"
      },
      "outputs": [],
      "source": [
        "# Compute semantic similarity as the dot product between embeddings\n",
        "similarity_scores = util.dot_score(\n",
        "story_embeddings,\n",
        "query_embedding\n",
        ")"
      ]
    },
    {
      "cell_type": "markdown",
      "metadata": {
        "id": "JLr9T83ge9vc"
      },
      "source": [
        "Let's inspect the shape and content of the similarity score vector."
      ]
    },
    {
      "cell_type": "code",
      "execution_count": 16,
      "metadata": {
        "id": "GOsdWiZze954",
        "colab": {
          "base_uri": "https://localhost:8080/"
        },
        "outputId": "6b0a26a7-7f06-4c02-de48-4ac9a935c2f0"
      },
      "outputs": [
        {
          "output_type": "stream",
          "name": "stdout",
          "text": [
            "torch.Size([100, 1])\n",
            "tensor([[-3.5164e-02],\n",
            "        [ 7.4932e-01],\n",
            "        [ 4.2309e-01],\n",
            "        [ 3.4363e-01],\n",
            "        [ 2.5842e-01],\n",
            "        [ 1.6174e-01],\n",
            "        [ 2.6499e-01],\n",
            "        [ 2.1440e-01],\n",
            "        [ 1.2893e-01],\n",
            "        [ 3.4044e-01],\n",
            "        [ 1.5525e-01],\n",
            "        [ 4.4081e-01],\n",
            "        [ 1.7460e-01],\n",
            "        [ 3.7609e-02],\n",
            "        [ 2.3579e-01],\n",
            "        [ 2.3579e-01],\n",
            "        [ 1.6344e-01],\n",
            "        [ 4.0172e-01],\n",
            "        [ 1.2528e-01],\n",
            "        [ 2.2745e-01],\n",
            "        [ 3.6874e-01],\n",
            "        [ 2.8882e-01],\n",
            "        [ 2.2444e-01],\n",
            "        [ 3.4821e-01],\n",
            "        [ 2.1760e-01],\n",
            "        [ 3.3167e-01],\n",
            "        [ 4.9821e-01],\n",
            "        [ 3.8450e-01],\n",
            "        [ 3.9013e-01],\n",
            "        [ 1.5539e-01],\n",
            "        [ 3.8754e-01],\n",
            "        [ 3.4203e-01],\n",
            "        [ 2.8183e-01],\n",
            "        [ 1.9025e-01],\n",
            "        [ 3.4600e-01],\n",
            "        [ 3.4600e-01],\n",
            "        [ 3.2337e-01],\n",
            "        [-1.0555e-01],\n",
            "        [-4.2203e-02],\n",
            "        [ 3.2657e-02],\n",
            "        [ 1.3123e-01],\n",
            "        [ 6.5636e-02],\n",
            "        [ 6.0612e-03],\n",
            "        [ 8.0774e-02],\n",
            "        [ 2.6421e-01],\n",
            "        [ 1.5992e-01],\n",
            "        [-4.7375e-02],\n",
            "        [-4.7375e-02],\n",
            "        [-1.0589e-01],\n",
            "        [-1.0589e-01],\n",
            "        [ 9.9840e-02],\n",
            "        [-3.8875e-03],\n",
            "        [ 5.7524e-02],\n",
            "        [ 1.0370e-01],\n",
            "        [ 1.3831e-01],\n",
            "        [ 7.9701e-02],\n",
            "        [ 1.9692e-01],\n",
            "        [-3.2610e-02],\n",
            "        [ 7.1754e-04],\n",
            "        [-8.7852e-02],\n",
            "        [-5.2489e-02],\n",
            "        [ 7.0033e-02],\n",
            "        [ 1.3545e-02],\n",
            "        [ 1.0433e-01],\n",
            "        [ 3.3496e-02],\n",
            "        [ 3.3031e-02],\n",
            "        [ 1.6148e-02],\n",
            "        [ 1.2311e-01],\n",
            "        [ 4.0958e-02],\n",
            "        [ 8.6441e-02],\n",
            "        [ 3.3287e-03],\n",
            "        [-5.1825e-02],\n",
            "        [-1.3481e-01],\n",
            "        [-1.3887e-01],\n",
            "        [-1.5210e-01],\n",
            "        [-9.8821e-02],\n",
            "        [-9.5270e-02],\n",
            "        [-1.0855e-01],\n",
            "        [-4.1019e-02],\n",
            "        [ 2.7619e-02],\n",
            "        [-3.0709e-02],\n",
            "        [ 1.4788e-02],\n",
            "        [ 4.2993e-02],\n",
            "        [ 8.7656e-03],\n",
            "        [ 3.6249e-03],\n",
            "        [-1.0694e-01],\n",
            "        [-3.3620e-02],\n",
            "        [ 8.9359e-02],\n",
            "        [ 8.9359e-02],\n",
            "        [-3.3313e-02],\n",
            "        [-1.0157e-02],\n",
            "        [-2.2729e-02],\n",
            "        [-5.6901e-02],\n",
            "        [-5.0940e-02],\n",
            "        [ 8.0547e-02],\n",
            "        [-1.1757e-01],\n",
            "        [ 1.0669e-01],\n",
            "        [-6.1221e-02],\n",
            "        [-4.0795e-02],\n",
            "        [-4.0795e-02]])\n"
          ]
        }
      ],
      "source": [
        "print(similarity_scores.shape)\n",
        "print(similarity_scores)"
      ]
    },
    {
      "cell_type": "markdown",
      "metadata": {
        "id": "QjnCDDs0fHlb"
      },
      "source": [
        "Next, we obtain the indices of the top 3 ranked documents and their respective similarity scores. These are the documents that best match the query according to our paragraph embeddings."
      ]
    },
    {
      "cell_type": "code",
      "execution_count": 17,
      "metadata": {
        "id": "HFsBynVgtN5X",
        "colab": {
          "base_uri": "https://localhost:8080/"
        },
        "outputId": "b92c6904-0101-431d-b036-919bd180e443"
      },
      "outputs": [
        {
          "output_type": "stream",
          "name": "stdout",
          "text": [
            "Top 3 document ids: tensor([ 1, 26, 11])\n",
            "Top 3 document similarity scores: tensor([0.7493, 0.4982, 0.4408])\n"
          ]
        }
      ],
      "source": [
        "# Get the indices of the 3 top ranked documents and their similarity scores\n",
        "#top_k_scores, top_k_indices = torch.topk(similarity_scores[0], 3, dim=0)\n",
        "\n",
        "top_k_scores, top_k_indices = torch.topk(similarity_scores[:, 0], k=3, dim=0)\n",
        "\n",
        "print(f'Top 3 document ids: {top_k_indices}')\n",
        "print(f'Top 3 document similarity scores: {top_k_scores}')\n"
      ]
    },
    {
      "cell_type": "code",
      "execution_count": 18,
      "metadata": {
        "id": "P8zus-YNx4Pe",
        "colab": {
          "base_uri": "https://localhost:8080/"
        },
        "outputId": "22395351-04cd-4035-c1b8-c620dc5dfc4c"
      },
      "outputs": [
        {
          "output_type": "stream",
          "name": "stdout",
          "text": [
            "Best matching document:\n",
            "\n",
            "(AOL Autos)  -- At the 2009 Detroit Auto Show, Chrysler, Mercedes-Benz, Toyota and MINI showed the world what electric\n",
            "vehicles of the future will look like. And the future of driving looks fun. The Dodge Circuit EV can blast from 0-to-60\n",
            "mph in around 4 seconds. Those in the know realize that sometime in the future, the vast majority of light cars and\n",
            "trucks in the US will feature electric final drive systems. The motors used in these systems will be powered by\n",
            "batteries, fuel cells, on-board generators, and perhaps even the sun. But this open issue doesn't change the\n",
            "inevitability of this reality. Given our current economic times, reality demands practical, tangible, and achievable\n",
            "ideas of what electric vehicles (or \"EVs\" for short) might actually look like. This is it ... Chrysler Three of the four\n",
            "electric vehicles Chrysler showed in Detroit, Michigan, were shown at other events and even to Washington bureaucrats.\n",
            "Each of these vehicles is a running prototype, not some pie-in-the-sky-we'll-never-build that idea. ENVI is the special\n",
            "group of engineers at Chrysler that develops the company's EVs. To date, the ENVI group has developed four electrically\n",
            "powered models, each quite different from the other: a Dodge Circuit EV sports car (rear-wheel drive), a Chrysler Town &\n",
            "Country minivan (front-wheel-drive), a Jeep Wrangler Unlimited (all-wheel-drive), and now a Jeep Patriot (front-wheel-\n",
            "drive). Chrysler promises to offer at least one of these models in 2010, and three more by 2013. AOL Autos: Dodge\n",
            "Circuit EV photos Chrysler approaches electric vehicles with simple plug-and-play engineering. Every one of their\n",
            "vehicles uses similar electric drive motors (only varying in power output), advanced lithium-ion batteries, and a power\n",
            "management controller. Each plugs in to 110- or 220-volt household outlets for recharging. The Chrysler and both Jeeps\n",
            "use an on-board range-extending battery charger (a generator). This generator automatically turns on after the vehicle's\n",
            "initial batter charge has been spent (usually within a range of 40 miles), supplying extra voltage that give these three\n",
            "vehicles an estimated range of approximately 400 miles. The generator is powered by a small gasoline-powered engine that\n",
            "runs with exceptional efficiency. This technology is similar in concept to what General Motors has shown in their\n",
            "Chevrolet Volt, a vehicle that should be ready for production in 2010. AOL Autos: Cadillac Converj photos The Dodge\n",
            "Circuit carries a larger battery pack and no generator, so its range on the charge it carries is approximately 150-200\n",
            "miles. Its large battery pack combined with compact dimensions and the exceptional torque provided by its electric motor\n",
            "blast the car from zero-to-sixty mph in around four seconds, exceptionally fast for any sports car regardless of engine\n",
            "type. Mercedes-Benz Mercedes-Benz used the 2009 Detroit Auto Show to showcase their Concept BlueZERO vehicles. The\n",
            "Mercedes approach was to develop one efficient body style, and then equip it with three different electric drive\n",
            "packages. AOL Autos: Mercedes Stirling Moss photos Much of the hardware for the all-electric front-wheel-drive\n",
            "propulsion units is built into what Mercedes calls \"sandwich-floor\" architecture that the company uses on several\n",
            "production cars. The design helps keep heavy components mounted low on the chassis for better handling, enhanced safety,\n",
            "and maximized interior room. All three Concept BlueZERO vehicles include electric drive and batteries. The E-Cell uses a\n",
            "large battery pack that is said to deliver a range of 120 miles. The F-Cell utilizes a smaller battery pack, but\n",
            "supplements the vehicle's range with a hydrogen fuel cell. The fuel cell produces electricity to recharge the battery\n",
            "pack that extends cruising range to 240 miles. The E-Cell Plus, with a range of approximately 360 miles, is the distance\n",
            "champion. The key is the on-board generator powered by tiny 1-liter turbo-charged three-cylinder gasoline engine.\n"
          ]
        }
      ],
      "source": [
        "# Print the best matching document\n",
        "print('Best matching document:\\n')\n",
        "best_match_index = top_k_indices[0]\n",
        "pprint(retrieval_dataset.documents[best_match_index])"
      ]
    },
    {
      "cell_type": "markdown",
      "metadata": {
        "id": "NTMMdo3H3r57"
      },
      "source": [
        "#### Putting it all together\n",
        "\n",
        "Now that we have tested all of its components, we can reate a Python class for the document retriever based on paragraph-level document embeddings.\n",
        "\n",
        "***Fill in the code in the cell below.***"
      ]
    },
    {
      "cell_type": "code",
      "execution_count": 19,
      "metadata": {
        "id": "ILcyrKi5y0ad"
      },
      "outputs": [],
      "source": [
        "class ParagraphEmbeddingRetriever:\n",
        "\n",
        "  # Initialise the Retriever object\n",
        "  # with a document database and a language model\n",
        "  def __init__(\n",
        "      self,\n",
        "      documents,  # the list of documents in the database\n",
        "      model_name,  # the name of the language model\n",
        "    ):\n",
        "\n",
        "    # Load language model\n",
        "    self.model = SentenceTransformer(\n",
        "        model_name\n",
        "    )\n",
        "\n",
        "    # Embed documents\n",
        "    print('Initialization: embedding documents...')\n",
        "    self.doc_embeddings = self.model.encode(\n",
        "        documents\n",
        "    )\n",
        "\n",
        "  # Retrieving function: it takes as input a query and returns\n",
        "  # the top_k (default top_k = 3) matching documents in the database\n",
        "  def retrieve(\n",
        "      self,\n",
        "      query,\n",
        "      top_k=3\n",
        "    ):\n",
        "\n",
        "    # Embed query\n",
        "    query_embedding = self.model.encode(\n",
        "    query\n",
        "    )\n",
        "\n",
        "    # Compute semantic similarity\n",
        "    similarity_scores = util.dot_score(\n",
        "        query_embedding,\n",
        "        self.doc_embeddings\n",
        "    )[0]\n",
        "\n",
        "    # Get top k documents and their similarity scores\n",
        "    top_k_scores, top_k_indices = torch.topk(\n",
        "        similarity_scores,\n",
        "        k=top_k\n",
        "    )\n",
        "    return top_k_indices, top_k_scores, similarity_scores\n"
      ]
    },
    {
      "cell_type": "markdown",
      "source": [
        "### ParagraphEmbeddingRetriever\n",
        "The class is initialized with two parameters:\n",
        "*   documents, which represents the list of documents in the database\n",
        "*   model_name, which is the name of the language model\n",
        "\n"
      ],
      "metadata": {
        "id": "zxzXZuKJtwuL"
      }
    },
    {
      "cell_type": "markdown",
      "source": [
        "###init\n",
        "With this method, the language model specified by model_name is loaded using SentenceTransformer.\n",
        "\n",
        "The encode method of the loaded model is then used to embed the documents, resulting in doc_embeddings, which stores the embeddings for each document in the database."
      ],
      "metadata": {
        "id": "Tm5ssW3Etofn"
      }
    },
    {
      "cell_type": "markdown",
      "source": [
        "### retrieve\n",
        "This function takes a query and a parameter top_k (defaulting to 3) indicating the number of top matching documents to retrieve.\n",
        "\n",
        "Inside the function:\n",
        "*   The query is embedded using the same model used for embedding documents.\n",
        "*   Semantic similarity scores between the query embedding and document embeddings are computed using dot product similarity.\n",
        "*   The top-k documents and their similarity scores are obtained using torch.topk().\n",
        "\n",
        "Finally, the function returns the indices of the top-k documents, their similarity scores, and the similarity scores for all documents in the database."
      ],
      "metadata": {
        "id": "2_b_mAYqs7Fz"
      }
    },
    {
      "cell_type": "markdown",
      "metadata": {
        "id": "_PCssQp-WVbY"
      },
      "source": [
        "Let's test our compiled document retriever on the previous example."
      ]
    },
    {
      "cell_type": "code",
      "execution_count": 28,
      "metadata": {
        "id": "Gv5vCEhmWc0E",
        "colab": {
          "base_uri": "https://localhost:8080/"
        },
        "outputId": "c1534679-a7a8-44fb-82ef-0f6950841aa6"
      },
      "outputs": [
        {
          "output_type": "stream",
          "name": "stdout",
          "text": [
            "Initialization: embedding documents...\n",
            "\n",
            "Top 3 indices: [1, 26, 11]\n",
            "Their scores: [0.7493171095848083, 0.49820512533187866, 0.44080570340156555]\n",
            "\n",
            "Best matching document:\n",
            "\n",
            "(AOL Autos)  -- At the 2009 Detroit Auto Show, Chrysler, Mercedes-Benz, Toyota and MINI showed the world what electric\n",
            "vehicles of the future will look like. And the future of driving looks fun. The Dodge Circuit EV can blast from 0-to-60\n",
            "mph in around 4 seconds. Those in the know realize that sometime in the future, the vast majority of light cars and\n",
            "trucks in the US will feature electric final drive systems. The motors used in these systems will be powered by\n",
            "batteries, fuel cells, on-board generators, and perhaps even the sun. But this open issue doesn't change the\n",
            "inevitability of this reality. Given our current economic times, reality demands practical, tangible, and achievable\n",
            "ideas of what electric vehicles (or \"EVs\" for short) might actually look like. This is it ... Chrysler Three of the four\n",
            "electric vehicles Chrysler showed in Detroit, Michigan, were shown at other events and even to Washington bureaucrats.\n",
            "Each of these vehicles is a running prototype, not some pie-in-the-sky-we'll-never-build that idea. ENVI is the special\n",
            "group of engineers at Chrysler that develops the company's EVs. To date, the ENVI group has developed four electrically\n",
            "powered models, each quite different from the other: a Dodge Circuit EV sports car (rear-wheel drive), a Chrysler Town &\n",
            "Country minivan (front-wheel-drive), a Jeep Wrangler Unlimited (all-wheel-drive), and now a Jeep Patriot (front-wheel-\n",
            "drive). Chrysler promises to offer at least one of these models in 2010, and three more by 2013. AOL Autos: Dodge\n",
            "Circuit EV photos Chrysler approaches electric vehicles with simple plug-and-play engineering. Every one of their\n",
            "vehicles uses similar electric drive motors (only varying in power output), advanced lithium-ion batteries, and a power\n",
            "management controller. Each plugs in to 110- or 220-volt household outlets for recharging. The Chrysler and both Jeeps\n",
            "use an on-board range-extending battery charger (a generator). This generator automatically turns on after the vehicle's\n",
            "initial batter charge has been spent (usually within a range of 40 miles), supplying extra voltage that give these three\n",
            "vehicles an estimated range of approximately 400 miles. The generator is powered by a small gasoline-powered engine that\n",
            "runs with exceptional efficiency. This technology is similar in concept to what General Motors has shown in their\n",
            "Chevrolet Volt, a vehicle that should be ready for production in 2010. AOL Autos: Cadillac Converj photos The Dodge\n",
            "Circuit carries a larger battery pack and no generator, so its range on the charge it carries is approximately 150-200\n",
            "miles. Its large battery pack combined with compact dimensions and the exceptional torque provided by its electric motor\n",
            "blast the car from zero-to-sixty mph in around four seconds, exceptionally fast for any sports car regardless of engine\n",
            "type. Mercedes-Benz Mercedes-Benz used the 2009 Detroit Auto Show to showcase their Concept BlueZERO vehicles. The\n",
            "Mercedes approach was to develop one efficient body style, and then equip it with three different electric drive\n",
            "packages. AOL Autos: Mercedes Stirling Moss photos Much of the hardware for the all-electric front-wheel-drive\n",
            "propulsion units is built into what Mercedes calls \"sandwich-floor\" architecture that the company uses on several\n",
            "production cars. The design helps keep heavy components mounted low on the chassis for better handling, enhanced safety,\n",
            "and maximized interior room. All three Concept BlueZERO vehicles include electric drive and batteries. The E-Cell uses a\n",
            "large battery pack that is said to deliver a range of 120 miles. The F-Cell utilizes a smaller battery pack, but\n",
            "supplements the vehicle's range with a hydrogen fuel cell. The fuel cell produces electricity to recharge the battery\n",
            "pack that extends cruising range to 240 miles. The E-Cell Plus, with a range of approximately 360 miles, is the distance\n",
            "champion. The key is the on-board generator powered by tiny 1-liter turbo-charged three-cylinder gasoline engine.\n"
          ]
        }
      ],
      "source": [
        "paragraph_retriever = ParagraphEmbeddingRetriever(\n",
        "    documents=retrieval_dataset.documents,\n",
        "    model_name='multi-qa-MiniLM-L6-cos-v1'\n",
        ")\n",
        "\n",
        "top_3_indices, top_3_scores, _ = paragraph_retriever.retrieve(\n",
        "    query='electric vehicles',\n",
        "    top_k=3\n",
        ")\n",
        "\n",
        "print()\n",
        "print(f'Top 3 indices: {top_3_indices.tolist()}')\n",
        "print(f'Their scores: {top_3_scores.tolist()}')\n",
        "print('\\nBest matching document:\\n')\n",
        "\n",
        "best_match_index = top_3_indices[0]\n",
        "pprint(retrieval_dataset.documents[best_match_index])\n"
      ]
    },
    {
      "cell_type": "markdown",
      "metadata": {
        "id": "VZsKTW9l3ijd"
      },
      "source": [
        "### Sentence-level embeddings\n",
        "\n",
        "News stories consist of many sentences. When a single embedding is used to represent them all, the meaning of each sentence is diluted and the final document embedding may become uninformative.\n",
        "\n",
        "The second method you will implement tries to address this issue by representing documents as a set of sentence-level embeddings. It is more computationally expensive, but it can potentially lead to more accurate retrieval.\n",
        "\n",
        "The method works as follows:\n",
        "1. Every document in the database is split into sentences.\n",
        "2. Each sentence in a document is embedded using a language model, and all the sentence embeddings extracted for a document are stored.\n",
        "3. At retrieval time, the query text is embedded and compared to all of the sentence embeddings of each document. Instead of a single similarity score for a given document, this results in a list of similarity scores, one for each sentence in the document.\n",
        "4. To obtain a single number from this list of similarity scores, a summary statistic is used, such as the mean, minimum or maximum.\n",
        "5. The documents are ranked based on this summary similarity score.\n",
        "\n",
        "We can reuse the same language model as an embedding engine."
      ]
    },
    {
      "cell_type": "markdown",
      "metadata": {
        "id": "_hF2_kjkgnxC"
      },
      "source": [
        "***Write a line of code to load the Sentence Transformer.***"
      ]
    },
    {
      "cell_type": "code",
      "execution_count": 29,
      "metadata": {
        "id": "hV6i9773UML3"
      },
      "outputs": [],
      "source": [
        "model_name = \"multi-qa-MiniLM-L6-cos-v1\"\n",
        "model = SentenceTransformer(model_name)"
      ]
    },
    {
      "cell_type": "markdown",
      "metadata": {
        "id": "FeKYcPceUhIC"
      },
      "source": [
        "To split documents into sentences, we will use the [spaCy](https://spacy.io/) library with its `sentencizer`, or *sentence segmentation* algorithm."
      ]
    },
    {
      "cell_type": "markdown",
      "source": [
        "By using spaCy's sentencizer, the document is split into sentences accurately, considering factors such as punctuation and sentence boundaries. This will facilitate embedding each sentence separately for sentence-level retrieval tasks."
      ],
      "metadata": {
        "id": "ATi8lx570D1V"
      }
    },
    {
      "cell_type": "code",
      "execution_count": 30,
      "metadata": {
        "id": "DtBpq8EbUa5R"
      },
      "outputs": [],
      "source": [
        "spacy = English()\n",
        "spacy.add_pipe(\"sentencizer\")\n",
        "\n",
        "def split(text):\n",
        "  \"\"\"\n",
        "  Splits a text into sentences using the Spacy library.\n",
        "\n",
        "  Parameters\n",
        "  ----------\n",
        "  text : str\n",
        "      The text to be split into sentences.\n",
        "\n",
        "  Returns\n",
        "  -------\n",
        "  list\n",
        "      The list of sentences in the text.\n",
        "  \"\"\"\n",
        "  processed_text = spacy(text)\n",
        "  processed_sentences = processed_text.sents\n",
        "\n",
        "  sentences = []\n",
        "  for sentence in processed_sentences:\n",
        "    sentences.append(sentence.text)\n",
        "\n",
        "  return sentences\n"
      ]
    },
    {
      "cell_type": "markdown",
      "metadata": {
        "id": "UmWeHRn0g5MA"
      },
      "source": [
        "Let's test the sentence segmentation algorithm.\n",
        "\n"
      ]
    },
    {
      "cell_type": "code",
      "execution_count": 31,
      "metadata": {
        "id": "raqUMJA5g_C2",
        "colab": {
          "base_uri": "https://localhost:8080/"
        },
        "outputId": "5594730a-2f5a-4bd2-f689-a51ac4b91cc1"
      },
      "outputs": [
        {
          "output_type": "execute_result",
          "data": {
            "text/plain": [
              "['This is a first test sentence.',\n",
              " 'This is the second test sentence.',\n",
              " 'Will the segmentation algorithm detect all sentences correctly?']"
            ]
          },
          "metadata": {},
          "execution_count": 31
        }
      ],
      "source": [
        "split('This is a first test sentence. This is the second test sentence. Will the segmentation algorithm detect all sentences correctly?')"
      ]
    },
    {
      "cell_type": "markdown",
      "metadata": {
        "id": "pHMxtHTgVBR5"
      },
      "source": [
        "Now that the sentence segmentation is in place, let's build the sentence-based document retriever step by step.\n",
        "\n",
        "***In the cell below, fill in the line to embed the sentences in a story.***"
      ]
    },
    {
      "cell_type": "code",
      "execution_count": 32,
      "metadata": {
        "id": "nE_ZWkrAU2T-",
        "colab": {
          "base_uri": "https://localhost:8080/",
          "height": 49,
          "referenced_widgets": [
            "b8193dd04d654b10a9e8bacff6b21f47",
            "60503f41d4ea46c5b205f7740e25d5bd",
            "40d962ded7624fc5ac8eec094081da77",
            "bc3ba22ef458412791f62557150b824d",
            "f39ef06e9da04e7cab977dd9eafa178d",
            "5079730d6c7944d29b9b432d5825f278",
            "35d1853c7afb4983a69bbe0ba90db4ff",
            "84dca8c9a86f43a18945005c56d0a702",
            "5725f8d1bd464383a3fef696b5bfab5e",
            "93e5815d5d14409d84c8eade7c6a87fd",
            "bdfc332c6c534e57892659f605750e65"
          ]
        },
        "outputId": "3f96c37e-62df-45e1-f7d3-d7d9954a9cdd"
      },
      "outputs": [
        {
          "output_type": "display_data",
          "data": {
            "text/plain": [
              "  0%|          | 0/100 [00:00<?, ?it/s]"
            ],
            "application/vnd.jupyter.widget-view+json": {
              "version_major": 2,
              "version_minor": 0,
              "model_id": "b8193dd04d654b10a9e8bacff6b21f47"
            }
          },
          "metadata": {}
        }
      ],
      "source": [
        "# Embed news stories\n",
        "\n",
        "story_embeddings = []\n",
        "\n",
        "for story in tqdm(retrieval_dataset.documents):\n",
        "\n",
        "  # Split news story into sentences\n",
        "  sentences = split(story)\n",
        "\n",
        "  # Embed sentences\n",
        "  sentence_embeddings =  model.encode(sentences)\n",
        "\n",
        "  story_embeddings.append(sentence_embeddings)"
      ]
    },
    {
      "cell_type": "markdown",
      "metadata": {
        "id": "nCdKzvsnhfHS"
      },
      "source": [
        "\n",
        "***Fill in the code to embed the query sentence.*** You can use the same query sentence as above, \"electric vehicles\"."
      ]
    },
    {
      "cell_type": "code",
      "execution_count": 34,
      "metadata": {
        "id": "fLWHQ8GTV4Qp"
      },
      "outputs": [],
      "source": [
        "# Embed test query\n",
        "query_embedding = model.encode('electric vehicles')"
      ]
    },
    {
      "cell_type": "markdown",
      "metadata": {
        "id": "GZyf3Qqlhv7z"
      },
      "source": [
        "Now we can compute the similarity scores between the query embedding and the sentence embeddings. Remember: this will yield multiple similarity scores for each document, one per sentence. So we will summarise this document-specific list of similarity scores using a summary statistic. Here, we test `mean`, `min`, and `max` as summary statistics."
      ]
    },
    {
      "cell_type": "code",
      "execution_count": 35,
      "metadata": {
        "id": "aX4wEi7ZZsbQ"
      },
      "outputs": [],
      "source": [
        "# Store the similarity scores obtained with different summary statistics\n",
        "similarity_scores = {\n",
        "    'mean': [],\n",
        "    'max': [],\n",
        "    'min': []\n",
        "}\n",
        "\n",
        "for story_sentence_embeddings in (story_embeddings):\n",
        "    sentence_similarities = util.dot_score(\n",
        "        query_embedding,\n",
        "        story_sentence_embeddings\n",
        "    )\n",
        "    similarity_scores['mean'].append(sentence_similarities.mean())\n",
        "    similarity_scores['min'].append(sentence_similarities.min())\n",
        "    similarity_scores['max'].append(sentence_similarities.max())\n"
      ]
    },
    {
      "cell_type": "markdown",
      "metadata": {
        "id": "thdwzjtSiSmU"
      },
      "source": [
        "Let's retrieve the top 3 stories and their similarity scores.\n",
        "\n",
        "***Fill in the line below by providing a value for the parameter $k$.***"
      ]
    },
    {
      "cell_type": "code",
      "execution_count": 36,
      "metadata": {
        "id": "dkzGoXtsaqer"
      },
      "outputs": [],
      "source": [
        "top_3_similarity_scores = dict()\n",
        "top_3_story_indices = dict()\n",
        "\n",
        "for summary_statistic in ['mean', 'min', 'max']:\n",
        "  top_k_scores, top_k_indices = torch.topk(\n",
        "      torch.as_tensor(similarity_scores[summary_statistic]),\n",
        "      k = 3\n",
        "  )\n",
        "  top_3_similarity_scores[summary_statistic] = top_k_scores, top_k_indices\n"
      ]
    },
    {
      "cell_type": "markdown",
      "metadata": {
        "id": "wT2au0C5jJAK"
      },
      "source": [
        "Let's print out the indices of the top 3 matches based on `mean` sentence similarity."
      ]
    },
    {
      "cell_type": "code",
      "execution_count": 37,
      "metadata": {
        "id": "1LqxutwuXehi",
        "colab": {
          "base_uri": "https://localhost:8080/"
        },
        "outputId": "1dd4afcb-d970-4923-d3a7-5edcfb589bf3"
      },
      "outputs": [
        {
          "output_type": "stream",
          "name": "stdout",
          "text": [
            "Top 3 document ids: tensor([ 1, 23, 30])\n",
            "Top 3 document similarity scores: tensor([0.4343, 0.2930, 0.2875])\n",
            "\n",
            "Best matching document:\n",
            "\n",
            "(AOL Autos)  -- At the 2009 Detroit Auto Show, Chrysler, Mercedes-Benz, Toyota and MINI showed the world what electric\n",
            "vehicles of the future will look like. And the future of driving looks fun. The Dodge Circuit EV can blast from 0-to-60\n",
            "mph in around 4 seconds. Those in the know realize that sometime in the future, the vast majority of light cars and\n",
            "trucks in the US will feature electric final drive systems. The motors used in these systems will be powered by\n",
            "batteries, fuel cells, on-board generators, and perhaps even the sun. But this open issue doesn't change the\n",
            "inevitability of this reality. Given our current economic times, reality demands practical, tangible, and achievable\n",
            "ideas of what electric vehicles (or \"EVs\" for short) might actually look like. This is it ... Chrysler Three of the four\n",
            "electric vehicles Chrysler showed in Detroit, Michigan, were shown at other events and even to Washington bureaucrats.\n",
            "Each of these vehicles is a running prototype, not some pie-in-the-sky-we'll-never-build that idea. ENVI is the special\n",
            "group of engineers at Chrysler that develops the company's EVs. To date, the ENVI group has developed four electrically\n",
            "powered models, each quite different from the other: a Dodge Circuit EV sports car (rear-wheel drive), a Chrysler Town &\n",
            "Country minivan (front-wheel-drive), a Jeep Wrangler Unlimited (all-wheel-drive), and now a Jeep Patriot (front-wheel-\n",
            "drive). Chrysler promises to offer at least one of these models in 2010, and three more by 2013. AOL Autos: Dodge\n",
            "Circuit EV photos Chrysler approaches electric vehicles with simple plug-and-play engineering. Every one of their\n",
            "vehicles uses similar electric drive motors (only varying in power output), advanced lithium-ion batteries, and a power\n",
            "management controller. Each plugs in to 110- or 220-volt household outlets for recharging. The Chrysler and both Jeeps\n",
            "use an on-board range-extending battery charger (a generator). This generator automatically turns on after the vehicle's\n",
            "initial batter charge has been spent (usually within a range of 40 miles), supplying extra voltage that give these three\n",
            "vehicles an estimated range of approximately 400 miles. The generator is powered by a small gasoline-powered engine that\n",
            "runs with exceptional efficiency. This technology is similar in concept to what General Motors has shown in their\n",
            "Chevrolet Volt, a vehicle that should be ready for production in 2010. AOL Autos: Cadillac Converj photos The Dodge\n",
            "Circuit carries a larger battery pack and no generator, so its range on the charge it carries is approximately 150-200\n",
            "miles. Its large battery pack combined with compact dimensions and the exceptional torque provided by its electric motor\n",
            "blast the car from zero-to-sixty mph in around four seconds, exceptionally fast for any sports car regardless of engine\n",
            "type. Mercedes-Benz Mercedes-Benz used the 2009 Detroit Auto Show to showcase their Concept BlueZERO vehicles. The\n",
            "Mercedes approach was to develop one efficient body style, and then equip it with three different electric drive\n",
            "packages. AOL Autos: Mercedes Stirling Moss photos Much of the hardware for the all-electric front-wheel-drive\n",
            "propulsion units is built into what Mercedes calls \"sandwich-floor\" architecture that the company uses on several\n",
            "production cars. The design helps keep heavy components mounted low on the chassis for better handling, enhanced safety,\n",
            "and maximized interior room. All three Concept BlueZERO vehicles include electric drive and batteries. The E-Cell uses a\n",
            "large battery pack that is said to deliver a range of 120 miles. The F-Cell utilizes a smaller battery pack, but\n",
            "supplements the vehicle's range with a hydrogen fuel cell. The fuel cell produces electricity to recharge the battery\n",
            "pack that extends cruising range to 240 miles. The E-Cell Plus, with a range of approximately 360 miles, is the distance\n",
            "champion. The key is the on-board generator powered by tiny 1-liter turbo-charged three-cylinder gasoline engine.\n"
          ]
        }
      ],
      "source": [
        "top_k_scores_mean, top_k_indices_mean = top_3_similarity_scores['mean']\n",
        "print(f'Top 3 document ids: {top_k_indices_mean}')\n",
        "print(f'Top 3 document similarity scores: {top_k_scores_mean}')\n",
        "print('\\nBest matching document:\\n')\n",
        "\n",
        "best_match_index = top_k_indices_mean[0]\n",
        "pprint(retrieval_dataset.documents[best_match_index])\n"
      ]
    },
    {
      "cell_type": "markdown",
      "metadata": {
        "id": "7zl3hr5yjw2O"
      },
      "source": [
        "***In the nest two cells, write code to inspect the top 3 indices and their scores as well as the best matching document for the `min` and `max` sumamry statistics.***"
      ]
    },
    {
      "cell_type": "code",
      "execution_count": 38,
      "metadata": {
        "id": "g-d7yYCDjwVc",
        "colab": {
          "base_uri": "https://localhost:8080/"
        },
        "outputId": "f9012186-942f-4f6a-8e35-e454b622e379"
      },
      "outputs": [
        {
          "output_type": "stream",
          "name": "stdout",
          "text": [
            "Top 3 document ids: tensor([11, 30, 31])\n",
            "Top 3 document similarity scores: tensor([0.0815, 0.0447, 0.0440])\n",
            "\n",
            "Best matching document:\n",
            "\n",
            "(AOL Autos) -- Consumer Reports recently announced its annual used cars ratings, and we weren't surprised to see one of\n",
            "the major categories was \"Best in Fuel Economy.\"   With gasoline and oil prices on a seemingly endless upward spiral,\n",
            "that's a key factor these days when choosing a used car -- or even a new one.   The cars that made this list were,\n",
            "according to Consumer Reports, \"the affordable and reliable vehicles [that] returned some of the best results in our\n",
            "real-world fuel-economy tests.\"   What follows is a list of the vehicles that magazine rated \"Best in Fuel Economy\" in\n",
            "the under $10,000 price range, with a short description of each vehicle. The mileage figures stated are the ones\n",
            "calculated by Consumer Reports in their own on-the-road tests.   2000 Honda Insight  Overall MPG: 51   When the Insight\n",
            "hit showrooms in 1999 for the 2000 model year, it was hailed as one of the cleanest and most fuel-efficient vehicles in\n",
            "the world. It was the first gasoline-electric hybrid to be sold in the U.S., and won several design, engineering and\n",
            "technology awards.   The Insight employs Honda's Integrated Motor Assist (IMA) system, combining an extremely\n",
            "lightweight 1.0-liter, three-cylinder gasoline automobile engine with an ultra-thin electric motor. Early models came\n",
            "with a 5-speed manual transmission, but a continuously variable transmission (CVT) was offered starting in '01.   2001 -\n",
            "2002 Toyota Prius  Overall MPG: 41   This was one of the earliest generations of the fuel-sipping Prius, and it\n",
            "certainly has become a green living icon since then. Drawing its power from a combination of a 1.5-liter four-cylinder\n",
            "engine and an electric motor, these earlier editions generated only 70 hp, but muscle isn't the point in a hybrid car.\n",
            "It's pod-like design had a certain retro-futuristic appeal, and was roomier than one might think.   2000 - 2005 Toyota\n",
            "Echo  Overall MPG: 38   The Echo was rolled out in 2000 as a no-frills compact econo-box, for those who wanted Toyota\n",
            "quality but were on a budget that precluded them from snagging a Corolla.   The interior is plain, but the engine is\n",
            "reliable and efficient, and the taut suspension delivers a ride comparable to larger models. This version of the Echo\n",
            "comes with a 1.5-liter four-cylinder 108-hp 16-Valve EFI engine.   1998 - 2002 Chevrolet Prizm  Overall MPG: 32   The\n",
            "Prizm of this era bore some resemblance to the Corolla, since both were built on the same assembly line in a joint\n",
            "GM/Toyota plant. A front-wheel-drive subcompact sedan, the Prizm was initially rolled out under the Geo nameplate, but\n",
            "later became a Chevy model.   Available as a base model and LSi, the Prizm is powered by single twin-cam four-cylinder\n",
            "engines that produced 120 hp in 1998 and 1999, but the addition of VVT in 2000 boosted the ponies to 125.   1998 Mazda\n",
            "Protégé LX  Overall MPG: 32   Mazda redesigned the Protégé in 1995, upgrading it considerably with a more rigid chassis\n",
            "and much-improved ride quality -- not to mention increased interior space.   This edition also offers a silkier ride,\n",
            "crisp handling and solid performance for a small car. This model year has a 92-hp 1.5-liter four-cylinder engine, and\n",
            "comes in three trim levels.   1998 - 2000 Toyota Corolla CE/LE  Overall MPG: 32/31   The Corolla has been a stalwart for\n",
            "more than 40 years, for its quality, dependability and, maybe most importantly, for its fuel economy. The 1998-1999\n",
            "editions are powered by a 1.8 L, 120-hp, four-cylinder 16-Valve EFI, with aluminum alloy block and head.   By 2000,\n",
            "they'd tweaked the engine to deliver 125 ponies. A front-wheel drive job, the Corollas of this period come in three trim\n",
            "levels, but Consumer Reports chose the midline CE and top-end LE.   1998 - 2001 Acura Integra LS  Overall MPG: 32   The\n",
            "Acura Integra sport coupe and sport sedan\n"
          ]
        }
      ],
      "source": [
        "top_k_scores_min, top_k_indices_min = top_3_similarity_scores['min']\n",
        "print(f'Top 3 document ids: {top_k_indices_min}')\n",
        "print(f'Top 3 document similarity scores: {top_k_scores_min}')\n",
        "print('\\nBest matching document:\\n')\n",
        "\n",
        "best_match_index = top_k_indices_min[0]\n",
        "pprint(retrieval_dataset.documents[best_match_index])"
      ]
    },
    {
      "cell_type": "code",
      "execution_count": 39,
      "metadata": {
        "id": "DMjW9N1vjwHS",
        "colab": {
          "base_uri": "https://localhost:8080/"
        },
        "outputId": "512f3f80-79d1-4f8b-94cd-8741f18a1f6a"
      },
      "outputs": [
        {
          "output_type": "stream",
          "name": "stdout",
          "text": [
            "Top 3 document ids: tensor([ 1, 26,  2])\n",
            "Top 3 document similarity scores: tensor([0.7618, 0.5786, 0.4867])\n",
            "\n",
            "Best matching document:\n",
            "\n",
            "(AOL Autos) -- Consumer Reports recently announced its annual used cars ratings, and we weren't surprised to see one of\n",
            "the major categories was \"Best in Fuel Economy.\"   With gasoline and oil prices on a seemingly endless upward spiral,\n",
            "that's a key factor these days when choosing a used car -- or even a new one.   The cars that made this list were,\n",
            "according to Consumer Reports, \"the affordable and reliable vehicles [that] returned some of the best results in our\n",
            "real-world fuel-economy tests.\"   What follows is a list of the vehicles that magazine rated \"Best in Fuel Economy\" in\n",
            "the under $10,000 price range, with a short description of each vehicle. The mileage figures stated are the ones\n",
            "calculated by Consumer Reports in their own on-the-road tests.   2000 Honda Insight  Overall MPG: 51   When the Insight\n",
            "hit showrooms in 1999 for the 2000 model year, it was hailed as one of the cleanest and most fuel-efficient vehicles in\n",
            "the world. It was the first gasoline-electric hybrid to be sold in the U.S., and won several design, engineering and\n",
            "technology awards.   The Insight employs Honda's Integrated Motor Assist (IMA) system, combining an extremely\n",
            "lightweight 1.0-liter, three-cylinder gasoline automobile engine with an ultra-thin electric motor. Early models came\n",
            "with a 5-speed manual transmission, but a continuously variable transmission (CVT) was offered starting in '01.   2001 -\n",
            "2002 Toyota Prius  Overall MPG: 41   This was one of the earliest generations of the fuel-sipping Prius, and it\n",
            "certainly has become a green living icon since then. Drawing its power from a combination of a 1.5-liter four-cylinder\n",
            "engine and an electric motor, these earlier editions generated only 70 hp, but muscle isn't the point in a hybrid car.\n",
            "It's pod-like design had a certain retro-futuristic appeal, and was roomier than one might think.   2000 - 2005 Toyota\n",
            "Echo  Overall MPG: 38   The Echo was rolled out in 2000 as a no-frills compact econo-box, for those who wanted Toyota\n",
            "quality but were on a budget that precluded them from snagging a Corolla.   The interior is plain, but the engine is\n",
            "reliable and efficient, and the taut suspension delivers a ride comparable to larger models. This version of the Echo\n",
            "comes with a 1.5-liter four-cylinder 108-hp 16-Valve EFI engine.   1998 - 2002 Chevrolet Prizm  Overall MPG: 32   The\n",
            "Prizm of this era bore some resemblance to the Corolla, since both were built on the same assembly line in a joint\n",
            "GM/Toyota plant. A front-wheel-drive subcompact sedan, the Prizm was initially rolled out under the Geo nameplate, but\n",
            "later became a Chevy model.   Available as a base model and LSi, the Prizm is powered by single twin-cam four-cylinder\n",
            "engines that produced 120 hp in 1998 and 1999, but the addition of VVT in 2000 boosted the ponies to 125.   1998 Mazda\n",
            "Protégé LX  Overall MPG: 32   Mazda redesigned the Protégé in 1995, upgrading it considerably with a more rigid chassis\n",
            "and much-improved ride quality -- not to mention increased interior space.   This edition also offers a silkier ride,\n",
            "crisp handling and solid performance for a small car. This model year has a 92-hp 1.5-liter four-cylinder engine, and\n",
            "comes in three trim levels.   1998 - 2000 Toyota Corolla CE/LE  Overall MPG: 32/31   The Corolla has been a stalwart for\n",
            "more than 40 years, for its quality, dependability and, maybe most importantly, for its fuel economy. The 1998-1999\n",
            "editions are powered by a 1.8 L, 120-hp, four-cylinder 16-Valve EFI, with aluminum alloy block and head.   By 2000,\n",
            "they'd tweaked the engine to deliver 125 ponies. A front-wheel drive job, the Corollas of this period come in three trim\n",
            "levels, but Consumer Reports chose the midline CE and top-end LE.   1998 - 2001 Acura Integra LS  Overall MPG: 32   The\n",
            "Acura Integra sport coupe and sport sedan\n"
          ]
        }
      ],
      "source": [
        "top_k_scores_max, top_k_indices_max = top_3_similarity_scores['max']\n",
        "print(f'Top 3 document ids: {top_k_indices_max}')\n",
        "print(f'Top 3 document similarity scores: {top_k_scores_max}')\n",
        "print('\\nBest matching document:\\n')\n",
        "\n",
        "best_match_index = top_k_indices_min[0]\n",
        "pprint(retrieval_dataset.documents[best_match_index])"
      ]
    },
    {
      "cell_type": "markdown",
      "metadata": {
        "id": "lBLrkUCAkatk"
      },
      "source": [
        "Do the different strategies produce different results?"
      ]
    },
    {
      "cell_type": "markdown",
      "source": [
        "Same results for the top 3 matches based on different summary statistics (mean, min, max) would suggests that the similarity scores across different summary statistics are very similar or identical. This could happen if the range of similarity scores is limited or if the distribution of scores is similar across different summary statistics."
      ],
      "metadata": {
        "id": "Y7M0zLB23irb"
      }
    },
    {
      "cell_type": "code",
      "source": [
        "for summary_statistic in ['mean', 'min', 'max']:\n",
        "    print(f\"Top 3 matches based on '{summary_statistic}' sentence similarity:\")\n",
        "    top_k_scores, top_k_indices = top_3_similarity_scores[summary_statistic]\n",
        "    for score, idx in zip(top_k_scores, top_k_indices):\n",
        "        print(f\"Score: {score}, Index: {idx}\")"
      ],
      "metadata": {
        "colab": {
          "base_uri": "https://localhost:8080/"
        },
        "id": "mes1_q-R33L8",
        "outputId": "2be92d26-d64d-4912-9280-c48adaa44602"
      },
      "execution_count": 40,
      "outputs": [
        {
          "output_type": "stream",
          "name": "stdout",
          "text": [
            "Top 3 matches based on 'mean' sentence similarity:\n",
            "Score: 0.43427833914756775, Index: 1\n",
            "Score: 0.29296183586120605, Index: 23\n",
            "Score: 0.28748688101768494, Index: 30\n",
            "Top 3 matches based on 'min' sentence similarity:\n",
            "Score: 0.08152081072330475, Index: 11\n",
            "Score: 0.044694576412439346, Index: 30\n",
            "Score: 0.04402315989136696, Index: 31\n",
            "Top 3 matches based on 'max' sentence similarity:\n",
            "Score: 0.7618286609649658, Index: 1\n",
            "Score: 0.5786058902740479, Index: 26\n",
            "Score: 0.48666906356811523, Index: 2\n"
          ]
        }
      ]
    },
    {
      "cell_type": "markdown",
      "source": [
        "This indicates that each summary statistic (mean, min, max) is capturing different aspects of the similarity distribution."
      ],
      "metadata": {
        "id": "vRXy82Pl4b1X"
      }
    },
    {
      "cell_type": "markdown",
      "metadata": {
        "id": "L-QUi_-H3uLx"
      },
      "source": [
        "#### Putting it all together\n",
        "\n",
        "Now that we have tested all of its components, we can reate a Python class for the document retriever based on on sentence-level document embeddings.\n",
        "\n",
        "***Fill in the code in the cell below.***"
      ]
    },
    {
      "cell_type": "code",
      "execution_count": 43,
      "metadata": {
        "id": "fYWZc9G5TSha"
      },
      "outputs": [],
      "source": [
        "# SentenceEmbeddingRetriever class\n",
        "\n",
        "class SentenceEmbeddingRetriever:\n",
        "\n",
        "  # Initialise the Retriever object\n",
        "  # with a document database and a language model\n",
        "  def __init__(\n",
        "      self,\n",
        "      documents,\n",
        "      model_name,\n",
        "    ):\n",
        "\n",
        "    # Load language model\n",
        "    self.model = SentenceTransformer(\n",
        "        model_name\n",
        "    )\n",
        "\n",
        "    # Load the sentence segmentation algorithm\n",
        "    self.spacy = English()\n",
        "    self.spacy.add_pipe(\"sentencizer\")\n",
        "\n",
        "    # Define function to split document into sentences\n",
        "    def _split(document):\n",
        "      return [sent.text for sent in self.spacy(document).sents]\n",
        "\n",
        "    # Embed documents\n",
        "    self.document_embeddings = []\n",
        "    print('Initialization: embedding documents...')\n",
        "    for document in tqdm(documents):\n",
        "\n",
        "      # Split document into sentences\n",
        "      sentences = _split(\n",
        "          document\n",
        "      )\n",
        "\n",
        "      # Embed sentences\n",
        "      sentence_embeddings = self.model.encode(\n",
        "          sentences\n",
        "      )\n",
        "\n",
        "      self.document_embeddings.append(sentence_embeddings)\n",
        "\n",
        "\n",
        "  # Retrieving function: it takes as input a query and returns\n",
        "  # the top_k (default top_k = 3) matching documents in the database\n",
        "  def retrieve(\n",
        "      self,\n",
        "      query,\n",
        "      mode,\n",
        "      top_k=3\n",
        "  ):\n",
        "\n",
        "    # Embed query\n",
        "    query_embedding = self.model.encode(\n",
        "       query\n",
        "    )\n",
        "\n",
        "    # Compute sentence-level similarity scores\n",
        "    similarity_scores = []\n",
        "    for doc_sentence_embeddings in self.document_embeddings:\n",
        "      sentence_similarities = util.dot_score(\n",
        "          query_embedding,\n",
        "          doc_sentence_embeddings\n",
        "      )[0]\n",
        "\n",
        "      if mode == 'max':\n",
        "        similarity_scores.append(\n",
        "            torch.max(sentence_similarities)\n",
        "        )\n",
        "      elif mode == 'mean':\n",
        "        similarity_scores.append(\n",
        "            torch.mean(sentence_similarities)\n",
        "        )\n",
        "      elif mode == 'min':\n",
        "        similarity_scores.append(\n",
        "            torch.min(sentence_similarities)\n",
        "        )\n",
        "\n",
        "    # Transform scores into a tensor, for compatibility\n",
        "    similarity_scores = torch.as_tensor(similarity_scores)\n",
        "\n",
        "    # Get top k documents and their similarity scores\n",
        "    top_k_scores, top_k_indices = torch.topk(\n",
        "      similarity_scores,\n",
        "      k=top_k\n",
        "    )\n",
        "    return top_k_indices, top_k_scores, similarity_scores\n"
      ]
    },
    {
      "cell_type": "markdown",
      "metadata": {
        "id": "UOOlufGSW4iD"
      },
      "source": [
        "Now let's test it on the previous example. Use `mode=mean` to define the summary statistic in the `retrieve` function.\n",
        "\n",
        "***Fill in the code in the cell below.***"
      ]
    },
    {
      "cell_type": "code",
      "execution_count": 54,
      "metadata": {
        "id": "-8NnSXVeW_5R",
        "colab": {
          "base_uri": "https://localhost:8080/",
          "height": 692,
          "referenced_widgets": [
            "5b1062e9414543e2af9e83ad4c950082",
            "065779db44054bfa856c95335958918b",
            "5796fe1838574ec9bf7fb950bd3ab596",
            "460b979c96ad431492d665e654ee009b",
            "dc34845521a6467ca5dcd4aae2aa9e39",
            "5e8f47cfe8454de487807bb93ef5e014",
            "3877d437c1d449d0a4cae3da0d292ed4",
            "ec84b4d362b44a60994d0e588d215efb",
            "8db17b5e8035468c9dce40d50f8407c6",
            "a94719e0109f414eb82823886e12273f",
            "4fdea7a64ddb42068c0eafc7737be7e4"
          ]
        },
        "outputId": "da8a91db-144e-40f3-b90a-672f05ce8da1"
      },
      "outputs": [
        {
          "output_type": "stream",
          "name": "stdout",
          "text": [
            "Initialization: embedding documents...\n"
          ]
        },
        {
          "output_type": "display_data",
          "data": {
            "text/plain": [
              "  0%|          | 0/100 [00:00<?, ?it/s]"
            ],
            "application/vnd.jupyter.widget-view+json": {
              "version_major": 2,
              "version_minor": 0,
              "model_id": "5b1062e9414543e2af9e83ad4c950082"
            }
          },
          "metadata": {}
        },
        {
          "output_type": "stream",
          "name": "stdout",
          "text": [
            "\n",
            "Top 3 indices: [99, 98, 75]\n",
            "Scores: [0.11811666935682297, 0.115969218313694, 0.0943908765912056]\n",
            "\n",
            "Best matching document:\n",
            "\n",
            "(CNN)  -- A Malaysian model, who was set to become the first woman to be caned in the southeast Asian country for\n",
            "drinking beer in public, had her sentence postponed Monday until the end of the Islamic holy month of Ramadan. Kartika\n",
            "Sari Dewi Shukarno's punishment is unique in that she has opted to go through with it. Authorities had picked up Kartika\n",
            "Sari Dewi Shukarno, 32, from her father's house Monday morning and were taking her to a prison in the eastern state of\n",
            "Pahang when the van turned around and brought her back. \"They sent her back to the house. They said the top official\n",
            "asked them not to bring her to Kuala Lumpur,\" said Kartika's father, Shukarno Abdul Muttalib. Authorities in Pahang said\n",
            "the delay would run until the month of fasting ends. Monday was the third day of Ramadan. An Islamic, or sharia, court\n",
            "in Pahang had fined Kartika -- a Muslim -- $1,400 (5,000 Malaysian ringgit) and sentenced her to six strokes with a\n",
            "rattan cane for drinking at a hotel bar two years ago. Kartika, a 32-year-old part-time model and mother of two, was\n",
            "visiting Malaysia from Singapore at the time. She pleaded guilty, paid the fine, and wanted her caning to be carried out\n",
            "in public.  Watch more on Kartika's release » She said she lost her job as a nurse in Singapore and took up part-time\n",
            "modeling to support her husband in raising their two children. Her son has cerebral palsy; her daughter a heart\n",
            "condition. \"I want to move on. This case has been hanging over me for a long time,\" she told CNN last week. On Monday\n",
            "morning, Kartika hugged her children, bade a tearful goodbye to the throngs of people gathered at her father's house,\n",
            "and boarded the van. She was to be taken to a prison on the outskirts of Kuala Lumpur. The caning would have been\n",
            "carried out within seven days of that, making her the first woman to be caned in Malaysia under sharia law. Kartika's\n",
            "punishment is unique in that she has opted to go through with it. Two other Malaysians sentenced to the same fate have\n",
            "filed appeals, the Syariah (Sharia) Lawyers' Association of Malaysia said. The case drew widespread attention and\n",
            "condemnation, in and outside Malaysia. The moderate Muslim country has a dual-track justice system, in which Islamic\n",
            "courts operate alongside civil courts. Muslims -- who make up about 60 percent of the 28 million who populate the\n",
            "country -- are forbidden from consuming alcohol. Other religious groups are exempt. Though caning is used as a\n",
            "supplementary punishment in Malaysia for at least 40 crimes, such as rape or immigration violations, it is not meted out\n",
            "by Malaysia's civil court for alcohol consumption. But the country's civil system also cannot overrule a sharia court\n",
            "sentence. In this respect, Kartika would have been the first woman to be caned for violating the country's religious\n",
            "laws. \"Regardless of whether or not such penalties fall under Syariah law or civil law, we believe that these should be\n",
            "repealed, as they go against the fundamental human right to be free from torture and violence,\" said Haslinah Yaacob,\n",
            "vice president for the All Women's Action Society. CNN's Anna Coren in Sungi Siput, Malaysia, contributed to this\n",
            "report.\n"
          ]
        }
      ],
      "source": [
        "sentence_retriever = SentenceEmbeddingRetriever(retrieval_dataset.documents, model_name)\n",
        "\n",
        "top_3_indices, top_3_scores, _ = sentence_retriever.retrieve(query, mode='mean')\n",
        "\n",
        "print()\n",
        "print(f'Top 3 indices: {top_3_indices.tolist()}')\n",
        "print(f'Scores: {top_3_scores.tolist()}')\n",
        "print('\\nBest matching document:\\n')\n",
        "\n",
        "best_match_index = top_3_indices[0].item()\n",
        "pprint(retrieval_dataset.documents[best_match_index])\n"
      ]
    },
    {
      "cell_type": "markdown",
      "metadata": {
        "id": "uBCnHCjDWKAV"
      },
      "source": [
        "### Evaluation"
      ]
    },
    {
      "cell_type": "markdown",
      "metadata": {
        "id": "lJG6rLTOXyig"
      },
      "source": [
        "How to tell whether the sentence-based retriever actually works better than the paragraph-based one? And how to pick the best summary statistic within the sentence-based approach?\n",
        "\n",
        "To assess and compare models, we will use *accuracy@k* (or *top-k accuracy*) as an evaluation metric. This metric computes the number of times when the correct document is among the top `k` documents retrieved. This is a generalized version of accuracy, with accuracy@1 being equivalent to the standard notion of accuracy (how often the correct document is the top document retrieved). We use it because in practice, in a retrieval scenario, you most likely want to return multiple hits to the user (think of a Google search) so it can be considered sufficient for the target document to be in the top `k`.\n",
        "\n",
        "How do we know what the target document for a query is? Remember that our dataset includes news, questions, answers, and summaries. To evaluate the news retrieval system, we will use news stories as target documents and take their respective questions as queries."
      ]
    },
    {
      "cell_type": "markdown",
      "metadata": {
        "id": "43ZdkEY6bmYk"
      },
      "source": [
        "For each value of `k` in [`1`, `3`, `5`, `10`] and for each model type in [`paragraph`, `sentence_mean`, `sentence_min`, `sentence_max`], we will compute the top-`k` accuracy of that model type and store it for convenience in the following data structure (i.e., you will be replacing all the zeros with actual accuracy scores)."
      ]
    },
    {
      "cell_type": "code",
      "execution_count": 55,
      "metadata": {
        "id": "cBv29_ZXazhW"
      },
      "outputs": [],
      "source": [
        "top_k_accuracy = {\n",
        "    1: {\"paragraph\": 0, \"sentence_mean\": 0, \"sentence_min\": 0,  \"sentence_max\": 0},\n",
        "    3: {\"paragraph\": 0, \"sentence_mean\": 0, \"sentence_min\": 0,  \"sentence_max\": 0},\n",
        "    5: {\"paragraph\": 0, \"sentence_mean\": 0, \"sentence_min\": 0,  \"sentence_max\": 0},\n",
        "   10: {\"paragraph\": 0, \"sentence_mean\": 0, \"sentence_min\": 0,  \"sentence_max\": 0},\n",
        "}"
      ]
    },
    {
      "cell_type": "markdown",
      "metadata": {
        "id": "UImuca6lcCst"
      },
      "source": [
        "Let's start from the paragraph-based model."
      ]
    },
    {
      "cell_type": "code",
      "execution_count": 47,
      "metadata": {
        "id": "uvZSAnkycDC3",
        "colab": {
          "base_uri": "https://localhost:8080/"
        },
        "outputId": "c0c7de6a-6d8a-42b3-835e-8adad8eab379"
      },
      "outputs": [
        {
          "output_type": "stream",
          "name": "stdout",
          "text": [
            "Initialization: embedding documents...\n"
          ]
        }
      ],
      "source": [
        "paragraph_retriever = ParagraphEmbeddingRetriever(\n",
        "    documents=retrieval_dataset.documents,\n",
        "    model_name='multi-qa-MiniLM-L6-cos-v1'\n",
        ")\n",
        "\n",
        "# Collect similarity scores for all the queries in the dataset\n",
        "# (so we can measure top k accuracy for any k we want)\n",
        "all_similarity_scores = []\n",
        "\n",
        "for query in retrieval_dataset.queries:\n",
        "  _, _, similarity_scores = paragraph_retriever.retrieve(\n",
        "      query=query\n",
        "  )\n",
        "  all_similarity_scores.append(similarity_scores)\n",
        "\n",
        "\n",
        "# Now compute accuracy for each value of k\n",
        "for k in [1, 3, 5, 10]:\n",
        "  acc = top_k_accuracy_score(\n",
        "      retrieval_dataset.true_indices,  # these are the target document indices\n",
        "      all_similarity_scores,\n",
        "      k=k\n",
        "  )\n",
        "\n",
        "  top_k_accuracy[k][\"paragraph\"] = acc\n"
      ]
    },
    {
      "cell_type": "markdown",
      "metadata": {
        "id": "OFFZW7qzp2sE"
      },
      "source": [
        "Now evaluate the three versions of the sentence-based retriever. We only need to load it once."
      ]
    },
    {
      "cell_type": "code",
      "execution_count": 48,
      "metadata": {
        "id": "jATC3zyip3eD",
        "colab": {
          "base_uri": "https://localhost:8080/",
          "height": 67,
          "referenced_widgets": [
            "dcbeaff07ddb40fc837355944755d5f5",
            "9e74a73759774bb3ac6b52e55316f583",
            "e1c6f0b530de4a1db7fcf10bd187f78a",
            "0ac2832965484e67af89e779a73eb652",
            "48cd940aad4e4f2aa9fd6e5147b839a0",
            "4044d32ba10a4bdd8a5657bccce3f92d",
            "2d178c07f95a4e24af9aec3a6f2c818d",
            "f471a4ca52fe4fc6be6277309bbd9f01",
            "908d2c3f69c543c5b7e08ce81ed4feaa",
            "170b93fa14c6486ea51b25f711082d10",
            "8eac01b678794f76b838303070f510af"
          ]
        },
        "outputId": "a244d298-e8bb-43fa-ac8d-294808e2c682"
      },
      "outputs": [
        {
          "output_type": "stream",
          "name": "stdout",
          "text": [
            "Initialization: embedding documents...\n"
          ]
        },
        {
          "output_type": "display_data",
          "data": {
            "text/plain": [
              "  0%|          | 0/100 [00:00<?, ?it/s]"
            ],
            "application/vnd.jupyter.widget-view+json": {
              "version_major": 2,
              "version_minor": 0,
              "model_id": "dcbeaff07ddb40fc837355944755d5f5"
            }
          },
          "metadata": {}
        }
      ],
      "source": [
        "sentence_retriever = SentenceEmbeddingRetriever(\n",
        "    documents=retrieval_dataset.documents,\n",
        "    model_name='multi-qa-MiniLM-L6-cos-v1'\n",
        ")"
      ]
    },
    {
      "cell_type": "markdown",
      "metadata": {
        "id": "EZnA13l1qFbS"
      },
      "source": [
        "***Fill in the missing lines in the cell below.***"
      ]
    },
    {
      "cell_type": "code",
      "execution_count": 52,
      "metadata": {
        "id": "NcPOtte-qECt"
      },
      "outputs": [],
      "source": [
        "for summary_statistic in ['mean', 'min', 'max']:\n",
        "\n",
        "  all_similarity_scores = []\n",
        "\n",
        "  for query in retrieval_dataset.queries:\n",
        "    _, _, similarity_scores = sentence_retriever.retrieve(\n",
        "        query=query,\n",
        "        mode=summary_statistic\n",
        "    )\n",
        "    all_similarity_scores.append(similarity_scores)\n",
        "\n",
        "\n",
        "  # Now compute accuracy for each value of k\n",
        "\n",
        "  for k in [1, 3, 5, 10]:\n",
        "    acc = top_k_accuracy_score(\n",
        "        retrieval_dataset.true_indices,  # these are the target document indices\n",
        "        all_similarity_scores,\n",
        "        k=k\n",
        "    )\n",
        "\n",
        "    # Store the top-k accuracy score in the top_k_accuracy data structure\n",
        "    top_k_accuracy[k][f\"sentence_{summary_statistic}\"] = acc\n"
      ]
    },
    {
      "cell_type": "markdown",
      "metadata": {
        "id": "Zqx4QD8UgSAf"
      },
      "source": [
        "Let's see how the models fair!"
      ]
    },
    {
      "cell_type": "code",
      "execution_count": 53,
      "metadata": {
        "id": "sGQ9TXLQgUnL",
        "colab": {
          "base_uri": "https://localhost:8080/",
          "height": 175
        },
        "outputId": "575ce670-557f-4669-ccc3-4c856db2ef39"
      },
      "outputs": [
        {
          "output_type": "execute_result",
          "data": {
            "text/plain": [
              "                     1         3         5         10\n",
              "paragraph      0.579114  0.754747  0.805380  0.857595\n",
              "sentence_mean  0.518987  0.707278  0.778481  0.865506\n",
              "sentence_min   0.155063  0.305380  0.376582  0.545886\n",
              "sentence_max   0.662975  0.806962  0.848101  0.906646"
            ],
            "text/html": [
              "\n",
              "  <div id=\"df-cffacf1e-bfe2-4b7b-b57d-bbbdda6981ed\" class=\"colab-df-container\">\n",
              "    <div>\n",
              "<style scoped>\n",
              "    .dataframe tbody tr th:only-of-type {\n",
              "        vertical-align: middle;\n",
              "    }\n",
              "\n",
              "    .dataframe tbody tr th {\n",
              "        vertical-align: top;\n",
              "    }\n",
              "\n",
              "    .dataframe thead th {\n",
              "        text-align: right;\n",
              "    }\n",
              "</style>\n",
              "<table border=\"1\" class=\"dataframe\">\n",
              "  <thead>\n",
              "    <tr style=\"text-align: right;\">\n",
              "      <th></th>\n",
              "      <th>1</th>\n",
              "      <th>3</th>\n",
              "      <th>5</th>\n",
              "      <th>10</th>\n",
              "    </tr>\n",
              "  </thead>\n",
              "  <tbody>\n",
              "    <tr>\n",
              "      <th>paragraph</th>\n",
              "      <td>0.579114</td>\n",
              "      <td>0.754747</td>\n",
              "      <td>0.805380</td>\n",
              "      <td>0.857595</td>\n",
              "    </tr>\n",
              "    <tr>\n",
              "      <th>sentence_mean</th>\n",
              "      <td>0.518987</td>\n",
              "      <td>0.707278</td>\n",
              "      <td>0.778481</td>\n",
              "      <td>0.865506</td>\n",
              "    </tr>\n",
              "    <tr>\n",
              "      <th>sentence_min</th>\n",
              "      <td>0.155063</td>\n",
              "      <td>0.305380</td>\n",
              "      <td>0.376582</td>\n",
              "      <td>0.545886</td>\n",
              "    </tr>\n",
              "    <tr>\n",
              "      <th>sentence_max</th>\n",
              "      <td>0.662975</td>\n",
              "      <td>0.806962</td>\n",
              "      <td>0.848101</td>\n",
              "      <td>0.906646</td>\n",
              "    </tr>\n",
              "  </tbody>\n",
              "</table>\n",
              "</div>\n",
              "    <div class=\"colab-df-buttons\">\n",
              "\n",
              "  <div class=\"colab-df-container\">\n",
              "    <button class=\"colab-df-convert\" onclick=\"convertToInteractive('df-cffacf1e-bfe2-4b7b-b57d-bbbdda6981ed')\"\n",
              "            title=\"Convert this dataframe to an interactive table.\"\n",
              "            style=\"display:none;\">\n",
              "\n",
              "  <svg xmlns=\"http://www.w3.org/2000/svg\" height=\"24px\" viewBox=\"0 -960 960 960\">\n",
              "    <path d=\"M120-120v-720h720v720H120Zm60-500h600v-160H180v160Zm220 220h160v-160H400v160Zm0 220h160v-160H400v160ZM180-400h160v-160H180v160Zm440 0h160v-160H620v160ZM180-180h160v-160H180v160Zm440 0h160v-160H620v160Z\"/>\n",
              "  </svg>\n",
              "    </button>\n",
              "\n",
              "  <style>\n",
              "    .colab-df-container {\n",
              "      display:flex;\n",
              "      gap: 12px;\n",
              "    }\n",
              "\n",
              "    .colab-df-convert {\n",
              "      background-color: #E8F0FE;\n",
              "      border: none;\n",
              "      border-radius: 50%;\n",
              "      cursor: pointer;\n",
              "      display: none;\n",
              "      fill: #1967D2;\n",
              "      height: 32px;\n",
              "      padding: 0 0 0 0;\n",
              "      width: 32px;\n",
              "    }\n",
              "\n",
              "    .colab-df-convert:hover {\n",
              "      background-color: #E2EBFA;\n",
              "      box-shadow: 0px 1px 2px rgba(60, 64, 67, 0.3), 0px 1px 3px 1px rgba(60, 64, 67, 0.15);\n",
              "      fill: #174EA6;\n",
              "    }\n",
              "\n",
              "    .colab-df-buttons div {\n",
              "      margin-bottom: 4px;\n",
              "    }\n",
              "\n",
              "    [theme=dark] .colab-df-convert {\n",
              "      background-color: #3B4455;\n",
              "      fill: #D2E3FC;\n",
              "    }\n",
              "\n",
              "    [theme=dark] .colab-df-convert:hover {\n",
              "      background-color: #434B5C;\n",
              "      box-shadow: 0px 1px 3px 1px rgba(0, 0, 0, 0.15);\n",
              "      filter: drop-shadow(0px 1px 2px rgba(0, 0, 0, 0.3));\n",
              "      fill: #FFFFFF;\n",
              "    }\n",
              "  </style>\n",
              "\n",
              "    <script>\n",
              "      const buttonEl =\n",
              "        document.querySelector('#df-cffacf1e-bfe2-4b7b-b57d-bbbdda6981ed button.colab-df-convert');\n",
              "      buttonEl.style.display =\n",
              "        google.colab.kernel.accessAllowed ? 'block' : 'none';\n",
              "\n",
              "      async function convertToInteractive(key) {\n",
              "        const element = document.querySelector('#df-cffacf1e-bfe2-4b7b-b57d-bbbdda6981ed');\n",
              "        const dataTable =\n",
              "          await google.colab.kernel.invokeFunction('convertToInteractive',\n",
              "                                                    [key], {});\n",
              "        if (!dataTable) return;\n",
              "\n",
              "        const docLinkHtml = 'Like what you see? Visit the ' +\n",
              "          '<a target=\"_blank\" href=https://colab.research.google.com/notebooks/data_table.ipynb>data table notebook</a>'\n",
              "          + ' to learn more about interactive tables.';\n",
              "        element.innerHTML = '';\n",
              "        dataTable['output_type'] = 'display_data';\n",
              "        await google.colab.output.renderOutput(dataTable, element);\n",
              "        const docLink = document.createElement('div');\n",
              "        docLink.innerHTML = docLinkHtml;\n",
              "        element.appendChild(docLink);\n",
              "      }\n",
              "    </script>\n",
              "  </div>\n",
              "\n",
              "\n",
              "<div id=\"df-475408c7-cd0c-4c38-bfa0-ad128edcdbe0\">\n",
              "  <button class=\"colab-df-quickchart\" onclick=\"quickchart('df-475408c7-cd0c-4c38-bfa0-ad128edcdbe0')\"\n",
              "            title=\"Suggest charts\"\n",
              "            style=\"display:none;\">\n",
              "\n",
              "<svg xmlns=\"http://www.w3.org/2000/svg\" height=\"24px\"viewBox=\"0 0 24 24\"\n",
              "     width=\"24px\">\n",
              "    <g>\n",
              "        <path d=\"M19 3H5c-1.1 0-2 .9-2 2v14c0 1.1.9 2 2 2h14c1.1 0 2-.9 2-2V5c0-1.1-.9-2-2-2zM9 17H7v-7h2v7zm4 0h-2V7h2v10zm4 0h-2v-4h2v4z\"/>\n",
              "    </g>\n",
              "</svg>\n",
              "  </button>\n",
              "\n",
              "<style>\n",
              "  .colab-df-quickchart {\n",
              "      --bg-color: #E8F0FE;\n",
              "      --fill-color: #1967D2;\n",
              "      --hover-bg-color: #E2EBFA;\n",
              "      --hover-fill-color: #174EA6;\n",
              "      --disabled-fill-color: #AAA;\n",
              "      --disabled-bg-color: #DDD;\n",
              "  }\n",
              "\n",
              "  [theme=dark] .colab-df-quickchart {\n",
              "      --bg-color: #3B4455;\n",
              "      --fill-color: #D2E3FC;\n",
              "      --hover-bg-color: #434B5C;\n",
              "      --hover-fill-color: #FFFFFF;\n",
              "      --disabled-bg-color: #3B4455;\n",
              "      --disabled-fill-color: #666;\n",
              "  }\n",
              "\n",
              "  .colab-df-quickchart {\n",
              "    background-color: var(--bg-color);\n",
              "    border: none;\n",
              "    border-radius: 50%;\n",
              "    cursor: pointer;\n",
              "    display: none;\n",
              "    fill: var(--fill-color);\n",
              "    height: 32px;\n",
              "    padding: 0;\n",
              "    width: 32px;\n",
              "  }\n",
              "\n",
              "  .colab-df-quickchart:hover {\n",
              "    background-color: var(--hover-bg-color);\n",
              "    box-shadow: 0 1px 2px rgba(60, 64, 67, 0.3), 0 1px 3px 1px rgba(60, 64, 67, 0.15);\n",
              "    fill: var(--button-hover-fill-color);\n",
              "  }\n",
              "\n",
              "  .colab-df-quickchart-complete:disabled,\n",
              "  .colab-df-quickchart-complete:disabled:hover {\n",
              "    background-color: var(--disabled-bg-color);\n",
              "    fill: var(--disabled-fill-color);\n",
              "    box-shadow: none;\n",
              "  }\n",
              "\n",
              "  .colab-df-spinner {\n",
              "    border: 2px solid var(--fill-color);\n",
              "    border-color: transparent;\n",
              "    border-bottom-color: var(--fill-color);\n",
              "    animation:\n",
              "      spin 1s steps(1) infinite;\n",
              "  }\n",
              "\n",
              "  @keyframes spin {\n",
              "    0% {\n",
              "      border-color: transparent;\n",
              "      border-bottom-color: var(--fill-color);\n",
              "      border-left-color: var(--fill-color);\n",
              "    }\n",
              "    20% {\n",
              "      border-color: transparent;\n",
              "      border-left-color: var(--fill-color);\n",
              "      border-top-color: var(--fill-color);\n",
              "    }\n",
              "    30% {\n",
              "      border-color: transparent;\n",
              "      border-left-color: var(--fill-color);\n",
              "      border-top-color: var(--fill-color);\n",
              "      border-right-color: var(--fill-color);\n",
              "    }\n",
              "    40% {\n",
              "      border-color: transparent;\n",
              "      border-right-color: var(--fill-color);\n",
              "      border-top-color: var(--fill-color);\n",
              "    }\n",
              "    60% {\n",
              "      border-color: transparent;\n",
              "      border-right-color: var(--fill-color);\n",
              "    }\n",
              "    80% {\n",
              "      border-color: transparent;\n",
              "      border-right-color: var(--fill-color);\n",
              "      border-bottom-color: var(--fill-color);\n",
              "    }\n",
              "    90% {\n",
              "      border-color: transparent;\n",
              "      border-bottom-color: var(--fill-color);\n",
              "    }\n",
              "  }\n",
              "</style>\n",
              "\n",
              "  <script>\n",
              "    async function quickchart(key) {\n",
              "      const quickchartButtonEl =\n",
              "        document.querySelector('#' + key + ' button');\n",
              "      quickchartButtonEl.disabled = true;  // To prevent multiple clicks.\n",
              "      quickchartButtonEl.classList.add('colab-df-spinner');\n",
              "      try {\n",
              "        const charts = await google.colab.kernel.invokeFunction(\n",
              "            'suggestCharts', [key], {});\n",
              "      } catch (error) {\n",
              "        console.error('Error during call to suggestCharts:', error);\n",
              "      }\n",
              "      quickchartButtonEl.classList.remove('colab-df-spinner');\n",
              "      quickchartButtonEl.classList.add('colab-df-quickchart-complete');\n",
              "    }\n",
              "    (() => {\n",
              "      let quickchartButtonEl =\n",
              "        document.querySelector('#df-475408c7-cd0c-4c38-bfa0-ad128edcdbe0 button');\n",
              "      quickchartButtonEl.style.display =\n",
              "        google.colab.kernel.accessAllowed ? 'block' : 'none';\n",
              "    })();\n",
              "  </script>\n",
              "</div>\n",
              "    </div>\n",
              "  </div>\n"
            ],
            "application/vnd.google.colaboratory.intrinsic+json": {
              "type": "dataframe",
              "variable_name": "top_k_accuracy_df",
              "summary": "{\n  \"name\": \"top_k_accuracy_df\",\n  \"rows\": 4,\n  \"fields\": [\n    {\n      \"column\": 1,\n      \"properties\": {\n        \"dtype\": \"number\",\n        \"std\": 0.2239073141403278,\n        \"min\": 0.1550632911392405,\n        \"max\": 0.6629746835443038,\n        \"num_unique_values\": 4,\n        \"samples\": [\n          0.5189873417721519,\n          0.6629746835443038,\n          0.5791139240506329\n        ],\n        \"semantic_type\": \"\",\n        \"description\": \"\"\n      }\n    },\n    {\n      \"column\": 3,\n      \"properties\": {\n        \"dtype\": \"number\",\n        \"std\": 0.22912053499448903,\n        \"min\": 0.30537974683544306,\n        \"max\": 0.8069620253164557,\n        \"num_unique_values\": 4,\n        \"samples\": [\n          0.7072784810126582,\n          0.8069620253164557,\n          0.754746835443038\n        ],\n        \"semantic_type\": \"\",\n        \"description\": \"\"\n      }\n    },\n    {\n      \"column\": 5,\n      \"properties\": {\n        \"dtype\": \"number\",\n        \"std\": 0.2189207745890139,\n        \"min\": 0.37658227848101267,\n        \"max\": 0.8481012658227848,\n        \"num_unique_values\": 4,\n        \"samples\": [\n          0.7784810126582279,\n          0.8481012658227848,\n          0.805379746835443\n        ],\n        \"semantic_type\": \"\",\n        \"description\": \"\"\n      }\n    },\n    {\n      \"column\": 10,\n      \"properties\": {\n        \"dtype\": \"number\",\n        \"std\": 0.1667402981212759,\n        \"min\": 0.5458860759493671,\n        \"max\": 0.9066455696202531,\n        \"num_unique_values\": 4,\n        \"samples\": [\n          0.865506329113924,\n          0.9066455696202531,\n          0.8575949367088608\n        ],\n        \"semantic_type\": \"\",\n        \"description\": \"\"\n      }\n    }\n  ]\n}"
            }
          },
          "metadata": {},
          "execution_count": 53
        }
      ],
      "source": [
        "top_k_accuracy_df = pd.DataFrame(top_k_accuracy)\n",
        "top_k_accuracy_df"
      ]
    },
    {
      "cell_type": "markdown",
      "metadata": {
        "id": "fIVc1IkFgYBq"
      },
      "source": [
        "**[Optional]** In the experiments above, we picked a language model and kept it fixed. However, the language model is itself an experimental variable—and a very important one, as the choice of language model determines the quality of the embeddings.\n",
        "\n",
        "Compare the retrieval systems above against systems based on two alternative language models: [`all-MiniLM-L6-v2`](https://huggingface.co/sentence-transformers/all-MiniLM-L6-v2) and [`msmarco-distilbert-base-v4`](https://huggingface.co/sentence-transformers/msmarco-distilbert-base-v4). For the sentence-based model, you don't need to evaluate all three versions. Pick only the one with the summary statistic that performed best.\n",
        "\n",
        "**[Optional]** ***Write code to reproduce the experiments above using alternative language models.***"
      ]
    },
    {
      "cell_type": "code",
      "execution_count": null,
      "metadata": {
        "id": "OIYaNB5thf95"
      },
      "outputs": [],
      "source": []
    },
    {
      "cell_type": "code",
      "execution_count": null,
      "metadata": {
        "id": "NeTTv-CAhg_u"
      },
      "outputs": [],
      "source": []
    },
    {
      "cell_type": "code",
      "execution_count": null,
      "metadata": {
        "id": "6dPhUvH0rP88"
      },
      "outputs": [],
      "source": []
    },
    {
      "cell_type": "markdown",
      "metadata": {
        "id": "dkCYnFmXhnn-"
      },
      "source": [
        "**[Optional]** In the experiments above, we used news stories as documents and their respective questions as queries. However, it is reasonable to think that summaries might be better proxies of users' queries in some real-world scenarios.\n"
      ]
    },
    {
      "cell_type": "markdown",
      "metadata": {
        "id": "eRWNlqDurpPe"
      },
      "source": [
        "For covenience, we provide a Dataset class analogous to the RetrievalDataset class above"
      ]
    },
    {
      "cell_type": "code",
      "execution_count": null,
      "metadata": {
        "id": "rDjoiYmYiTvK"
      },
      "outputs": [],
      "source": [
        "# @title RetrievalDatasetWithSummaries class\n",
        "# @markdown Please execute this cell.\n",
        "\n",
        "class RetrievalDatasetWithSummaries:\n",
        "\n",
        "  def __init__(self, dataset, num_documents=None):\n",
        "    self.dataset = dataset\n",
        "\n",
        "    if num_documents:\n",
        "      self.num_documents = num_documents\n",
        "      self.documents = self.dataset['train']['story'][:self.num_documents]\n",
        "      self.queries = self.dataset['train']['summary'][:self.num_documents]\n",
        "      self.num_queries = len(self.queries)\n",
        "    else:\n",
        "      self.documents = self.dataset['train']['story']\n",
        "      self.queries = self.dataset['train']['summary']\n",
        "      self.num_documents = len(self.documents)\n",
        "      self.num_queries = len(self.queries)\n",
        "\n",
        "    self.true_indices = []\n",
        "    for i, qs in enumerate(self.dataset['train']['summary'][:self.num_documents]):\n",
        "      for _ in qs:\n",
        "        self.true_indices.append(i)\n"
      ]
    },
    {
      "cell_type": "code",
      "execution_count": null,
      "metadata": {
        "id": "rJPCIluqimz9"
      },
      "outputs": [],
      "source": [
        "retrieval_dataset = RetrievalDatasetWithSummaries(dataset, num_documents=100)"
      ]
    },
    {
      "cell_type": "markdown",
      "metadata": {
        "id": "2IhT7iw8ruiT"
      },
      "source": [
        "**[Optional]** ***Repeat the experiments above using summaries as queries.***"
      ]
    },
    {
      "cell_type": "code",
      "execution_count": null,
      "metadata": {
        "id": "8U7ik_-r_-q1"
      },
      "outputs": [],
      "source": []
    },
    {
      "cell_type": "code",
      "execution_count": null,
      "metadata": {
        "id": "16PurmpJrv_4"
      },
      "outputs": [],
      "source": []
    },
    {
      "cell_type": "code",
      "execution_count": null,
      "metadata": {
        "id": "g9cPbsC4rv2h"
      },
      "outputs": [],
      "source": []
    },
    {
      "cell_type": "markdown",
      "metadata": {
        "id": "SHKNV8Sk__qs"
      },
      "source": [
        "------"
      ]
    },
    {
      "cell_type": "markdown",
      "metadata": {
        "id": "wQD8VVnpzDUc"
      },
      "source": [
        "## Summarization\n",
        "\n",
        "The second module is an automatic summarizer: it takes as input a news story and it generates a short summary.\n",
        "\n",
        "We will test two types of summarizers:\n",
        "1. an instruction fine-tuned (multi-task) language model: this is a language model first pre-trained on the next-word prediction task, then fine-tuned on a dataset of instruction-execution pairs for a large variety of tasks\n",
        "2. a language model fine-tuned specifically for summarization: this is a language model first pre-trained on the next-word prediction task, then fine-tuned on text-summary pairs.\n"
      ]
    },
    {
      "cell_type": "markdown",
      "metadata": {
        "id": "L_v-g6qBzILk"
      },
      "source": [
        "### Instruction fine-tuned summarizer\n",
        "\n",
        "As a multi-task instruction fine-tuned language model, we will use [`google/flan-t5-large`](https://huggingface.co/google/flan-t5-large).\n",
        "\n",
        "This model has been trained on 1.8K tasks, including summarization, phrased as instructions.\n"
      ]
    },
    {
      "cell_type": "code",
      "execution_count": null,
      "metadata": {
        "id": "L5_bn2whx6iF"
      },
      "outputs": [],
      "source": [
        "model_name_t5 = \"google/flan-t5-large\"\n",
        "tokenizer_t5 = T5Tokenizer.from_pretrained(model_name_t5)\n",
        "model_t5 = T5ForConditionalGeneration.from_pretrained(model_name_t5, device_map=\"auto\")\n"
      ]
    },
    {
      "cell_type": "markdown",
      "metadata": {
        "id": "5ehJyEtAnEBS"
      },
      "source": [
        "Let's see it at work on a news story!\n"
      ]
    },
    {
      "cell_type": "code",
      "execution_count": null,
      "metadata": {
        "id": "lnt32s0znIeV"
      },
      "outputs": [],
      "source": [
        "test_news_story = dataset[\"train\"][3][\"story\"]"
      ]
    },
    {
      "cell_type": "markdown",
      "metadata": {
        "id": "AcslTLLUnJ9x"
      },
      "source": [
        "As this is an instruction fine-tuned model, we can simply kindly ask it to summarize the story in plain words:"
      ]
    },
    {
      "cell_type": "code",
      "execution_count": null,
      "metadata": {
        "id": "_dOnKug-nUoA"
      },
      "outputs": [],
      "source": [
        "print('Instruction:\\n')\n",
        "input_text = f\"Summarize: {test_news_story}\"\n",
        "pprint(input_text)"
      ]
    },
    {
      "cell_type": "markdown",
      "metadata": {
        "id": "4AtrSWnU1vyn"
      },
      "source": [
        "Now we tokenize the instruction text."
      ]
    },
    {
      "cell_type": "code",
      "execution_count": null,
      "metadata": {
        "id": "EpIk2-gn1y2E"
      },
      "outputs": [],
      "source": [
        "device = \"cuda\" if torch.cuda.is_available() else \"cpu\"\n",
        "\n",
        "# Tokenize input\n",
        "input_ids = tokenizer_t5(input_text, return_tensors=\"pt\").input_ids.to(device)"
      ]
    },
    {
      "cell_type": "markdown",
      "metadata": {
        "id": "wB7qgQdk16nj"
      },
      "source": [
        "Then, we generate a summary. We set the minimum and maximum length of the summary to 30 and 100 tokens, respectively.\n",
        "\n",
        "***Experiment with different minimum and maximum length values by changing the parameters of the `generate` function below.***"
      ]
    },
    {
      "cell_type": "code",
      "execution_count": null,
      "metadata": {
        "id": "waT8dmzBx7sV"
      },
      "outputs": [],
      "source": [
        "# Generate summary conditioned on instruction and original news story\n",
        "outputs = model_t5.generate(\n",
        "    input_ids,\n",
        "    min_new_tokens=30,   # minimum summary length\n",
        "    max_new_tokens=100,  # maximum summary length\n",
        "    do_sample=False      # so we obtain the same sample every time\n",
        ")\n",
        "\n",
        "print(\"Summary:\\n\")\n",
        "pprint(tokenizer_t5.decode(outputs[0], skip_special_tokens=True))"
      ]
    },
    {
      "cell_type": "markdown",
      "metadata": {
        "id": "inwH99Vozk_T"
      },
      "source": [
        "#### Putting it all together\n",
        "\n",
        "Now that we have tested and understood the components of the summarizer, we can compile them in a Python class.\n",
        "\n",
        "***Fill in the minimum and maximum length based on your experiments in the cell above.***"
      ]
    },
    {
      "cell_type": "code",
      "execution_count": null,
      "metadata": {
        "id": "KxgN48Sgzvjz"
      },
      "outputs": [],
      "source": [
        "class InstructionFinetunedSummarizer:\n",
        "\n",
        "  # Initialize model and tokenizer\n",
        "  def __init__(\n",
        "      self,\n",
        "      model_name=\"google/flan-t5-large\",\n",
        "      device=None\n",
        "  ):\n",
        "    self.model = T5ForConditionalGeneration.from_pretrained(model_name).to(device)\n",
        "    self.tokenizer = T5Tokenizer.from_pretrained(model_name)\n",
        "    self.device = device\n",
        "\n",
        "\n",
        "  # Summarizing function\n",
        "  def summarize(self, input_texts):\n",
        "\n",
        "    # Tokenize texts\n",
        "    summariser_inputs = []\n",
        "    for input_text in input_texts:\n",
        "      summariser_inputs.append(\n",
        "          self.tokenizer(input_text, return_tensors=\"pt\").input_ids.to(self.device)\n",
        "      )\n",
        "\n",
        "    # Generate summaries\n",
        "    outputs = []\n",
        "    for input_ids in summariser_inputs:\n",
        "      outputs.append(\n",
        "        self.model.generate(\n",
        "          input_ids,\n",
        "          min_new_tokens=...   # set this value by experimenting with the cell above\n",
        "          max_new_tokens=...,  # set this value by experimenting with the cell above\n",
        "          do_sample=False\n",
        "        )[0]\n",
        "      )\n",
        "\n",
        "    # Transform token ids into actual words\n",
        "    summaries = self.tokenizer.batch_decode(outputs, skip_special_tokens=True)\n",
        "\n",
        "    return summaries"
      ]
    },
    {
      "cell_type": "markdown",
      "metadata": {
        "id": "OhwwNnyo3jvo"
      },
      "source": [
        "The summarizer is ready! We will evaluate it later, together with the fine-tuned summarizer below."
      ]
    },
    {
      "cell_type": "markdown",
      "metadata": {
        "id": "ViB9AzXgzOfx"
      },
      "source": [
        "### Fine-tuned summarizer\n",
        "\n",
        "As a fine-tuned summarizer, you will use [`facebook/bart-large`](https://huggingface.co/facebook/bart-large-cnn). This is a language model that has been finetuned specifically on summaries of CNN and DailyMail news stories."
      ]
    },
    {
      "cell_type": "markdown",
      "metadata": {
        "id": "pBSgxijn3xiK"
      },
      "source": [
        "Let's load the model using the Hugging Face `pipeline` functionality, which makes the code more concise."
      ]
    },
    {
      "cell_type": "code",
      "execution_count": null,
      "metadata": {
        "id": "ryZy2mWE0EEo"
      },
      "outputs": [],
      "source": [
        "summarizer = pipeline(\"summarization\", model=\"facebook/bart-large-cnn\", tokenizer=\"facebook/bart-large-cnn\")"
      ]
    },
    {
      "cell_type": "markdown",
      "metadata": {
        "id": "bbXehD3R5TW2"
      },
      "source": [
        "Generate a summary for our test news story."
      ]
    },
    {
      "cell_type": "code",
      "execution_count": null,
      "metadata": {
        "id": "_pEz40Fw5Tr_"
      },
      "outputs": [],
      "source": [
        "test_summary = summarizer(test_news_story)[0][\"summary_text\"]\n",
        "\n",
        "print('Summary:\\n')\n",
        "pprint(test_summary)"
      ]
    },
    {
      "cell_type": "markdown",
      "metadata": {
        "id": "yG7HkIpF0J2P"
      },
      "source": [
        "#### Putting it all together\n",
        "\n",
        "The `pipeline` tool already compiles different components together, but let's define a Python class for this fine-tuned summarizer for extra comfort."
      ]
    },
    {
      "cell_type": "code",
      "execution_count": null,
      "metadata": {
        "id": "8knmmmr50FR8"
      },
      "outputs": [],
      "source": [
        "class FinetunedSummarizer:\n",
        "\n",
        "  # Initialize model and tokenizer\n",
        "  def __init__(\n",
        "      self,\n",
        "      model_name=\"facebook/bart-large-cnn\",\n",
        "      device=None\n",
        "    ):\n",
        "    self.summarizer = pipeline(\"summarization\", model=model_name, tokenizer=model_name)\n",
        "    self.device = device\n",
        "    if self.device is None:\n",
        "      self.device = \"cuda\" if torch.cuda.is_available() else \"cpu\"\n",
        "\n",
        "\n",
        "  # Summmarizing function\n",
        "  # It takes texts as input and it returns summaries\n",
        "  def summarize(self, input_texts):\n",
        "    outputs = self.summarizer(input_texts)\n",
        "    summaries = [output[\"summary_text\"] for output in outputs]\n",
        "    return summaries\n"
      ]
    },
    {
      "cell_type": "markdown",
      "metadata": {
        "id": "vDkycZQC0cx9"
      },
      "source": [
        "### Evaluation\n",
        "\n",
        "How good are the summaries produced by these two models? Is the fine-tuned model better, as we would probably expect given its task-specific training data?\n",
        "\n",
        "To assess and compare summarizers, you will use two standard natural language generation (NLG) metrics that are thought to produce good proxies of summary quality:\n",
        "- **BERTScore**: BERTScore leverages contextualised word embeddings extracted from a pre-trained language model and matches words in candidate and reference sentences by cosine similarity. It has been shown to correlate with human judgment on sentence-level and system-level evaluation. BERTScore can be computed as precision, recall, and F1, which can be useful for evaluating different language generation tasks.\n",
        "- **ROUGE**: Recall-Oriented Understudy for Gisting Evaluation (ROUGE) is a set of metrics used for evaluating automatic summarization and machine translation. You will use only ROUGE-L, which measures the longest common subsequence between a generated summary and a reference summary.\n",
        "\n",
        "Both metrics are *reference-based*, i.e., they assess the quality of a summary in terms of its closeness to a reference summary, typically produced by a human. Here, you are going to use the summaries in the dataset as references."
      ]
    },
    {
      "cell_type": "markdown",
      "metadata": {
        "id": "OP4Uyoxi6l65"
      },
      "source": [
        "We define convenience functions for the evaluation metrics."
      ]
    },
    {
      "cell_type": "code",
      "execution_count": null,
      "metadata": {
        "id": "ZNix_cPV0uKX"
      },
      "outputs": [],
      "source": [
        "# @title Evaluation metrics\n",
        "# @markdown Please execute this cell.\n",
        "\n",
        "bertscore = evaluate.load(\"bertscore\")\n",
        "rouge = evaluate.load('rouge')\n",
        "\n",
        "def evaluate_summaries(predictions, references):\n",
        "\n",
        "  # Compute BERTScore\n",
        "  bertscores = bertscore.compute(\n",
        "      predictions=predictions,\n",
        "      references=references,\n",
        "      lang=\"en\"\n",
        "  )\n",
        "\n",
        "  # Take the average BERTScore over all summaries\n",
        "  result_dict = {\n",
        "      f'bertscore_{stat}': np.mean(bertscores[stat]) for stat in bertscores if stat != 'hashcode'\n",
        "  }\n",
        "\n",
        "  # Compute ROUGE (average over all summaries taken automatically)\n",
        "  rouge_scores = rouge.compute(\n",
        "      predictions=predictions,\n",
        "      references=references\n",
        "  )\n",
        "\n",
        "  result_dict['rougeL'] = rouge_scores['rougeL']\n",
        "\n",
        "  return result_dict\n"
      ]
    },
    {
      "cell_type": "markdown",
      "metadata": {
        "id": "ePtzzn2i2QrZ"
      },
      "source": [
        "#### Model comparison\n",
        "\n",
        "Let's compare the instruction fine-tuned model against the summarization fine-tuned one using BERTScore and ROUGE."
      ]
    },
    {
      "cell_type": "markdown",
      "metadata": {
        "id": "7RbYBbRX68M0"
      },
      "source": [
        "Load models and data. We will only use a subset of the data to speed up evaluation. *Feel free to use a larger subset, but beware of the longer runtimes.*"
      ]
    },
    {
      "cell_type": "code",
      "execution_count": null,
      "metadata": {
        "id": "k7U7gBZH0jLH"
      },
      "outputs": [],
      "source": [
        "instruction_model = InstructionFinetunedSummarizer()\n",
        "finetuned_model = FinetunedSummarizer()\n",
        "\n",
        "dev_set_news_stories = dataset['train']['story'][:30]\n",
        "dev_set_summaries = dataset['train']['summary'][:30]"
      ]
    },
    {
      "cell_type": "markdown",
      "metadata": {
        "id": "UHSek_uP7BrX"
      },
      "source": [
        "Generate summaries."
      ]
    },
    {
      "cell_type": "code",
      "execution_count": null,
      "metadata": {
        "id": "SlJuDa3M0ktz"
      },
      "outputs": [],
      "source": [
        "summaries_instruction = instruction_model.summarize(dev_set_news_stories)\n",
        "summaries_finetuned = finetuned_model.summarize(dev_set_news_stories)\n"
      ]
    },
    {
      "cell_type": "markdown",
      "metadata": {
        "id": "BfI6HB5a7EZt"
      },
      "source": [
        "Print out the evaluation results."
      ]
    },
    {
      "cell_type": "code",
      "execution_count": null,
      "metadata": {
        "id": "LnMdVxOJx6YL"
      },
      "outputs": [],
      "source": [
        "instruction_results = evaluate_summaries(summaries_instruction, dev_set_summaries)\n",
        "finetuned_results = evaluate_summaries(summaries_finetuned, dev_set_summaries)\n",
        "\n",
        "print('\\nInstruction Fine-Tuned Summarizer')\n",
        "print(instruction_results)\n",
        "\n",
        "print('\\nFine-Tuned Summarizer')\n",
        "print(finetuned_results)"
      ]
    },
    {
      "cell_type": "markdown",
      "metadata": {
        "id": "UOHZZipe2Kj6"
      },
      "source": [
        "#### Evaluating the evaluation metrics\n",
        "\n",
        "NLG metrics are far from perfect. They act as a proxy for human feedback when this is not available. We well now evaluate the evaluation metrics themselves by testing whether their produced scores correspond to human intuition.\n",
        "\n",
        "***Evaluate a few summaries produced by the fine-tuned model giving them a score from 1 to 4***, where:\n",
        "1. the summary doesn't match the content of the story\n",
        "2. the summary partially matches to content of the story but it doesn't convey the story's main points\n",
        "3. the summary partially matches the content of the story and it conveys the story's main points\n",
        "4. the summary matches the content of the story and it conveys the story's main points\n"
      ]
    },
    {
      "cell_type": "markdown",
      "metadata": {
        "id": "VFe8TYdC_QIY"
      },
      "source": [
        "Here, we print 5 stories and their respective summaries generated by the summary fine-tuned model. Feel free to evaluate more than 5."
      ]
    },
    {
      "cell_type": "code",
      "execution_count": null,
      "metadata": {
        "id": "W0uVoYIpysJQ"
      },
      "outputs": [],
      "source": [
        "# feel free to evaluate more than 5 summaries,\n",
        "# it will give you a better sense of the metrics' flaws\n",
        "N_manual = 5\n",
        "\n",
        "for i in range(N_manual):\n",
        "  pprint(f\"STORY {i+1}:\\n {dev_set_news_stories[i]}\")\n",
        "  print()\n",
        "  pprint(f\"SUMMARY {i+1}: {summaries_finetuned[i]}\")\n",
        "  print('\\n------------------------\\n')"
      ]
    },
    {
      "cell_type": "markdown",
      "metadata": {
        "id": "eMYEN7-0_dtE"
      },
      "source": [
        "***Provide your scores for the summaries in order in the list below.***"
      ]
    },
    {
      "cell_type": "code",
      "execution_count": null,
      "metadata": {
        "id": "DGgsFE6UyxUA"
      },
      "outputs": [],
      "source": [
        "your_scores = [\n",
        "    _, _, _, _, _\n",
        "]"
      ]
    },
    {
      "cell_type": "markdown",
      "metadata": {
        "id": "etJnDxr99wKT"
      },
      "source": [
        "Now let's see what automatic evaluation scores they get. Do they match your judgements?"
      ]
    },
    {
      "cell_type": "code",
      "execution_count": null,
      "metadata": {
        "id": "zI6l7KleyJVR"
      },
      "outputs": [],
      "source": [
        "bertscores = bertscore.compute(\n",
        "  predictions=summaries_finetuned[:N_manual],\n",
        "  references=dev_set_summaries[:N_manual],\n",
        "  lang=\"en\"\n",
        ")\n",
        "\n",
        "rouge_scores = rouge.compute(\n",
        "      predictions=summaries_finetuned[:N_manual],\n",
        "      references=dev_set_summaries[:N_manual],\n",
        "      use_aggregator=False\n",
        ")\n",
        "\n",
        "print('BertScore:')\n",
        "for score_name, score in bertscores.items():\n",
        "  print(f'  {score_name}: {score}')\n",
        "\n",
        "print()\n",
        "print('Rouge:')\n",
        "print(f'  {rouge_scores[\"rougeL\"]}')"
      ]
    },
    {
      "cell_type": "markdown",
      "metadata": {
        "id": "GwGCOr_q_u4q"
      },
      "source": [
        "This is exactly how evaluation metrics are evaluated in NLP research. Human quality judgements are collected and then their correlation with the evaluation metric scores is computed. Here, we do not compute correlations as the number of scores to compare is too low."
      ]
    },
    {
      "cell_type": "markdown",
      "metadata": {
        "id": "4YViVDY8ADJg"
      },
      "source": [
        "------"
      ]
    },
    {
      "cell_type": "markdown",
      "metadata": {
        "id": "GdByYtb02jEv"
      },
      "source": [
        "## [OPTIONAL]  Question Answering\n",
        "\n",
        "The third module is a Question Answering system: it takes as input a news story and a question and it generates a short answer.\n",
        "\n",
        "You will test two types of QA systems:\n",
        "1. an instruction fine-tuned (multi-task) language model\n",
        "2. a language model fine-tuned specifically for question answering\n"
      ]
    },
    {
      "cell_type": "markdown",
      "metadata": {
        "id": "JIVtNPCv2ltr"
      },
      "source": [
        "### Instruction Fine-Tuned\n",
        "\n",
        "As a multi-task instruction fine-tuned language model, you will again use [`google/flan-t5-large`](https://huggingface.co/google/flan-t5-large). Question answering is among the 1.8K tasks this model was trained on.\n"
      ]
    },
    {
      "cell_type": "code",
      "execution_count": null,
      "metadata": {
        "id": "aLchXTA3AtNL"
      },
      "outputs": [],
      "source": [
        "model_name_t5 = \"google/flan-t5-large\"\n",
        "tokenizer_t5 = T5Tokenizer.from_pretrained(model_name_t5)\n",
        "model_t5 = T5ForConditionalGeneration.from_pretrained(model_name_t5, device_map=\"auto\")\n"
      ]
    },
    {
      "cell_type": "markdown",
      "metadata": {
        "id": "v5qJ6uaSAtNO"
      },
      "source": [
        "Let's see it at work on a sample question!\n"
      ]
    },
    {
      "cell_type": "code",
      "execution_count": null,
      "metadata": {
        "id": "qrxVfx1pAtNP"
      },
      "outputs": [],
      "source": [
        "test_news_story = dataset[\"train\"][1][\"story\"]"
      ]
    },
    {
      "cell_type": "code",
      "execution_count": null,
      "metadata": {
        "id": "WSbibgjoBgVn"
      },
      "outputs": [],
      "source": [
        "question = \"What will power the motors used in electric cars and trucks?\""
      ]
    },
    {
      "cell_type": "markdown",
      "metadata": {
        "id": "zXoUyh2PAtNP"
      },
      "source": [
        "Again, as this is an instruction fine-tuned model, we can simply provide it with a news story and ask it a question."
      ]
    },
    {
      "cell_type": "code",
      "execution_count": null,
      "metadata": {
        "id": "RkaVwv_eAtNQ"
      },
      "outputs": [],
      "source": [
        "input_text = f\"Context: {test_news_story}\\n Question: {question}\"  # \\n is the newline symbol\n",
        "input_text"
      ]
    },
    {
      "cell_type": "markdown",
      "metadata": {
        "id": "PxKbznLJAPI6"
      },
      "source": [
        "Now let's tokenize the instruction text and pass it to the model for conditional generation.\n",
        "\n",
        "We set the minimum and maximum length of the generated answer to 5 and 30 tokens, respectively.  ***Experiment with different minimum and maximum length values by changing the parameters of the `generate` function below.***"
      ]
    },
    {
      "cell_type": "code",
      "execution_count": null,
      "metadata": {
        "id": "FXjDLGFGAtNQ"
      },
      "outputs": [],
      "source": [
        "# Tokenize input\n",
        "device = \"cuda\" if torch.cuda.is_available() else \"cpu\"\n",
        "input_ids = tokenizer_t5(input_text, return_tensors=\"pt\").input_ids.to(device)\n",
        "\n",
        "# Generate summary conditioned on instruction and original news story\n",
        "outputs = model_t5.generate(\n",
        "    input_ids,\n",
        "    min_new_tokens=5,   # minimum answer length\n",
        "    max_new_tokens=30,  # maximum summary length\n",
        "    do_sample=False     # so we obtain the same sample every time\n",
        ")\n",
        "\n",
        "pprint(tokenizer_t5.decode(outputs[0], skip_special_tokens=True))"
      ]
    },
    {
      "cell_type": "markdown",
      "metadata": {
        "id": "oq4hMHJj2vEM"
      },
      "source": [
        "#### Putting it all together\n",
        "\n",
        "Now that we have tested and understood the components of the QA system, we can compile them in a Python class.\n",
        "\n",
        "***Fill in the minimum and maximum length based on your experiments in the cell above.***"
      ]
    },
    {
      "cell_type": "code",
      "execution_count": null,
      "metadata": {
        "id": "EF0FHXkJCCMv"
      },
      "outputs": [],
      "source": [
        "class InstructionFinetunedQA:\n",
        "\n",
        "  # Initialize model and tokenizer\n",
        "  def __init__(\n",
        "    self,\n",
        "    model_name=\"google/flan-t5-large\",\n",
        "    device=None\n",
        "  ):\n",
        "    self.model = T5ForConditionalGeneration.from_pretrained(model_name).to(device)\n",
        "    self.tokenizer = T5Tokenizer.from_pretrained(model_name)\n",
        "    self.device = device\n",
        "    if self.device is None:\n",
        "      self.device = \"cuda\" if torch.cuda.is_available() else \"cpu\"\n",
        "\n",
        "\n",
        "\n",
        "  # Question answering function\n",
        "  # It takes as input multiple texts and multiple questions\n",
        "  # (one per text) and it returns the corresponding answers\n",
        "  def qa(self, input_texts, questions):\n",
        "    assert len(input_texts) == len(questions)\n",
        "\n",
        "    # Tokenize input text: news stories and questions\n",
        "    qa_inputs = []\n",
        "    for text, question in zip(input_texts, questions):\n",
        "      qa_inputs.append(\n",
        "        self.tokenizer(\n",
        "          f\"Context: {text}\\n Question: {question}\",\n",
        "          return_tensors=\"pt\"\n",
        "        ).input_ids.to(self.device)\n",
        "      )\n",
        "\n",
        "    # Generate answers\n",
        "    outputs = []\n",
        "    for qa_input in qa_inputs:\n",
        "      outputs.append(\n",
        "        self.model.generate(\n",
        "          qa_input,\n",
        "          min_new_tokens=...   # set this value by experimenting with the cell above\n",
        "          max_new_tokens=...,  # set this value by experimenting with the cell above\n",
        "          do_sample=False\n",
        "        )[0]\n",
        "      )\n",
        "\n",
        "    # Transform token ids into actual words\n",
        "    answers = self.tokenizer.batch_decode(outputs, skip_special_tokens=True)\n",
        "\n",
        "    return answers\n",
        "\n"
      ]
    },
    {
      "cell_type": "markdown",
      "metadata": {
        "id": "yEkfNRWE2riO"
      },
      "source": [
        "### Fine-tuned QA\n",
        "\n",
        "As a fine-tuned summarizer, you will use [`deepset/roberta-base-squad2`](https://huggingface.co/deepset/roberta-base-squad2). This is a language model fine-tuned on question-answer pairs."
      ]
    },
    {
      "cell_type": "code",
      "execution_count": null,
      "metadata": {
        "id": "ivZJtUCDFDCD"
      },
      "outputs": [],
      "source": [
        "model_name_qa = \"deepset/roberta-base-squad2\"\n",
        "qa_pipeline = pipeline('question-answering', model=model_name_qa, tokenizer=model_name_qa)"
      ]
    },
    {
      "cell_type": "markdown",
      "metadata": {
        "id": "TyB1XZOnFxVU"
      },
      "source": [
        "Let's test it on the same question as above."
      ]
    },
    {
      "cell_type": "code",
      "execution_count": null,
      "metadata": {
        "id": "U-LZFnPbFyVc"
      },
      "outputs": [],
      "source": [
        "test_news_story = dataset[\"train\"][1][\"story\"]\n",
        "question = \"What will power the motors used in electric cars and trucks?\""
      ]
    },
    {
      "cell_type": "markdown",
      "metadata": {
        "id": "_Nd3eDCbGZ3C"
      },
      "source": [
        "Here, we need to provide text and question in a dictionary but they are used as a single string of text under the hood, just like before. After all, this is a language model too."
      ]
    },
    {
      "cell_type": "code",
      "execution_count": null,
      "metadata": {
        "id": "mdXaZICZF5k0"
      },
      "outputs": [],
      "source": [
        "qa_input = {\n",
        "    'question': question,\n",
        "    'context': test_news_story\n",
        "}\n",
        "\n",
        "qa_output = qa_pipeline(qa_input)\n",
        "\n",
        "pprint(qa_output['answer'])"
      ]
    },
    {
      "cell_type": "markdown",
      "metadata": {
        "id": "6mEryJA22tzf"
      },
      "source": [
        "#### Putting it all together\n",
        "\n",
        "Let's compile the fine-tuned QA system into a Python class for ease of use."
      ]
    },
    {
      "cell_type": "code",
      "execution_count": null,
      "metadata": {
        "id": "axztinI1GC3U"
      },
      "outputs": [],
      "source": [
        "class FinetunedQA:\n",
        "\n",
        "  # Initialize model and tokenizer\n",
        "  def __init__(\n",
        "    self,\n",
        "    model_name=\"deepset/roberta-base-squad2\",\n",
        "    device=None\n",
        "  ):\n",
        "    self.qa_pipeline = pipeline('question-answering', model=model_name, tokenizer=model_name)\n",
        "    self.device = device\n",
        "    if self.device is None:\n",
        "      self.device = \"cuda\" if torch.cuda.is_available() else \"cpu\"\n",
        "\n",
        "\n",
        "\n",
        "  # Question answering function\n",
        "  # It takes as input multiple texts and multiple questions\n",
        "  # (one per text) and it returns the corresponding answers\n",
        "  def qa(self, input_texts, questions):\n",
        "    assert len(input_texts) == len(questions)\n",
        "\n",
        "    # Prepare input: texts + questions\n",
        "    qa_inputs = []\n",
        "    for text, question in zip(input_texts, questions):\n",
        "      qa_inputs.append({\n",
        "        'context': text,\n",
        "        'question': question\n",
        "      })\n",
        "\n",
        "    # Generate answers\n",
        "    outputs = self.qa_pipeline(qa_inputs)\n",
        "\n",
        "    # Deal with the special case where only one\n",
        "    # text-question pair is provided as input\n",
        "    if type(outputs) is dict:\n",
        "      answers = outputs[\"answer\"]\n",
        "    else:\n",
        "      answers = [output[\"answer\"] for output in outputs]\n",
        "\n",
        "    return answers\n"
      ]
    },
    {
      "cell_type": "markdown",
      "metadata": {
        "id": "j3WgYJdw24H3"
      },
      "source": [
        "### Evaluation\n",
        "\n",
        "\n",
        "How good are the questions produced by these two models? Is the fine-tuned model better?\n",
        "\n",
        "To assess and compare QA systems, you will use two reference-based NLG evaluation metrics:\n",
        "- **BERTScore**: Remember, BERTScore leverages contextualised word embeddings extracted from a pre-trained language model and matches words in candidate and reference sentences by cosine similarity. It is a general way to measure the similarity between two pieces of text, so it be useful for evaluating different language generation tasks.\n",
        "- **Exact Match**: Because answers are typically short, it is reasonable to expect them to exactly match the human reference. This is what Exact Match does: it is 1 when the generated answer matches the reference, and 0 otherwise. We will report the relative amount of exact matches across all question-answer pairs.\n"
      ]
    },
    {
      "cell_type": "code",
      "execution_count": null,
      "metadata": {
        "id": "DGCshFTvHFud"
      },
      "outputs": [],
      "source": [
        "# @title Evaluation metrics\n",
        "# @markdown Please execute this cell.\n",
        "\n",
        "bertscore = evaluate.load(\"bertscore\")\n",
        "exact_match = evaluate.load('exact_match')\n",
        "\n",
        "def evaluate_qa(predictions, references):\n",
        "\n",
        "   # Compute BERTScore\n",
        "  bertscores = bertscore.compute(\n",
        "      predictions=predictions,\n",
        "      references=references,\n",
        "      lang=\"en\"\n",
        "  )\n",
        "\n",
        "  # Take the average BERTScore over all summaries\n",
        "  result_dict = {\n",
        "      f'bertscore_{stat}': np.mean(bertscores[stat]) for stat in bertscores if stat != 'hashcode'\n",
        "  }\n",
        "\n",
        "  # Compute percentage of exact matches\n",
        "  exact_match_scores = exact_match.compute(predictions=predictions, references=references)\n",
        "\n",
        "  result_dict['exact_match'] = exact_match_scores['exact_match']\n",
        "\n",
        "  return result_dict"
      ]
    },
    {
      "cell_type": "markdown",
      "metadata": {
        "id": "eLk9pDx_Ic0L"
      },
      "source": [
        "#### Model comparison\n",
        "\n",
        "Let's compare the instruction fine-tuned model against the fine-tuned one."
      ]
    },
    {
      "cell_type": "markdown",
      "metadata": {
        "id": "sUGzrhf5BRyU"
      },
      "source": [
        "Load the models."
      ]
    },
    {
      "cell_type": "code",
      "execution_count": null,
      "metadata": {
        "id": "6aD4toZJIc0N"
      },
      "outputs": [],
      "source": [
        "instruction_model = InstructionFinetunedQA()\n",
        "finetuned_model = FinetunedQA()\n"
      ]
    },
    {
      "cell_type": "markdown",
      "metadata": {
        "id": "YhRYjrBRBV1I"
      },
      "source": [
        "Load the data. Multiple question-answer pairs are available for each story. For simplicity, you'll only use one."
      ]
    },
    {
      "cell_type": "code",
      "execution_count": null,
      "metadata": {
        "id": "79ZJGrJDJK04"
      },
      "outputs": [],
      "source": [
        "dev_set_news_stories = dataset['train']['story']\n",
        "\n",
        "# For each story, take the first question and first answer only\n",
        "dev_set_questions = [dataset['train'][i]['questions'][0] for i in range(len(dev_set_news_stories))]\n",
        "dev_set_answers = [dataset['train'][i]['answers'][0][0] for i in range(len(dev_set_news_stories))]"
      ]
    },
    {
      "cell_type": "markdown",
      "metadata": {
        "id": "XTSd4rzIBbsO"
      },
      "source": [
        "We'll limit the data to a subset of the original dataset consisting of 30 data points. *Feel free to use a larger subset, but beware of the longer runtimes.*"
      ]
    },
    {
      "cell_type": "code",
      "execution_count": null,
      "metadata": {
        "id": "dhiDntAiBlIa"
      },
      "outputs": [],
      "source": [
        "dev_set_news_stories = dev_set_news_stories[:30]\n",
        "dev_set_questions = dev_set_questions[:30]\n",
        "dev_set_answers = dev_set_answers[:3L0]"
      ]
    },
    {
      "cell_type": "markdown",
      "metadata": {
        "id": "HtsV50KYBsv8"
      },
      "source": [
        "Conditionally generate answers."
      ]
    },
    {
      "cell_type": "code",
      "execution_count": null,
      "metadata": {
        "id": "ZIg2mNEOIc0O"
      },
      "outputs": [],
      "source": [
        "answers_instruction = instruction_model.qa(dev_set_news_stories, dev_set_questions)\n",
        "answers_finetuned = finetuned_model.qa(dev_set_news_stories, dev_set_questions)\n"
      ]
    },
    {
      "cell_type": "markdown",
      "metadata": {
        "id": "9FDUTo1dBwVV"
      },
      "source": [
        "Print out the evaluation results."
      ]
    },
    {
      "cell_type": "code",
      "execution_count": null,
      "metadata": {
        "id": "YQiiadQTIc0O"
      },
      "outputs": [],
      "source": [
        "print('Instruction Fine-Tuned QA')\n",
        "print(evaluate_qa(answers_instruction, dev_set_answers))\n",
        "\n",
        "print()\n",
        "\n",
        "print('Fine-Tuned QA')\n",
        "print(evaluate_qa(answers_finetuned, dev_set_answers))"
      ]
    },
    {
      "cell_type": "markdown",
      "metadata": {
        "id": "vqZaSNoEIc0P"
      },
      "source": [
        "#### Evaluating the evaluation metrics\n",
        "\n",
        "Evaluate a few answers produced by the fine-tuned model giving them a score from 1 to 4, where:\n",
        "1. the answer is completely off\n",
        "2. the answer is partially correct but not fluent\n",
        "3. the answer is partially correct but fluent\n",
        "4. the answer is correct and fluent\n",
        "\n",
        "\n",
        "Here, we print 5 stories and their respective question-answer pairs, generated by both humans and the QA fine-tuned model. Feel free to evaluate more than 5.\n"
      ]
    },
    {
      "cell_type": "code",
      "execution_count": null,
      "metadata": {
        "id": "QoHKBE09Ic0P"
      },
      "outputs": [],
      "source": [
        "# feel free to evaluate more than 5 generated answers,\n",
        "# it will give you a better sense of the metrics' flaws\n",
        "N_manual = 5\n",
        "\n",
        "for i in range(N_manual):\n",
        "  pprint(f\"STORY {i+1}: {dev_set_news_stories[i]}\")\n",
        "  print()\n",
        "  pprint(f\"QUESTION {i+1}: {dev_set_questions[i]}\")\n",
        "  print()\n",
        "  pprint(f\"GENERATED ANSWER {i+1}: {answers_finetuned[i]}\")\n",
        "  print()\n",
        "  pprint(f\"HUMAN ANSWER {i+1}: {dev_set_answers[i]}\")\n",
        "  print('\\n------------------------\\n')"
      ]
    },
    {
      "cell_type": "markdown",
      "metadata": {
        "id": "sNa8WEHrCMI2"
      },
      "source": [
        "***Provide your scores for the summaries in order in the list below.***"
      ]
    },
    {
      "cell_type": "code",
      "execution_count": null,
      "metadata": {
        "id": "UEr4Uq8QIc0P"
      },
      "outputs": [],
      "source": [
        "your_scores = [\n",
        "    _, _, _, _, _\n",
        "]"
      ]
    },
    {
      "cell_type": "markdown",
      "metadata": {
        "id": "VpOpwveJIc0Q"
      },
      "source": [
        "Now let's see what BERTScores they get. Do they match your judgements?"
      ]
    },
    {
      "cell_type": "code",
      "execution_count": null,
      "metadata": {
        "id": "OuSuqMBDIc0Q"
      },
      "outputs": [],
      "source": [
        "bertscores = bertscore.compute(\n",
        "  predictions=answers_finetuned[:N_manual],\n",
        "  references=dev_set_answers[:N_manual],\n",
        "  lang=\"en\"\n",
        ")\n",
        "\n",
        "print(f'BertScore: {bertscores}')\n"
      ]
    },
    {
      "cell_type": "markdown",
      "metadata": {
        "id": "-dpOcS0G3zFC"
      },
      "source": [
        "## The *Newsreader Chatbot*\n",
        "\n",
        "Finally all three modules are ready and we can assembled them into our *Newsreader Chatbot*. Enjoy!"
      ]
    },
    {
      "cell_type": "code",
      "execution_count": null,
      "metadata": {
        "id": "UN4xWSzq4Lp8"
      },
      "outputs": [],
      "source": [
        "class NewsReader:\n",
        "\n",
        "  def __init__(self, database_size=500, num_retrieved_articles=3):\n",
        "    self.dataset = load_dataset(\"glnmario/news-qa-summarization\")\n",
        "    self.articles = self.dataset['train']['story'][:database_size]\n",
        "\n",
        "    self.summarizer = FinetunedSummarizer()\n",
        "    self.retriever = SentenceEmbeddingRetriever(self.articles, model_name=\"multi-qa-MiniLM-L6-cos-v1\")\n",
        "    self.answerer = FinetunedQA()\n",
        "\n",
        "    self.num_retrieved_articles = num_retrieved_articles\n",
        "\n",
        "\n",
        "  def _ask_for_article_number_and_show_article(self, message, selected_articles):\n",
        "    target_article_idx = input(message)\n",
        "    while target_article_idx not in map(str, range(1, self.num_retrieved_articles+1)):\n",
        "      target_article_idx = input('\\nPlease just enter the article number.\\n\\n')\n",
        "\n",
        "    selected_article = selected_articles[int(target_article_idx) - 1]\n",
        "    pprint(selected_articles[int(target_article_idx) - 1])\n",
        "    return selected_article\n",
        "\n",
        "\n",
        "  def chat(self):\n",
        "    query = input('What news topic do you want to look for?\\n\\n')\n",
        "    print(f\"\\nOk! I am searching and summarizing news stories about {query}...\")\n",
        "\n",
        "    top_indices, top_scores, _ = self.retriever.retrieve(query, top_k=self.num_retrieved_articles, mode='max')\n",
        "    selected_articles = [self.articles[i] for i in top_indices]\n",
        "    summaries = self.summarizer.summarize(selected_articles)\n",
        "\n",
        "    print('These are summaries of the three news stories that best match your search.\\n')\n",
        "    for i, summary in enumerate(summaries, start=1):\n",
        "      pprint(f'{i}: {summary}')\n",
        "      print()\n",
        "\n",
        "    selected_article = self._ask_for_article_number_and_show_article(\n",
        "        '\\nWhich article would you like to read? Please enter the article number.\\n\\n',\n",
        "        selected_articles\n",
        "    )\n",
        "\n",
        "    question = input('\\n\\nDo you have any questions?\\n\\n')\n",
        "    while question.lower() in ['no', 'no.', 'nope', \"i don't\", 'i do not']:\n",
        "      selected_article = self._ask_for_article_number_and_show_article(\n",
        "          '\\nWould you like to read another article? If so, which one? Please enter the article number.\\n\\n',\n",
        "          selected_articles\n",
        "      )\n",
        "      question = input('\\n\\nDo you have any questions?\\n\\n')\n",
        "\n",
        "    print()\n",
        "    print(self.answerer.qa([selected_article], [question]))\n",
        "\n",
        "    question = input('\\n\\nDo you have another question?\\n\\n')\n",
        "    while question.lower() not in ['no', 'no.', 'nope', \"i don't\", 'i do not']:\n",
        "      print(self.answerer.qa([selected_article], [question]))\n",
        "      question = input('\\n\\nDo you have another question?\\n\\n')\n",
        "\n",
        "\n",
        "    print('\\nI hope I have been helpful. Talk again soon!')\n"
      ]
    },
    {
      "cell_type": "code",
      "execution_count": null,
      "metadata": {
        "id": "4HgsiS084Nja"
      },
      "outputs": [],
      "source": [
        "bot = NewsReader(database_size=10)\n",
        "bot.chat()"
      ]
    },
    {
      "cell_type": "code",
      "execution_count": null,
      "metadata": {
        "id": "Ws3WVyrqc00H"
      },
      "outputs": [],
      "source": []
    }
  ],
  "metadata": {
    "colab": {
      "provenance": [],
      "toc_visible": true,
      "machine_shape": "hm",
      "gpuType": "T4",
      "include_colab_link": true
    },
    "kernelspec": {
      "display_name": "Python 3",
      "name": "python3"
    },
    "language_info": {
      "codemirror_mode": {
        "name": "ipython",
        "version": 3
      },
      "file_extension": ".py",
      "mimetype": "text/x-python",
      "name": "python",
      "nbconvert_exporter": "python",
      "pygments_lexer": "ipython3",
      "version": "3.10.13"
    },
    "accelerator": "GPU",
    "widgets": {
      "application/vnd.jupyter.widget-state+json": {
        "3d4529c58d4047ceab128bf067762b2f": {
          "model_module": "@jupyter-widgets/controls",
          "model_name": "HBoxModel",
          "model_module_version": "1.5.0",
          "state": {
            "_dom_classes": [],
            "_model_module": "@jupyter-widgets/controls",
            "_model_module_version": "1.5.0",
            "_model_name": "HBoxModel",
            "_view_count": null,
            "_view_module": "@jupyter-widgets/controls",
            "_view_module_version": "1.5.0",
            "_view_name": "HBoxView",
            "box_style": "",
            "children": [
              "IPY_MODEL_789eb762b5c04fb19d0fc99a2de50a9e",
              "IPY_MODEL_9eceda2dde2c4a36915c3ff40e5ce59b",
              "IPY_MODEL_539fd54c3c484e8a86d138c0322d9f8e"
            ],
            "layout": "IPY_MODEL_1b0ba57e43ac48558a8dc671abf85cf6"
          }
        },
        "789eb762b5c04fb19d0fc99a2de50a9e": {
          "model_module": "@jupyter-widgets/controls",
          "model_name": "HTMLModel",
          "model_module_version": "1.5.0",
          "state": {
            "_dom_classes": [],
            "_model_module": "@jupyter-widgets/controls",
            "_model_module_version": "1.5.0",
            "_model_name": "HTMLModel",
            "_view_count": null,
            "_view_module": "@jupyter-widgets/controls",
            "_view_module_version": "1.5.0",
            "_view_name": "HTMLView",
            "description": "",
            "description_tooltip": null,
            "layout": "IPY_MODEL_5bd2ec24b59949418bb7bb65459158cc",
            "placeholder": "​",
            "style": "IPY_MODEL_995352ed0e5b4aa18a00e7835dc168e4",
            "value": "Downloading readme: 100%"
          }
        },
        "9eceda2dde2c4a36915c3ff40e5ce59b": {
          "model_module": "@jupyter-widgets/controls",
          "model_name": "FloatProgressModel",
          "model_module_version": "1.5.0",
          "state": {
            "_dom_classes": [],
            "_model_module": "@jupyter-widgets/controls",
            "_model_module_version": "1.5.0",
            "_model_name": "FloatProgressModel",
            "_view_count": null,
            "_view_module": "@jupyter-widgets/controls",
            "_view_module_version": "1.5.0",
            "_view_name": "ProgressView",
            "bar_style": "success",
            "description": "",
            "description_tooltip": null,
            "layout": "IPY_MODEL_fc2205f54d584aebac8a58a3e6a02343",
            "max": 715,
            "min": 0,
            "orientation": "horizontal",
            "style": "IPY_MODEL_92783087dadf4fd48742ede9a178d9b7",
            "value": 715
          }
        },
        "539fd54c3c484e8a86d138c0322d9f8e": {
          "model_module": "@jupyter-widgets/controls",
          "model_name": "HTMLModel",
          "model_module_version": "1.5.0",
          "state": {
            "_dom_classes": [],
            "_model_module": "@jupyter-widgets/controls",
            "_model_module_version": "1.5.0",
            "_model_name": "HTMLModel",
            "_view_count": null,
            "_view_module": "@jupyter-widgets/controls",
            "_view_module_version": "1.5.0",
            "_view_name": "HTMLView",
            "description": "",
            "description_tooltip": null,
            "layout": "IPY_MODEL_e25aa5647708460b9f710bf70c4bd8e4",
            "placeholder": "​",
            "style": "IPY_MODEL_305573c278dc4865a59d7f9446122ae2",
            "value": " 715/715 [00:00&lt;00:00, 58.2kB/s]"
          }
        },
        "1b0ba57e43ac48558a8dc671abf85cf6": {
          "model_module": "@jupyter-widgets/base",
          "model_name": "LayoutModel",
          "model_module_version": "1.2.0",
          "state": {
            "_model_module": "@jupyter-widgets/base",
            "_model_module_version": "1.2.0",
            "_model_name": "LayoutModel",
            "_view_count": null,
            "_view_module": "@jupyter-widgets/base",
            "_view_module_version": "1.2.0",
            "_view_name": "LayoutView",
            "align_content": null,
            "align_items": null,
            "align_self": null,
            "border": null,
            "bottom": null,
            "display": null,
            "flex": null,
            "flex_flow": null,
            "grid_area": null,
            "grid_auto_columns": null,
            "grid_auto_flow": null,
            "grid_auto_rows": null,
            "grid_column": null,
            "grid_gap": null,
            "grid_row": null,
            "grid_template_areas": null,
            "grid_template_columns": null,
            "grid_template_rows": null,
            "height": null,
            "justify_content": null,
            "justify_items": null,
            "left": null,
            "margin": null,
            "max_height": null,
            "max_width": null,
            "min_height": null,
            "min_width": null,
            "object_fit": null,
            "object_position": null,
            "order": null,
            "overflow": null,
            "overflow_x": null,
            "overflow_y": null,
            "padding": null,
            "right": null,
            "top": null,
            "visibility": null,
            "width": null
          }
        },
        "5bd2ec24b59949418bb7bb65459158cc": {
          "model_module": "@jupyter-widgets/base",
          "model_name": "LayoutModel",
          "model_module_version": "1.2.0",
          "state": {
            "_model_module": "@jupyter-widgets/base",
            "_model_module_version": "1.2.0",
            "_model_name": "LayoutModel",
            "_view_count": null,
            "_view_module": "@jupyter-widgets/base",
            "_view_module_version": "1.2.0",
            "_view_name": "LayoutView",
            "align_content": null,
            "align_items": null,
            "align_self": null,
            "border": null,
            "bottom": null,
            "display": null,
            "flex": null,
            "flex_flow": null,
            "grid_area": null,
            "grid_auto_columns": null,
            "grid_auto_flow": null,
            "grid_auto_rows": null,
            "grid_column": null,
            "grid_gap": null,
            "grid_row": null,
            "grid_template_areas": null,
            "grid_template_columns": null,
            "grid_template_rows": null,
            "height": null,
            "justify_content": null,
            "justify_items": null,
            "left": null,
            "margin": null,
            "max_height": null,
            "max_width": null,
            "min_height": null,
            "min_width": null,
            "object_fit": null,
            "object_position": null,
            "order": null,
            "overflow": null,
            "overflow_x": null,
            "overflow_y": null,
            "padding": null,
            "right": null,
            "top": null,
            "visibility": null,
            "width": null
          }
        },
        "995352ed0e5b4aa18a00e7835dc168e4": {
          "model_module": "@jupyter-widgets/controls",
          "model_name": "DescriptionStyleModel",
          "model_module_version": "1.5.0",
          "state": {
            "_model_module": "@jupyter-widgets/controls",
            "_model_module_version": "1.5.0",
            "_model_name": "DescriptionStyleModel",
            "_view_count": null,
            "_view_module": "@jupyter-widgets/base",
            "_view_module_version": "1.2.0",
            "_view_name": "StyleView",
            "description_width": ""
          }
        },
        "fc2205f54d584aebac8a58a3e6a02343": {
          "model_module": "@jupyter-widgets/base",
          "model_name": "LayoutModel",
          "model_module_version": "1.2.0",
          "state": {
            "_model_module": "@jupyter-widgets/base",
            "_model_module_version": "1.2.0",
            "_model_name": "LayoutModel",
            "_view_count": null,
            "_view_module": "@jupyter-widgets/base",
            "_view_module_version": "1.2.0",
            "_view_name": "LayoutView",
            "align_content": null,
            "align_items": null,
            "align_self": null,
            "border": null,
            "bottom": null,
            "display": null,
            "flex": null,
            "flex_flow": null,
            "grid_area": null,
            "grid_auto_columns": null,
            "grid_auto_flow": null,
            "grid_auto_rows": null,
            "grid_column": null,
            "grid_gap": null,
            "grid_row": null,
            "grid_template_areas": null,
            "grid_template_columns": null,
            "grid_template_rows": null,
            "height": null,
            "justify_content": null,
            "justify_items": null,
            "left": null,
            "margin": null,
            "max_height": null,
            "max_width": null,
            "min_height": null,
            "min_width": null,
            "object_fit": null,
            "object_position": null,
            "order": null,
            "overflow": null,
            "overflow_x": null,
            "overflow_y": null,
            "padding": null,
            "right": null,
            "top": null,
            "visibility": null,
            "width": null
          }
        },
        "92783087dadf4fd48742ede9a178d9b7": {
          "model_module": "@jupyter-widgets/controls",
          "model_name": "ProgressStyleModel",
          "model_module_version": "1.5.0",
          "state": {
            "_model_module": "@jupyter-widgets/controls",
            "_model_module_version": "1.5.0",
            "_model_name": "ProgressStyleModel",
            "_view_count": null,
            "_view_module": "@jupyter-widgets/base",
            "_view_module_version": "1.2.0",
            "_view_name": "StyleView",
            "bar_color": null,
            "description_width": ""
          }
        },
        "e25aa5647708460b9f710bf70c4bd8e4": {
          "model_module": "@jupyter-widgets/base",
          "model_name": "LayoutModel",
          "model_module_version": "1.2.0",
          "state": {
            "_model_module": "@jupyter-widgets/base",
            "_model_module_version": "1.2.0",
            "_model_name": "LayoutModel",
            "_view_count": null,
            "_view_module": "@jupyter-widgets/base",
            "_view_module_version": "1.2.0",
            "_view_name": "LayoutView",
            "align_content": null,
            "align_items": null,
            "align_self": null,
            "border": null,
            "bottom": null,
            "display": null,
            "flex": null,
            "flex_flow": null,
            "grid_area": null,
            "grid_auto_columns": null,
            "grid_auto_flow": null,
            "grid_auto_rows": null,
            "grid_column": null,
            "grid_gap": null,
            "grid_row": null,
            "grid_template_areas": null,
            "grid_template_columns": null,
            "grid_template_rows": null,
            "height": null,
            "justify_content": null,
            "justify_items": null,
            "left": null,
            "margin": null,
            "max_height": null,
            "max_width": null,
            "min_height": null,
            "min_width": null,
            "object_fit": null,
            "object_position": null,
            "order": null,
            "overflow": null,
            "overflow_x": null,
            "overflow_y": null,
            "padding": null,
            "right": null,
            "top": null,
            "visibility": null,
            "width": null
          }
        },
        "305573c278dc4865a59d7f9446122ae2": {
          "model_module": "@jupyter-widgets/controls",
          "model_name": "DescriptionStyleModel",
          "model_module_version": "1.5.0",
          "state": {
            "_model_module": "@jupyter-widgets/controls",
            "_model_module_version": "1.5.0",
            "_model_name": "DescriptionStyleModel",
            "_view_count": null,
            "_view_module": "@jupyter-widgets/base",
            "_view_module_version": "1.2.0",
            "_view_name": "StyleView",
            "description_width": ""
          }
        },
        "1ba48feb091a40c59e35f8ab85c39390": {
          "model_module": "@jupyter-widgets/controls",
          "model_name": "HBoxModel",
          "model_module_version": "1.5.0",
          "state": {
            "_dom_classes": [],
            "_model_module": "@jupyter-widgets/controls",
            "_model_module_version": "1.5.0",
            "_model_name": "HBoxModel",
            "_view_count": null,
            "_view_module": "@jupyter-widgets/controls",
            "_view_module_version": "1.5.0",
            "_view_name": "HBoxView",
            "box_style": "",
            "children": [
              "IPY_MODEL_6fc47eb9930d40c5a17c7f4e192c3ad9",
              "IPY_MODEL_65329b3341f643dea06c84f671e70f98",
              "IPY_MODEL_380478070d0a495fa8bf493bf1bf1bb3"
            ],
            "layout": "IPY_MODEL_0c3f6284347548ab99ae40205d5e294e"
          }
        },
        "6fc47eb9930d40c5a17c7f4e192c3ad9": {
          "model_module": "@jupyter-widgets/controls",
          "model_name": "HTMLModel",
          "model_module_version": "1.5.0",
          "state": {
            "_dom_classes": [],
            "_model_module": "@jupyter-widgets/controls",
            "_model_module_version": "1.5.0",
            "_model_name": "HTMLModel",
            "_view_count": null,
            "_view_module": "@jupyter-widgets/controls",
            "_view_module_version": "1.5.0",
            "_view_name": "HTMLView",
            "description": "",
            "description_tooltip": null,
            "layout": "IPY_MODEL_0c72798b748e466a86bfc97f98caf541",
            "placeholder": "​",
            "style": "IPY_MODEL_1c82422e66f344f79072f83b802273c7",
            "value": "Downloading data: 100%"
          }
        },
        "65329b3341f643dea06c84f671e70f98": {
          "model_module": "@jupyter-widgets/controls",
          "model_name": "FloatProgressModel",
          "model_module_version": "1.5.0",
          "state": {
            "_dom_classes": [],
            "_model_module": "@jupyter-widgets/controls",
            "_model_module_version": "1.5.0",
            "_model_name": "FloatProgressModel",
            "_view_count": null,
            "_view_module": "@jupyter-widgets/controls",
            "_view_module_version": "1.5.0",
            "_view_name": "ProgressView",
            "bar_style": "success",
            "description": "",
            "description_tooltip": null,
            "layout": "IPY_MODEL_58db6bfa80d54ba4bbdf276e2de1c6e6",
            "max": 40685252,
            "min": 0,
            "orientation": "horizontal",
            "style": "IPY_MODEL_b1cf387a16d24bcfab1275f81ecb12a0",
            "value": 40685252
          }
        },
        "380478070d0a495fa8bf493bf1bf1bb3": {
          "model_module": "@jupyter-widgets/controls",
          "model_name": "HTMLModel",
          "model_module_version": "1.5.0",
          "state": {
            "_dom_classes": [],
            "_model_module": "@jupyter-widgets/controls",
            "_model_module_version": "1.5.0",
            "_model_name": "HTMLModel",
            "_view_count": null,
            "_view_module": "@jupyter-widgets/controls",
            "_view_module_version": "1.5.0",
            "_view_name": "HTMLView",
            "description": "",
            "description_tooltip": null,
            "layout": "IPY_MODEL_6ffdd2e3525e4ceab708c04faa754f07",
            "placeholder": "​",
            "style": "IPY_MODEL_81c47c41c13f42388907e0a237de3411",
            "value": " 40.7M/40.7M [00:03&lt;00:00, 13.6MB/s]"
          }
        },
        "0c3f6284347548ab99ae40205d5e294e": {
          "model_module": "@jupyter-widgets/base",
          "model_name": "LayoutModel",
          "model_module_version": "1.2.0",
          "state": {
            "_model_module": "@jupyter-widgets/base",
            "_model_module_version": "1.2.0",
            "_model_name": "LayoutModel",
            "_view_count": null,
            "_view_module": "@jupyter-widgets/base",
            "_view_module_version": "1.2.0",
            "_view_name": "LayoutView",
            "align_content": null,
            "align_items": null,
            "align_self": null,
            "border": null,
            "bottom": null,
            "display": null,
            "flex": null,
            "flex_flow": null,
            "grid_area": null,
            "grid_auto_columns": null,
            "grid_auto_flow": null,
            "grid_auto_rows": null,
            "grid_column": null,
            "grid_gap": null,
            "grid_row": null,
            "grid_template_areas": null,
            "grid_template_columns": null,
            "grid_template_rows": null,
            "height": null,
            "justify_content": null,
            "justify_items": null,
            "left": null,
            "margin": null,
            "max_height": null,
            "max_width": null,
            "min_height": null,
            "min_width": null,
            "object_fit": null,
            "object_position": null,
            "order": null,
            "overflow": null,
            "overflow_x": null,
            "overflow_y": null,
            "padding": null,
            "right": null,
            "top": null,
            "visibility": null,
            "width": null
          }
        },
        "0c72798b748e466a86bfc97f98caf541": {
          "model_module": "@jupyter-widgets/base",
          "model_name": "LayoutModel",
          "model_module_version": "1.2.0",
          "state": {
            "_model_module": "@jupyter-widgets/base",
            "_model_module_version": "1.2.0",
            "_model_name": "LayoutModel",
            "_view_count": null,
            "_view_module": "@jupyter-widgets/base",
            "_view_module_version": "1.2.0",
            "_view_name": "LayoutView",
            "align_content": null,
            "align_items": null,
            "align_self": null,
            "border": null,
            "bottom": null,
            "display": null,
            "flex": null,
            "flex_flow": null,
            "grid_area": null,
            "grid_auto_columns": null,
            "grid_auto_flow": null,
            "grid_auto_rows": null,
            "grid_column": null,
            "grid_gap": null,
            "grid_row": null,
            "grid_template_areas": null,
            "grid_template_columns": null,
            "grid_template_rows": null,
            "height": null,
            "justify_content": null,
            "justify_items": null,
            "left": null,
            "margin": null,
            "max_height": null,
            "max_width": null,
            "min_height": null,
            "min_width": null,
            "object_fit": null,
            "object_position": null,
            "order": null,
            "overflow": null,
            "overflow_x": null,
            "overflow_y": null,
            "padding": null,
            "right": null,
            "top": null,
            "visibility": null,
            "width": null
          }
        },
        "1c82422e66f344f79072f83b802273c7": {
          "model_module": "@jupyter-widgets/controls",
          "model_name": "DescriptionStyleModel",
          "model_module_version": "1.5.0",
          "state": {
            "_model_module": "@jupyter-widgets/controls",
            "_model_module_version": "1.5.0",
            "_model_name": "DescriptionStyleModel",
            "_view_count": null,
            "_view_module": "@jupyter-widgets/base",
            "_view_module_version": "1.2.0",
            "_view_name": "StyleView",
            "description_width": ""
          }
        },
        "58db6bfa80d54ba4bbdf276e2de1c6e6": {
          "model_module": "@jupyter-widgets/base",
          "model_name": "LayoutModel",
          "model_module_version": "1.2.0",
          "state": {
            "_model_module": "@jupyter-widgets/base",
            "_model_module_version": "1.2.0",
            "_model_name": "LayoutModel",
            "_view_count": null,
            "_view_module": "@jupyter-widgets/base",
            "_view_module_version": "1.2.0",
            "_view_name": "LayoutView",
            "align_content": null,
            "align_items": null,
            "align_self": null,
            "border": null,
            "bottom": null,
            "display": null,
            "flex": null,
            "flex_flow": null,
            "grid_area": null,
            "grid_auto_columns": null,
            "grid_auto_flow": null,
            "grid_auto_rows": null,
            "grid_column": null,
            "grid_gap": null,
            "grid_row": null,
            "grid_template_areas": null,
            "grid_template_columns": null,
            "grid_template_rows": null,
            "height": null,
            "justify_content": null,
            "justify_items": null,
            "left": null,
            "margin": null,
            "max_height": null,
            "max_width": null,
            "min_height": null,
            "min_width": null,
            "object_fit": null,
            "object_position": null,
            "order": null,
            "overflow": null,
            "overflow_x": null,
            "overflow_y": null,
            "padding": null,
            "right": null,
            "top": null,
            "visibility": null,
            "width": null
          }
        },
        "b1cf387a16d24bcfab1275f81ecb12a0": {
          "model_module": "@jupyter-widgets/controls",
          "model_name": "ProgressStyleModel",
          "model_module_version": "1.5.0",
          "state": {
            "_model_module": "@jupyter-widgets/controls",
            "_model_module_version": "1.5.0",
            "_model_name": "ProgressStyleModel",
            "_view_count": null,
            "_view_module": "@jupyter-widgets/base",
            "_view_module_version": "1.2.0",
            "_view_name": "StyleView",
            "bar_color": null,
            "description_width": ""
          }
        },
        "6ffdd2e3525e4ceab708c04faa754f07": {
          "model_module": "@jupyter-widgets/base",
          "model_name": "LayoutModel",
          "model_module_version": "1.2.0",
          "state": {
            "_model_module": "@jupyter-widgets/base",
            "_model_module_version": "1.2.0",
            "_model_name": "LayoutModel",
            "_view_count": null,
            "_view_module": "@jupyter-widgets/base",
            "_view_module_version": "1.2.0",
            "_view_name": "LayoutView",
            "align_content": null,
            "align_items": null,
            "align_self": null,
            "border": null,
            "bottom": null,
            "display": null,
            "flex": null,
            "flex_flow": null,
            "grid_area": null,
            "grid_auto_columns": null,
            "grid_auto_flow": null,
            "grid_auto_rows": null,
            "grid_column": null,
            "grid_gap": null,
            "grid_row": null,
            "grid_template_areas": null,
            "grid_template_columns": null,
            "grid_template_rows": null,
            "height": null,
            "justify_content": null,
            "justify_items": null,
            "left": null,
            "margin": null,
            "max_height": null,
            "max_width": null,
            "min_height": null,
            "min_width": null,
            "object_fit": null,
            "object_position": null,
            "order": null,
            "overflow": null,
            "overflow_x": null,
            "overflow_y": null,
            "padding": null,
            "right": null,
            "top": null,
            "visibility": null,
            "width": null
          }
        },
        "81c47c41c13f42388907e0a237de3411": {
          "model_module": "@jupyter-widgets/controls",
          "model_name": "DescriptionStyleModel",
          "model_module_version": "1.5.0",
          "state": {
            "_model_module": "@jupyter-widgets/controls",
            "_model_module_version": "1.5.0",
            "_model_name": "DescriptionStyleModel",
            "_view_count": null,
            "_view_module": "@jupyter-widgets/base",
            "_view_module_version": "1.2.0",
            "_view_name": "StyleView",
            "description_width": ""
          }
        },
        "931a0c98a956473a8b8744158cb19e5a": {
          "model_module": "@jupyter-widgets/controls",
          "model_name": "HBoxModel",
          "model_module_version": "1.5.0",
          "state": {
            "_dom_classes": [],
            "_model_module": "@jupyter-widgets/controls",
            "_model_module_version": "1.5.0",
            "_model_name": "HBoxModel",
            "_view_count": null,
            "_view_module": "@jupyter-widgets/controls",
            "_view_module_version": "1.5.0",
            "_view_name": "HBoxView",
            "box_style": "",
            "children": [
              "IPY_MODEL_f042fa8531444103a336f1dfbc8242ec",
              "IPY_MODEL_1047efcfa98f46b4a05fa6ba6984c5f4",
              "IPY_MODEL_a97676b5f1904dce8ffe7e64e859a858"
            ],
            "layout": "IPY_MODEL_bfa82fecb6f44daf9fc7639128a4125f"
          }
        },
        "f042fa8531444103a336f1dfbc8242ec": {
          "model_module": "@jupyter-widgets/controls",
          "model_name": "HTMLModel",
          "model_module_version": "1.5.0",
          "state": {
            "_dom_classes": [],
            "_model_module": "@jupyter-widgets/controls",
            "_model_module_version": "1.5.0",
            "_model_name": "HTMLModel",
            "_view_count": null,
            "_view_module": "@jupyter-widgets/controls",
            "_view_module_version": "1.5.0",
            "_view_name": "HTMLView",
            "description": "",
            "description_tooltip": null,
            "layout": "IPY_MODEL_d480c75231a64dca940f14d4b5b3a126",
            "placeholder": "​",
            "style": "IPY_MODEL_44653482688e474caed4d15a12ed2dee",
            "value": "Generating train split: "
          }
        },
        "1047efcfa98f46b4a05fa6ba6984c5f4": {
          "model_module": "@jupyter-widgets/controls",
          "model_name": "FloatProgressModel",
          "model_module_version": "1.5.0",
          "state": {
            "_dom_classes": [],
            "_model_module": "@jupyter-widgets/controls",
            "_model_module_version": "1.5.0",
            "_model_name": "FloatProgressModel",
            "_view_count": null,
            "_view_module": "@jupyter-widgets/controls",
            "_view_module_version": "1.5.0",
            "_view_name": "ProgressView",
            "bar_style": "success",
            "description": "",
            "description_tooltip": null,
            "layout": "IPY_MODEL_ed49c2aa1d104dfcb308f01ccee31927",
            "max": 1,
            "min": 0,
            "orientation": "horizontal",
            "style": "IPY_MODEL_206753228f1b421c94d1f037948f98f2",
            "value": 1
          }
        },
        "a97676b5f1904dce8ffe7e64e859a858": {
          "model_module": "@jupyter-widgets/controls",
          "model_name": "HTMLModel",
          "model_module_version": "1.5.0",
          "state": {
            "_dom_classes": [],
            "_model_module": "@jupyter-widgets/controls",
            "_model_module_version": "1.5.0",
            "_model_name": "HTMLModel",
            "_view_count": null,
            "_view_module": "@jupyter-widgets/controls",
            "_view_module_version": "1.5.0",
            "_view_name": "HTMLView",
            "description": "",
            "description_tooltip": null,
            "layout": "IPY_MODEL_94c52c03b4d345fd9579de6b4f425f77",
            "placeholder": "​",
            "style": "IPY_MODEL_cca101be3acb4f0ca01525f1b70175cd",
            "value": " 10388/0 [00:00&lt;00:00, 56574.50 examples/s]"
          }
        },
        "bfa82fecb6f44daf9fc7639128a4125f": {
          "model_module": "@jupyter-widgets/base",
          "model_name": "LayoutModel",
          "model_module_version": "1.2.0",
          "state": {
            "_model_module": "@jupyter-widgets/base",
            "_model_module_version": "1.2.0",
            "_model_name": "LayoutModel",
            "_view_count": null,
            "_view_module": "@jupyter-widgets/base",
            "_view_module_version": "1.2.0",
            "_view_name": "LayoutView",
            "align_content": null,
            "align_items": null,
            "align_self": null,
            "border": null,
            "bottom": null,
            "display": null,
            "flex": null,
            "flex_flow": null,
            "grid_area": null,
            "grid_auto_columns": null,
            "grid_auto_flow": null,
            "grid_auto_rows": null,
            "grid_column": null,
            "grid_gap": null,
            "grid_row": null,
            "grid_template_areas": null,
            "grid_template_columns": null,
            "grid_template_rows": null,
            "height": null,
            "justify_content": null,
            "justify_items": null,
            "left": null,
            "margin": null,
            "max_height": null,
            "max_width": null,
            "min_height": null,
            "min_width": null,
            "object_fit": null,
            "object_position": null,
            "order": null,
            "overflow": null,
            "overflow_x": null,
            "overflow_y": null,
            "padding": null,
            "right": null,
            "top": null,
            "visibility": null,
            "width": null
          }
        },
        "d480c75231a64dca940f14d4b5b3a126": {
          "model_module": "@jupyter-widgets/base",
          "model_name": "LayoutModel",
          "model_module_version": "1.2.0",
          "state": {
            "_model_module": "@jupyter-widgets/base",
            "_model_module_version": "1.2.0",
            "_model_name": "LayoutModel",
            "_view_count": null,
            "_view_module": "@jupyter-widgets/base",
            "_view_module_version": "1.2.0",
            "_view_name": "LayoutView",
            "align_content": null,
            "align_items": null,
            "align_self": null,
            "border": null,
            "bottom": null,
            "display": null,
            "flex": null,
            "flex_flow": null,
            "grid_area": null,
            "grid_auto_columns": null,
            "grid_auto_flow": null,
            "grid_auto_rows": null,
            "grid_column": null,
            "grid_gap": null,
            "grid_row": null,
            "grid_template_areas": null,
            "grid_template_columns": null,
            "grid_template_rows": null,
            "height": null,
            "justify_content": null,
            "justify_items": null,
            "left": null,
            "margin": null,
            "max_height": null,
            "max_width": null,
            "min_height": null,
            "min_width": null,
            "object_fit": null,
            "object_position": null,
            "order": null,
            "overflow": null,
            "overflow_x": null,
            "overflow_y": null,
            "padding": null,
            "right": null,
            "top": null,
            "visibility": null,
            "width": null
          }
        },
        "44653482688e474caed4d15a12ed2dee": {
          "model_module": "@jupyter-widgets/controls",
          "model_name": "DescriptionStyleModel",
          "model_module_version": "1.5.0",
          "state": {
            "_model_module": "@jupyter-widgets/controls",
            "_model_module_version": "1.5.0",
            "_model_name": "DescriptionStyleModel",
            "_view_count": null,
            "_view_module": "@jupyter-widgets/base",
            "_view_module_version": "1.2.0",
            "_view_name": "StyleView",
            "description_width": ""
          }
        },
        "ed49c2aa1d104dfcb308f01ccee31927": {
          "model_module": "@jupyter-widgets/base",
          "model_name": "LayoutModel",
          "model_module_version": "1.2.0",
          "state": {
            "_model_module": "@jupyter-widgets/base",
            "_model_module_version": "1.2.0",
            "_model_name": "LayoutModel",
            "_view_count": null,
            "_view_module": "@jupyter-widgets/base",
            "_view_module_version": "1.2.0",
            "_view_name": "LayoutView",
            "align_content": null,
            "align_items": null,
            "align_self": null,
            "border": null,
            "bottom": null,
            "display": null,
            "flex": null,
            "flex_flow": null,
            "grid_area": null,
            "grid_auto_columns": null,
            "grid_auto_flow": null,
            "grid_auto_rows": null,
            "grid_column": null,
            "grid_gap": null,
            "grid_row": null,
            "grid_template_areas": null,
            "grid_template_columns": null,
            "grid_template_rows": null,
            "height": null,
            "justify_content": null,
            "justify_items": null,
            "left": null,
            "margin": null,
            "max_height": null,
            "max_width": null,
            "min_height": null,
            "min_width": null,
            "object_fit": null,
            "object_position": null,
            "order": null,
            "overflow": null,
            "overflow_x": null,
            "overflow_y": null,
            "padding": null,
            "right": null,
            "top": null,
            "visibility": null,
            "width": "20px"
          }
        },
        "206753228f1b421c94d1f037948f98f2": {
          "model_module": "@jupyter-widgets/controls",
          "model_name": "ProgressStyleModel",
          "model_module_version": "1.5.0",
          "state": {
            "_model_module": "@jupyter-widgets/controls",
            "_model_module_version": "1.5.0",
            "_model_name": "ProgressStyleModel",
            "_view_count": null,
            "_view_module": "@jupyter-widgets/base",
            "_view_module_version": "1.2.0",
            "_view_name": "StyleView",
            "bar_color": null,
            "description_width": ""
          }
        },
        "94c52c03b4d345fd9579de6b4f425f77": {
          "model_module": "@jupyter-widgets/base",
          "model_name": "LayoutModel",
          "model_module_version": "1.2.0",
          "state": {
            "_model_module": "@jupyter-widgets/base",
            "_model_module_version": "1.2.0",
            "_model_name": "LayoutModel",
            "_view_count": null,
            "_view_module": "@jupyter-widgets/base",
            "_view_module_version": "1.2.0",
            "_view_name": "LayoutView",
            "align_content": null,
            "align_items": null,
            "align_self": null,
            "border": null,
            "bottom": null,
            "display": null,
            "flex": null,
            "flex_flow": null,
            "grid_area": null,
            "grid_auto_columns": null,
            "grid_auto_flow": null,
            "grid_auto_rows": null,
            "grid_column": null,
            "grid_gap": null,
            "grid_row": null,
            "grid_template_areas": null,
            "grid_template_columns": null,
            "grid_template_rows": null,
            "height": null,
            "justify_content": null,
            "justify_items": null,
            "left": null,
            "margin": null,
            "max_height": null,
            "max_width": null,
            "min_height": null,
            "min_width": null,
            "object_fit": null,
            "object_position": null,
            "order": null,
            "overflow": null,
            "overflow_x": null,
            "overflow_y": null,
            "padding": null,
            "right": null,
            "top": null,
            "visibility": null,
            "width": null
          }
        },
        "cca101be3acb4f0ca01525f1b70175cd": {
          "model_module": "@jupyter-widgets/controls",
          "model_name": "DescriptionStyleModel",
          "model_module_version": "1.5.0",
          "state": {
            "_model_module": "@jupyter-widgets/controls",
            "_model_module_version": "1.5.0",
            "_model_name": "DescriptionStyleModel",
            "_view_count": null,
            "_view_module": "@jupyter-widgets/base",
            "_view_module_version": "1.2.0",
            "_view_name": "StyleView",
            "description_width": ""
          }
        },
        "4823163c90c84d97812549a77bad99a1": {
          "model_module": "@jupyter-widgets/controls",
          "model_name": "HBoxModel",
          "model_module_version": "1.5.0",
          "state": {
            "_dom_classes": [],
            "_model_module": "@jupyter-widgets/controls",
            "_model_module_version": "1.5.0",
            "_model_name": "HBoxModel",
            "_view_count": null,
            "_view_module": "@jupyter-widgets/controls",
            "_view_module_version": "1.5.0",
            "_view_name": "HBoxView",
            "box_style": "",
            "children": [
              "IPY_MODEL_2ff12471d6234b0fbaa80b0da9faddbb",
              "IPY_MODEL_b0b00ce47b2848f8b13b905be9fa123f",
              "IPY_MODEL_d4c32ac1b4904e62850e756364b22be4"
            ],
            "layout": "IPY_MODEL_9567c3d8db40413792306294feffa676"
          }
        },
        "2ff12471d6234b0fbaa80b0da9faddbb": {
          "model_module": "@jupyter-widgets/controls",
          "model_name": "HTMLModel",
          "model_module_version": "1.5.0",
          "state": {
            "_dom_classes": [],
            "_model_module": "@jupyter-widgets/controls",
            "_model_module_version": "1.5.0",
            "_model_name": "HTMLModel",
            "_view_count": null,
            "_view_module": "@jupyter-widgets/controls",
            "_view_module_version": "1.5.0",
            "_view_name": "HTMLView",
            "description": "",
            "description_tooltip": null,
            "layout": "IPY_MODEL_c762a9f7b8ca41b5bda9fd78fa71a9b0",
            "placeholder": "​",
            "style": "IPY_MODEL_eb3afc20684d4f559e7adf72bbf4aaf4",
            "value": "modules.json: 100%"
          }
        },
        "b0b00ce47b2848f8b13b905be9fa123f": {
          "model_module": "@jupyter-widgets/controls",
          "model_name": "FloatProgressModel",
          "model_module_version": "1.5.0",
          "state": {
            "_dom_classes": [],
            "_model_module": "@jupyter-widgets/controls",
            "_model_module_version": "1.5.0",
            "_model_name": "FloatProgressModel",
            "_view_count": null,
            "_view_module": "@jupyter-widgets/controls",
            "_view_module_version": "1.5.0",
            "_view_name": "ProgressView",
            "bar_style": "success",
            "description": "",
            "description_tooltip": null,
            "layout": "IPY_MODEL_6e349c6271d04c24b39dd729b6ca50d8",
            "max": 349,
            "min": 0,
            "orientation": "horizontal",
            "style": "IPY_MODEL_7af548f73e044e90a06bcde75d20b320",
            "value": 349
          }
        },
        "d4c32ac1b4904e62850e756364b22be4": {
          "model_module": "@jupyter-widgets/controls",
          "model_name": "HTMLModel",
          "model_module_version": "1.5.0",
          "state": {
            "_dom_classes": [],
            "_model_module": "@jupyter-widgets/controls",
            "_model_module_version": "1.5.0",
            "_model_name": "HTMLModel",
            "_view_count": null,
            "_view_module": "@jupyter-widgets/controls",
            "_view_module_version": "1.5.0",
            "_view_name": "HTMLView",
            "description": "",
            "description_tooltip": null,
            "layout": "IPY_MODEL_9fa075ce993b4d06bf5d7caf8c56bcac",
            "placeholder": "​",
            "style": "IPY_MODEL_670fbfd3469b4b4db749755cd4a006ee",
            "value": " 349/349 [00:00&lt;00:00, 32.4kB/s]"
          }
        },
        "9567c3d8db40413792306294feffa676": {
          "model_module": "@jupyter-widgets/base",
          "model_name": "LayoutModel",
          "model_module_version": "1.2.0",
          "state": {
            "_model_module": "@jupyter-widgets/base",
            "_model_module_version": "1.2.0",
            "_model_name": "LayoutModel",
            "_view_count": null,
            "_view_module": "@jupyter-widgets/base",
            "_view_module_version": "1.2.0",
            "_view_name": "LayoutView",
            "align_content": null,
            "align_items": null,
            "align_self": null,
            "border": null,
            "bottom": null,
            "display": null,
            "flex": null,
            "flex_flow": null,
            "grid_area": null,
            "grid_auto_columns": null,
            "grid_auto_flow": null,
            "grid_auto_rows": null,
            "grid_column": null,
            "grid_gap": null,
            "grid_row": null,
            "grid_template_areas": null,
            "grid_template_columns": null,
            "grid_template_rows": null,
            "height": null,
            "justify_content": null,
            "justify_items": null,
            "left": null,
            "margin": null,
            "max_height": null,
            "max_width": null,
            "min_height": null,
            "min_width": null,
            "object_fit": null,
            "object_position": null,
            "order": null,
            "overflow": null,
            "overflow_x": null,
            "overflow_y": null,
            "padding": null,
            "right": null,
            "top": null,
            "visibility": null,
            "width": null
          }
        },
        "c762a9f7b8ca41b5bda9fd78fa71a9b0": {
          "model_module": "@jupyter-widgets/base",
          "model_name": "LayoutModel",
          "model_module_version": "1.2.0",
          "state": {
            "_model_module": "@jupyter-widgets/base",
            "_model_module_version": "1.2.0",
            "_model_name": "LayoutModel",
            "_view_count": null,
            "_view_module": "@jupyter-widgets/base",
            "_view_module_version": "1.2.0",
            "_view_name": "LayoutView",
            "align_content": null,
            "align_items": null,
            "align_self": null,
            "border": null,
            "bottom": null,
            "display": null,
            "flex": null,
            "flex_flow": null,
            "grid_area": null,
            "grid_auto_columns": null,
            "grid_auto_flow": null,
            "grid_auto_rows": null,
            "grid_column": null,
            "grid_gap": null,
            "grid_row": null,
            "grid_template_areas": null,
            "grid_template_columns": null,
            "grid_template_rows": null,
            "height": null,
            "justify_content": null,
            "justify_items": null,
            "left": null,
            "margin": null,
            "max_height": null,
            "max_width": null,
            "min_height": null,
            "min_width": null,
            "object_fit": null,
            "object_position": null,
            "order": null,
            "overflow": null,
            "overflow_x": null,
            "overflow_y": null,
            "padding": null,
            "right": null,
            "top": null,
            "visibility": null,
            "width": null
          }
        },
        "eb3afc20684d4f559e7adf72bbf4aaf4": {
          "model_module": "@jupyter-widgets/controls",
          "model_name": "DescriptionStyleModel",
          "model_module_version": "1.5.0",
          "state": {
            "_model_module": "@jupyter-widgets/controls",
            "_model_module_version": "1.5.0",
            "_model_name": "DescriptionStyleModel",
            "_view_count": null,
            "_view_module": "@jupyter-widgets/base",
            "_view_module_version": "1.2.0",
            "_view_name": "StyleView",
            "description_width": ""
          }
        },
        "6e349c6271d04c24b39dd729b6ca50d8": {
          "model_module": "@jupyter-widgets/base",
          "model_name": "LayoutModel",
          "model_module_version": "1.2.0",
          "state": {
            "_model_module": "@jupyter-widgets/base",
            "_model_module_version": "1.2.0",
            "_model_name": "LayoutModel",
            "_view_count": null,
            "_view_module": "@jupyter-widgets/base",
            "_view_module_version": "1.2.0",
            "_view_name": "LayoutView",
            "align_content": null,
            "align_items": null,
            "align_self": null,
            "border": null,
            "bottom": null,
            "display": null,
            "flex": null,
            "flex_flow": null,
            "grid_area": null,
            "grid_auto_columns": null,
            "grid_auto_flow": null,
            "grid_auto_rows": null,
            "grid_column": null,
            "grid_gap": null,
            "grid_row": null,
            "grid_template_areas": null,
            "grid_template_columns": null,
            "grid_template_rows": null,
            "height": null,
            "justify_content": null,
            "justify_items": null,
            "left": null,
            "margin": null,
            "max_height": null,
            "max_width": null,
            "min_height": null,
            "min_width": null,
            "object_fit": null,
            "object_position": null,
            "order": null,
            "overflow": null,
            "overflow_x": null,
            "overflow_y": null,
            "padding": null,
            "right": null,
            "top": null,
            "visibility": null,
            "width": null
          }
        },
        "7af548f73e044e90a06bcde75d20b320": {
          "model_module": "@jupyter-widgets/controls",
          "model_name": "ProgressStyleModel",
          "model_module_version": "1.5.0",
          "state": {
            "_model_module": "@jupyter-widgets/controls",
            "_model_module_version": "1.5.0",
            "_model_name": "ProgressStyleModel",
            "_view_count": null,
            "_view_module": "@jupyter-widgets/base",
            "_view_module_version": "1.2.0",
            "_view_name": "StyleView",
            "bar_color": null,
            "description_width": ""
          }
        },
        "9fa075ce993b4d06bf5d7caf8c56bcac": {
          "model_module": "@jupyter-widgets/base",
          "model_name": "LayoutModel",
          "model_module_version": "1.2.0",
          "state": {
            "_model_module": "@jupyter-widgets/base",
            "_model_module_version": "1.2.0",
            "_model_name": "LayoutModel",
            "_view_count": null,
            "_view_module": "@jupyter-widgets/base",
            "_view_module_version": "1.2.0",
            "_view_name": "LayoutView",
            "align_content": null,
            "align_items": null,
            "align_self": null,
            "border": null,
            "bottom": null,
            "display": null,
            "flex": null,
            "flex_flow": null,
            "grid_area": null,
            "grid_auto_columns": null,
            "grid_auto_flow": null,
            "grid_auto_rows": null,
            "grid_column": null,
            "grid_gap": null,
            "grid_row": null,
            "grid_template_areas": null,
            "grid_template_columns": null,
            "grid_template_rows": null,
            "height": null,
            "justify_content": null,
            "justify_items": null,
            "left": null,
            "margin": null,
            "max_height": null,
            "max_width": null,
            "min_height": null,
            "min_width": null,
            "object_fit": null,
            "object_position": null,
            "order": null,
            "overflow": null,
            "overflow_x": null,
            "overflow_y": null,
            "padding": null,
            "right": null,
            "top": null,
            "visibility": null,
            "width": null
          }
        },
        "670fbfd3469b4b4db749755cd4a006ee": {
          "model_module": "@jupyter-widgets/controls",
          "model_name": "DescriptionStyleModel",
          "model_module_version": "1.5.0",
          "state": {
            "_model_module": "@jupyter-widgets/controls",
            "_model_module_version": "1.5.0",
            "_model_name": "DescriptionStyleModel",
            "_view_count": null,
            "_view_module": "@jupyter-widgets/base",
            "_view_module_version": "1.2.0",
            "_view_name": "StyleView",
            "description_width": ""
          }
        },
        "46ffa3da6ca046308c7b665869bc0fc9": {
          "model_module": "@jupyter-widgets/controls",
          "model_name": "HBoxModel",
          "model_module_version": "1.5.0",
          "state": {
            "_dom_classes": [],
            "_model_module": "@jupyter-widgets/controls",
            "_model_module_version": "1.5.0",
            "_model_name": "HBoxModel",
            "_view_count": null,
            "_view_module": "@jupyter-widgets/controls",
            "_view_module_version": "1.5.0",
            "_view_name": "HBoxView",
            "box_style": "",
            "children": [
              "IPY_MODEL_788dbc1ef93f44f6b97672e32275c175",
              "IPY_MODEL_dfc328d3f7cc4b97b1034f3c7c04f76b",
              "IPY_MODEL_a9ef1720db79473c8dd84fbf33f4ed9e"
            ],
            "layout": "IPY_MODEL_867ebb77261b4833b38d6c0990f32206"
          }
        },
        "788dbc1ef93f44f6b97672e32275c175": {
          "model_module": "@jupyter-widgets/controls",
          "model_name": "HTMLModel",
          "model_module_version": "1.5.0",
          "state": {
            "_dom_classes": [],
            "_model_module": "@jupyter-widgets/controls",
            "_model_module_version": "1.5.0",
            "_model_name": "HTMLModel",
            "_view_count": null,
            "_view_module": "@jupyter-widgets/controls",
            "_view_module_version": "1.5.0",
            "_view_name": "HTMLView",
            "description": "",
            "description_tooltip": null,
            "layout": "IPY_MODEL_ca6fd480d693410c8cdc5aa3f282cf05",
            "placeholder": "​",
            "style": "IPY_MODEL_79e2ca34d4f449d58a51336a0760b6f3",
            "value": "config_sentence_transformers.json: 100%"
          }
        },
        "dfc328d3f7cc4b97b1034f3c7c04f76b": {
          "model_module": "@jupyter-widgets/controls",
          "model_name": "FloatProgressModel",
          "model_module_version": "1.5.0",
          "state": {
            "_dom_classes": [],
            "_model_module": "@jupyter-widgets/controls",
            "_model_module_version": "1.5.0",
            "_model_name": "FloatProgressModel",
            "_view_count": null,
            "_view_module": "@jupyter-widgets/controls",
            "_view_module_version": "1.5.0",
            "_view_name": "ProgressView",
            "bar_style": "success",
            "description": "",
            "description_tooltip": null,
            "layout": "IPY_MODEL_31039d9ecbf54603a8d3dfd7481ab57f",
            "max": 116,
            "min": 0,
            "orientation": "horizontal",
            "style": "IPY_MODEL_7662d2d2d5434feca3d8e7a842f21a2f",
            "value": 116
          }
        },
        "a9ef1720db79473c8dd84fbf33f4ed9e": {
          "model_module": "@jupyter-widgets/controls",
          "model_name": "HTMLModel",
          "model_module_version": "1.5.0",
          "state": {
            "_dom_classes": [],
            "_model_module": "@jupyter-widgets/controls",
            "_model_module_version": "1.5.0",
            "_model_name": "HTMLModel",
            "_view_count": null,
            "_view_module": "@jupyter-widgets/controls",
            "_view_module_version": "1.5.0",
            "_view_name": "HTMLView",
            "description": "",
            "description_tooltip": null,
            "layout": "IPY_MODEL_e367857d68164b82b100cc2414603851",
            "placeholder": "​",
            "style": "IPY_MODEL_e23c223afa85487c972d4e5df5e21860",
            "value": " 116/116 [00:00&lt;00:00, 9.46kB/s]"
          }
        },
        "867ebb77261b4833b38d6c0990f32206": {
          "model_module": "@jupyter-widgets/base",
          "model_name": "LayoutModel",
          "model_module_version": "1.2.0",
          "state": {
            "_model_module": "@jupyter-widgets/base",
            "_model_module_version": "1.2.0",
            "_model_name": "LayoutModel",
            "_view_count": null,
            "_view_module": "@jupyter-widgets/base",
            "_view_module_version": "1.2.0",
            "_view_name": "LayoutView",
            "align_content": null,
            "align_items": null,
            "align_self": null,
            "border": null,
            "bottom": null,
            "display": null,
            "flex": null,
            "flex_flow": null,
            "grid_area": null,
            "grid_auto_columns": null,
            "grid_auto_flow": null,
            "grid_auto_rows": null,
            "grid_column": null,
            "grid_gap": null,
            "grid_row": null,
            "grid_template_areas": null,
            "grid_template_columns": null,
            "grid_template_rows": null,
            "height": null,
            "justify_content": null,
            "justify_items": null,
            "left": null,
            "margin": null,
            "max_height": null,
            "max_width": null,
            "min_height": null,
            "min_width": null,
            "object_fit": null,
            "object_position": null,
            "order": null,
            "overflow": null,
            "overflow_x": null,
            "overflow_y": null,
            "padding": null,
            "right": null,
            "top": null,
            "visibility": null,
            "width": null
          }
        },
        "ca6fd480d693410c8cdc5aa3f282cf05": {
          "model_module": "@jupyter-widgets/base",
          "model_name": "LayoutModel",
          "model_module_version": "1.2.0",
          "state": {
            "_model_module": "@jupyter-widgets/base",
            "_model_module_version": "1.2.0",
            "_model_name": "LayoutModel",
            "_view_count": null,
            "_view_module": "@jupyter-widgets/base",
            "_view_module_version": "1.2.0",
            "_view_name": "LayoutView",
            "align_content": null,
            "align_items": null,
            "align_self": null,
            "border": null,
            "bottom": null,
            "display": null,
            "flex": null,
            "flex_flow": null,
            "grid_area": null,
            "grid_auto_columns": null,
            "grid_auto_flow": null,
            "grid_auto_rows": null,
            "grid_column": null,
            "grid_gap": null,
            "grid_row": null,
            "grid_template_areas": null,
            "grid_template_columns": null,
            "grid_template_rows": null,
            "height": null,
            "justify_content": null,
            "justify_items": null,
            "left": null,
            "margin": null,
            "max_height": null,
            "max_width": null,
            "min_height": null,
            "min_width": null,
            "object_fit": null,
            "object_position": null,
            "order": null,
            "overflow": null,
            "overflow_x": null,
            "overflow_y": null,
            "padding": null,
            "right": null,
            "top": null,
            "visibility": null,
            "width": null
          }
        },
        "79e2ca34d4f449d58a51336a0760b6f3": {
          "model_module": "@jupyter-widgets/controls",
          "model_name": "DescriptionStyleModel",
          "model_module_version": "1.5.0",
          "state": {
            "_model_module": "@jupyter-widgets/controls",
            "_model_module_version": "1.5.0",
            "_model_name": "DescriptionStyleModel",
            "_view_count": null,
            "_view_module": "@jupyter-widgets/base",
            "_view_module_version": "1.2.0",
            "_view_name": "StyleView",
            "description_width": ""
          }
        },
        "31039d9ecbf54603a8d3dfd7481ab57f": {
          "model_module": "@jupyter-widgets/base",
          "model_name": "LayoutModel",
          "model_module_version": "1.2.0",
          "state": {
            "_model_module": "@jupyter-widgets/base",
            "_model_module_version": "1.2.0",
            "_model_name": "LayoutModel",
            "_view_count": null,
            "_view_module": "@jupyter-widgets/base",
            "_view_module_version": "1.2.0",
            "_view_name": "LayoutView",
            "align_content": null,
            "align_items": null,
            "align_self": null,
            "border": null,
            "bottom": null,
            "display": null,
            "flex": null,
            "flex_flow": null,
            "grid_area": null,
            "grid_auto_columns": null,
            "grid_auto_flow": null,
            "grid_auto_rows": null,
            "grid_column": null,
            "grid_gap": null,
            "grid_row": null,
            "grid_template_areas": null,
            "grid_template_columns": null,
            "grid_template_rows": null,
            "height": null,
            "justify_content": null,
            "justify_items": null,
            "left": null,
            "margin": null,
            "max_height": null,
            "max_width": null,
            "min_height": null,
            "min_width": null,
            "object_fit": null,
            "object_position": null,
            "order": null,
            "overflow": null,
            "overflow_x": null,
            "overflow_y": null,
            "padding": null,
            "right": null,
            "top": null,
            "visibility": null,
            "width": null
          }
        },
        "7662d2d2d5434feca3d8e7a842f21a2f": {
          "model_module": "@jupyter-widgets/controls",
          "model_name": "ProgressStyleModel",
          "model_module_version": "1.5.0",
          "state": {
            "_model_module": "@jupyter-widgets/controls",
            "_model_module_version": "1.5.0",
            "_model_name": "ProgressStyleModel",
            "_view_count": null,
            "_view_module": "@jupyter-widgets/base",
            "_view_module_version": "1.2.0",
            "_view_name": "StyleView",
            "bar_color": null,
            "description_width": ""
          }
        },
        "e367857d68164b82b100cc2414603851": {
          "model_module": "@jupyter-widgets/base",
          "model_name": "LayoutModel",
          "model_module_version": "1.2.0",
          "state": {
            "_model_module": "@jupyter-widgets/base",
            "_model_module_version": "1.2.0",
            "_model_name": "LayoutModel",
            "_view_count": null,
            "_view_module": "@jupyter-widgets/base",
            "_view_module_version": "1.2.0",
            "_view_name": "LayoutView",
            "align_content": null,
            "align_items": null,
            "align_self": null,
            "border": null,
            "bottom": null,
            "display": null,
            "flex": null,
            "flex_flow": null,
            "grid_area": null,
            "grid_auto_columns": null,
            "grid_auto_flow": null,
            "grid_auto_rows": null,
            "grid_column": null,
            "grid_gap": null,
            "grid_row": null,
            "grid_template_areas": null,
            "grid_template_columns": null,
            "grid_template_rows": null,
            "height": null,
            "justify_content": null,
            "justify_items": null,
            "left": null,
            "margin": null,
            "max_height": null,
            "max_width": null,
            "min_height": null,
            "min_width": null,
            "object_fit": null,
            "object_position": null,
            "order": null,
            "overflow": null,
            "overflow_x": null,
            "overflow_y": null,
            "padding": null,
            "right": null,
            "top": null,
            "visibility": null,
            "width": null
          }
        },
        "e23c223afa85487c972d4e5df5e21860": {
          "model_module": "@jupyter-widgets/controls",
          "model_name": "DescriptionStyleModel",
          "model_module_version": "1.5.0",
          "state": {
            "_model_module": "@jupyter-widgets/controls",
            "_model_module_version": "1.5.0",
            "_model_name": "DescriptionStyleModel",
            "_view_count": null,
            "_view_module": "@jupyter-widgets/base",
            "_view_module_version": "1.2.0",
            "_view_name": "StyleView",
            "description_width": ""
          }
        },
        "9682222987644c6fa208ef20690e6bda": {
          "model_module": "@jupyter-widgets/controls",
          "model_name": "HBoxModel",
          "model_module_version": "1.5.0",
          "state": {
            "_dom_classes": [],
            "_model_module": "@jupyter-widgets/controls",
            "_model_module_version": "1.5.0",
            "_model_name": "HBoxModel",
            "_view_count": null,
            "_view_module": "@jupyter-widgets/controls",
            "_view_module_version": "1.5.0",
            "_view_name": "HBoxView",
            "box_style": "",
            "children": [
              "IPY_MODEL_6ce44ba5877449c980d9910db8cf9278",
              "IPY_MODEL_d858781c9b9345b9b27237e57692407d",
              "IPY_MODEL_c7f675bfbfc242ae973ebd84a25a5050"
            ],
            "layout": "IPY_MODEL_fac737b3c945476e9133f043c29e0628"
          }
        },
        "6ce44ba5877449c980d9910db8cf9278": {
          "model_module": "@jupyter-widgets/controls",
          "model_name": "HTMLModel",
          "model_module_version": "1.5.0",
          "state": {
            "_dom_classes": [],
            "_model_module": "@jupyter-widgets/controls",
            "_model_module_version": "1.5.0",
            "_model_name": "HTMLModel",
            "_view_count": null,
            "_view_module": "@jupyter-widgets/controls",
            "_view_module_version": "1.5.0",
            "_view_name": "HTMLView",
            "description": "",
            "description_tooltip": null,
            "layout": "IPY_MODEL_95bb5ed39d1a4c168e530083e9b74a32",
            "placeholder": "​",
            "style": "IPY_MODEL_14c18b9dd7db4c96ab07e674995246d5",
            "value": "README.md: 100%"
          }
        },
        "d858781c9b9345b9b27237e57692407d": {
          "model_module": "@jupyter-widgets/controls",
          "model_name": "FloatProgressModel",
          "model_module_version": "1.5.0",
          "state": {
            "_dom_classes": [],
            "_model_module": "@jupyter-widgets/controls",
            "_model_module_version": "1.5.0",
            "_model_name": "FloatProgressModel",
            "_view_count": null,
            "_view_module": "@jupyter-widgets/controls",
            "_view_module_version": "1.5.0",
            "_view_name": "ProgressView",
            "bar_style": "success",
            "description": "",
            "description_tooltip": null,
            "layout": "IPY_MODEL_d65e7b2b54234e9ebf0ccad59560f511",
            "max": 11586,
            "min": 0,
            "orientation": "horizontal",
            "style": "IPY_MODEL_cc62941d56b4499b881618538c6226d1",
            "value": 11586
          }
        },
        "c7f675bfbfc242ae973ebd84a25a5050": {
          "model_module": "@jupyter-widgets/controls",
          "model_name": "HTMLModel",
          "model_module_version": "1.5.0",
          "state": {
            "_dom_classes": [],
            "_model_module": "@jupyter-widgets/controls",
            "_model_module_version": "1.5.0",
            "_model_name": "HTMLModel",
            "_view_count": null,
            "_view_module": "@jupyter-widgets/controls",
            "_view_module_version": "1.5.0",
            "_view_name": "HTMLView",
            "description": "",
            "description_tooltip": null,
            "layout": "IPY_MODEL_89189e6baa434d008ed3975bd1067bf8",
            "placeholder": "​",
            "style": "IPY_MODEL_556d79acd98a47cdafa29151b5c336c6",
            "value": " 11.6k/11.6k [00:00&lt;00:00, 1.02MB/s]"
          }
        },
        "fac737b3c945476e9133f043c29e0628": {
          "model_module": "@jupyter-widgets/base",
          "model_name": "LayoutModel",
          "model_module_version": "1.2.0",
          "state": {
            "_model_module": "@jupyter-widgets/base",
            "_model_module_version": "1.2.0",
            "_model_name": "LayoutModel",
            "_view_count": null,
            "_view_module": "@jupyter-widgets/base",
            "_view_module_version": "1.2.0",
            "_view_name": "LayoutView",
            "align_content": null,
            "align_items": null,
            "align_self": null,
            "border": null,
            "bottom": null,
            "display": null,
            "flex": null,
            "flex_flow": null,
            "grid_area": null,
            "grid_auto_columns": null,
            "grid_auto_flow": null,
            "grid_auto_rows": null,
            "grid_column": null,
            "grid_gap": null,
            "grid_row": null,
            "grid_template_areas": null,
            "grid_template_columns": null,
            "grid_template_rows": null,
            "height": null,
            "justify_content": null,
            "justify_items": null,
            "left": null,
            "margin": null,
            "max_height": null,
            "max_width": null,
            "min_height": null,
            "min_width": null,
            "object_fit": null,
            "object_position": null,
            "order": null,
            "overflow": null,
            "overflow_x": null,
            "overflow_y": null,
            "padding": null,
            "right": null,
            "top": null,
            "visibility": null,
            "width": null
          }
        },
        "95bb5ed39d1a4c168e530083e9b74a32": {
          "model_module": "@jupyter-widgets/base",
          "model_name": "LayoutModel",
          "model_module_version": "1.2.0",
          "state": {
            "_model_module": "@jupyter-widgets/base",
            "_model_module_version": "1.2.0",
            "_model_name": "LayoutModel",
            "_view_count": null,
            "_view_module": "@jupyter-widgets/base",
            "_view_module_version": "1.2.0",
            "_view_name": "LayoutView",
            "align_content": null,
            "align_items": null,
            "align_self": null,
            "border": null,
            "bottom": null,
            "display": null,
            "flex": null,
            "flex_flow": null,
            "grid_area": null,
            "grid_auto_columns": null,
            "grid_auto_flow": null,
            "grid_auto_rows": null,
            "grid_column": null,
            "grid_gap": null,
            "grid_row": null,
            "grid_template_areas": null,
            "grid_template_columns": null,
            "grid_template_rows": null,
            "height": null,
            "justify_content": null,
            "justify_items": null,
            "left": null,
            "margin": null,
            "max_height": null,
            "max_width": null,
            "min_height": null,
            "min_width": null,
            "object_fit": null,
            "object_position": null,
            "order": null,
            "overflow": null,
            "overflow_x": null,
            "overflow_y": null,
            "padding": null,
            "right": null,
            "top": null,
            "visibility": null,
            "width": null
          }
        },
        "14c18b9dd7db4c96ab07e674995246d5": {
          "model_module": "@jupyter-widgets/controls",
          "model_name": "DescriptionStyleModel",
          "model_module_version": "1.5.0",
          "state": {
            "_model_module": "@jupyter-widgets/controls",
            "_model_module_version": "1.5.0",
            "_model_name": "DescriptionStyleModel",
            "_view_count": null,
            "_view_module": "@jupyter-widgets/base",
            "_view_module_version": "1.2.0",
            "_view_name": "StyleView",
            "description_width": ""
          }
        },
        "d65e7b2b54234e9ebf0ccad59560f511": {
          "model_module": "@jupyter-widgets/base",
          "model_name": "LayoutModel",
          "model_module_version": "1.2.0",
          "state": {
            "_model_module": "@jupyter-widgets/base",
            "_model_module_version": "1.2.0",
            "_model_name": "LayoutModel",
            "_view_count": null,
            "_view_module": "@jupyter-widgets/base",
            "_view_module_version": "1.2.0",
            "_view_name": "LayoutView",
            "align_content": null,
            "align_items": null,
            "align_self": null,
            "border": null,
            "bottom": null,
            "display": null,
            "flex": null,
            "flex_flow": null,
            "grid_area": null,
            "grid_auto_columns": null,
            "grid_auto_flow": null,
            "grid_auto_rows": null,
            "grid_column": null,
            "grid_gap": null,
            "grid_row": null,
            "grid_template_areas": null,
            "grid_template_columns": null,
            "grid_template_rows": null,
            "height": null,
            "justify_content": null,
            "justify_items": null,
            "left": null,
            "margin": null,
            "max_height": null,
            "max_width": null,
            "min_height": null,
            "min_width": null,
            "object_fit": null,
            "object_position": null,
            "order": null,
            "overflow": null,
            "overflow_x": null,
            "overflow_y": null,
            "padding": null,
            "right": null,
            "top": null,
            "visibility": null,
            "width": null
          }
        },
        "cc62941d56b4499b881618538c6226d1": {
          "model_module": "@jupyter-widgets/controls",
          "model_name": "ProgressStyleModel",
          "model_module_version": "1.5.0",
          "state": {
            "_model_module": "@jupyter-widgets/controls",
            "_model_module_version": "1.5.0",
            "_model_name": "ProgressStyleModel",
            "_view_count": null,
            "_view_module": "@jupyter-widgets/base",
            "_view_module_version": "1.2.0",
            "_view_name": "StyleView",
            "bar_color": null,
            "description_width": ""
          }
        },
        "89189e6baa434d008ed3975bd1067bf8": {
          "model_module": "@jupyter-widgets/base",
          "model_name": "LayoutModel",
          "model_module_version": "1.2.0",
          "state": {
            "_model_module": "@jupyter-widgets/base",
            "_model_module_version": "1.2.0",
            "_model_name": "LayoutModel",
            "_view_count": null,
            "_view_module": "@jupyter-widgets/base",
            "_view_module_version": "1.2.0",
            "_view_name": "LayoutView",
            "align_content": null,
            "align_items": null,
            "align_self": null,
            "border": null,
            "bottom": null,
            "display": null,
            "flex": null,
            "flex_flow": null,
            "grid_area": null,
            "grid_auto_columns": null,
            "grid_auto_flow": null,
            "grid_auto_rows": null,
            "grid_column": null,
            "grid_gap": null,
            "grid_row": null,
            "grid_template_areas": null,
            "grid_template_columns": null,
            "grid_template_rows": null,
            "height": null,
            "justify_content": null,
            "justify_items": null,
            "left": null,
            "margin": null,
            "max_height": null,
            "max_width": null,
            "min_height": null,
            "min_width": null,
            "object_fit": null,
            "object_position": null,
            "order": null,
            "overflow": null,
            "overflow_x": null,
            "overflow_y": null,
            "padding": null,
            "right": null,
            "top": null,
            "visibility": null,
            "width": null
          }
        },
        "556d79acd98a47cdafa29151b5c336c6": {
          "model_module": "@jupyter-widgets/controls",
          "model_name": "DescriptionStyleModel",
          "model_module_version": "1.5.0",
          "state": {
            "_model_module": "@jupyter-widgets/controls",
            "_model_module_version": "1.5.0",
            "_model_name": "DescriptionStyleModel",
            "_view_count": null,
            "_view_module": "@jupyter-widgets/base",
            "_view_module_version": "1.2.0",
            "_view_name": "StyleView",
            "description_width": ""
          }
        },
        "1d9e959da16e42259878b9dd1d17aeba": {
          "model_module": "@jupyter-widgets/controls",
          "model_name": "HBoxModel",
          "model_module_version": "1.5.0",
          "state": {
            "_dom_classes": [],
            "_model_module": "@jupyter-widgets/controls",
            "_model_module_version": "1.5.0",
            "_model_name": "HBoxModel",
            "_view_count": null,
            "_view_module": "@jupyter-widgets/controls",
            "_view_module_version": "1.5.0",
            "_view_name": "HBoxView",
            "box_style": "",
            "children": [
              "IPY_MODEL_5952f037005142a4ac1f1a570be05492",
              "IPY_MODEL_dbd7e88674cd4986b322235c84458c47",
              "IPY_MODEL_23e973c814e14b7093421f6b8ed72ada"
            ],
            "layout": "IPY_MODEL_7bc84c93cc7741dfbf7a6617d2b1070f"
          }
        },
        "5952f037005142a4ac1f1a570be05492": {
          "model_module": "@jupyter-widgets/controls",
          "model_name": "HTMLModel",
          "model_module_version": "1.5.0",
          "state": {
            "_dom_classes": [],
            "_model_module": "@jupyter-widgets/controls",
            "_model_module_version": "1.5.0",
            "_model_name": "HTMLModel",
            "_view_count": null,
            "_view_module": "@jupyter-widgets/controls",
            "_view_module_version": "1.5.0",
            "_view_name": "HTMLView",
            "description": "",
            "description_tooltip": null,
            "layout": "IPY_MODEL_2cc640e6bfe44c3db2e05d7252f769e5",
            "placeholder": "​",
            "style": "IPY_MODEL_61a5b911d20945ddb0be4c105989bb22",
            "value": "sentence_bert_config.json: 100%"
          }
        },
        "dbd7e88674cd4986b322235c84458c47": {
          "model_module": "@jupyter-widgets/controls",
          "model_name": "FloatProgressModel",
          "model_module_version": "1.5.0",
          "state": {
            "_dom_classes": [],
            "_model_module": "@jupyter-widgets/controls",
            "_model_module_version": "1.5.0",
            "_model_name": "FloatProgressModel",
            "_view_count": null,
            "_view_module": "@jupyter-widgets/controls",
            "_view_module_version": "1.5.0",
            "_view_name": "ProgressView",
            "bar_style": "success",
            "description": "",
            "description_tooltip": null,
            "layout": "IPY_MODEL_cb553ef60a824b4c96a370ada5a7b671",
            "max": 53,
            "min": 0,
            "orientation": "horizontal",
            "style": "IPY_MODEL_00ecfd4680f444389fb4a93ee122fd0d",
            "value": 53
          }
        },
        "23e973c814e14b7093421f6b8ed72ada": {
          "model_module": "@jupyter-widgets/controls",
          "model_name": "HTMLModel",
          "model_module_version": "1.5.0",
          "state": {
            "_dom_classes": [],
            "_model_module": "@jupyter-widgets/controls",
            "_model_module_version": "1.5.0",
            "_model_name": "HTMLModel",
            "_view_count": null,
            "_view_module": "@jupyter-widgets/controls",
            "_view_module_version": "1.5.0",
            "_view_name": "HTMLView",
            "description": "",
            "description_tooltip": null,
            "layout": "IPY_MODEL_dfdf89a8be61414fa3753e3ed70db18e",
            "placeholder": "​",
            "style": "IPY_MODEL_7527206c2ab1491c8993f80c5608fc76",
            "value": " 53.0/53.0 [00:00&lt;00:00, 3.78kB/s]"
          }
        },
        "7bc84c93cc7741dfbf7a6617d2b1070f": {
          "model_module": "@jupyter-widgets/base",
          "model_name": "LayoutModel",
          "model_module_version": "1.2.0",
          "state": {
            "_model_module": "@jupyter-widgets/base",
            "_model_module_version": "1.2.0",
            "_model_name": "LayoutModel",
            "_view_count": null,
            "_view_module": "@jupyter-widgets/base",
            "_view_module_version": "1.2.0",
            "_view_name": "LayoutView",
            "align_content": null,
            "align_items": null,
            "align_self": null,
            "border": null,
            "bottom": null,
            "display": null,
            "flex": null,
            "flex_flow": null,
            "grid_area": null,
            "grid_auto_columns": null,
            "grid_auto_flow": null,
            "grid_auto_rows": null,
            "grid_column": null,
            "grid_gap": null,
            "grid_row": null,
            "grid_template_areas": null,
            "grid_template_columns": null,
            "grid_template_rows": null,
            "height": null,
            "justify_content": null,
            "justify_items": null,
            "left": null,
            "margin": null,
            "max_height": null,
            "max_width": null,
            "min_height": null,
            "min_width": null,
            "object_fit": null,
            "object_position": null,
            "order": null,
            "overflow": null,
            "overflow_x": null,
            "overflow_y": null,
            "padding": null,
            "right": null,
            "top": null,
            "visibility": null,
            "width": null
          }
        },
        "2cc640e6bfe44c3db2e05d7252f769e5": {
          "model_module": "@jupyter-widgets/base",
          "model_name": "LayoutModel",
          "model_module_version": "1.2.0",
          "state": {
            "_model_module": "@jupyter-widgets/base",
            "_model_module_version": "1.2.0",
            "_model_name": "LayoutModel",
            "_view_count": null,
            "_view_module": "@jupyter-widgets/base",
            "_view_module_version": "1.2.0",
            "_view_name": "LayoutView",
            "align_content": null,
            "align_items": null,
            "align_self": null,
            "border": null,
            "bottom": null,
            "display": null,
            "flex": null,
            "flex_flow": null,
            "grid_area": null,
            "grid_auto_columns": null,
            "grid_auto_flow": null,
            "grid_auto_rows": null,
            "grid_column": null,
            "grid_gap": null,
            "grid_row": null,
            "grid_template_areas": null,
            "grid_template_columns": null,
            "grid_template_rows": null,
            "height": null,
            "justify_content": null,
            "justify_items": null,
            "left": null,
            "margin": null,
            "max_height": null,
            "max_width": null,
            "min_height": null,
            "min_width": null,
            "object_fit": null,
            "object_position": null,
            "order": null,
            "overflow": null,
            "overflow_x": null,
            "overflow_y": null,
            "padding": null,
            "right": null,
            "top": null,
            "visibility": null,
            "width": null
          }
        },
        "61a5b911d20945ddb0be4c105989bb22": {
          "model_module": "@jupyter-widgets/controls",
          "model_name": "DescriptionStyleModel",
          "model_module_version": "1.5.0",
          "state": {
            "_model_module": "@jupyter-widgets/controls",
            "_model_module_version": "1.5.0",
            "_model_name": "DescriptionStyleModel",
            "_view_count": null,
            "_view_module": "@jupyter-widgets/base",
            "_view_module_version": "1.2.0",
            "_view_name": "StyleView",
            "description_width": ""
          }
        },
        "cb553ef60a824b4c96a370ada5a7b671": {
          "model_module": "@jupyter-widgets/base",
          "model_name": "LayoutModel",
          "model_module_version": "1.2.0",
          "state": {
            "_model_module": "@jupyter-widgets/base",
            "_model_module_version": "1.2.0",
            "_model_name": "LayoutModel",
            "_view_count": null,
            "_view_module": "@jupyter-widgets/base",
            "_view_module_version": "1.2.0",
            "_view_name": "LayoutView",
            "align_content": null,
            "align_items": null,
            "align_self": null,
            "border": null,
            "bottom": null,
            "display": null,
            "flex": null,
            "flex_flow": null,
            "grid_area": null,
            "grid_auto_columns": null,
            "grid_auto_flow": null,
            "grid_auto_rows": null,
            "grid_column": null,
            "grid_gap": null,
            "grid_row": null,
            "grid_template_areas": null,
            "grid_template_columns": null,
            "grid_template_rows": null,
            "height": null,
            "justify_content": null,
            "justify_items": null,
            "left": null,
            "margin": null,
            "max_height": null,
            "max_width": null,
            "min_height": null,
            "min_width": null,
            "object_fit": null,
            "object_position": null,
            "order": null,
            "overflow": null,
            "overflow_x": null,
            "overflow_y": null,
            "padding": null,
            "right": null,
            "top": null,
            "visibility": null,
            "width": null
          }
        },
        "00ecfd4680f444389fb4a93ee122fd0d": {
          "model_module": "@jupyter-widgets/controls",
          "model_name": "ProgressStyleModel",
          "model_module_version": "1.5.0",
          "state": {
            "_model_module": "@jupyter-widgets/controls",
            "_model_module_version": "1.5.0",
            "_model_name": "ProgressStyleModel",
            "_view_count": null,
            "_view_module": "@jupyter-widgets/base",
            "_view_module_version": "1.2.0",
            "_view_name": "StyleView",
            "bar_color": null,
            "description_width": ""
          }
        },
        "dfdf89a8be61414fa3753e3ed70db18e": {
          "model_module": "@jupyter-widgets/base",
          "model_name": "LayoutModel",
          "model_module_version": "1.2.0",
          "state": {
            "_model_module": "@jupyter-widgets/base",
            "_model_module_version": "1.2.0",
            "_model_name": "LayoutModel",
            "_view_count": null,
            "_view_module": "@jupyter-widgets/base",
            "_view_module_version": "1.2.0",
            "_view_name": "LayoutView",
            "align_content": null,
            "align_items": null,
            "align_self": null,
            "border": null,
            "bottom": null,
            "display": null,
            "flex": null,
            "flex_flow": null,
            "grid_area": null,
            "grid_auto_columns": null,
            "grid_auto_flow": null,
            "grid_auto_rows": null,
            "grid_column": null,
            "grid_gap": null,
            "grid_row": null,
            "grid_template_areas": null,
            "grid_template_columns": null,
            "grid_template_rows": null,
            "height": null,
            "justify_content": null,
            "justify_items": null,
            "left": null,
            "margin": null,
            "max_height": null,
            "max_width": null,
            "min_height": null,
            "min_width": null,
            "object_fit": null,
            "object_position": null,
            "order": null,
            "overflow": null,
            "overflow_x": null,
            "overflow_y": null,
            "padding": null,
            "right": null,
            "top": null,
            "visibility": null,
            "width": null
          }
        },
        "7527206c2ab1491c8993f80c5608fc76": {
          "model_module": "@jupyter-widgets/controls",
          "model_name": "DescriptionStyleModel",
          "model_module_version": "1.5.0",
          "state": {
            "_model_module": "@jupyter-widgets/controls",
            "_model_module_version": "1.5.0",
            "_model_name": "DescriptionStyleModel",
            "_view_count": null,
            "_view_module": "@jupyter-widgets/base",
            "_view_module_version": "1.2.0",
            "_view_name": "StyleView",
            "description_width": ""
          }
        },
        "e4eb953c7afb4e879d7fbfcce6f0e408": {
          "model_module": "@jupyter-widgets/controls",
          "model_name": "HBoxModel",
          "model_module_version": "1.5.0",
          "state": {
            "_dom_classes": [],
            "_model_module": "@jupyter-widgets/controls",
            "_model_module_version": "1.5.0",
            "_model_name": "HBoxModel",
            "_view_count": null,
            "_view_module": "@jupyter-widgets/controls",
            "_view_module_version": "1.5.0",
            "_view_name": "HBoxView",
            "box_style": "",
            "children": [
              "IPY_MODEL_5445d761fec2447a83d0728cef41935a",
              "IPY_MODEL_7cfbea78eec749c485061c55196ec3c1",
              "IPY_MODEL_115a9d26dcc84fcc9e33be214c4af0c6"
            ],
            "layout": "IPY_MODEL_d16baee7459c409e92e5f5b6592b5165"
          }
        },
        "5445d761fec2447a83d0728cef41935a": {
          "model_module": "@jupyter-widgets/controls",
          "model_name": "HTMLModel",
          "model_module_version": "1.5.0",
          "state": {
            "_dom_classes": [],
            "_model_module": "@jupyter-widgets/controls",
            "_model_module_version": "1.5.0",
            "_model_name": "HTMLModel",
            "_view_count": null,
            "_view_module": "@jupyter-widgets/controls",
            "_view_module_version": "1.5.0",
            "_view_name": "HTMLView",
            "description": "",
            "description_tooltip": null,
            "layout": "IPY_MODEL_69b491eba582491d9552a452f86ba6a6",
            "placeholder": "​",
            "style": "IPY_MODEL_47a4e360fbc44df58c87f1e516513051",
            "value": "config.json: 100%"
          }
        },
        "7cfbea78eec749c485061c55196ec3c1": {
          "model_module": "@jupyter-widgets/controls",
          "model_name": "FloatProgressModel",
          "model_module_version": "1.5.0",
          "state": {
            "_dom_classes": [],
            "_model_module": "@jupyter-widgets/controls",
            "_model_module_version": "1.5.0",
            "_model_name": "FloatProgressModel",
            "_view_count": null,
            "_view_module": "@jupyter-widgets/controls",
            "_view_module_version": "1.5.0",
            "_view_name": "ProgressView",
            "bar_style": "success",
            "description": "",
            "description_tooltip": null,
            "layout": "IPY_MODEL_ca747b7a6f584a74b4b9cc1ed4305b82",
            "max": 612,
            "min": 0,
            "orientation": "horizontal",
            "style": "IPY_MODEL_39d08950fd434b928a55416de91a52b7",
            "value": 612
          }
        },
        "115a9d26dcc84fcc9e33be214c4af0c6": {
          "model_module": "@jupyter-widgets/controls",
          "model_name": "HTMLModel",
          "model_module_version": "1.5.0",
          "state": {
            "_dom_classes": [],
            "_model_module": "@jupyter-widgets/controls",
            "_model_module_version": "1.5.0",
            "_model_name": "HTMLModel",
            "_view_count": null,
            "_view_module": "@jupyter-widgets/controls",
            "_view_module_version": "1.5.0",
            "_view_name": "HTMLView",
            "description": "",
            "description_tooltip": null,
            "layout": "IPY_MODEL_58135d4405f5408285f9585f58799b4b",
            "placeholder": "​",
            "style": "IPY_MODEL_6f248bce6e434d5291b7ff8ed3416dc9",
            "value": " 612/612 [00:00&lt;00:00, 51.4kB/s]"
          }
        },
        "d16baee7459c409e92e5f5b6592b5165": {
          "model_module": "@jupyter-widgets/base",
          "model_name": "LayoutModel",
          "model_module_version": "1.2.0",
          "state": {
            "_model_module": "@jupyter-widgets/base",
            "_model_module_version": "1.2.0",
            "_model_name": "LayoutModel",
            "_view_count": null,
            "_view_module": "@jupyter-widgets/base",
            "_view_module_version": "1.2.0",
            "_view_name": "LayoutView",
            "align_content": null,
            "align_items": null,
            "align_self": null,
            "border": null,
            "bottom": null,
            "display": null,
            "flex": null,
            "flex_flow": null,
            "grid_area": null,
            "grid_auto_columns": null,
            "grid_auto_flow": null,
            "grid_auto_rows": null,
            "grid_column": null,
            "grid_gap": null,
            "grid_row": null,
            "grid_template_areas": null,
            "grid_template_columns": null,
            "grid_template_rows": null,
            "height": null,
            "justify_content": null,
            "justify_items": null,
            "left": null,
            "margin": null,
            "max_height": null,
            "max_width": null,
            "min_height": null,
            "min_width": null,
            "object_fit": null,
            "object_position": null,
            "order": null,
            "overflow": null,
            "overflow_x": null,
            "overflow_y": null,
            "padding": null,
            "right": null,
            "top": null,
            "visibility": null,
            "width": null
          }
        },
        "69b491eba582491d9552a452f86ba6a6": {
          "model_module": "@jupyter-widgets/base",
          "model_name": "LayoutModel",
          "model_module_version": "1.2.0",
          "state": {
            "_model_module": "@jupyter-widgets/base",
            "_model_module_version": "1.2.0",
            "_model_name": "LayoutModel",
            "_view_count": null,
            "_view_module": "@jupyter-widgets/base",
            "_view_module_version": "1.2.0",
            "_view_name": "LayoutView",
            "align_content": null,
            "align_items": null,
            "align_self": null,
            "border": null,
            "bottom": null,
            "display": null,
            "flex": null,
            "flex_flow": null,
            "grid_area": null,
            "grid_auto_columns": null,
            "grid_auto_flow": null,
            "grid_auto_rows": null,
            "grid_column": null,
            "grid_gap": null,
            "grid_row": null,
            "grid_template_areas": null,
            "grid_template_columns": null,
            "grid_template_rows": null,
            "height": null,
            "justify_content": null,
            "justify_items": null,
            "left": null,
            "margin": null,
            "max_height": null,
            "max_width": null,
            "min_height": null,
            "min_width": null,
            "object_fit": null,
            "object_position": null,
            "order": null,
            "overflow": null,
            "overflow_x": null,
            "overflow_y": null,
            "padding": null,
            "right": null,
            "top": null,
            "visibility": null,
            "width": null
          }
        },
        "47a4e360fbc44df58c87f1e516513051": {
          "model_module": "@jupyter-widgets/controls",
          "model_name": "DescriptionStyleModel",
          "model_module_version": "1.5.0",
          "state": {
            "_model_module": "@jupyter-widgets/controls",
            "_model_module_version": "1.5.0",
            "_model_name": "DescriptionStyleModel",
            "_view_count": null,
            "_view_module": "@jupyter-widgets/base",
            "_view_module_version": "1.2.0",
            "_view_name": "StyleView",
            "description_width": ""
          }
        },
        "ca747b7a6f584a74b4b9cc1ed4305b82": {
          "model_module": "@jupyter-widgets/base",
          "model_name": "LayoutModel",
          "model_module_version": "1.2.0",
          "state": {
            "_model_module": "@jupyter-widgets/base",
            "_model_module_version": "1.2.0",
            "_model_name": "LayoutModel",
            "_view_count": null,
            "_view_module": "@jupyter-widgets/base",
            "_view_module_version": "1.2.0",
            "_view_name": "LayoutView",
            "align_content": null,
            "align_items": null,
            "align_self": null,
            "border": null,
            "bottom": null,
            "display": null,
            "flex": null,
            "flex_flow": null,
            "grid_area": null,
            "grid_auto_columns": null,
            "grid_auto_flow": null,
            "grid_auto_rows": null,
            "grid_column": null,
            "grid_gap": null,
            "grid_row": null,
            "grid_template_areas": null,
            "grid_template_columns": null,
            "grid_template_rows": null,
            "height": null,
            "justify_content": null,
            "justify_items": null,
            "left": null,
            "margin": null,
            "max_height": null,
            "max_width": null,
            "min_height": null,
            "min_width": null,
            "object_fit": null,
            "object_position": null,
            "order": null,
            "overflow": null,
            "overflow_x": null,
            "overflow_y": null,
            "padding": null,
            "right": null,
            "top": null,
            "visibility": null,
            "width": null
          }
        },
        "39d08950fd434b928a55416de91a52b7": {
          "model_module": "@jupyter-widgets/controls",
          "model_name": "ProgressStyleModel",
          "model_module_version": "1.5.0",
          "state": {
            "_model_module": "@jupyter-widgets/controls",
            "_model_module_version": "1.5.0",
            "_model_name": "ProgressStyleModel",
            "_view_count": null,
            "_view_module": "@jupyter-widgets/base",
            "_view_module_version": "1.2.0",
            "_view_name": "StyleView",
            "bar_color": null,
            "description_width": ""
          }
        },
        "58135d4405f5408285f9585f58799b4b": {
          "model_module": "@jupyter-widgets/base",
          "model_name": "LayoutModel",
          "model_module_version": "1.2.0",
          "state": {
            "_model_module": "@jupyter-widgets/base",
            "_model_module_version": "1.2.0",
            "_model_name": "LayoutModel",
            "_view_count": null,
            "_view_module": "@jupyter-widgets/base",
            "_view_module_version": "1.2.0",
            "_view_name": "LayoutView",
            "align_content": null,
            "align_items": null,
            "align_self": null,
            "border": null,
            "bottom": null,
            "display": null,
            "flex": null,
            "flex_flow": null,
            "grid_area": null,
            "grid_auto_columns": null,
            "grid_auto_flow": null,
            "grid_auto_rows": null,
            "grid_column": null,
            "grid_gap": null,
            "grid_row": null,
            "grid_template_areas": null,
            "grid_template_columns": null,
            "grid_template_rows": null,
            "height": null,
            "justify_content": null,
            "justify_items": null,
            "left": null,
            "margin": null,
            "max_height": null,
            "max_width": null,
            "min_height": null,
            "min_width": null,
            "object_fit": null,
            "object_position": null,
            "order": null,
            "overflow": null,
            "overflow_x": null,
            "overflow_y": null,
            "padding": null,
            "right": null,
            "top": null,
            "visibility": null,
            "width": null
          }
        },
        "6f248bce6e434d5291b7ff8ed3416dc9": {
          "model_module": "@jupyter-widgets/controls",
          "model_name": "DescriptionStyleModel",
          "model_module_version": "1.5.0",
          "state": {
            "_model_module": "@jupyter-widgets/controls",
            "_model_module_version": "1.5.0",
            "_model_name": "DescriptionStyleModel",
            "_view_count": null,
            "_view_module": "@jupyter-widgets/base",
            "_view_module_version": "1.2.0",
            "_view_name": "StyleView",
            "description_width": ""
          }
        },
        "e81aa6276031423a96c08991508075fb": {
          "model_module": "@jupyter-widgets/controls",
          "model_name": "HBoxModel",
          "model_module_version": "1.5.0",
          "state": {
            "_dom_classes": [],
            "_model_module": "@jupyter-widgets/controls",
            "_model_module_version": "1.5.0",
            "_model_name": "HBoxModel",
            "_view_count": null,
            "_view_module": "@jupyter-widgets/controls",
            "_view_module_version": "1.5.0",
            "_view_name": "HBoxView",
            "box_style": "",
            "children": [
              "IPY_MODEL_d3e4fcf391d647f9ac5a0aec41c7eabd",
              "IPY_MODEL_10ab5963923146308828a6f96da335a5",
              "IPY_MODEL_90a65637dfb04e26a1b618b46596b3ea"
            ],
            "layout": "IPY_MODEL_ddae77cff8824f5f9e27c38920f2b2a2"
          }
        },
        "d3e4fcf391d647f9ac5a0aec41c7eabd": {
          "model_module": "@jupyter-widgets/controls",
          "model_name": "HTMLModel",
          "model_module_version": "1.5.0",
          "state": {
            "_dom_classes": [],
            "_model_module": "@jupyter-widgets/controls",
            "_model_module_version": "1.5.0",
            "_model_name": "HTMLModel",
            "_view_count": null,
            "_view_module": "@jupyter-widgets/controls",
            "_view_module_version": "1.5.0",
            "_view_name": "HTMLView",
            "description": "",
            "description_tooltip": null,
            "layout": "IPY_MODEL_1a9dfe8b39e64d5aaa553aa0880da877",
            "placeholder": "​",
            "style": "IPY_MODEL_784d5fe4be004a18a942a30ff51c882e",
            "value": "model.safetensors: 100%"
          }
        },
        "10ab5963923146308828a6f96da335a5": {
          "model_module": "@jupyter-widgets/controls",
          "model_name": "FloatProgressModel",
          "model_module_version": "1.5.0",
          "state": {
            "_dom_classes": [],
            "_model_module": "@jupyter-widgets/controls",
            "_model_module_version": "1.5.0",
            "_model_name": "FloatProgressModel",
            "_view_count": null,
            "_view_module": "@jupyter-widgets/controls",
            "_view_module_version": "1.5.0",
            "_view_name": "ProgressView",
            "bar_style": "success",
            "description": "",
            "description_tooltip": null,
            "layout": "IPY_MODEL_accc4e09606a4fe599dd742b8c38e3a5",
            "max": 90868376,
            "min": 0,
            "orientation": "horizontal",
            "style": "IPY_MODEL_4b06034ce0f7405ba3c701e2cf1ee101",
            "value": 90868376
          }
        },
        "90a65637dfb04e26a1b618b46596b3ea": {
          "model_module": "@jupyter-widgets/controls",
          "model_name": "HTMLModel",
          "model_module_version": "1.5.0",
          "state": {
            "_dom_classes": [],
            "_model_module": "@jupyter-widgets/controls",
            "_model_module_version": "1.5.0",
            "_model_name": "HTMLModel",
            "_view_count": null,
            "_view_module": "@jupyter-widgets/controls",
            "_view_module_version": "1.5.0",
            "_view_name": "HTMLView",
            "description": "",
            "description_tooltip": null,
            "layout": "IPY_MODEL_4f2b6080c2c74d2a8a5baa1e8411d1b4",
            "placeholder": "​",
            "style": "IPY_MODEL_b5f740428c2d401cb640d68d314d5014",
            "value": " 90.9M/90.9M [00:00&lt;00:00, 237MB/s]"
          }
        },
        "ddae77cff8824f5f9e27c38920f2b2a2": {
          "model_module": "@jupyter-widgets/base",
          "model_name": "LayoutModel",
          "model_module_version": "1.2.0",
          "state": {
            "_model_module": "@jupyter-widgets/base",
            "_model_module_version": "1.2.0",
            "_model_name": "LayoutModel",
            "_view_count": null,
            "_view_module": "@jupyter-widgets/base",
            "_view_module_version": "1.2.0",
            "_view_name": "LayoutView",
            "align_content": null,
            "align_items": null,
            "align_self": null,
            "border": null,
            "bottom": null,
            "display": null,
            "flex": null,
            "flex_flow": null,
            "grid_area": null,
            "grid_auto_columns": null,
            "grid_auto_flow": null,
            "grid_auto_rows": null,
            "grid_column": null,
            "grid_gap": null,
            "grid_row": null,
            "grid_template_areas": null,
            "grid_template_columns": null,
            "grid_template_rows": null,
            "height": null,
            "justify_content": null,
            "justify_items": null,
            "left": null,
            "margin": null,
            "max_height": null,
            "max_width": null,
            "min_height": null,
            "min_width": null,
            "object_fit": null,
            "object_position": null,
            "order": null,
            "overflow": null,
            "overflow_x": null,
            "overflow_y": null,
            "padding": null,
            "right": null,
            "top": null,
            "visibility": null,
            "width": null
          }
        },
        "1a9dfe8b39e64d5aaa553aa0880da877": {
          "model_module": "@jupyter-widgets/base",
          "model_name": "LayoutModel",
          "model_module_version": "1.2.0",
          "state": {
            "_model_module": "@jupyter-widgets/base",
            "_model_module_version": "1.2.0",
            "_model_name": "LayoutModel",
            "_view_count": null,
            "_view_module": "@jupyter-widgets/base",
            "_view_module_version": "1.2.0",
            "_view_name": "LayoutView",
            "align_content": null,
            "align_items": null,
            "align_self": null,
            "border": null,
            "bottom": null,
            "display": null,
            "flex": null,
            "flex_flow": null,
            "grid_area": null,
            "grid_auto_columns": null,
            "grid_auto_flow": null,
            "grid_auto_rows": null,
            "grid_column": null,
            "grid_gap": null,
            "grid_row": null,
            "grid_template_areas": null,
            "grid_template_columns": null,
            "grid_template_rows": null,
            "height": null,
            "justify_content": null,
            "justify_items": null,
            "left": null,
            "margin": null,
            "max_height": null,
            "max_width": null,
            "min_height": null,
            "min_width": null,
            "object_fit": null,
            "object_position": null,
            "order": null,
            "overflow": null,
            "overflow_x": null,
            "overflow_y": null,
            "padding": null,
            "right": null,
            "top": null,
            "visibility": null,
            "width": null
          }
        },
        "784d5fe4be004a18a942a30ff51c882e": {
          "model_module": "@jupyter-widgets/controls",
          "model_name": "DescriptionStyleModel",
          "model_module_version": "1.5.0",
          "state": {
            "_model_module": "@jupyter-widgets/controls",
            "_model_module_version": "1.5.0",
            "_model_name": "DescriptionStyleModel",
            "_view_count": null,
            "_view_module": "@jupyter-widgets/base",
            "_view_module_version": "1.2.0",
            "_view_name": "StyleView",
            "description_width": ""
          }
        },
        "accc4e09606a4fe599dd742b8c38e3a5": {
          "model_module": "@jupyter-widgets/base",
          "model_name": "LayoutModel",
          "model_module_version": "1.2.0",
          "state": {
            "_model_module": "@jupyter-widgets/base",
            "_model_module_version": "1.2.0",
            "_model_name": "LayoutModel",
            "_view_count": null,
            "_view_module": "@jupyter-widgets/base",
            "_view_module_version": "1.2.0",
            "_view_name": "LayoutView",
            "align_content": null,
            "align_items": null,
            "align_self": null,
            "border": null,
            "bottom": null,
            "display": null,
            "flex": null,
            "flex_flow": null,
            "grid_area": null,
            "grid_auto_columns": null,
            "grid_auto_flow": null,
            "grid_auto_rows": null,
            "grid_column": null,
            "grid_gap": null,
            "grid_row": null,
            "grid_template_areas": null,
            "grid_template_columns": null,
            "grid_template_rows": null,
            "height": null,
            "justify_content": null,
            "justify_items": null,
            "left": null,
            "margin": null,
            "max_height": null,
            "max_width": null,
            "min_height": null,
            "min_width": null,
            "object_fit": null,
            "object_position": null,
            "order": null,
            "overflow": null,
            "overflow_x": null,
            "overflow_y": null,
            "padding": null,
            "right": null,
            "top": null,
            "visibility": null,
            "width": null
          }
        },
        "4b06034ce0f7405ba3c701e2cf1ee101": {
          "model_module": "@jupyter-widgets/controls",
          "model_name": "ProgressStyleModel",
          "model_module_version": "1.5.0",
          "state": {
            "_model_module": "@jupyter-widgets/controls",
            "_model_module_version": "1.5.0",
            "_model_name": "ProgressStyleModel",
            "_view_count": null,
            "_view_module": "@jupyter-widgets/base",
            "_view_module_version": "1.2.0",
            "_view_name": "StyleView",
            "bar_color": null,
            "description_width": ""
          }
        },
        "4f2b6080c2c74d2a8a5baa1e8411d1b4": {
          "model_module": "@jupyter-widgets/base",
          "model_name": "LayoutModel",
          "model_module_version": "1.2.0",
          "state": {
            "_model_module": "@jupyter-widgets/base",
            "_model_module_version": "1.2.0",
            "_model_name": "LayoutModel",
            "_view_count": null,
            "_view_module": "@jupyter-widgets/base",
            "_view_module_version": "1.2.0",
            "_view_name": "LayoutView",
            "align_content": null,
            "align_items": null,
            "align_self": null,
            "border": null,
            "bottom": null,
            "display": null,
            "flex": null,
            "flex_flow": null,
            "grid_area": null,
            "grid_auto_columns": null,
            "grid_auto_flow": null,
            "grid_auto_rows": null,
            "grid_column": null,
            "grid_gap": null,
            "grid_row": null,
            "grid_template_areas": null,
            "grid_template_columns": null,
            "grid_template_rows": null,
            "height": null,
            "justify_content": null,
            "justify_items": null,
            "left": null,
            "margin": null,
            "max_height": null,
            "max_width": null,
            "min_height": null,
            "min_width": null,
            "object_fit": null,
            "object_position": null,
            "order": null,
            "overflow": null,
            "overflow_x": null,
            "overflow_y": null,
            "padding": null,
            "right": null,
            "top": null,
            "visibility": null,
            "width": null
          }
        },
        "b5f740428c2d401cb640d68d314d5014": {
          "model_module": "@jupyter-widgets/controls",
          "model_name": "DescriptionStyleModel",
          "model_module_version": "1.5.0",
          "state": {
            "_model_module": "@jupyter-widgets/controls",
            "_model_module_version": "1.5.0",
            "_model_name": "DescriptionStyleModel",
            "_view_count": null,
            "_view_module": "@jupyter-widgets/base",
            "_view_module_version": "1.2.0",
            "_view_name": "StyleView",
            "description_width": ""
          }
        },
        "ab26c9f6244b484981e77408370ede86": {
          "model_module": "@jupyter-widgets/controls",
          "model_name": "HBoxModel",
          "model_module_version": "1.5.0",
          "state": {
            "_dom_classes": [],
            "_model_module": "@jupyter-widgets/controls",
            "_model_module_version": "1.5.0",
            "_model_name": "HBoxModel",
            "_view_count": null,
            "_view_module": "@jupyter-widgets/controls",
            "_view_module_version": "1.5.0",
            "_view_name": "HBoxView",
            "box_style": "",
            "children": [
              "IPY_MODEL_d7c9598cd350489e913255b9707cde32",
              "IPY_MODEL_c7454781bc5f4855840036734a219ab0",
              "IPY_MODEL_6f85c4165f24433a9264f98df109ab4a"
            ],
            "layout": "IPY_MODEL_a701bf8a67f046a998a60a11c0ed2739"
          }
        },
        "d7c9598cd350489e913255b9707cde32": {
          "model_module": "@jupyter-widgets/controls",
          "model_name": "HTMLModel",
          "model_module_version": "1.5.0",
          "state": {
            "_dom_classes": [],
            "_model_module": "@jupyter-widgets/controls",
            "_model_module_version": "1.5.0",
            "_model_name": "HTMLModel",
            "_view_count": null,
            "_view_module": "@jupyter-widgets/controls",
            "_view_module_version": "1.5.0",
            "_view_name": "HTMLView",
            "description": "",
            "description_tooltip": null,
            "layout": "IPY_MODEL_9e20121f3f454064b96b5dfd7b720b2a",
            "placeholder": "​",
            "style": "IPY_MODEL_4de0e6d1dd6c43ff9e332bd332ae8123",
            "value": "tokenizer_config.json: 100%"
          }
        },
        "c7454781bc5f4855840036734a219ab0": {
          "model_module": "@jupyter-widgets/controls",
          "model_name": "FloatProgressModel",
          "model_module_version": "1.5.0",
          "state": {
            "_dom_classes": [],
            "_model_module": "@jupyter-widgets/controls",
            "_model_module_version": "1.5.0",
            "_model_name": "FloatProgressModel",
            "_view_count": null,
            "_view_module": "@jupyter-widgets/controls",
            "_view_module_version": "1.5.0",
            "_view_name": "ProgressView",
            "bar_style": "success",
            "description": "",
            "description_tooltip": null,
            "layout": "IPY_MODEL_f4c9185f3ec24cfeb66cb0a7dc2ce2ac",
            "max": 383,
            "min": 0,
            "orientation": "horizontal",
            "style": "IPY_MODEL_01bd853cb9fc42ae8a5696d613cdc31a",
            "value": 383
          }
        },
        "6f85c4165f24433a9264f98df109ab4a": {
          "model_module": "@jupyter-widgets/controls",
          "model_name": "HTMLModel",
          "model_module_version": "1.5.0",
          "state": {
            "_dom_classes": [],
            "_model_module": "@jupyter-widgets/controls",
            "_model_module_version": "1.5.0",
            "_model_name": "HTMLModel",
            "_view_count": null,
            "_view_module": "@jupyter-widgets/controls",
            "_view_module_version": "1.5.0",
            "_view_name": "HTMLView",
            "description": "",
            "description_tooltip": null,
            "layout": "IPY_MODEL_3145639497a14f4fbbc83d0bb4696721",
            "placeholder": "​",
            "style": "IPY_MODEL_c1d6de242e0540a1b5b1c355d0bd3494",
            "value": " 383/383 [00:00&lt;00:00, 36.3kB/s]"
          }
        },
        "a701bf8a67f046a998a60a11c0ed2739": {
          "model_module": "@jupyter-widgets/base",
          "model_name": "LayoutModel",
          "model_module_version": "1.2.0",
          "state": {
            "_model_module": "@jupyter-widgets/base",
            "_model_module_version": "1.2.0",
            "_model_name": "LayoutModel",
            "_view_count": null,
            "_view_module": "@jupyter-widgets/base",
            "_view_module_version": "1.2.0",
            "_view_name": "LayoutView",
            "align_content": null,
            "align_items": null,
            "align_self": null,
            "border": null,
            "bottom": null,
            "display": null,
            "flex": null,
            "flex_flow": null,
            "grid_area": null,
            "grid_auto_columns": null,
            "grid_auto_flow": null,
            "grid_auto_rows": null,
            "grid_column": null,
            "grid_gap": null,
            "grid_row": null,
            "grid_template_areas": null,
            "grid_template_columns": null,
            "grid_template_rows": null,
            "height": null,
            "justify_content": null,
            "justify_items": null,
            "left": null,
            "margin": null,
            "max_height": null,
            "max_width": null,
            "min_height": null,
            "min_width": null,
            "object_fit": null,
            "object_position": null,
            "order": null,
            "overflow": null,
            "overflow_x": null,
            "overflow_y": null,
            "padding": null,
            "right": null,
            "top": null,
            "visibility": null,
            "width": null
          }
        },
        "9e20121f3f454064b96b5dfd7b720b2a": {
          "model_module": "@jupyter-widgets/base",
          "model_name": "LayoutModel",
          "model_module_version": "1.2.0",
          "state": {
            "_model_module": "@jupyter-widgets/base",
            "_model_module_version": "1.2.0",
            "_model_name": "LayoutModel",
            "_view_count": null,
            "_view_module": "@jupyter-widgets/base",
            "_view_module_version": "1.2.0",
            "_view_name": "LayoutView",
            "align_content": null,
            "align_items": null,
            "align_self": null,
            "border": null,
            "bottom": null,
            "display": null,
            "flex": null,
            "flex_flow": null,
            "grid_area": null,
            "grid_auto_columns": null,
            "grid_auto_flow": null,
            "grid_auto_rows": null,
            "grid_column": null,
            "grid_gap": null,
            "grid_row": null,
            "grid_template_areas": null,
            "grid_template_columns": null,
            "grid_template_rows": null,
            "height": null,
            "justify_content": null,
            "justify_items": null,
            "left": null,
            "margin": null,
            "max_height": null,
            "max_width": null,
            "min_height": null,
            "min_width": null,
            "object_fit": null,
            "object_position": null,
            "order": null,
            "overflow": null,
            "overflow_x": null,
            "overflow_y": null,
            "padding": null,
            "right": null,
            "top": null,
            "visibility": null,
            "width": null
          }
        },
        "4de0e6d1dd6c43ff9e332bd332ae8123": {
          "model_module": "@jupyter-widgets/controls",
          "model_name": "DescriptionStyleModel",
          "model_module_version": "1.5.0",
          "state": {
            "_model_module": "@jupyter-widgets/controls",
            "_model_module_version": "1.5.0",
            "_model_name": "DescriptionStyleModel",
            "_view_count": null,
            "_view_module": "@jupyter-widgets/base",
            "_view_module_version": "1.2.0",
            "_view_name": "StyleView",
            "description_width": ""
          }
        },
        "f4c9185f3ec24cfeb66cb0a7dc2ce2ac": {
          "model_module": "@jupyter-widgets/base",
          "model_name": "LayoutModel",
          "model_module_version": "1.2.0",
          "state": {
            "_model_module": "@jupyter-widgets/base",
            "_model_module_version": "1.2.0",
            "_model_name": "LayoutModel",
            "_view_count": null,
            "_view_module": "@jupyter-widgets/base",
            "_view_module_version": "1.2.0",
            "_view_name": "LayoutView",
            "align_content": null,
            "align_items": null,
            "align_self": null,
            "border": null,
            "bottom": null,
            "display": null,
            "flex": null,
            "flex_flow": null,
            "grid_area": null,
            "grid_auto_columns": null,
            "grid_auto_flow": null,
            "grid_auto_rows": null,
            "grid_column": null,
            "grid_gap": null,
            "grid_row": null,
            "grid_template_areas": null,
            "grid_template_columns": null,
            "grid_template_rows": null,
            "height": null,
            "justify_content": null,
            "justify_items": null,
            "left": null,
            "margin": null,
            "max_height": null,
            "max_width": null,
            "min_height": null,
            "min_width": null,
            "object_fit": null,
            "object_position": null,
            "order": null,
            "overflow": null,
            "overflow_x": null,
            "overflow_y": null,
            "padding": null,
            "right": null,
            "top": null,
            "visibility": null,
            "width": null
          }
        },
        "01bd853cb9fc42ae8a5696d613cdc31a": {
          "model_module": "@jupyter-widgets/controls",
          "model_name": "ProgressStyleModel",
          "model_module_version": "1.5.0",
          "state": {
            "_model_module": "@jupyter-widgets/controls",
            "_model_module_version": "1.5.0",
            "_model_name": "ProgressStyleModel",
            "_view_count": null,
            "_view_module": "@jupyter-widgets/base",
            "_view_module_version": "1.2.0",
            "_view_name": "StyleView",
            "bar_color": null,
            "description_width": ""
          }
        },
        "3145639497a14f4fbbc83d0bb4696721": {
          "model_module": "@jupyter-widgets/base",
          "model_name": "LayoutModel",
          "model_module_version": "1.2.0",
          "state": {
            "_model_module": "@jupyter-widgets/base",
            "_model_module_version": "1.2.0",
            "_model_name": "LayoutModel",
            "_view_count": null,
            "_view_module": "@jupyter-widgets/base",
            "_view_module_version": "1.2.0",
            "_view_name": "LayoutView",
            "align_content": null,
            "align_items": null,
            "align_self": null,
            "border": null,
            "bottom": null,
            "display": null,
            "flex": null,
            "flex_flow": null,
            "grid_area": null,
            "grid_auto_columns": null,
            "grid_auto_flow": null,
            "grid_auto_rows": null,
            "grid_column": null,
            "grid_gap": null,
            "grid_row": null,
            "grid_template_areas": null,
            "grid_template_columns": null,
            "grid_template_rows": null,
            "height": null,
            "justify_content": null,
            "justify_items": null,
            "left": null,
            "margin": null,
            "max_height": null,
            "max_width": null,
            "min_height": null,
            "min_width": null,
            "object_fit": null,
            "object_position": null,
            "order": null,
            "overflow": null,
            "overflow_x": null,
            "overflow_y": null,
            "padding": null,
            "right": null,
            "top": null,
            "visibility": null,
            "width": null
          }
        },
        "c1d6de242e0540a1b5b1c355d0bd3494": {
          "model_module": "@jupyter-widgets/controls",
          "model_name": "DescriptionStyleModel",
          "model_module_version": "1.5.0",
          "state": {
            "_model_module": "@jupyter-widgets/controls",
            "_model_module_version": "1.5.0",
            "_model_name": "DescriptionStyleModel",
            "_view_count": null,
            "_view_module": "@jupyter-widgets/base",
            "_view_module_version": "1.2.0",
            "_view_name": "StyleView",
            "description_width": ""
          }
        },
        "3fa673ea25ce4a7c85287b94ca75663f": {
          "model_module": "@jupyter-widgets/controls",
          "model_name": "HBoxModel",
          "model_module_version": "1.5.0",
          "state": {
            "_dom_classes": [],
            "_model_module": "@jupyter-widgets/controls",
            "_model_module_version": "1.5.0",
            "_model_name": "HBoxModel",
            "_view_count": null,
            "_view_module": "@jupyter-widgets/controls",
            "_view_module_version": "1.5.0",
            "_view_name": "HBoxView",
            "box_style": "",
            "children": [
              "IPY_MODEL_a283948cf1f24bbc838da28929e3a709",
              "IPY_MODEL_81112ffb91c048898134504b3d7b7b64",
              "IPY_MODEL_1a30f02b76e540e18eb0cd8b7ea122e5"
            ],
            "layout": "IPY_MODEL_f7b0212f39b7460f80c49863af8dc8e9"
          }
        },
        "a283948cf1f24bbc838da28929e3a709": {
          "model_module": "@jupyter-widgets/controls",
          "model_name": "HTMLModel",
          "model_module_version": "1.5.0",
          "state": {
            "_dom_classes": [],
            "_model_module": "@jupyter-widgets/controls",
            "_model_module_version": "1.5.0",
            "_model_name": "HTMLModel",
            "_view_count": null,
            "_view_module": "@jupyter-widgets/controls",
            "_view_module_version": "1.5.0",
            "_view_name": "HTMLView",
            "description": "",
            "description_tooltip": null,
            "layout": "IPY_MODEL_166edbc816174e0b8d7544d06e155659",
            "placeholder": "​",
            "style": "IPY_MODEL_887f9cd008374af98def833172d8df3c",
            "value": "vocab.txt: 100%"
          }
        },
        "81112ffb91c048898134504b3d7b7b64": {
          "model_module": "@jupyter-widgets/controls",
          "model_name": "FloatProgressModel",
          "model_module_version": "1.5.0",
          "state": {
            "_dom_classes": [],
            "_model_module": "@jupyter-widgets/controls",
            "_model_module_version": "1.5.0",
            "_model_name": "FloatProgressModel",
            "_view_count": null,
            "_view_module": "@jupyter-widgets/controls",
            "_view_module_version": "1.5.0",
            "_view_name": "ProgressView",
            "bar_style": "success",
            "description": "",
            "description_tooltip": null,
            "layout": "IPY_MODEL_5034cfd7278549b59258cbe990e213ee",
            "max": 231508,
            "min": 0,
            "orientation": "horizontal",
            "style": "IPY_MODEL_cf7fedca232e4818abb0f7785c81e047",
            "value": 231508
          }
        },
        "1a30f02b76e540e18eb0cd8b7ea122e5": {
          "model_module": "@jupyter-widgets/controls",
          "model_name": "HTMLModel",
          "model_module_version": "1.5.0",
          "state": {
            "_dom_classes": [],
            "_model_module": "@jupyter-widgets/controls",
            "_model_module_version": "1.5.0",
            "_model_name": "HTMLModel",
            "_view_count": null,
            "_view_module": "@jupyter-widgets/controls",
            "_view_module_version": "1.5.0",
            "_view_name": "HTMLView",
            "description": "",
            "description_tooltip": null,
            "layout": "IPY_MODEL_d2579e0f92404b61ad3d06f5ce20b271",
            "placeholder": "​",
            "style": "IPY_MODEL_c10ce0d49daf40c7a6a98f984351dc6a",
            "value": " 232k/232k [00:00&lt;00:00, 939kB/s]"
          }
        },
        "f7b0212f39b7460f80c49863af8dc8e9": {
          "model_module": "@jupyter-widgets/base",
          "model_name": "LayoutModel",
          "model_module_version": "1.2.0",
          "state": {
            "_model_module": "@jupyter-widgets/base",
            "_model_module_version": "1.2.0",
            "_model_name": "LayoutModel",
            "_view_count": null,
            "_view_module": "@jupyter-widgets/base",
            "_view_module_version": "1.2.0",
            "_view_name": "LayoutView",
            "align_content": null,
            "align_items": null,
            "align_self": null,
            "border": null,
            "bottom": null,
            "display": null,
            "flex": null,
            "flex_flow": null,
            "grid_area": null,
            "grid_auto_columns": null,
            "grid_auto_flow": null,
            "grid_auto_rows": null,
            "grid_column": null,
            "grid_gap": null,
            "grid_row": null,
            "grid_template_areas": null,
            "grid_template_columns": null,
            "grid_template_rows": null,
            "height": null,
            "justify_content": null,
            "justify_items": null,
            "left": null,
            "margin": null,
            "max_height": null,
            "max_width": null,
            "min_height": null,
            "min_width": null,
            "object_fit": null,
            "object_position": null,
            "order": null,
            "overflow": null,
            "overflow_x": null,
            "overflow_y": null,
            "padding": null,
            "right": null,
            "top": null,
            "visibility": null,
            "width": null
          }
        },
        "166edbc816174e0b8d7544d06e155659": {
          "model_module": "@jupyter-widgets/base",
          "model_name": "LayoutModel",
          "model_module_version": "1.2.0",
          "state": {
            "_model_module": "@jupyter-widgets/base",
            "_model_module_version": "1.2.0",
            "_model_name": "LayoutModel",
            "_view_count": null,
            "_view_module": "@jupyter-widgets/base",
            "_view_module_version": "1.2.0",
            "_view_name": "LayoutView",
            "align_content": null,
            "align_items": null,
            "align_self": null,
            "border": null,
            "bottom": null,
            "display": null,
            "flex": null,
            "flex_flow": null,
            "grid_area": null,
            "grid_auto_columns": null,
            "grid_auto_flow": null,
            "grid_auto_rows": null,
            "grid_column": null,
            "grid_gap": null,
            "grid_row": null,
            "grid_template_areas": null,
            "grid_template_columns": null,
            "grid_template_rows": null,
            "height": null,
            "justify_content": null,
            "justify_items": null,
            "left": null,
            "margin": null,
            "max_height": null,
            "max_width": null,
            "min_height": null,
            "min_width": null,
            "object_fit": null,
            "object_position": null,
            "order": null,
            "overflow": null,
            "overflow_x": null,
            "overflow_y": null,
            "padding": null,
            "right": null,
            "top": null,
            "visibility": null,
            "width": null
          }
        },
        "887f9cd008374af98def833172d8df3c": {
          "model_module": "@jupyter-widgets/controls",
          "model_name": "DescriptionStyleModel",
          "model_module_version": "1.5.0",
          "state": {
            "_model_module": "@jupyter-widgets/controls",
            "_model_module_version": "1.5.0",
            "_model_name": "DescriptionStyleModel",
            "_view_count": null,
            "_view_module": "@jupyter-widgets/base",
            "_view_module_version": "1.2.0",
            "_view_name": "StyleView",
            "description_width": ""
          }
        },
        "5034cfd7278549b59258cbe990e213ee": {
          "model_module": "@jupyter-widgets/base",
          "model_name": "LayoutModel",
          "model_module_version": "1.2.0",
          "state": {
            "_model_module": "@jupyter-widgets/base",
            "_model_module_version": "1.2.0",
            "_model_name": "LayoutModel",
            "_view_count": null,
            "_view_module": "@jupyter-widgets/base",
            "_view_module_version": "1.2.0",
            "_view_name": "LayoutView",
            "align_content": null,
            "align_items": null,
            "align_self": null,
            "border": null,
            "bottom": null,
            "display": null,
            "flex": null,
            "flex_flow": null,
            "grid_area": null,
            "grid_auto_columns": null,
            "grid_auto_flow": null,
            "grid_auto_rows": null,
            "grid_column": null,
            "grid_gap": null,
            "grid_row": null,
            "grid_template_areas": null,
            "grid_template_columns": null,
            "grid_template_rows": null,
            "height": null,
            "justify_content": null,
            "justify_items": null,
            "left": null,
            "margin": null,
            "max_height": null,
            "max_width": null,
            "min_height": null,
            "min_width": null,
            "object_fit": null,
            "object_position": null,
            "order": null,
            "overflow": null,
            "overflow_x": null,
            "overflow_y": null,
            "padding": null,
            "right": null,
            "top": null,
            "visibility": null,
            "width": null
          }
        },
        "cf7fedca232e4818abb0f7785c81e047": {
          "model_module": "@jupyter-widgets/controls",
          "model_name": "ProgressStyleModel",
          "model_module_version": "1.5.0",
          "state": {
            "_model_module": "@jupyter-widgets/controls",
            "_model_module_version": "1.5.0",
            "_model_name": "ProgressStyleModel",
            "_view_count": null,
            "_view_module": "@jupyter-widgets/base",
            "_view_module_version": "1.2.0",
            "_view_name": "StyleView",
            "bar_color": null,
            "description_width": ""
          }
        },
        "d2579e0f92404b61ad3d06f5ce20b271": {
          "model_module": "@jupyter-widgets/base",
          "model_name": "LayoutModel",
          "model_module_version": "1.2.0",
          "state": {
            "_model_module": "@jupyter-widgets/base",
            "_model_module_version": "1.2.0",
            "_model_name": "LayoutModel",
            "_view_count": null,
            "_view_module": "@jupyter-widgets/base",
            "_view_module_version": "1.2.0",
            "_view_name": "LayoutView",
            "align_content": null,
            "align_items": null,
            "align_self": null,
            "border": null,
            "bottom": null,
            "display": null,
            "flex": null,
            "flex_flow": null,
            "grid_area": null,
            "grid_auto_columns": null,
            "grid_auto_flow": null,
            "grid_auto_rows": null,
            "grid_column": null,
            "grid_gap": null,
            "grid_row": null,
            "grid_template_areas": null,
            "grid_template_columns": null,
            "grid_template_rows": null,
            "height": null,
            "justify_content": null,
            "justify_items": null,
            "left": null,
            "margin": null,
            "max_height": null,
            "max_width": null,
            "min_height": null,
            "min_width": null,
            "object_fit": null,
            "object_position": null,
            "order": null,
            "overflow": null,
            "overflow_x": null,
            "overflow_y": null,
            "padding": null,
            "right": null,
            "top": null,
            "visibility": null,
            "width": null
          }
        },
        "c10ce0d49daf40c7a6a98f984351dc6a": {
          "model_module": "@jupyter-widgets/controls",
          "model_name": "DescriptionStyleModel",
          "model_module_version": "1.5.0",
          "state": {
            "_model_module": "@jupyter-widgets/controls",
            "_model_module_version": "1.5.0",
            "_model_name": "DescriptionStyleModel",
            "_view_count": null,
            "_view_module": "@jupyter-widgets/base",
            "_view_module_version": "1.2.0",
            "_view_name": "StyleView",
            "description_width": ""
          }
        },
        "2638a0760b434597b9a067c86f8ffe48": {
          "model_module": "@jupyter-widgets/controls",
          "model_name": "HBoxModel",
          "model_module_version": "1.5.0",
          "state": {
            "_dom_classes": [],
            "_model_module": "@jupyter-widgets/controls",
            "_model_module_version": "1.5.0",
            "_model_name": "HBoxModel",
            "_view_count": null,
            "_view_module": "@jupyter-widgets/controls",
            "_view_module_version": "1.5.0",
            "_view_name": "HBoxView",
            "box_style": "",
            "children": [
              "IPY_MODEL_f5d10d6c61764501b7c14c1ce3adc695",
              "IPY_MODEL_a69f017ad2f8460e8cf004c13ab8934e",
              "IPY_MODEL_b925390f9d2c4aef91f16a63498d7268"
            ],
            "layout": "IPY_MODEL_cb22612451784dc3a0aa468b09a7f473"
          }
        },
        "f5d10d6c61764501b7c14c1ce3adc695": {
          "model_module": "@jupyter-widgets/controls",
          "model_name": "HTMLModel",
          "model_module_version": "1.5.0",
          "state": {
            "_dom_classes": [],
            "_model_module": "@jupyter-widgets/controls",
            "_model_module_version": "1.5.0",
            "_model_name": "HTMLModel",
            "_view_count": null,
            "_view_module": "@jupyter-widgets/controls",
            "_view_module_version": "1.5.0",
            "_view_name": "HTMLView",
            "description": "",
            "description_tooltip": null,
            "layout": "IPY_MODEL_9904f3f2e8154ed8ab8db419f0de970c",
            "placeholder": "​",
            "style": "IPY_MODEL_9edae43297cf45a59e4859d8f589878d",
            "value": "tokenizer.json: 100%"
          }
        },
        "a69f017ad2f8460e8cf004c13ab8934e": {
          "model_module": "@jupyter-widgets/controls",
          "model_name": "FloatProgressModel",
          "model_module_version": "1.5.0",
          "state": {
            "_dom_classes": [],
            "_model_module": "@jupyter-widgets/controls",
            "_model_module_version": "1.5.0",
            "_model_name": "FloatProgressModel",
            "_view_count": null,
            "_view_module": "@jupyter-widgets/controls",
            "_view_module_version": "1.5.0",
            "_view_name": "ProgressView",
            "bar_style": "success",
            "description": "",
            "description_tooltip": null,
            "layout": "IPY_MODEL_29c8d76c7fe44764946120c9828ebcef",
            "max": 466247,
            "min": 0,
            "orientation": "horizontal",
            "style": "IPY_MODEL_52bbbc2eba1f42ff8af72ee5e2e5858f",
            "value": 466247
          }
        },
        "b925390f9d2c4aef91f16a63498d7268": {
          "model_module": "@jupyter-widgets/controls",
          "model_name": "HTMLModel",
          "model_module_version": "1.5.0",
          "state": {
            "_dom_classes": [],
            "_model_module": "@jupyter-widgets/controls",
            "_model_module_version": "1.5.0",
            "_model_name": "HTMLModel",
            "_view_count": null,
            "_view_module": "@jupyter-widgets/controls",
            "_view_module_version": "1.5.0",
            "_view_name": "HTMLView",
            "description": "",
            "description_tooltip": null,
            "layout": "IPY_MODEL_3b273c43682d486a804baccaa6d6f894",
            "placeholder": "​",
            "style": "IPY_MODEL_8b3cf5bd59ed4c2dab4a2cc695a26315",
            "value": " 466k/466k [00:00&lt;00:00, 1.57MB/s]"
          }
        },
        "cb22612451784dc3a0aa468b09a7f473": {
          "model_module": "@jupyter-widgets/base",
          "model_name": "LayoutModel",
          "model_module_version": "1.2.0",
          "state": {
            "_model_module": "@jupyter-widgets/base",
            "_model_module_version": "1.2.0",
            "_model_name": "LayoutModel",
            "_view_count": null,
            "_view_module": "@jupyter-widgets/base",
            "_view_module_version": "1.2.0",
            "_view_name": "LayoutView",
            "align_content": null,
            "align_items": null,
            "align_self": null,
            "border": null,
            "bottom": null,
            "display": null,
            "flex": null,
            "flex_flow": null,
            "grid_area": null,
            "grid_auto_columns": null,
            "grid_auto_flow": null,
            "grid_auto_rows": null,
            "grid_column": null,
            "grid_gap": null,
            "grid_row": null,
            "grid_template_areas": null,
            "grid_template_columns": null,
            "grid_template_rows": null,
            "height": null,
            "justify_content": null,
            "justify_items": null,
            "left": null,
            "margin": null,
            "max_height": null,
            "max_width": null,
            "min_height": null,
            "min_width": null,
            "object_fit": null,
            "object_position": null,
            "order": null,
            "overflow": null,
            "overflow_x": null,
            "overflow_y": null,
            "padding": null,
            "right": null,
            "top": null,
            "visibility": null,
            "width": null
          }
        },
        "9904f3f2e8154ed8ab8db419f0de970c": {
          "model_module": "@jupyter-widgets/base",
          "model_name": "LayoutModel",
          "model_module_version": "1.2.0",
          "state": {
            "_model_module": "@jupyter-widgets/base",
            "_model_module_version": "1.2.0",
            "_model_name": "LayoutModel",
            "_view_count": null,
            "_view_module": "@jupyter-widgets/base",
            "_view_module_version": "1.2.0",
            "_view_name": "LayoutView",
            "align_content": null,
            "align_items": null,
            "align_self": null,
            "border": null,
            "bottom": null,
            "display": null,
            "flex": null,
            "flex_flow": null,
            "grid_area": null,
            "grid_auto_columns": null,
            "grid_auto_flow": null,
            "grid_auto_rows": null,
            "grid_column": null,
            "grid_gap": null,
            "grid_row": null,
            "grid_template_areas": null,
            "grid_template_columns": null,
            "grid_template_rows": null,
            "height": null,
            "justify_content": null,
            "justify_items": null,
            "left": null,
            "margin": null,
            "max_height": null,
            "max_width": null,
            "min_height": null,
            "min_width": null,
            "object_fit": null,
            "object_position": null,
            "order": null,
            "overflow": null,
            "overflow_x": null,
            "overflow_y": null,
            "padding": null,
            "right": null,
            "top": null,
            "visibility": null,
            "width": null
          }
        },
        "9edae43297cf45a59e4859d8f589878d": {
          "model_module": "@jupyter-widgets/controls",
          "model_name": "DescriptionStyleModel",
          "model_module_version": "1.5.0",
          "state": {
            "_model_module": "@jupyter-widgets/controls",
            "_model_module_version": "1.5.0",
            "_model_name": "DescriptionStyleModel",
            "_view_count": null,
            "_view_module": "@jupyter-widgets/base",
            "_view_module_version": "1.2.0",
            "_view_name": "StyleView",
            "description_width": ""
          }
        },
        "29c8d76c7fe44764946120c9828ebcef": {
          "model_module": "@jupyter-widgets/base",
          "model_name": "LayoutModel",
          "model_module_version": "1.2.0",
          "state": {
            "_model_module": "@jupyter-widgets/base",
            "_model_module_version": "1.2.0",
            "_model_name": "LayoutModel",
            "_view_count": null,
            "_view_module": "@jupyter-widgets/base",
            "_view_module_version": "1.2.0",
            "_view_name": "LayoutView",
            "align_content": null,
            "align_items": null,
            "align_self": null,
            "border": null,
            "bottom": null,
            "display": null,
            "flex": null,
            "flex_flow": null,
            "grid_area": null,
            "grid_auto_columns": null,
            "grid_auto_flow": null,
            "grid_auto_rows": null,
            "grid_column": null,
            "grid_gap": null,
            "grid_row": null,
            "grid_template_areas": null,
            "grid_template_columns": null,
            "grid_template_rows": null,
            "height": null,
            "justify_content": null,
            "justify_items": null,
            "left": null,
            "margin": null,
            "max_height": null,
            "max_width": null,
            "min_height": null,
            "min_width": null,
            "object_fit": null,
            "object_position": null,
            "order": null,
            "overflow": null,
            "overflow_x": null,
            "overflow_y": null,
            "padding": null,
            "right": null,
            "top": null,
            "visibility": null,
            "width": null
          }
        },
        "52bbbc2eba1f42ff8af72ee5e2e5858f": {
          "model_module": "@jupyter-widgets/controls",
          "model_name": "ProgressStyleModel",
          "model_module_version": "1.5.0",
          "state": {
            "_model_module": "@jupyter-widgets/controls",
            "_model_module_version": "1.5.0",
            "_model_name": "ProgressStyleModel",
            "_view_count": null,
            "_view_module": "@jupyter-widgets/base",
            "_view_module_version": "1.2.0",
            "_view_name": "StyleView",
            "bar_color": null,
            "description_width": ""
          }
        },
        "3b273c43682d486a804baccaa6d6f894": {
          "model_module": "@jupyter-widgets/base",
          "model_name": "LayoutModel",
          "model_module_version": "1.2.0",
          "state": {
            "_model_module": "@jupyter-widgets/base",
            "_model_module_version": "1.2.0",
            "_model_name": "LayoutModel",
            "_view_count": null,
            "_view_module": "@jupyter-widgets/base",
            "_view_module_version": "1.2.0",
            "_view_name": "LayoutView",
            "align_content": null,
            "align_items": null,
            "align_self": null,
            "border": null,
            "bottom": null,
            "display": null,
            "flex": null,
            "flex_flow": null,
            "grid_area": null,
            "grid_auto_columns": null,
            "grid_auto_flow": null,
            "grid_auto_rows": null,
            "grid_column": null,
            "grid_gap": null,
            "grid_row": null,
            "grid_template_areas": null,
            "grid_template_columns": null,
            "grid_template_rows": null,
            "height": null,
            "justify_content": null,
            "justify_items": null,
            "left": null,
            "margin": null,
            "max_height": null,
            "max_width": null,
            "min_height": null,
            "min_width": null,
            "object_fit": null,
            "object_position": null,
            "order": null,
            "overflow": null,
            "overflow_x": null,
            "overflow_y": null,
            "padding": null,
            "right": null,
            "top": null,
            "visibility": null,
            "width": null
          }
        },
        "8b3cf5bd59ed4c2dab4a2cc695a26315": {
          "model_module": "@jupyter-widgets/controls",
          "model_name": "DescriptionStyleModel",
          "model_module_version": "1.5.0",
          "state": {
            "_model_module": "@jupyter-widgets/controls",
            "_model_module_version": "1.5.0",
            "_model_name": "DescriptionStyleModel",
            "_view_count": null,
            "_view_module": "@jupyter-widgets/base",
            "_view_module_version": "1.2.0",
            "_view_name": "StyleView",
            "description_width": ""
          }
        },
        "201e79605c1049dbb979b8d01ba5dc6b": {
          "model_module": "@jupyter-widgets/controls",
          "model_name": "HBoxModel",
          "model_module_version": "1.5.0",
          "state": {
            "_dom_classes": [],
            "_model_module": "@jupyter-widgets/controls",
            "_model_module_version": "1.5.0",
            "_model_name": "HBoxModel",
            "_view_count": null,
            "_view_module": "@jupyter-widgets/controls",
            "_view_module_version": "1.5.0",
            "_view_name": "HBoxView",
            "box_style": "",
            "children": [
              "IPY_MODEL_98a5f7f87df94cb294e11c3a46b7741a",
              "IPY_MODEL_b61170456ad841a4b00f1de99299c0b9",
              "IPY_MODEL_e822b134a1e64956b28c07033b63130b"
            ],
            "layout": "IPY_MODEL_ed34d339c3ad420892ddca0bd7e43705"
          }
        },
        "98a5f7f87df94cb294e11c3a46b7741a": {
          "model_module": "@jupyter-widgets/controls",
          "model_name": "HTMLModel",
          "model_module_version": "1.5.0",
          "state": {
            "_dom_classes": [],
            "_model_module": "@jupyter-widgets/controls",
            "_model_module_version": "1.5.0",
            "_model_name": "HTMLModel",
            "_view_count": null,
            "_view_module": "@jupyter-widgets/controls",
            "_view_module_version": "1.5.0",
            "_view_name": "HTMLView",
            "description": "",
            "description_tooltip": null,
            "layout": "IPY_MODEL_83b7c8c700674551bfd4b99ceeadc546",
            "placeholder": "​",
            "style": "IPY_MODEL_4b15ddbd0cc846238b6e77af915e5d64",
            "value": "special_tokens_map.json: 100%"
          }
        },
        "b61170456ad841a4b00f1de99299c0b9": {
          "model_module": "@jupyter-widgets/controls",
          "model_name": "FloatProgressModel",
          "model_module_version": "1.5.0",
          "state": {
            "_dom_classes": [],
            "_model_module": "@jupyter-widgets/controls",
            "_model_module_version": "1.5.0",
            "_model_name": "FloatProgressModel",
            "_view_count": null,
            "_view_module": "@jupyter-widgets/controls",
            "_view_module_version": "1.5.0",
            "_view_name": "ProgressView",
            "bar_style": "success",
            "description": "",
            "description_tooltip": null,
            "layout": "IPY_MODEL_a4ed721753804fcfaa10e49dbea40b42",
            "max": 112,
            "min": 0,
            "orientation": "horizontal",
            "style": "IPY_MODEL_fdacf6eb0dff448e8e03a71358e9db76",
            "value": 112
          }
        },
        "e822b134a1e64956b28c07033b63130b": {
          "model_module": "@jupyter-widgets/controls",
          "model_name": "HTMLModel",
          "model_module_version": "1.5.0",
          "state": {
            "_dom_classes": [],
            "_model_module": "@jupyter-widgets/controls",
            "_model_module_version": "1.5.0",
            "_model_name": "HTMLModel",
            "_view_count": null,
            "_view_module": "@jupyter-widgets/controls",
            "_view_module_version": "1.5.0",
            "_view_name": "HTMLView",
            "description": "",
            "description_tooltip": null,
            "layout": "IPY_MODEL_4b874e7f733b4846b232540f8f39e43a",
            "placeholder": "​",
            "style": "IPY_MODEL_0dbd27cccd5b4b42b04b536e44a73c5c",
            "value": " 112/112 [00:00&lt;00:00, 10.1kB/s]"
          }
        },
        "ed34d339c3ad420892ddca0bd7e43705": {
          "model_module": "@jupyter-widgets/base",
          "model_name": "LayoutModel",
          "model_module_version": "1.2.0",
          "state": {
            "_model_module": "@jupyter-widgets/base",
            "_model_module_version": "1.2.0",
            "_model_name": "LayoutModel",
            "_view_count": null,
            "_view_module": "@jupyter-widgets/base",
            "_view_module_version": "1.2.0",
            "_view_name": "LayoutView",
            "align_content": null,
            "align_items": null,
            "align_self": null,
            "border": null,
            "bottom": null,
            "display": null,
            "flex": null,
            "flex_flow": null,
            "grid_area": null,
            "grid_auto_columns": null,
            "grid_auto_flow": null,
            "grid_auto_rows": null,
            "grid_column": null,
            "grid_gap": null,
            "grid_row": null,
            "grid_template_areas": null,
            "grid_template_columns": null,
            "grid_template_rows": null,
            "height": null,
            "justify_content": null,
            "justify_items": null,
            "left": null,
            "margin": null,
            "max_height": null,
            "max_width": null,
            "min_height": null,
            "min_width": null,
            "object_fit": null,
            "object_position": null,
            "order": null,
            "overflow": null,
            "overflow_x": null,
            "overflow_y": null,
            "padding": null,
            "right": null,
            "top": null,
            "visibility": null,
            "width": null
          }
        },
        "83b7c8c700674551bfd4b99ceeadc546": {
          "model_module": "@jupyter-widgets/base",
          "model_name": "LayoutModel",
          "model_module_version": "1.2.0",
          "state": {
            "_model_module": "@jupyter-widgets/base",
            "_model_module_version": "1.2.0",
            "_model_name": "LayoutModel",
            "_view_count": null,
            "_view_module": "@jupyter-widgets/base",
            "_view_module_version": "1.2.0",
            "_view_name": "LayoutView",
            "align_content": null,
            "align_items": null,
            "align_self": null,
            "border": null,
            "bottom": null,
            "display": null,
            "flex": null,
            "flex_flow": null,
            "grid_area": null,
            "grid_auto_columns": null,
            "grid_auto_flow": null,
            "grid_auto_rows": null,
            "grid_column": null,
            "grid_gap": null,
            "grid_row": null,
            "grid_template_areas": null,
            "grid_template_columns": null,
            "grid_template_rows": null,
            "height": null,
            "justify_content": null,
            "justify_items": null,
            "left": null,
            "margin": null,
            "max_height": null,
            "max_width": null,
            "min_height": null,
            "min_width": null,
            "object_fit": null,
            "object_position": null,
            "order": null,
            "overflow": null,
            "overflow_x": null,
            "overflow_y": null,
            "padding": null,
            "right": null,
            "top": null,
            "visibility": null,
            "width": null
          }
        },
        "4b15ddbd0cc846238b6e77af915e5d64": {
          "model_module": "@jupyter-widgets/controls",
          "model_name": "DescriptionStyleModel",
          "model_module_version": "1.5.0",
          "state": {
            "_model_module": "@jupyter-widgets/controls",
            "_model_module_version": "1.5.0",
            "_model_name": "DescriptionStyleModel",
            "_view_count": null,
            "_view_module": "@jupyter-widgets/base",
            "_view_module_version": "1.2.0",
            "_view_name": "StyleView",
            "description_width": ""
          }
        },
        "a4ed721753804fcfaa10e49dbea40b42": {
          "model_module": "@jupyter-widgets/base",
          "model_name": "LayoutModel",
          "model_module_version": "1.2.0",
          "state": {
            "_model_module": "@jupyter-widgets/base",
            "_model_module_version": "1.2.0",
            "_model_name": "LayoutModel",
            "_view_count": null,
            "_view_module": "@jupyter-widgets/base",
            "_view_module_version": "1.2.0",
            "_view_name": "LayoutView",
            "align_content": null,
            "align_items": null,
            "align_self": null,
            "border": null,
            "bottom": null,
            "display": null,
            "flex": null,
            "flex_flow": null,
            "grid_area": null,
            "grid_auto_columns": null,
            "grid_auto_flow": null,
            "grid_auto_rows": null,
            "grid_column": null,
            "grid_gap": null,
            "grid_row": null,
            "grid_template_areas": null,
            "grid_template_columns": null,
            "grid_template_rows": null,
            "height": null,
            "justify_content": null,
            "justify_items": null,
            "left": null,
            "margin": null,
            "max_height": null,
            "max_width": null,
            "min_height": null,
            "min_width": null,
            "object_fit": null,
            "object_position": null,
            "order": null,
            "overflow": null,
            "overflow_x": null,
            "overflow_y": null,
            "padding": null,
            "right": null,
            "top": null,
            "visibility": null,
            "width": null
          }
        },
        "fdacf6eb0dff448e8e03a71358e9db76": {
          "model_module": "@jupyter-widgets/controls",
          "model_name": "ProgressStyleModel",
          "model_module_version": "1.5.0",
          "state": {
            "_model_module": "@jupyter-widgets/controls",
            "_model_module_version": "1.5.0",
            "_model_name": "ProgressStyleModel",
            "_view_count": null,
            "_view_module": "@jupyter-widgets/base",
            "_view_module_version": "1.2.0",
            "_view_name": "StyleView",
            "bar_color": null,
            "description_width": ""
          }
        },
        "4b874e7f733b4846b232540f8f39e43a": {
          "model_module": "@jupyter-widgets/base",
          "model_name": "LayoutModel",
          "model_module_version": "1.2.0",
          "state": {
            "_model_module": "@jupyter-widgets/base",
            "_model_module_version": "1.2.0",
            "_model_name": "LayoutModel",
            "_view_count": null,
            "_view_module": "@jupyter-widgets/base",
            "_view_module_version": "1.2.0",
            "_view_name": "LayoutView",
            "align_content": null,
            "align_items": null,
            "align_self": null,
            "border": null,
            "bottom": null,
            "display": null,
            "flex": null,
            "flex_flow": null,
            "grid_area": null,
            "grid_auto_columns": null,
            "grid_auto_flow": null,
            "grid_auto_rows": null,
            "grid_column": null,
            "grid_gap": null,
            "grid_row": null,
            "grid_template_areas": null,
            "grid_template_columns": null,
            "grid_template_rows": null,
            "height": null,
            "justify_content": null,
            "justify_items": null,
            "left": null,
            "margin": null,
            "max_height": null,
            "max_width": null,
            "min_height": null,
            "min_width": null,
            "object_fit": null,
            "object_position": null,
            "order": null,
            "overflow": null,
            "overflow_x": null,
            "overflow_y": null,
            "padding": null,
            "right": null,
            "top": null,
            "visibility": null,
            "width": null
          }
        },
        "0dbd27cccd5b4b42b04b536e44a73c5c": {
          "model_module": "@jupyter-widgets/controls",
          "model_name": "DescriptionStyleModel",
          "model_module_version": "1.5.0",
          "state": {
            "_model_module": "@jupyter-widgets/controls",
            "_model_module_version": "1.5.0",
            "_model_name": "DescriptionStyleModel",
            "_view_count": null,
            "_view_module": "@jupyter-widgets/base",
            "_view_module_version": "1.2.0",
            "_view_name": "StyleView",
            "description_width": ""
          }
        },
        "50ecf1c23c1748fd8e19eb646215e0ff": {
          "model_module": "@jupyter-widgets/controls",
          "model_name": "HBoxModel",
          "model_module_version": "1.5.0",
          "state": {
            "_dom_classes": [],
            "_model_module": "@jupyter-widgets/controls",
            "_model_module_version": "1.5.0",
            "_model_name": "HBoxModel",
            "_view_count": null,
            "_view_module": "@jupyter-widgets/controls",
            "_view_module_version": "1.5.0",
            "_view_name": "HBoxView",
            "box_style": "",
            "children": [
              "IPY_MODEL_f5efd94a316a41fc85fb523336ecb29c",
              "IPY_MODEL_8dbf34fce6d94db293d01207b2413ecc",
              "IPY_MODEL_bb30efec1ef94fa28b4688bbf4d76bca"
            ],
            "layout": "IPY_MODEL_31c84f6faeaa40e3a64609d59b4943c0"
          }
        },
        "f5efd94a316a41fc85fb523336ecb29c": {
          "model_module": "@jupyter-widgets/controls",
          "model_name": "HTMLModel",
          "model_module_version": "1.5.0",
          "state": {
            "_dom_classes": [],
            "_model_module": "@jupyter-widgets/controls",
            "_model_module_version": "1.5.0",
            "_model_name": "HTMLModel",
            "_view_count": null,
            "_view_module": "@jupyter-widgets/controls",
            "_view_module_version": "1.5.0",
            "_view_name": "HTMLView",
            "description": "",
            "description_tooltip": null,
            "layout": "IPY_MODEL_2b66bfd2d5d84228b48858306af3f336",
            "placeholder": "​",
            "style": "IPY_MODEL_32128b861b974fa4ae55862aa3433b2f",
            "value": "1_Pooling/config.json: 100%"
          }
        },
        "8dbf34fce6d94db293d01207b2413ecc": {
          "model_module": "@jupyter-widgets/controls",
          "model_name": "FloatProgressModel",
          "model_module_version": "1.5.0",
          "state": {
            "_dom_classes": [],
            "_model_module": "@jupyter-widgets/controls",
            "_model_module_version": "1.5.0",
            "_model_name": "FloatProgressModel",
            "_view_count": null,
            "_view_module": "@jupyter-widgets/controls",
            "_view_module_version": "1.5.0",
            "_view_name": "ProgressView",
            "bar_style": "success",
            "description": "",
            "description_tooltip": null,
            "layout": "IPY_MODEL_589c7b669b25483e8b9301652a8cd61b",
            "max": 190,
            "min": 0,
            "orientation": "horizontal",
            "style": "IPY_MODEL_ecdea9cd4ea2454ea6a60fad48d415aa",
            "value": 190
          }
        },
        "bb30efec1ef94fa28b4688bbf4d76bca": {
          "model_module": "@jupyter-widgets/controls",
          "model_name": "HTMLModel",
          "model_module_version": "1.5.0",
          "state": {
            "_dom_classes": [],
            "_model_module": "@jupyter-widgets/controls",
            "_model_module_version": "1.5.0",
            "_model_name": "HTMLModel",
            "_view_count": null,
            "_view_module": "@jupyter-widgets/controls",
            "_view_module_version": "1.5.0",
            "_view_name": "HTMLView",
            "description": "",
            "description_tooltip": null,
            "layout": "IPY_MODEL_5504727158e242f28de868af6a802245",
            "placeholder": "​",
            "style": "IPY_MODEL_cb45cf29e4144fb584282ec4ccc46219",
            "value": " 190/190 [00:00&lt;00:00, 16.9kB/s]"
          }
        },
        "31c84f6faeaa40e3a64609d59b4943c0": {
          "model_module": "@jupyter-widgets/base",
          "model_name": "LayoutModel",
          "model_module_version": "1.2.0",
          "state": {
            "_model_module": "@jupyter-widgets/base",
            "_model_module_version": "1.2.0",
            "_model_name": "LayoutModel",
            "_view_count": null,
            "_view_module": "@jupyter-widgets/base",
            "_view_module_version": "1.2.0",
            "_view_name": "LayoutView",
            "align_content": null,
            "align_items": null,
            "align_self": null,
            "border": null,
            "bottom": null,
            "display": null,
            "flex": null,
            "flex_flow": null,
            "grid_area": null,
            "grid_auto_columns": null,
            "grid_auto_flow": null,
            "grid_auto_rows": null,
            "grid_column": null,
            "grid_gap": null,
            "grid_row": null,
            "grid_template_areas": null,
            "grid_template_columns": null,
            "grid_template_rows": null,
            "height": null,
            "justify_content": null,
            "justify_items": null,
            "left": null,
            "margin": null,
            "max_height": null,
            "max_width": null,
            "min_height": null,
            "min_width": null,
            "object_fit": null,
            "object_position": null,
            "order": null,
            "overflow": null,
            "overflow_x": null,
            "overflow_y": null,
            "padding": null,
            "right": null,
            "top": null,
            "visibility": null,
            "width": null
          }
        },
        "2b66bfd2d5d84228b48858306af3f336": {
          "model_module": "@jupyter-widgets/base",
          "model_name": "LayoutModel",
          "model_module_version": "1.2.0",
          "state": {
            "_model_module": "@jupyter-widgets/base",
            "_model_module_version": "1.2.0",
            "_model_name": "LayoutModel",
            "_view_count": null,
            "_view_module": "@jupyter-widgets/base",
            "_view_module_version": "1.2.0",
            "_view_name": "LayoutView",
            "align_content": null,
            "align_items": null,
            "align_self": null,
            "border": null,
            "bottom": null,
            "display": null,
            "flex": null,
            "flex_flow": null,
            "grid_area": null,
            "grid_auto_columns": null,
            "grid_auto_flow": null,
            "grid_auto_rows": null,
            "grid_column": null,
            "grid_gap": null,
            "grid_row": null,
            "grid_template_areas": null,
            "grid_template_columns": null,
            "grid_template_rows": null,
            "height": null,
            "justify_content": null,
            "justify_items": null,
            "left": null,
            "margin": null,
            "max_height": null,
            "max_width": null,
            "min_height": null,
            "min_width": null,
            "object_fit": null,
            "object_position": null,
            "order": null,
            "overflow": null,
            "overflow_x": null,
            "overflow_y": null,
            "padding": null,
            "right": null,
            "top": null,
            "visibility": null,
            "width": null
          }
        },
        "32128b861b974fa4ae55862aa3433b2f": {
          "model_module": "@jupyter-widgets/controls",
          "model_name": "DescriptionStyleModel",
          "model_module_version": "1.5.0",
          "state": {
            "_model_module": "@jupyter-widgets/controls",
            "_model_module_version": "1.5.0",
            "_model_name": "DescriptionStyleModel",
            "_view_count": null,
            "_view_module": "@jupyter-widgets/base",
            "_view_module_version": "1.2.0",
            "_view_name": "StyleView",
            "description_width": ""
          }
        },
        "589c7b669b25483e8b9301652a8cd61b": {
          "model_module": "@jupyter-widgets/base",
          "model_name": "LayoutModel",
          "model_module_version": "1.2.0",
          "state": {
            "_model_module": "@jupyter-widgets/base",
            "_model_module_version": "1.2.0",
            "_model_name": "LayoutModel",
            "_view_count": null,
            "_view_module": "@jupyter-widgets/base",
            "_view_module_version": "1.2.0",
            "_view_name": "LayoutView",
            "align_content": null,
            "align_items": null,
            "align_self": null,
            "border": null,
            "bottom": null,
            "display": null,
            "flex": null,
            "flex_flow": null,
            "grid_area": null,
            "grid_auto_columns": null,
            "grid_auto_flow": null,
            "grid_auto_rows": null,
            "grid_column": null,
            "grid_gap": null,
            "grid_row": null,
            "grid_template_areas": null,
            "grid_template_columns": null,
            "grid_template_rows": null,
            "height": null,
            "justify_content": null,
            "justify_items": null,
            "left": null,
            "margin": null,
            "max_height": null,
            "max_width": null,
            "min_height": null,
            "min_width": null,
            "object_fit": null,
            "object_position": null,
            "order": null,
            "overflow": null,
            "overflow_x": null,
            "overflow_y": null,
            "padding": null,
            "right": null,
            "top": null,
            "visibility": null,
            "width": null
          }
        },
        "ecdea9cd4ea2454ea6a60fad48d415aa": {
          "model_module": "@jupyter-widgets/controls",
          "model_name": "ProgressStyleModel",
          "model_module_version": "1.5.0",
          "state": {
            "_model_module": "@jupyter-widgets/controls",
            "_model_module_version": "1.5.0",
            "_model_name": "ProgressStyleModel",
            "_view_count": null,
            "_view_module": "@jupyter-widgets/base",
            "_view_module_version": "1.2.0",
            "_view_name": "StyleView",
            "bar_color": null,
            "description_width": ""
          }
        },
        "5504727158e242f28de868af6a802245": {
          "model_module": "@jupyter-widgets/base",
          "model_name": "LayoutModel",
          "model_module_version": "1.2.0",
          "state": {
            "_model_module": "@jupyter-widgets/base",
            "_model_module_version": "1.2.0",
            "_model_name": "LayoutModel",
            "_view_count": null,
            "_view_module": "@jupyter-widgets/base",
            "_view_module_version": "1.2.0",
            "_view_name": "LayoutView",
            "align_content": null,
            "align_items": null,
            "align_self": null,
            "border": null,
            "bottom": null,
            "display": null,
            "flex": null,
            "flex_flow": null,
            "grid_area": null,
            "grid_auto_columns": null,
            "grid_auto_flow": null,
            "grid_auto_rows": null,
            "grid_column": null,
            "grid_gap": null,
            "grid_row": null,
            "grid_template_areas": null,
            "grid_template_columns": null,
            "grid_template_rows": null,
            "height": null,
            "justify_content": null,
            "justify_items": null,
            "left": null,
            "margin": null,
            "max_height": null,
            "max_width": null,
            "min_height": null,
            "min_width": null,
            "object_fit": null,
            "object_position": null,
            "order": null,
            "overflow": null,
            "overflow_x": null,
            "overflow_y": null,
            "padding": null,
            "right": null,
            "top": null,
            "visibility": null,
            "width": null
          }
        },
        "cb45cf29e4144fb584282ec4ccc46219": {
          "model_module": "@jupyter-widgets/controls",
          "model_name": "DescriptionStyleModel",
          "model_module_version": "1.5.0",
          "state": {
            "_model_module": "@jupyter-widgets/controls",
            "_model_module_version": "1.5.0",
            "_model_name": "DescriptionStyleModel",
            "_view_count": null,
            "_view_module": "@jupyter-widgets/base",
            "_view_module_version": "1.2.0",
            "_view_name": "StyleView",
            "description_width": ""
          }
        },
        "b8193dd04d654b10a9e8bacff6b21f47": {
          "model_module": "@jupyter-widgets/controls",
          "model_name": "HBoxModel",
          "model_module_version": "1.5.0",
          "state": {
            "_dom_classes": [],
            "_model_module": "@jupyter-widgets/controls",
            "_model_module_version": "1.5.0",
            "_model_name": "HBoxModel",
            "_view_count": null,
            "_view_module": "@jupyter-widgets/controls",
            "_view_module_version": "1.5.0",
            "_view_name": "HBoxView",
            "box_style": "",
            "children": [
              "IPY_MODEL_60503f41d4ea46c5b205f7740e25d5bd",
              "IPY_MODEL_40d962ded7624fc5ac8eec094081da77",
              "IPY_MODEL_bc3ba22ef458412791f62557150b824d"
            ],
            "layout": "IPY_MODEL_f39ef06e9da04e7cab977dd9eafa178d"
          }
        },
        "60503f41d4ea46c5b205f7740e25d5bd": {
          "model_module": "@jupyter-widgets/controls",
          "model_name": "HTMLModel",
          "model_module_version": "1.5.0",
          "state": {
            "_dom_classes": [],
            "_model_module": "@jupyter-widgets/controls",
            "_model_module_version": "1.5.0",
            "_model_name": "HTMLModel",
            "_view_count": null,
            "_view_module": "@jupyter-widgets/controls",
            "_view_module_version": "1.5.0",
            "_view_name": "HTMLView",
            "description": "",
            "description_tooltip": null,
            "layout": "IPY_MODEL_5079730d6c7944d29b9b432d5825f278",
            "placeholder": "​",
            "style": "IPY_MODEL_35d1853c7afb4983a69bbe0ba90db4ff",
            "value": "100%"
          }
        },
        "40d962ded7624fc5ac8eec094081da77": {
          "model_module": "@jupyter-widgets/controls",
          "model_name": "FloatProgressModel",
          "model_module_version": "1.5.0",
          "state": {
            "_dom_classes": [],
            "_model_module": "@jupyter-widgets/controls",
            "_model_module_version": "1.5.0",
            "_model_name": "FloatProgressModel",
            "_view_count": null,
            "_view_module": "@jupyter-widgets/controls",
            "_view_module_version": "1.5.0",
            "_view_name": "ProgressView",
            "bar_style": "success",
            "description": "",
            "description_tooltip": null,
            "layout": "IPY_MODEL_84dca8c9a86f43a18945005c56d0a702",
            "max": 100,
            "min": 0,
            "orientation": "horizontal",
            "style": "IPY_MODEL_5725f8d1bd464383a3fef696b5bfab5e",
            "value": 100
          }
        },
        "bc3ba22ef458412791f62557150b824d": {
          "model_module": "@jupyter-widgets/controls",
          "model_name": "HTMLModel",
          "model_module_version": "1.5.0",
          "state": {
            "_dom_classes": [],
            "_model_module": "@jupyter-widgets/controls",
            "_model_module_version": "1.5.0",
            "_model_name": "HTMLModel",
            "_view_count": null,
            "_view_module": "@jupyter-widgets/controls",
            "_view_module_version": "1.5.0",
            "_view_name": "HTMLView",
            "description": "",
            "description_tooltip": null,
            "layout": "IPY_MODEL_93e5815d5d14409d84c8eade7c6a87fd",
            "placeholder": "​",
            "style": "IPY_MODEL_bdfc332c6c534e57892659f605750e65",
            "value": " 100/100 [00:02&lt;00:00, 50.32it/s]"
          }
        },
        "f39ef06e9da04e7cab977dd9eafa178d": {
          "model_module": "@jupyter-widgets/base",
          "model_name": "LayoutModel",
          "model_module_version": "1.2.0",
          "state": {
            "_model_module": "@jupyter-widgets/base",
            "_model_module_version": "1.2.0",
            "_model_name": "LayoutModel",
            "_view_count": null,
            "_view_module": "@jupyter-widgets/base",
            "_view_module_version": "1.2.0",
            "_view_name": "LayoutView",
            "align_content": null,
            "align_items": null,
            "align_self": null,
            "border": null,
            "bottom": null,
            "display": null,
            "flex": null,
            "flex_flow": null,
            "grid_area": null,
            "grid_auto_columns": null,
            "grid_auto_flow": null,
            "grid_auto_rows": null,
            "grid_column": null,
            "grid_gap": null,
            "grid_row": null,
            "grid_template_areas": null,
            "grid_template_columns": null,
            "grid_template_rows": null,
            "height": null,
            "justify_content": null,
            "justify_items": null,
            "left": null,
            "margin": null,
            "max_height": null,
            "max_width": null,
            "min_height": null,
            "min_width": null,
            "object_fit": null,
            "object_position": null,
            "order": null,
            "overflow": null,
            "overflow_x": null,
            "overflow_y": null,
            "padding": null,
            "right": null,
            "top": null,
            "visibility": null,
            "width": null
          }
        },
        "5079730d6c7944d29b9b432d5825f278": {
          "model_module": "@jupyter-widgets/base",
          "model_name": "LayoutModel",
          "model_module_version": "1.2.0",
          "state": {
            "_model_module": "@jupyter-widgets/base",
            "_model_module_version": "1.2.0",
            "_model_name": "LayoutModel",
            "_view_count": null,
            "_view_module": "@jupyter-widgets/base",
            "_view_module_version": "1.2.0",
            "_view_name": "LayoutView",
            "align_content": null,
            "align_items": null,
            "align_self": null,
            "border": null,
            "bottom": null,
            "display": null,
            "flex": null,
            "flex_flow": null,
            "grid_area": null,
            "grid_auto_columns": null,
            "grid_auto_flow": null,
            "grid_auto_rows": null,
            "grid_column": null,
            "grid_gap": null,
            "grid_row": null,
            "grid_template_areas": null,
            "grid_template_columns": null,
            "grid_template_rows": null,
            "height": null,
            "justify_content": null,
            "justify_items": null,
            "left": null,
            "margin": null,
            "max_height": null,
            "max_width": null,
            "min_height": null,
            "min_width": null,
            "object_fit": null,
            "object_position": null,
            "order": null,
            "overflow": null,
            "overflow_x": null,
            "overflow_y": null,
            "padding": null,
            "right": null,
            "top": null,
            "visibility": null,
            "width": null
          }
        },
        "35d1853c7afb4983a69bbe0ba90db4ff": {
          "model_module": "@jupyter-widgets/controls",
          "model_name": "DescriptionStyleModel",
          "model_module_version": "1.5.0",
          "state": {
            "_model_module": "@jupyter-widgets/controls",
            "_model_module_version": "1.5.0",
            "_model_name": "DescriptionStyleModel",
            "_view_count": null,
            "_view_module": "@jupyter-widgets/base",
            "_view_module_version": "1.2.0",
            "_view_name": "StyleView",
            "description_width": ""
          }
        },
        "84dca8c9a86f43a18945005c56d0a702": {
          "model_module": "@jupyter-widgets/base",
          "model_name": "LayoutModel",
          "model_module_version": "1.2.0",
          "state": {
            "_model_module": "@jupyter-widgets/base",
            "_model_module_version": "1.2.0",
            "_model_name": "LayoutModel",
            "_view_count": null,
            "_view_module": "@jupyter-widgets/base",
            "_view_module_version": "1.2.0",
            "_view_name": "LayoutView",
            "align_content": null,
            "align_items": null,
            "align_self": null,
            "border": null,
            "bottom": null,
            "display": null,
            "flex": null,
            "flex_flow": null,
            "grid_area": null,
            "grid_auto_columns": null,
            "grid_auto_flow": null,
            "grid_auto_rows": null,
            "grid_column": null,
            "grid_gap": null,
            "grid_row": null,
            "grid_template_areas": null,
            "grid_template_columns": null,
            "grid_template_rows": null,
            "height": null,
            "justify_content": null,
            "justify_items": null,
            "left": null,
            "margin": null,
            "max_height": null,
            "max_width": null,
            "min_height": null,
            "min_width": null,
            "object_fit": null,
            "object_position": null,
            "order": null,
            "overflow": null,
            "overflow_x": null,
            "overflow_y": null,
            "padding": null,
            "right": null,
            "top": null,
            "visibility": null,
            "width": null
          }
        },
        "5725f8d1bd464383a3fef696b5bfab5e": {
          "model_module": "@jupyter-widgets/controls",
          "model_name": "ProgressStyleModel",
          "model_module_version": "1.5.0",
          "state": {
            "_model_module": "@jupyter-widgets/controls",
            "_model_module_version": "1.5.0",
            "_model_name": "ProgressStyleModel",
            "_view_count": null,
            "_view_module": "@jupyter-widgets/base",
            "_view_module_version": "1.2.0",
            "_view_name": "StyleView",
            "bar_color": null,
            "description_width": ""
          }
        },
        "93e5815d5d14409d84c8eade7c6a87fd": {
          "model_module": "@jupyter-widgets/base",
          "model_name": "LayoutModel",
          "model_module_version": "1.2.0",
          "state": {
            "_model_module": "@jupyter-widgets/base",
            "_model_module_version": "1.2.0",
            "_model_name": "LayoutModel",
            "_view_count": null,
            "_view_module": "@jupyter-widgets/base",
            "_view_module_version": "1.2.0",
            "_view_name": "LayoutView",
            "align_content": null,
            "align_items": null,
            "align_self": null,
            "border": null,
            "bottom": null,
            "display": null,
            "flex": null,
            "flex_flow": null,
            "grid_area": null,
            "grid_auto_columns": null,
            "grid_auto_flow": null,
            "grid_auto_rows": null,
            "grid_column": null,
            "grid_gap": null,
            "grid_row": null,
            "grid_template_areas": null,
            "grid_template_columns": null,
            "grid_template_rows": null,
            "height": null,
            "justify_content": null,
            "justify_items": null,
            "left": null,
            "margin": null,
            "max_height": null,
            "max_width": null,
            "min_height": null,
            "min_width": null,
            "object_fit": null,
            "object_position": null,
            "order": null,
            "overflow": null,
            "overflow_x": null,
            "overflow_y": null,
            "padding": null,
            "right": null,
            "top": null,
            "visibility": null,
            "width": null
          }
        },
        "bdfc332c6c534e57892659f605750e65": {
          "model_module": "@jupyter-widgets/controls",
          "model_name": "DescriptionStyleModel",
          "model_module_version": "1.5.0",
          "state": {
            "_model_module": "@jupyter-widgets/controls",
            "_model_module_version": "1.5.0",
            "_model_name": "DescriptionStyleModel",
            "_view_count": null,
            "_view_module": "@jupyter-widgets/base",
            "_view_module_version": "1.2.0",
            "_view_name": "StyleView",
            "description_width": ""
          }
        },
        "5b1062e9414543e2af9e83ad4c950082": {
          "model_module": "@jupyter-widgets/controls",
          "model_name": "HBoxModel",
          "model_module_version": "1.5.0",
          "state": {
            "_dom_classes": [],
            "_model_module": "@jupyter-widgets/controls",
            "_model_module_version": "1.5.0",
            "_model_name": "HBoxModel",
            "_view_count": null,
            "_view_module": "@jupyter-widgets/controls",
            "_view_module_version": "1.5.0",
            "_view_name": "HBoxView",
            "box_style": "",
            "children": [
              "IPY_MODEL_065779db44054bfa856c95335958918b",
              "IPY_MODEL_5796fe1838574ec9bf7fb950bd3ab596",
              "IPY_MODEL_460b979c96ad431492d665e654ee009b"
            ],
            "layout": "IPY_MODEL_dc34845521a6467ca5dcd4aae2aa9e39"
          }
        },
        "065779db44054bfa856c95335958918b": {
          "model_module": "@jupyter-widgets/controls",
          "model_name": "HTMLModel",
          "model_module_version": "1.5.0",
          "state": {
            "_dom_classes": [],
            "_model_module": "@jupyter-widgets/controls",
            "_model_module_version": "1.5.0",
            "_model_name": "HTMLModel",
            "_view_count": null,
            "_view_module": "@jupyter-widgets/controls",
            "_view_module_version": "1.5.0",
            "_view_name": "HTMLView",
            "description": "",
            "description_tooltip": null,
            "layout": "IPY_MODEL_5e8f47cfe8454de487807bb93ef5e014",
            "placeholder": "​",
            "style": "IPY_MODEL_3877d437c1d449d0a4cae3da0d292ed4",
            "value": "100%"
          }
        },
        "5796fe1838574ec9bf7fb950bd3ab596": {
          "model_module": "@jupyter-widgets/controls",
          "model_name": "FloatProgressModel",
          "model_module_version": "1.5.0",
          "state": {
            "_dom_classes": [],
            "_model_module": "@jupyter-widgets/controls",
            "_model_module_version": "1.5.0",
            "_model_name": "FloatProgressModel",
            "_view_count": null,
            "_view_module": "@jupyter-widgets/controls",
            "_view_module_version": "1.5.0",
            "_view_name": "ProgressView",
            "bar_style": "success",
            "description": "",
            "description_tooltip": null,
            "layout": "IPY_MODEL_ec84b4d362b44a60994d0e588d215efb",
            "max": 100,
            "min": 0,
            "orientation": "horizontal",
            "style": "IPY_MODEL_8db17b5e8035468c9dce40d50f8407c6",
            "value": 100
          }
        },
        "460b979c96ad431492d665e654ee009b": {
          "model_module": "@jupyter-widgets/controls",
          "model_name": "HTMLModel",
          "model_module_version": "1.5.0",
          "state": {
            "_dom_classes": [],
            "_model_module": "@jupyter-widgets/controls",
            "_model_module_version": "1.5.0",
            "_model_name": "HTMLModel",
            "_view_count": null,
            "_view_module": "@jupyter-widgets/controls",
            "_view_module_version": "1.5.0",
            "_view_name": "HTMLView",
            "description": "",
            "description_tooltip": null,
            "layout": "IPY_MODEL_a94719e0109f414eb82823886e12273f",
            "placeholder": "​",
            "style": "IPY_MODEL_4fdea7a64ddb42068c0eafc7737be7e4",
            "value": " 100/100 [00:02&lt;00:00, 50.37it/s]"
          }
        },
        "dc34845521a6467ca5dcd4aae2aa9e39": {
          "model_module": "@jupyter-widgets/base",
          "model_name": "LayoutModel",
          "model_module_version": "1.2.0",
          "state": {
            "_model_module": "@jupyter-widgets/base",
            "_model_module_version": "1.2.0",
            "_model_name": "LayoutModel",
            "_view_count": null,
            "_view_module": "@jupyter-widgets/base",
            "_view_module_version": "1.2.0",
            "_view_name": "LayoutView",
            "align_content": null,
            "align_items": null,
            "align_self": null,
            "border": null,
            "bottom": null,
            "display": null,
            "flex": null,
            "flex_flow": null,
            "grid_area": null,
            "grid_auto_columns": null,
            "grid_auto_flow": null,
            "grid_auto_rows": null,
            "grid_column": null,
            "grid_gap": null,
            "grid_row": null,
            "grid_template_areas": null,
            "grid_template_columns": null,
            "grid_template_rows": null,
            "height": null,
            "justify_content": null,
            "justify_items": null,
            "left": null,
            "margin": null,
            "max_height": null,
            "max_width": null,
            "min_height": null,
            "min_width": null,
            "object_fit": null,
            "object_position": null,
            "order": null,
            "overflow": null,
            "overflow_x": null,
            "overflow_y": null,
            "padding": null,
            "right": null,
            "top": null,
            "visibility": null,
            "width": null
          }
        },
        "5e8f47cfe8454de487807bb93ef5e014": {
          "model_module": "@jupyter-widgets/base",
          "model_name": "LayoutModel",
          "model_module_version": "1.2.0",
          "state": {
            "_model_module": "@jupyter-widgets/base",
            "_model_module_version": "1.2.0",
            "_model_name": "LayoutModel",
            "_view_count": null,
            "_view_module": "@jupyter-widgets/base",
            "_view_module_version": "1.2.0",
            "_view_name": "LayoutView",
            "align_content": null,
            "align_items": null,
            "align_self": null,
            "border": null,
            "bottom": null,
            "display": null,
            "flex": null,
            "flex_flow": null,
            "grid_area": null,
            "grid_auto_columns": null,
            "grid_auto_flow": null,
            "grid_auto_rows": null,
            "grid_column": null,
            "grid_gap": null,
            "grid_row": null,
            "grid_template_areas": null,
            "grid_template_columns": null,
            "grid_template_rows": null,
            "height": null,
            "justify_content": null,
            "justify_items": null,
            "left": null,
            "margin": null,
            "max_height": null,
            "max_width": null,
            "min_height": null,
            "min_width": null,
            "object_fit": null,
            "object_position": null,
            "order": null,
            "overflow": null,
            "overflow_x": null,
            "overflow_y": null,
            "padding": null,
            "right": null,
            "top": null,
            "visibility": null,
            "width": null
          }
        },
        "3877d437c1d449d0a4cae3da0d292ed4": {
          "model_module": "@jupyter-widgets/controls",
          "model_name": "DescriptionStyleModel",
          "model_module_version": "1.5.0",
          "state": {
            "_model_module": "@jupyter-widgets/controls",
            "_model_module_version": "1.5.0",
            "_model_name": "DescriptionStyleModel",
            "_view_count": null,
            "_view_module": "@jupyter-widgets/base",
            "_view_module_version": "1.2.0",
            "_view_name": "StyleView",
            "description_width": ""
          }
        },
        "ec84b4d362b44a60994d0e588d215efb": {
          "model_module": "@jupyter-widgets/base",
          "model_name": "LayoutModel",
          "model_module_version": "1.2.0",
          "state": {
            "_model_module": "@jupyter-widgets/base",
            "_model_module_version": "1.2.0",
            "_model_name": "LayoutModel",
            "_view_count": null,
            "_view_module": "@jupyter-widgets/base",
            "_view_module_version": "1.2.0",
            "_view_name": "LayoutView",
            "align_content": null,
            "align_items": null,
            "align_self": null,
            "border": null,
            "bottom": null,
            "display": null,
            "flex": null,
            "flex_flow": null,
            "grid_area": null,
            "grid_auto_columns": null,
            "grid_auto_flow": null,
            "grid_auto_rows": null,
            "grid_column": null,
            "grid_gap": null,
            "grid_row": null,
            "grid_template_areas": null,
            "grid_template_columns": null,
            "grid_template_rows": null,
            "height": null,
            "justify_content": null,
            "justify_items": null,
            "left": null,
            "margin": null,
            "max_height": null,
            "max_width": null,
            "min_height": null,
            "min_width": null,
            "object_fit": null,
            "object_position": null,
            "order": null,
            "overflow": null,
            "overflow_x": null,
            "overflow_y": null,
            "padding": null,
            "right": null,
            "top": null,
            "visibility": null,
            "width": null
          }
        },
        "8db17b5e8035468c9dce40d50f8407c6": {
          "model_module": "@jupyter-widgets/controls",
          "model_name": "ProgressStyleModel",
          "model_module_version": "1.5.0",
          "state": {
            "_model_module": "@jupyter-widgets/controls",
            "_model_module_version": "1.5.0",
            "_model_name": "ProgressStyleModel",
            "_view_count": null,
            "_view_module": "@jupyter-widgets/base",
            "_view_module_version": "1.2.0",
            "_view_name": "StyleView",
            "bar_color": null,
            "description_width": ""
          }
        },
        "a94719e0109f414eb82823886e12273f": {
          "model_module": "@jupyter-widgets/base",
          "model_name": "LayoutModel",
          "model_module_version": "1.2.0",
          "state": {
            "_model_module": "@jupyter-widgets/base",
            "_model_module_version": "1.2.0",
            "_model_name": "LayoutModel",
            "_view_count": null,
            "_view_module": "@jupyter-widgets/base",
            "_view_module_version": "1.2.0",
            "_view_name": "LayoutView",
            "align_content": null,
            "align_items": null,
            "align_self": null,
            "border": null,
            "bottom": null,
            "display": null,
            "flex": null,
            "flex_flow": null,
            "grid_area": null,
            "grid_auto_columns": null,
            "grid_auto_flow": null,
            "grid_auto_rows": null,
            "grid_column": null,
            "grid_gap": null,
            "grid_row": null,
            "grid_template_areas": null,
            "grid_template_columns": null,
            "grid_template_rows": null,
            "height": null,
            "justify_content": null,
            "justify_items": null,
            "left": null,
            "margin": null,
            "max_height": null,
            "max_width": null,
            "min_height": null,
            "min_width": null,
            "object_fit": null,
            "object_position": null,
            "order": null,
            "overflow": null,
            "overflow_x": null,
            "overflow_y": null,
            "padding": null,
            "right": null,
            "top": null,
            "visibility": null,
            "width": null
          }
        },
        "4fdea7a64ddb42068c0eafc7737be7e4": {
          "model_module": "@jupyter-widgets/controls",
          "model_name": "DescriptionStyleModel",
          "model_module_version": "1.5.0",
          "state": {
            "_model_module": "@jupyter-widgets/controls",
            "_model_module_version": "1.5.0",
            "_model_name": "DescriptionStyleModel",
            "_view_count": null,
            "_view_module": "@jupyter-widgets/base",
            "_view_module_version": "1.2.0",
            "_view_name": "StyleView",
            "description_width": ""
          }
        },
        "dcbeaff07ddb40fc837355944755d5f5": {
          "model_module": "@jupyter-widgets/controls",
          "model_name": "HBoxModel",
          "model_module_version": "1.5.0",
          "state": {
            "_dom_classes": [],
            "_model_module": "@jupyter-widgets/controls",
            "_model_module_version": "1.5.0",
            "_model_name": "HBoxModel",
            "_view_count": null,
            "_view_module": "@jupyter-widgets/controls",
            "_view_module_version": "1.5.0",
            "_view_name": "HBoxView",
            "box_style": "",
            "children": [
              "IPY_MODEL_9e74a73759774bb3ac6b52e55316f583",
              "IPY_MODEL_e1c6f0b530de4a1db7fcf10bd187f78a",
              "IPY_MODEL_0ac2832965484e67af89e779a73eb652"
            ],
            "layout": "IPY_MODEL_48cd940aad4e4f2aa9fd6e5147b839a0"
          }
        },
        "9e74a73759774bb3ac6b52e55316f583": {
          "model_module": "@jupyter-widgets/controls",
          "model_name": "HTMLModel",
          "model_module_version": "1.5.0",
          "state": {
            "_dom_classes": [],
            "_model_module": "@jupyter-widgets/controls",
            "_model_module_version": "1.5.0",
            "_model_name": "HTMLModel",
            "_view_count": null,
            "_view_module": "@jupyter-widgets/controls",
            "_view_module_version": "1.5.0",
            "_view_name": "HTMLView",
            "description": "",
            "description_tooltip": null,
            "layout": "IPY_MODEL_4044d32ba10a4bdd8a5657bccce3f92d",
            "placeholder": "​",
            "style": "IPY_MODEL_2d178c07f95a4e24af9aec3a6f2c818d",
            "value": "100%"
          }
        },
        "e1c6f0b530de4a1db7fcf10bd187f78a": {
          "model_module": "@jupyter-widgets/controls",
          "model_name": "FloatProgressModel",
          "model_module_version": "1.5.0",
          "state": {
            "_dom_classes": [],
            "_model_module": "@jupyter-widgets/controls",
            "_model_module_version": "1.5.0",
            "_model_name": "FloatProgressModel",
            "_view_count": null,
            "_view_module": "@jupyter-widgets/controls",
            "_view_module_version": "1.5.0",
            "_view_name": "ProgressView",
            "bar_style": "success",
            "description": "",
            "description_tooltip": null,
            "layout": "IPY_MODEL_f471a4ca52fe4fc6be6277309bbd9f01",
            "max": 100,
            "min": 0,
            "orientation": "horizontal",
            "style": "IPY_MODEL_908d2c3f69c543c5b7e08ce81ed4feaa",
            "value": 100
          }
        },
        "0ac2832965484e67af89e779a73eb652": {
          "model_module": "@jupyter-widgets/controls",
          "model_name": "HTMLModel",
          "model_module_version": "1.5.0",
          "state": {
            "_dom_classes": [],
            "_model_module": "@jupyter-widgets/controls",
            "_model_module_version": "1.5.0",
            "_model_name": "HTMLModel",
            "_view_count": null,
            "_view_module": "@jupyter-widgets/controls",
            "_view_module_version": "1.5.0",
            "_view_name": "HTMLView",
            "description": "",
            "description_tooltip": null,
            "layout": "IPY_MODEL_170b93fa14c6486ea51b25f711082d10",
            "placeholder": "​",
            "style": "IPY_MODEL_8eac01b678794f76b838303070f510af",
            "value": " 100/100 [00:02&lt;00:00, 50.98it/s]"
          }
        },
        "48cd940aad4e4f2aa9fd6e5147b839a0": {
          "model_module": "@jupyter-widgets/base",
          "model_name": "LayoutModel",
          "model_module_version": "1.2.0",
          "state": {
            "_model_module": "@jupyter-widgets/base",
            "_model_module_version": "1.2.0",
            "_model_name": "LayoutModel",
            "_view_count": null,
            "_view_module": "@jupyter-widgets/base",
            "_view_module_version": "1.2.0",
            "_view_name": "LayoutView",
            "align_content": null,
            "align_items": null,
            "align_self": null,
            "border": null,
            "bottom": null,
            "display": null,
            "flex": null,
            "flex_flow": null,
            "grid_area": null,
            "grid_auto_columns": null,
            "grid_auto_flow": null,
            "grid_auto_rows": null,
            "grid_column": null,
            "grid_gap": null,
            "grid_row": null,
            "grid_template_areas": null,
            "grid_template_columns": null,
            "grid_template_rows": null,
            "height": null,
            "justify_content": null,
            "justify_items": null,
            "left": null,
            "margin": null,
            "max_height": null,
            "max_width": null,
            "min_height": null,
            "min_width": null,
            "object_fit": null,
            "object_position": null,
            "order": null,
            "overflow": null,
            "overflow_x": null,
            "overflow_y": null,
            "padding": null,
            "right": null,
            "top": null,
            "visibility": null,
            "width": null
          }
        },
        "4044d32ba10a4bdd8a5657bccce3f92d": {
          "model_module": "@jupyter-widgets/base",
          "model_name": "LayoutModel",
          "model_module_version": "1.2.0",
          "state": {
            "_model_module": "@jupyter-widgets/base",
            "_model_module_version": "1.2.0",
            "_model_name": "LayoutModel",
            "_view_count": null,
            "_view_module": "@jupyter-widgets/base",
            "_view_module_version": "1.2.0",
            "_view_name": "LayoutView",
            "align_content": null,
            "align_items": null,
            "align_self": null,
            "border": null,
            "bottom": null,
            "display": null,
            "flex": null,
            "flex_flow": null,
            "grid_area": null,
            "grid_auto_columns": null,
            "grid_auto_flow": null,
            "grid_auto_rows": null,
            "grid_column": null,
            "grid_gap": null,
            "grid_row": null,
            "grid_template_areas": null,
            "grid_template_columns": null,
            "grid_template_rows": null,
            "height": null,
            "justify_content": null,
            "justify_items": null,
            "left": null,
            "margin": null,
            "max_height": null,
            "max_width": null,
            "min_height": null,
            "min_width": null,
            "object_fit": null,
            "object_position": null,
            "order": null,
            "overflow": null,
            "overflow_x": null,
            "overflow_y": null,
            "padding": null,
            "right": null,
            "top": null,
            "visibility": null,
            "width": null
          }
        },
        "2d178c07f95a4e24af9aec3a6f2c818d": {
          "model_module": "@jupyter-widgets/controls",
          "model_name": "DescriptionStyleModel",
          "model_module_version": "1.5.0",
          "state": {
            "_model_module": "@jupyter-widgets/controls",
            "_model_module_version": "1.5.0",
            "_model_name": "DescriptionStyleModel",
            "_view_count": null,
            "_view_module": "@jupyter-widgets/base",
            "_view_module_version": "1.2.0",
            "_view_name": "StyleView",
            "description_width": ""
          }
        },
        "f471a4ca52fe4fc6be6277309bbd9f01": {
          "model_module": "@jupyter-widgets/base",
          "model_name": "LayoutModel",
          "model_module_version": "1.2.0",
          "state": {
            "_model_module": "@jupyter-widgets/base",
            "_model_module_version": "1.2.0",
            "_model_name": "LayoutModel",
            "_view_count": null,
            "_view_module": "@jupyter-widgets/base",
            "_view_module_version": "1.2.0",
            "_view_name": "LayoutView",
            "align_content": null,
            "align_items": null,
            "align_self": null,
            "border": null,
            "bottom": null,
            "display": null,
            "flex": null,
            "flex_flow": null,
            "grid_area": null,
            "grid_auto_columns": null,
            "grid_auto_flow": null,
            "grid_auto_rows": null,
            "grid_column": null,
            "grid_gap": null,
            "grid_row": null,
            "grid_template_areas": null,
            "grid_template_columns": null,
            "grid_template_rows": null,
            "height": null,
            "justify_content": null,
            "justify_items": null,
            "left": null,
            "margin": null,
            "max_height": null,
            "max_width": null,
            "min_height": null,
            "min_width": null,
            "object_fit": null,
            "object_position": null,
            "order": null,
            "overflow": null,
            "overflow_x": null,
            "overflow_y": null,
            "padding": null,
            "right": null,
            "top": null,
            "visibility": null,
            "width": null
          }
        },
        "908d2c3f69c543c5b7e08ce81ed4feaa": {
          "model_module": "@jupyter-widgets/controls",
          "model_name": "ProgressStyleModel",
          "model_module_version": "1.5.0",
          "state": {
            "_model_module": "@jupyter-widgets/controls",
            "_model_module_version": "1.5.0",
            "_model_name": "ProgressStyleModel",
            "_view_count": null,
            "_view_module": "@jupyter-widgets/base",
            "_view_module_version": "1.2.0",
            "_view_name": "StyleView",
            "bar_color": null,
            "description_width": ""
          }
        },
        "170b93fa14c6486ea51b25f711082d10": {
          "model_module": "@jupyter-widgets/base",
          "model_name": "LayoutModel",
          "model_module_version": "1.2.0",
          "state": {
            "_model_module": "@jupyter-widgets/base",
            "_model_module_version": "1.2.0",
            "_model_name": "LayoutModel",
            "_view_count": null,
            "_view_module": "@jupyter-widgets/base",
            "_view_module_version": "1.2.0",
            "_view_name": "LayoutView",
            "align_content": null,
            "align_items": null,
            "align_self": null,
            "border": null,
            "bottom": null,
            "display": null,
            "flex": null,
            "flex_flow": null,
            "grid_area": null,
            "grid_auto_columns": null,
            "grid_auto_flow": null,
            "grid_auto_rows": null,
            "grid_column": null,
            "grid_gap": null,
            "grid_row": null,
            "grid_template_areas": null,
            "grid_template_columns": null,
            "grid_template_rows": null,
            "height": null,
            "justify_content": null,
            "justify_items": null,
            "left": null,
            "margin": null,
            "max_height": null,
            "max_width": null,
            "min_height": null,
            "min_width": null,
            "object_fit": null,
            "object_position": null,
            "order": null,
            "overflow": null,
            "overflow_x": null,
            "overflow_y": null,
            "padding": null,
            "right": null,
            "top": null,
            "visibility": null,
            "width": null
          }
        },
        "8eac01b678794f76b838303070f510af": {
          "model_module": "@jupyter-widgets/controls",
          "model_name": "DescriptionStyleModel",
          "model_module_version": "1.5.0",
          "state": {
            "_model_module": "@jupyter-widgets/controls",
            "_model_module_version": "1.5.0",
            "_model_name": "DescriptionStyleModel",
            "_view_count": null,
            "_view_module": "@jupyter-widgets/base",
            "_view_module_version": "1.2.0",
            "_view_name": "StyleView",
            "description_width": ""
          }
        }
      }
    }
  },
  "nbformat": 4,
  "nbformat_minor": 0
}