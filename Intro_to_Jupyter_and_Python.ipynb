{
  "nbformat": 4,
  "nbformat_minor": 0,
  "metadata": {
    "colab": {
      "provenance": [],
      "include_colab_link": true
    },
    "kernelspec": {
      "name": "python3",
      "display_name": "Python 3"
    },
    "language_info": {
      "name": "python"
    }
  },
  "cells": [
    {
      "cell_type": "markdown",
      "metadata": {
        "id": "view-in-github",
        "colab_type": "text"
      },
      "source": [
        "<a href=\"https://colab.research.google.com/github/tosittig/CASAIS/blob/Week-1/Intro_to_Jupyter_and_Python.ipynb\" target=\"_parent\"><img src=\"https://colab.research.google.com/assets/colab-badge.svg\" alt=\"Open In Colab\"/></a>"
      ]
    },
    {
      "cell_type": "markdown",
      "source": [
        "# Introduction\n",
        "\n",
        "Jupyter notebooks are interactive websites where you can run Python code. They can be run on a JupyterHub, on your local computer (e.g., via the Anaconda distribution [https://www.anaconda.com/](https://www.anaconda.com/)) or on platforms like Google colab ([colab.research.google.com](https://colab.research.google.com))\n",
        "\n",
        "A Jupyter notebook is a sequence of cells. There are two types of cells. *Text cells* contain text, like this one. *Code cells* contain Python code and are usually black, like the one below.\n",
        "\n"
      ],
      "metadata": {
        "id": "Lv_Da0mUNCIJ"
      }
    },
    {
      "cell_type": "code",
      "execution_count": null,
      "metadata": {
        "id": "NTXnPJKVM_-e"
      },
      "outputs": [],
      "source": [
        "n = 7"
      ]
    },
    {
      "cell_type": "markdown",
      "source": [
        "Code cells need to be run. You do so by moving your pointer to the left part of the cell and then pressing the play button that appears next to it. If you try this with the cell above, you should see a green tick appearing next to it.\n",
        "\n",
        "The code cell above creates a *Python object* called `n` and stores in it the value 7. Python objects are placeholders of data."
      ],
      "metadata": {
        "id": "y0ScQV5NOCoB"
      }
    },
    {
      "cell_type": "markdown",
      "source": [
        "The code cell below checks if the value in `n` is greater than 5 and prints the message \"greater than 5\" if that is the case."
      ],
      "metadata": {
        "id": "ajJL3PbfOgy4"
      }
    },
    {
      "cell_type": "code",
      "source": [
        "if n > 5:\n",
        "  print(\"greater than 5\")"
      ],
      "metadata": {
        "colab": {
          "base_uri": "https://localhost:8080/"
        },
        "id": "Ux6F6yz6ORPy",
        "outputId": "17476524-d127-4970-b200-2b1c8d0cc83c"
      },
      "execution_count": null,
      "outputs": [
        {
          "output_type": "stream",
          "name": "stdout",
          "text": [
            "greater than 5\n"
          ]
        }
      ]
    },
    {
      "cell_type": "markdown",
      "source": [
        "Please note that the `print` part is indented after the `if` part. If you run the cell above, you see that a message appears right below it. This is because the `print` commands instruct to print a message in the console. Try changing the message and the value 5 and running the cell again to see what happens."
      ],
      "metadata": {
        "id": "Th3dzAVZOsfS"
      }
    },
    {
      "cell_type": "markdown",
      "source": [
        "What is interesting about Jupyter notebooks is that you can run code cells in any order. For example, try the following:\n",
        "\n",
        "1. Go to the cell where `n` is defined.\n",
        "1. Change 7 for another value and run the cell.\n",
        "1. Change the cell with the `if` part and run it.\n",
        "\n",
        "Note how the message appearing after running the cell above changes depending on your changes: It is therefore important to remember the sequence in which the individual cells have been executed. This is why code cells are continuously numbered as they are executed. For the sake of clarity and to avoid lack of reproducibility, it's good practice to run the cells sequentially."
      ],
      "metadata": {
        "id": "ewpdvUQoPErK"
      }
    },
    {
      "cell_type": "markdown",
      "source": [
        "## Arithmetic operations in Python\n",
        "\n",
        "You can do basic arithmetic operations in Python. Run the code cells below and see how the result printed in the console."
      ],
      "metadata": {
        "id": "q9_uW7whQT4y"
      }
    },
    {
      "cell_type": "code",
      "source": [
        "n + 1"
      ],
      "metadata": {
        "colab": {
          "base_uri": "https://localhost:8080/"
        },
        "id": "lRixc9zVRRb_",
        "outputId": "9869beed-71ea-4834-cef6-3902a97aca54"
      },
      "execution_count": null,
      "outputs": [
        {
          "output_type": "execute_result",
          "data": {
            "text/plain": [
              "15"
            ]
          },
          "metadata": {},
          "execution_count": 6
        }
      ]
    },
    {
      "cell_type": "code",
      "source": [
        "n ** 2"
      ],
      "metadata": {
        "colab": {
          "base_uri": "https://localhost:8080/"
        },
        "id": "XGbJQgsbRS7z",
        "outputId": "dcc6314c-22c7-4fa3-db90-6e849b963af6"
      },
      "execution_count": null,
      "outputs": [
        {
          "output_type": "execute_result",
          "data": {
            "text/plain": [
              "196"
            ]
          },
          "metadata": {},
          "execution_count": 7
        }
      ]
    },
    {
      "cell_type": "code",
      "source": [
        "n - 3"
      ],
      "metadata": {
        "colab": {
          "base_uri": "https://localhost:8080/"
        },
        "id": "8CqBhtNGRT4_",
        "outputId": "07d0df39-1a35-4cc9-d9c1-ab7512e070ea"
      },
      "execution_count": null,
      "outputs": [
        {
          "output_type": "execute_result",
          "data": {
            "text/plain": [
              "11"
            ]
          },
          "metadata": {},
          "execution_count": 8
        }
      ]
    },
    {
      "cell_type": "code",
      "source": [
        "a = 5\n",
        "b = 2\n",
        "a % b"
      ],
      "metadata": {
        "colab": {
          "base_uri": "https://localhost:8080/"
        },
        "id": "VOiphlvxRWfI",
        "outputId": "9f9d7c60-13a9-44d4-c7d9-e45d4d5eba8e"
      },
      "execution_count": null,
      "outputs": [
        {
          "output_type": "execute_result",
          "data": {
            "text/plain": [
              "0"
            ]
          },
          "metadata": {},
          "execution_count": 9
        }
      ]
    },
    {
      "cell_type": "markdown",
      "source": [
        "Guess what the `%` operation does? Change the values for `a` and `b` do and find out."
      ],
      "metadata": {
        "id": "gfljcpqYRa7K"
      }
    },
    {
      "cell_type": "markdown",
      "source": [
        "## Check if a number is prime\n",
        "\n",
        "Python code can be used to run *algorithms*, these are step-by-step procedures designed to solve specific problems and perform tasks efficiently in the realm of computer science and mathematics.\n",
        "\n",
        "Consider for example the following algorithm to check if a natural number `n` is prime:\n",
        "\n",
        "1. Make a table with all numbers from 2, ..., n - 1.\n",
        "2. For each number `d` in the table, if `d` divides `n`, then `n` is not prime.\n",
        "3. If no number in the table divides `n`, then `n` is prime.\n",
        "\n",
        "We can implement this algorithm in a code cell as follows:"
      ],
      "metadata": {
        "id": "P7khNNmVPnnG"
      }
    },
    {
      "cell_type": "code",
      "source": [
        "n = 14\n",
        "is_prime = True\n",
        "table = range(2, n)\n",
        "for d in table:\n",
        "  if n % d == 0:\n",
        "    is_prime = False\n",
        "\n",
        "if is_prime == True:\n",
        "  print(\"Number is prime.\")\n",
        "else:\n",
        "  print(\"Number is not prime.\")"
      ],
      "metadata": {
        "colab": {
          "base_uri": "https://localhost:8080/"
        },
        "id": "Za8LfVU6PDzD",
        "outputId": "beff22d0-bbb8-48a2-f7d7-be89238d3616"
      },
      "execution_count": null,
      "outputs": [
        {
          "output_type": "stream",
          "name": "stdout",
          "text": [
            "Number is not prime.\n"
          ]
        }
      ]
    },
    {
      "cell_type": "markdown",
      "source": [
        "You can create cells in Jupyter notebooks. Try to create a code cell that checks if `n` is even or odd."
      ],
      "metadata": {
        "id": "YIkAcMgYRtsd"
      }
    },
    {
      "cell_type": "code",
      "source": [],
      "metadata": {
        "id": "KOyCwgvvATEa"
      },
      "execution_count": null,
      "outputs": []
    }
  ]
}