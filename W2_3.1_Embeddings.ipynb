{
 "cells": [
  {
   "cell_type": "markdown",
   "id": "d6694f6d",
   "metadata": {},
   "source": [
    "# FastText\n",
    "In this notebook, we will look at the embeddings that are made available by Facebook research through the fastText package. This package is unfortunately not available via Anaconda, so we have to download it directly using the package manage `pip` (this needs to be done only once).\n",
    "Also, `!pip install fasttext` does not work on newer Python version due to some issue with the installation file (for techies: the *wheel*) of that package. `fasttext-wheel` can directly be obtained and installed via pip, if needed (see here for details: hint: https://github.com/facebookresearch/fastText/issues/1298):"
   ]
  },
  {
   "cell_type": "code",
   "execution_count": null,
   "id": "9e0e7b32",
   "metadata": {},
   "outputs": [],
   "source": [
    "!pip install fasttext-wheel"
   ]
  },
  {
   "cell_type": "code",
   "execution_count": null,
   "id": "8846988a",
   "metadata": {},
   "outputs": [],
   "source": [
    "import tensorflow as tf"
   ]
  },
  {
   "cell_type": "markdown",
   "id": "f82c596c-fb63-4964-affd-5e2cb04d9567",
   "metadata": {},
   "source": [
    "Word vectors can be loaded with a single command. The file with the word embeddings has to be downloaded first from https://fasttext.cc/docs/en/crawl-vectors.html. \n",
    "\n",
    "**Note: this file is 4.2 GB large. The unzipped version is 7GB!**"
   ]
  },
  {
   "cell_type": "code",
   "execution_count": null,
   "id": "d24e1383-652a-417e-8dbe-384a61d43268",
   "metadata": {},
   "outputs": [],
   "source": [
    "import fasttext\n",
    "import fasttext.util\n",
    "ft = fasttext.load_model('fastTextModels/cc.en.300.bin')"
   ]
  },
  {
   "cell_type": "code",
   "execution_count": null,
   "id": "44ac8ab9-2cb9-4860-a122-433cbbec1c78",
   "metadata": {},
   "outputs": [],
   "source": [
    "ft.get_word_vector('hello')"
   ]
  },
  {
   "cell_type": "code",
   "execution_count": null,
   "id": "32b858a1-7973-4641-9120-f4b0c44df7be",
   "metadata": {},
   "outputs": [],
   "source": [
    "ft.get_nearest_neighbors('hello')"
   ]
  },
  {
   "cell_type": "code",
   "execution_count": null,
   "id": "d7f8f6dc-b86d-45bf-8b98-59a1883a3d76",
   "metadata": {},
   "outputs": [],
   "source": [
    "ft.get_analogies('berlin', 'germany', 'france')"
   ]
  },
  {
   "cell_type": "code",
   "execution_count": null,
   "id": "f147c772-8d66-48c9-8069-6927b9805d72",
   "metadata": {},
   "outputs": [],
   "source": []
  }
 ],
 "metadata": {
  "kernelspec": {
   "display_name": "Python 3 (ipykernel)",
   "language": "python",
   "name": "python3"
  },
  "language_info": {
   "codemirror_mode": {
    "name": "ipython",
    "version": 3
   },
   "file_extension": ".py",
   "mimetype": "text/x-python",
   "name": "python",
   "nbconvert_exporter": "python",
   "pygments_lexer": "ipython3",
   "version": "3.11.7"
  }
 },
 "nbformat": 4,
 "nbformat_minor": 5
}
