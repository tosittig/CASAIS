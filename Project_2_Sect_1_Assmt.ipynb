{
  "nbformat": 4,
  "nbformat_minor": 0,
  "metadata": {
    "colab": {
      "provenance": [],
      "authorship_tag": "ABX9TyNJdQ99Hmg2WIL42XDJXeFZ",
      "include_colab_link": true
    },
    "kernelspec": {
      "name": "python3",
      "display_name": "Python 3"
    },
    "language_info": {
      "name": "python"
    }
  },
  "cells": [
    {
      "cell_type": "markdown",
      "metadata": {
        "id": "view-in-github",
        "colab_type": "text"
      },
      "source": [
        "<a href=\"https://colab.research.google.com/github/tosittig/CASAIS/blob/main/Project_2_Sect_1_Assmt.ipynb\" target=\"_parent\"><img src=\"https://colab.research.google.com/assets/colab-badge.svg\" alt=\"Open In Colab\"/></a>"
      ]
    },
    {
      "cell_type": "markdown",
      "source": [
        "#Multiclass-Image-Classification using CIFAR-100\n",
        "##Project 2 - Section 1\n",
        "### List of Tasks\n",
        "\n",
        "1. Download the CIFAR-100 dataset from the Keras library. You can download it using the following command tf.keras.datasets.cifar100.load_data(). Note that this is a dataset different from CIFAR-10. See more information here.\n",
        "\n",
        "1. Split the data into training and testing sets.\n",
        "1. Normalise the pixel values and one-hot encode the labels.\n",
        "1. Compile, train and evaluate the model. Please note that the selection of hyperparameters as well as the size of the neural network is your own decision."
      ],
      "metadata": {
        "id": "8P5OM8oVog1L"
      }
    },
    {
      "cell_type": "markdown",
      "source": [],
      "metadata": {
        "id": "lQ7AoK9bqm9y"
      }
    }
  ]
}