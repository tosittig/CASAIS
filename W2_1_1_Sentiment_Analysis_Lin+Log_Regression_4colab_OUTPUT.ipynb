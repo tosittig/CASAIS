{
  "cells": [
    {
      "cell_type": "markdown",
      "metadata": {
        "id": "view-in-github",
        "colab_type": "text"
      },
      "source": [
        "<a href=\"https://colab.research.google.com/github/tosittig/CASAIS/blob/main/W2_1_1_Sentiment_Analysis_Lin%2BLog_Regression_4colab_OUTPUT.ipynb\" target=\"_parent\"><img src=\"https://colab.research.google.com/assets/colab-badge.svg\" alt=\"Open In Colab\"/></a>"
      ]
    },
    {
      "cell_type": "markdown",
      "metadata": {
        "id": "3qLvl1v98A4_"
      },
      "source": [
        "# Simple Sentiment Classification: Bag of Words\n",
        "\n",
        "In this notebook, we consider *sentiment classification*, a standard task in natural language processing. Based on a review of a movie (or a restaurant, hotel, etc.), we want to predict whether the person liked the movie or not. As an example, we use a data set provided by the International Movie Database website www.imdb.com. The provided reviews are labeled with a binary rating whether they are positive (label 1) or negative (label 0)."
      ]
    },
    {
      "cell_type": "markdown",
      "metadata": {
        "id": "X8DKB6tD88y-"
      },
      "source": [
        "## Set-up\n",
        "First of all, we need to load the libraries that we will need for this task. We will use keras and tensorflow for this code example, so we load the relevant parts of this framework:"
      ]
    },
    {
      "cell_type": "code",
      "execution_count": null,
      "metadata": {
        "id": "r2mlKlDL9Sqx"
      },
      "outputs": [],
      "source": [
        "import numpy as np\n",
        "import tensorflow as tf\n",
        "import tensorflow_datasets as tfds"
      ]
    },
    {
      "cell_type": "code",
      "execution_count": null,
      "metadata": {
        "id": "Lmpc4ffC9tuz"
      },
      "outputs": [],
      "source": [
        "from tensorflow.keras.models import Sequential\n",
        "from tensorflow.keras.layers import Dense, Activation, Dropout\n",
        "from tensorflow.keras.layers import Input, TextVectorization, Embedding, Conv1D, Flatten, LSTM, Bidirectional\n",
        "from tensorflow.keras.losses import BinaryCrossentropy\n",
        "from tensorflow.keras.optimizers import Adam, RMSprop\n",
        "from tensorflow.keras.utils import to_categorical\n",
        "from tensorflow.keras.callbacks import EarlyStopping\n",
        "from tensorflow.keras.initializers import Constant"
      ]
    },
    {
      "cell_type": "code",
      "execution_count": null,
      "metadata": {
        "id": "yjdwz9uU9vZM"
      },
      "outputs": [],
      "source": [
        "# initialize random number generators to ensure reproducibility:\n",
        "tf.random.set_seed(123)\n",
        "np.random.seed(123)"
      ]
    },
    {
      "cell_type": "code",
      "execution_count": null,
      "metadata": {
        "id": "k9CKWApuMOFW"
      },
      "outputs": [],
      "source": [
        "# some more general libraries for evaluation purposes:\n",
        "import matplotlib.pyplot as plt\n",
        "import datetime"
      ]
    },
    {
      "cell_type": "code",
      "execution_count": null,
      "metadata": {
        "id": "lDEXL2hrf20K"
      },
      "outputs": [],
      "source": [
        "# set some model parameters\n",
        "VOCAB_SIZE = 1000\n",
        "NUM_EPOCHS = 50 # set lower for fast results - set higher for good results\n",
        "BUFFER_SIZE = 1000\n",
        "BATCH_SIZE = 512\n",
        "EMBED_DIM = 100"
      ]
    },
    {
      "cell_type": "code",
      "execution_count": null,
      "metadata": {
        "id": "g78CtSlGIuT3"
      },
      "outputs": [],
      "source": [
        "# Configurations\n",
        "tf.config.run_functions_eagerly(True)\n",
        "\n",
        "import os\n",
        "os.environ[\"KMP_DUPLICATE_LIB_OK\"]=\"TRUE\""
      ]
    },
    {
      "cell_type": "markdown",
      "metadata": {
        "id": "zkIem1L292T5"
      },
      "source": [
        "## Loading the Data\n",
        "The IMDb data set is available via the library `tensorflow_datasets`, which allows for easy access. The data is already split into a TRAIN and TEST set, each containing 25'000 labeled reviews. In order to obtain also a validation set, we further divide the TRAIN data set into 80% training and 20% validation data. The labels come directly with the respective texts:"
      ]
    },
    {
      "cell_type": "code",
      "execution_count": null,
      "metadata": {
        "id": "b2aEUYnT_uTm"
      },
      "outputs": [],
      "source": [
        "train_ds, val_ds, test_ds = tfds.load(\n",
        "    name = \"imdb_reviews\",\n",
        "    split = [ 'train[:80%]', 'train[80%:]', 'test' ],\n",
        "    as_supervised = True)"
      ]
    },
    {
      "cell_type": "markdown",
      "metadata": {
        "id": "rK8P_crGBJYe"
      },
      "source": [
        "The data sets are of a special data type which is optimized for handling large amounts of data and processing them on mulitple machines in parallel. We can get the number of samples as follows:"
      ]
    },
    {
      "cell_type": "code",
      "execution_count": null,
      "metadata": {
        "colab": {
          "base_uri": "https://localhost:8080/"
        },
        "id": "PJH762iE_0Sn",
        "outputId": "c45ad948-0573-4d3f-b514-545690ee0300"
      },
      "outputs": [
        {
          "output_type": "execute_result",
          "data": {
            "text/plain": [
              "<tf.Tensor: shape=(), dtype=int64, numpy=20000>"
            ]
          },
          "metadata": {},
          "execution_count": 27
        }
      ],
      "source": [
        "train_ds.cardinality()"
      ]
    },
    {
      "cell_type": "markdown",
      "metadata": {
        "id": "X8MNlsBUA9Kr"
      },
      "source": [
        "First we look at some examples from the training data set:"
      ]
    },
    {
      "cell_type": "code",
      "execution_count": null,
      "metadata": {
        "colab": {
          "base_uri": "https://localhost:8080/"
        },
        "id": "Cd5o9P7gBaqe",
        "outputId": "9af1aae6-cc88-4d43-bb99-7533227b937a"
      },
      "outputs": [
        {
          "output_type": "stream",
          "name": "stdout",
          "text": [
            "Input:  tf.Tensor(b\"This was an absolutely terrible movie. Don't be lured in by Christopher Walken or Michael Ironside. Both are great actors, but this must simply be their worst role in history. Even their great acting could not redeem this movie's ridiculous storyline. This movie is an early nineties US propaganda piece. The most pathetic scenes were those when the Columbian rebels were making their cases for revolutions. Maria Conchita Alonso appeared phony, and her pseudo-love affair with Walken was nothing but a pathetic emotional plug in a movie that was devoid of any real meaning. I am disappointed that there are movies like this, ruining actor's like Christopher Walken's good name. I could barely sit through it.\", shape=(), dtype=string)\n",
            "..........\n",
            "Target labels:  tf.Tensor(0, shape=(), dtype=int64)\n",
            "--------------------------------------------------\n",
            "Input:  tf.Tensor(b'I have been known to fall asleep during films, but this is usually due to a combination of things including, really tired, being warm and comfortable on the sette and having just eaten a lot. However on this occasion I fell asleep because the film was rubbish. The plot development was constant. Constantly slow and boring. Things seemed to happen, but with no explanation of what was causing them or why. I admit, I may have missed part of the film, but i watched the majority of it and everything just seemed to happen of its own accord without any real concern for anything else. I cant recommend this film at all.', shape=(), dtype=string)\n",
            "..........\n",
            "Target labels:  tf.Tensor(0, shape=(), dtype=int64)\n",
            "--------------------------------------------------\n",
            "Input:  tf.Tensor(b'Mann photographs the Alberta Rocky Mountains in a superb fashion, and Jimmy Stewart and Walter Brennan give enjoyable performances as they always seem to do. <br /><br />But come on Hollywood - a Mountie telling the people of Dawson City, Yukon to elect themselves a marshal (yes a marshal!) and to enforce the law themselves, then gunfighters battling it out on the streets for control of the town? <br /><br />Nothing even remotely resembling that happened on the Canadian side of the border during the Klondike gold rush. Mr. Mann and company appear to have mistaken Dawson City for Deadwood, the Canadian North for the American Wild West.<br /><br />Canadian viewers be prepared for a Reefer Madness type of enjoyable howl with this ludicrous plot, or, to shake your head in disgust.', shape=(), dtype=string)\n",
            "..........\n",
            "Target labels:  tf.Tensor(0, shape=(), dtype=int64)\n",
            "--------------------------------------------------\n",
            "Input:  tf.Tensor(b'This is the kind of film for a snowy Sunday afternoon when the rest of the world can go ahead with its own business as you descend into a big arm-chair and mellow for a couple of hours. Wonderful performances from Cher and Nicolas Cage (as always) gently row the plot along. There are no rapids to cross, no dangerous waters, just a warm and witty paddle through New York life at its best. A family film in every sense and one that deserves the praise it received.', shape=(), dtype=string)\n",
            "..........\n",
            "Target labels:  tf.Tensor(1, shape=(), dtype=int64)\n",
            "--------------------------------------------------\n",
            "Input:  tf.Tensor(b'As others have mentioned, all the women that go nude in this film are mostly absolutely gorgeous. The plot very ably shows the hypocrisy of the female libido. When men are around they want to be pursued, but when no \"men\" are around, they become the pursuers of a 14 year old boy. And the boy becomes a man really fast (we should all be so lucky at this age!). He then gets up the courage to pursue his true love.', shape=(), dtype=string)\n",
            "..........\n",
            "Target labels:  tf.Tensor(1, shape=(), dtype=int64)\n",
            "--------------------------------------------------\n"
          ]
        }
      ],
      "source": [
        "for example, label in train_ds.take(5):\n",
        "  print(\"Input: \", example)\n",
        "  print(10*\".\")\n",
        "  print('Target labels: ', label)\n",
        "  print(50*\"-\")"
      ]
    },
    {
      "cell_type": "markdown",
      "metadata": {
        "id": "vBbodQjwBdLj"
      },
      "source": [
        "## Text Representation: Bag of Words\n",
        "The text is raw text, without a lot of formatting, but it also includes some html tags. For a first try, we will start with a simple `TextVectorization` layer, that is similar to a bag of word. We will use a vocabulary size of 1000 words:"
      ]
    },
    {
      "cell_type": "code",
      "execution_count": null,
      "metadata": {
        "id": "gOvI4kvACq6_"
      },
      "outputs": [],
      "source": [
        "encoderBoW = TextVectorization(output_mode = \"count\", max_tokens=VOCAB_SIZE)\n",
        "encoderBoW.adapt(train_ds.map(lambda text, label: text))"
      ]
    },
    {
      "cell_type": "markdown",
      "metadata": {
        "id": "yIBS_Oh2Cxnm"
      },
      "source": [
        "The `.adapt()` method chooses the vocabulary of the layer based on the training data - this corresponds to a kind of training, but is done in an explicit step (essentially counting and sorting). The function `map(lambda text, label: text)` ensures that we only use the texts from the `train_ds` data set (and leave out the labels for the moment).\n",
        "\n",
        "As we work with a `VOCAB_SIZE` of 1000, chances are high that some of the words will not be represented in the vocabulary. The `.adapt()` will return the most common 999 words, and all  other words are represented as `[UNK]` (for *unknown*). The tokens are sorted in descending order of frequency. Here are the first 20 tokens (i.e., the most frequent ones):"
      ]
    },
    {
      "cell_type": "code",
      "execution_count": null,
      "metadata": {
        "colab": {
          "base_uri": "https://localhost:8080/"
        },
        "id": "F4LculaADwBc",
        "outputId": "59c3500e-a449-43be-de8c-b51323d4205c"
      },
      "outputs": [
        {
          "output_type": "execute_result",
          "data": {
            "text/plain": [
              "array(['[UNK]', 'the', 'and', 'a', 'of', 'to', 'is', 'in', 'it', 'i',\n",
              "       'this', 'that', 'br', 'was', 'as', 'for', 'with', 'movie', 'but',\n",
              "       'film'], dtype='<U14')"
            ]
          },
          "metadata": {},
          "execution_count": 30
        }
      ],
      "source": [
        "vocab = np.array(encoderBoW.get_vocabulary())\n",
        "vocab[:20]"
      ]
    },
    {
      "cell_type": "markdown",
      "metadata": {
        "id": "8LgJ-Jg2Dyl3"
      },
      "source": [
        "The first word in the vocabulary is `[UNK]`, the token for the unknown words. Afterwards, we have a number of token for very common words, the so-called **stop words**. The first one being 'the'. So, in the numerical vector that we get after coding, the first column corresponds to all unknown words (i.e. all words that do not appear in the vocabulary), and the second column corresponds to the word 'the'. Also some *domain-specific* words occur frequenty: `movie` and `film` indicate that the vocabulary was built on movie reviews."
      ]
    },
    {
      "cell_type": "markdown",
      "metadata": {
        "id": "PUyQrMr8El0_"
      },
      "source": [
        "We can now get an example encoding:"
      ]
    },
    {
      "cell_type": "code",
      "execution_count": null,
      "metadata": {
        "colab": {
          "base_uri": "https://localhost:8080/"
        },
        "id": "9Acqpkfrp3NW",
        "outputId": "cc07677b-24aa-4f4c-c12c-211353fb2819"
      },
      "outputs": [
        {
          "output_type": "execute_result",
          "data": {
            "text/plain": [
              "<tf.Tensor: shape=(1000,), dtype=float32, numpy=\n",
              "array([0., 1., 0., 0., 0., 0., 0., 0., 0., 0., 0., 0., 0., 0., 0., 0., 0.,\n",
              "       0., 0., 0., 0., 0., 0., 0., 0., 0., 0., 0., 0., 0., 0., 0., 0., 0.,\n",
              "       0., 0., 0., 0., 0., 0., 0., 0., 0., 0., 0., 0., 0., 0., 0., 0., 0.,\n",
              "       0., 0., 0., 0., 0., 0., 0., 0., 0., 0., 0., 0., 0., 0., 0., 0., 0.,\n",
              "       0., 0., 0., 0., 0., 0., 0., 0., 0., 0., 0., 0., 0., 0., 0., 0., 0.,\n",
              "       0., 0., 0., 0., 0., 0., 0., 0., 0., 0., 0., 0., 0., 0., 0., 0., 0.,\n",
              "       0., 0., 0., 0., 0., 0., 0., 0., 0., 0., 0., 0., 0., 0., 0., 0., 0.,\n",
              "       0., 0., 0., 0., 0., 0., 0., 0., 0., 0., 0., 0., 0., 0., 0., 0., 0.,\n",
              "       0., 0., 0., 0., 0., 0., 0., 0., 0., 0., 0., 0., 0., 0., 0., 0., 0.,\n",
              "       0., 0., 0., 0., 0., 0., 0., 0., 0., 0., 0., 0., 0., 0., 0., 0., 0.,\n",
              "       0., 0., 0., 0., 0., 0., 0., 0., 0., 0., 0., 0., 0., 0., 0., 0., 0.,\n",
              "       0., 0., 0., 0., 0., 0., 0., 0., 0., 0., 0., 0., 0., 0., 0., 0., 0.,\n",
              "       0., 0., 0., 0., 0., 0., 0., 0., 0., 0., 0., 0., 0., 0., 0., 0., 0.,\n",
              "       0., 0., 0., 0., 0., 0., 0., 0., 0., 0., 0., 0., 0., 0., 0., 0., 0.,\n",
              "       0., 0., 0., 0., 0., 0., 0., 0., 0., 0., 0., 0., 0., 0., 0., 0., 0.,\n",
              "       0., 0., 0., 0., 0., 0., 0., 0., 0., 0., 0., 0., 0., 0., 0., 0., 0.,\n",
              "       0., 0., 0., 0., 0., 0., 0., 0., 0., 0., 0., 0., 0., 0., 0., 0., 0.,\n",
              "       0., 0., 0., 0., 0., 0., 0., 0., 0., 0., 0., 0., 0., 0., 0., 0., 0.,\n",
              "       0., 0., 0., 0., 0., 0., 0., 0., 0., 0., 0., 0., 0., 0., 0., 0., 0.,\n",
              "       0., 0., 0., 0., 0., 0., 0., 0., 0., 0., 0., 0., 0., 0., 0., 0., 0.,\n",
              "       0., 0., 0., 0., 0., 0., 0., 0., 0., 0., 0., 0., 0., 0., 0., 0., 0.,\n",
              "       0., 0., 0., 0., 0., 0., 0., 0., 0., 0., 0., 0., 0., 0., 0., 0., 0.,\n",
              "       0., 0., 0., 0., 0., 0., 0., 0., 0., 0., 0., 0., 0., 0., 0., 0., 0.,\n",
              "       0., 0., 0., 0., 0., 0., 0., 0., 0., 0., 0., 0., 0., 0., 0., 0., 0.,\n",
              "       0., 0., 0., 0., 0., 0., 0., 0., 0., 0., 0., 0., 0., 0., 0., 0., 0.,\n",
              "       0., 0., 0., 0., 0., 0., 0., 0., 0., 0., 0., 0., 0., 0., 0., 0., 0.,\n",
              "       0., 0., 0., 0., 0., 0., 0., 0., 0., 0., 0., 0., 0., 0., 0., 0., 0.,\n",
              "       0., 0., 0., 0., 0., 0., 0., 0., 0., 0., 0., 0., 0., 0., 0., 0., 0.,\n",
              "       0., 0., 0., 0., 0., 0., 0., 0., 0., 0., 0., 0., 0., 0., 0., 0., 0.,\n",
              "       0., 0., 0., 0., 0., 0., 0., 0., 0., 0., 0., 0., 0., 0., 0., 0., 0.,\n",
              "       0., 0., 0., 0., 0., 0., 0., 0., 0., 0., 0., 0., 0., 0., 0., 0., 0.,\n",
              "       0., 0., 0., 0., 0., 0., 0., 0., 0., 0., 0., 0., 0., 0., 0., 0., 0.,\n",
              "       0., 0., 0., 0., 0., 0., 0., 0., 0., 0., 0., 0., 0., 0., 0., 0., 0.,\n",
              "       0., 0., 0., 0., 0., 0., 0., 0., 0., 0., 0., 0., 0., 0., 0., 0., 0.,\n",
              "       0., 0., 0., 0., 0., 0., 0., 0., 0., 0., 0., 0., 0., 0., 0., 0., 0.,\n",
              "       0., 0., 0., 0., 0., 0., 0., 0., 0., 0., 0., 0., 0., 0., 0., 0., 0.,\n",
              "       0., 0., 0., 0., 0., 0., 0., 0., 0., 0., 0., 0., 0., 0., 0., 0., 0.,\n",
              "       0., 0., 0., 0., 0., 0., 0., 0., 0., 0., 0., 0., 0., 0., 0., 0., 0.,\n",
              "       0., 0., 0., 0., 0., 0., 0., 0., 0., 0., 0., 0., 0., 0., 0., 0., 0.,\n",
              "       0., 0., 0., 0., 0., 0., 0., 0., 0., 0., 0., 0., 0., 0., 0., 0., 0.,\n",
              "       0., 0., 0., 0., 0., 0., 0., 0., 0., 0., 0., 0., 0., 0., 0., 0., 0.,\n",
              "       0., 0., 0., 0., 0., 0., 0., 0., 0., 0., 0., 0., 0., 0., 0., 0., 0.,\n",
              "       0., 0., 0., 0., 0., 0., 0., 0., 0., 0., 0., 0., 0., 0., 0., 0., 0.,\n",
              "       0., 0., 0., 0., 0., 0., 0., 0., 0., 0., 0., 0., 0., 0., 0., 0., 0.,\n",
              "       0., 0., 0., 0., 0., 0., 0., 0., 0., 0., 0., 0., 0., 0., 0., 0., 0.,\n",
              "       0., 0., 0., 0., 0., 0., 0., 0., 0., 0., 0., 0., 0., 0., 0., 0., 0.,\n",
              "       0., 0., 0., 0., 0., 0., 0., 0., 0., 0., 0., 0., 0., 0., 0., 0., 0.,\n",
              "       0., 0., 0., 0., 0., 0., 0., 0., 0., 0., 0., 0., 0., 0., 0., 0., 0.,\n",
              "       0., 0., 0., 0., 0., 0., 0., 0., 0., 0., 0., 0., 0., 0., 0., 0., 0.,\n",
              "       0., 0., 0., 0., 0., 0., 0., 0., 0., 0., 0., 0., 0., 0., 0., 0., 0.,\n",
              "       0., 0., 0., 0., 0., 0., 0., 0., 0., 0., 0., 0., 0., 0., 0., 0., 0.,\n",
              "       0., 0., 0., 0., 0., 0., 0., 0., 0., 0., 0., 0., 0., 0., 0., 0., 0.,\n",
              "       0., 0., 0., 0., 0., 0., 0., 0., 0., 0., 0., 0., 0., 0., 0., 0., 0.,\n",
              "       0., 0., 0., 0., 0., 0., 0., 0., 0., 0., 0., 0., 0., 0., 0., 0., 0.,\n",
              "       0., 0., 0., 0., 0., 0., 0., 0., 0., 0., 0., 0., 0., 0., 0., 0., 0.,\n",
              "       0., 0., 0., 0., 0., 0., 0., 0., 0., 0., 0., 0., 0., 0., 0., 0., 0.,\n",
              "       0., 0., 0., 0., 0., 0., 0., 0., 0., 0., 0., 0., 0., 0., 0., 0., 0.,\n",
              "       0., 0., 0., 0., 0., 0., 0., 0., 0., 0., 0., 0., 0., 0., 0., 0., 0.,\n",
              "       0., 0., 0., 0., 0., 0., 0., 0., 0., 0., 0., 0., 0., 0.],\n",
              "      dtype=float32)>"
            ]
          },
          "metadata": {},
          "execution_count": 31
        }
      ],
      "source": [
        "encoderBoW(\"the\")"
      ]
    },
    {
      "cell_type": "code",
      "execution_count": null,
      "metadata": {
        "colab": {
          "base_uri": "https://localhost:8080/"
        },
        "id": "woR9ozFtob_P",
        "outputId": "98e138db-2272-4db4-edd7-1d001c23ed3b"
      },
      "outputs": [
        {
          "output_type": "stream",
          "name": "stdout",
          "text": [
            "tf.Tensor(b'As others have mentioned, all the women that go nude in this film are mostly absolutely gorgeous. The plot very ably shows the hypocrisy of the female libido. When men are around they want to be pursued, but when no \"men\" are around, they become the pursuers of a 14 year old boy. And the boy becomes a man really fast (we should all be so lucky at this age!). He then gets up the courage to pursue his true love.', shape=(), dtype=string)\n"
          ]
        }
      ],
      "source": [
        "print(example)"
      ]
    },
    {
      "cell_type": "code",
      "execution_count": null,
      "metadata": {
        "colab": {
          "base_uri": "https://localhost:8080/"
        },
        "id": "EqQyaqPaoYRe",
        "outputId": "7c54dd36-a511-4b63-a65b-b2555e07abbc"
      },
      "outputs": [
        {
          "output_type": "execute_result",
          "data": {
            "text/plain": [
              "array([12.,  7.,  1.,  2.,  2.,  2.,  0.,  1.,  0.,  0.,  2.,  1.,  0.,\n",
              "        0.,  1.,  0.,  0.,  0.,  1.,  1.,  0.,  0.,  0.,  1.,  3.,  1.,\n",
              "        2.,  1.,  0.,  0.,  1.,  2.,  0.,  0.,  2.,  0.,  0.,  1.,  0.,\n",
              "        0.,  0.,  0.,  0.,  0.,  0.,  0.,  0.,  0.,  0.,  0.,  1.,  2.,\n",
              "        0.,  0.,  0.,  0.,  0.,  1.,  1.,  0.,  0.,  0.,  1.,  0.,  0.,\n",
              "        0.,  0.,  0.,  0.,  0.,  0.,  1.,  0.,  0.,  0.,  0.,  0.,  0.,\n",
              "        0.,  0.,  0.,  0.,  0.,  0.,  0.,  0.,  0.,  0.,  0.,  0.,  1.,\n",
              "        0.,  0.,  0.,  0.,  0.,  0.,  0.,  0.,  0.,  0.,  0.,  0.,  0.,\n",
              "        0.,  0.,  0.,  0.,  0.,  0.,  0.,  1.,  1.,  0.,  0.,  0.,  0.,\n",
              "        0.,  0.,  0.,  0.,  0.,  0.,  0.,  0.,  0.,  0.,  0.,  0.,  0.,\n",
              "        0.,  0.,  0.,  1.,  0.,  0.,  0.,  1.,  1.,  0.,  0.,  0.,  0.,\n",
              "        0.,  0.,  0.,  0.,  0.,  0.,  0.,  0.,  0.,  0.,  0.,  0.,  0.,\n",
              "        0.,  0.,  0.,  0.,  0.,  1.,  0.,  0.,  0.,  0.,  0.,  0.,  0.,\n",
              "        0.,  0.,  0.,  0.,  0.,  0.,  0.,  0.,  0.,  1.,  0.,  0.,  0.,\n",
              "        0.,  2.,  0.,  0.,  0.,  0.,  0.,  0.,  0.,  0.,  0.,  0.,  0.,\n",
              "        0.,  0.,  0.,  0.,  0.,  0.,  0.,  0.,  0.,  0.,  1.,  0.,  0.,\n",
              "        0.,  0.,  0.,  0.,  0.,  0.,  0.,  0.,  0.,  0.,  0.,  0.,  0.,\n",
              "        0.,  0.,  0.,  0.,  0.,  0.,  0.,  0.,  0.,  0.,  0.,  0.,  0.,\n",
              "        0.,  0.,  0.,  0.,  0.,  0.,  0.,  0.,  0.,  0.,  0.,  0.,  0.,\n",
              "        0.,  0.,  0.,  0.,  0.,  0.,  0.,  0.,  0.,  0.,  0.,  0.,  0.,\n",
              "        0.,  0.,  0.,  0.,  1.,  0.,  0.,  0.,  0.,  0.,  0.,  0.,  0.,\n",
              "        0.,  0.,  1.,  0.,  0.,  0.,  0.,  0.,  0.,  0.,  0.,  0.,  0.,\n",
              "        0.,  0.,  0.,  0.,  0.,  0.,  0.,  0.,  0.,  0.,  0.,  0.,  0.,\n",
              "        0.,  0.,  0.,  0.,  0.,  0.,  0.,  0.,  0.,  0.,  0.,  0.,  0.,\n",
              "        0.,  0.,  0.,  0.,  0.,  0.,  0.,  0.,  0.,  0.,  0.,  0.,  0.,\n",
              "        0.,  0.,  0.,  0.,  0.,  0.,  0.,  0.,  0.,  1.,  0.,  0.,  0.,\n",
              "        0.,  0.,  0.,  0.,  0.,  0.,  2.,  0.,  0.,  0.,  0.,  0.,  0.,\n",
              "        0.,  0.,  0.,  0.,  0.,  0.,  0.,  0.,  0.,  0.,  0.,  0.,  0.,\n",
              "        0.,  0.,  0.,  0.,  1.,  0.,  0.,  0.,  0.,  1.,  0.,  0.,  0.,\n",
              "        0.,  0.,  0.,  0.,  0.,  0.,  0.,  0.,  0.,  0.,  0.,  0.,  0.,\n",
              "        0.,  0.,  0.,  0.,  0.,  0.,  0.,  0.,  0.,  0.,  1.,  0.,  0.,\n",
              "        0.,  0.,  0.,  0.,  0.,  0.,  0.,  1.,  0.,  0.,  0.,  0.,  0.,\n",
              "        0.,  0.,  0.,  0.,  0.,  0.,  0.,  0.,  0.,  0.,  0.,  0.,  0.,\n",
              "        0.,  0.,  0.,  0.,  0.,  0.,  0.,  0.,  0.,  0.,  0.,  0.,  0.,\n",
              "        1.,  0.,  0.,  0.,  0.,  0.,  0.,  0.,  0.,  0.,  0.,  0.,  0.,\n",
              "        0.,  0.,  0.,  0.,  2.,  0.,  0.,  0.,  0.,  0.,  0.,  0.,  0.,\n",
              "        0.,  0.,  0.,  0.,  0.,  0.,  0.,  0.,  0.,  0.,  0.,  0.,  0.,\n",
              "        0.,  0.,  0.,  0.,  0.,  0.,  0.,  0.,  0.,  0.,  0.,  0.,  0.,\n",
              "        0.,  0.,  0.,  0.,  0.,  0.,  0.,  0.,  0.,  0.,  0.,  0.,  0.,\n",
              "        0.,  0.,  0.,  0.,  0.,  0.,  0.,  0.,  0.,  0.,  0.,  0.,  0.,\n",
              "        0.,  0.,  0.,  0.,  0.,  0.,  0.,  0.,  0.,  0.,  0.,  0.,  0.,\n",
              "        0.,  0.,  0.,  0.,  0.,  0.,  0.,  0.,  0.,  0.,  0.,  0.,  0.,\n",
              "        0.,  0.,  0.,  0.,  0.,  0.,  0.,  0.,  0.,  0.,  0.,  0.,  0.,\n",
              "        0.,  0.,  0.,  0.,  0.,  0.,  0.,  0.,  0.,  0.,  0.,  0.,  0.,\n",
              "        0.,  0.,  0.,  0.,  0.,  0.,  0.,  1.,  0.,  0.,  0.,  0.,  0.,\n",
              "        0.,  0.,  0.,  0.,  0.,  0.,  0.,  0.,  0.,  0.,  0.,  0.,  0.,\n",
              "        0.,  0.,  0.,  0.,  0.,  0.,  0.,  0.,  0.,  0.,  0.,  0.,  0.,\n",
              "        0.,  0.,  0.,  0.,  0.,  0.,  0.,  0.,  0.,  0.,  0.,  0.,  0.,\n",
              "        0.,  0.,  0.,  0.,  0.,  0.,  1.,  0.,  0.,  0.,  0.,  0.,  0.,\n",
              "        0.,  0.,  0.,  0.,  0.,  0.,  0.,  0.,  0.,  0.,  0.,  0.,  0.,\n",
              "        0.,  0.,  0.,  0.,  0.,  0.,  0.,  0.,  0.,  0.,  0.,  0.,  0.,\n",
              "        0.,  0.,  1.,  0.,  0.,  0.,  0.,  0.,  0.,  0.,  0.,  0.,  0.,\n",
              "        0.,  0.,  0.,  0.,  0.,  0.,  0.,  0.,  0.,  0.,  0.,  0.,  0.,\n",
              "        0.,  0.,  0.,  0.,  0.,  0.,  0.,  0.,  0.,  0.,  0.,  0.,  0.,\n",
              "        0.,  0.,  0.,  0.,  0.,  0.,  0.,  0.,  0.,  0.,  0.,  0.,  0.,\n",
              "        0.,  0.,  0.,  0.,  0.,  0.,  0.,  0.,  0.,  0.,  0.,  0.,  0.,\n",
              "        0.,  0.,  0.,  0.,  0.,  0.,  0.,  0.,  0.,  0.,  0.,  0.,  0.,\n",
              "        0.,  0.,  0.,  0.,  0.,  0.,  0.,  0.,  0.,  0.,  0.,  0.,  0.,\n",
              "        0.,  0.,  0.,  0.,  0.,  0.,  0.,  0.,  0.,  0.,  0.,  0.,  0.,\n",
              "        0.,  0.,  0.,  0.,  0.,  0.,  0.,  0.,  0.,  0.,  0.,  0.,  0.,\n",
              "        0.,  0.,  0.,  0.,  0.,  0.,  0.,  0.,  0.,  0.,  0.,  0.,  0.,\n",
              "        0.,  0.,  0.,  0.,  0.,  0.,  0.,  0.,  0.,  0.,  0.,  0.,  0.,\n",
              "        0.,  0.,  0.,  0.,  0.,  0.,  0.,  0.,  0.,  0.,  0.,  0.,  0.,\n",
              "        0.,  0.,  0.,  0.,  0.,  0.,  0.,  0.,  0.,  0.,  0.,  0.,  1.,\n",
              "        0.,  0.,  0.,  0.,  0.,  0.,  0.,  0.,  0.,  0.,  0.,  0.,  0.,\n",
              "        0.,  0.,  0.,  0.,  0.,  0.,  0.,  0.,  0.,  0.,  0.,  0.,  0.,\n",
              "        0.,  0.,  0.,  0.,  0.,  0.,  0.,  0.,  0.,  0.,  0.,  0.,  0.,\n",
              "        0.,  0.,  0.,  0.,  0.,  0.,  0.,  0.,  0.,  0.,  0.,  0.,  0.,\n",
              "        0.,  0.,  0.,  0.,  0.,  0.,  0.,  0.,  0.,  0.,  0.,  0.,  0.,\n",
              "        0.,  0.,  0.,  0.,  0.,  0.,  0.,  0.,  0.,  0.,  0.,  0.,  0.,\n",
              "        0.,  0.,  0.,  0.,  0.,  0.,  0.,  0.,  0.,  0.,  0.,  0.,  0.,\n",
              "        0.,  0.,  0.,  0.,  0.,  0.,  0.,  0.,  0.,  0.,  0.,  0.,  0.,\n",
              "        0.,  0.,  0.,  0.,  0.,  0.,  0.,  0.,  0.,  0.,  0.,  0.,  0.,\n",
              "        0.,  0.,  0.,  0.,  0.,  0.,  0.,  0.,  0.,  0.,  0.,  0.,  0.,\n",
              "        0.,  0.,  0.,  0.,  0.,  0.,  0.,  0.,  0.,  0.,  0.,  0.,  0.,\n",
              "        0.,  0.,  0.,  0.,  0.,  0.,  0.,  0.,  0.,  0.,  0.,  0.,  0.,\n",
              "        0.,  0.,  0.,  0.,  0.,  0.,  0.,  0.,  0.,  0.,  0.,  0.],\n",
              "      dtype=float32)"
            ]
          },
          "metadata": {},
          "execution_count": 33
        }
      ],
      "source": [
        "encoderBoW(example).numpy()"
      ]
    },
    {
      "cell_type": "markdown",
      "metadata": {
        "id": "VZLxA5u-E1Z9"
      },
      "source": [
        "# A first Model: Linear Regression\n",
        "We start with a first, very simple model. It corresponds to a multiple linear regression model, with the 1000-dimensional vector representation of the sentence as input (independent variables, predictors), and the rating (0 or 1) as output (dependent variable, target variable). While this could also be done with a classical regression, we start right away with a neural network, and will extend it gradually as we add more advanced concepts.\n",
        "\n",
        "## Model Definition"
      ]
    },
    {
      "cell_type": "code",
      "execution_count": null,
      "metadata": {
        "id": "S4-cV8-VHI-w"
      },
      "outputs": [],
      "source": [
        "model_BoW_1L_lin = Sequential()\n",
        "model_BoW_1L_lin.add(Input(shape=(1,), dtype='string'))\n",
        "model_BoW_1L_lin.add(encoderBoW)\n",
        "model_BoW_1L_lin.add(Dense(1))"
      ]
    },
    {
      "cell_type": "code",
      "execution_count": null,
      "metadata": {
        "id": "0mO6Ur_SHLHJ"
      },
      "outputs": [],
      "source": [
        "model_BoW_1L_lin.compile(loss = 'binary_crossentropy', metrics = ['accuracy'])"
      ]
    },
    {
      "cell_type": "code",
      "execution_count": null,
      "metadata": {
        "colab": {
          "base_uri": "https://localhost:8080/"
        },
        "id": "z65ZQi7kHMw2",
        "outputId": "bf60774a-9a85-45c5-cbf5-ff26aa09c255"
      },
      "outputs": [
        {
          "output_type": "stream",
          "name": "stdout",
          "text": [
            "Model: \"sequential_1\"\n",
            "_________________________________________________________________\n",
            " Layer (type)                Output Shape              Param #   \n",
            "=================================================================\n",
            " text_vectorization_1 (Text  (None, 1000)              0         \n",
            " Vectorization)                                                  \n",
            "                                                                 \n",
            " dense_1 (Dense)             (None, 1)                 1001      \n",
            "                                                                 \n",
            "=================================================================\n",
            "Total params: 1001 (3.91 KB)\n",
            "Trainable params: 1001 (3.91 KB)\n",
            "Non-trainable params: 0 (0.00 Byte)\n",
            "_________________________________________________________________\n"
          ]
        }
      ],
      "source": [
        "model_BoW_1L_lin.summary()"
      ]
    },
    {
      "cell_type": "markdown",
      "metadata": {
        "id": "5Dbxn_f4HQ7l"
      },
      "source": [
        "## Training\n",
        "Now, let's train the model. We do only a rather small number of epochs and include early stopping in order not to spend too much time on training."
      ]
    },
    {
      "cell_type": "code",
      "execution_count": null,
      "metadata": {
        "id": "8EVTgfEOgYxl"
      },
      "outputs": [],
      "source": [
        "# initialize random number generators to ensure reproducibility:\n",
        "tf.random.set_seed(123)\n",
        "np.random.seed(123)"
      ]
    },
    {
      "cell_type": "code",
      "execution_count": null,
      "metadata": {
        "colab": {
          "base_uri": "https://localhost:8080/"
        },
        "id": "CGtLYKBeHev0",
        "outputId": "81cc3a68-802b-4cb0-8104-efe604db7565"
      },
      "outputs": [
        {
          "output_type": "stream",
          "name": "stdout",
          "text": [
            "Epoch 1/50\n",
            "40/40 [==============================] - 3s 78ms/step - loss: 4.6581 - accuracy: 0.5020 - val_loss: 3.8365 - val_accuracy: 0.5314\n",
            "Epoch 2/50\n",
            "40/40 [==============================] - 4s 104ms/step - loss: 3.4991 - accuracy: 0.5525 - val_loss: 3.3266 - val_accuracy: 0.5738\n",
            "Epoch 3/50\n",
            "40/40 [==============================] - 3s 74ms/step - loss: 2.9309 - accuracy: 0.6018 - val_loss: 2.7515 - val_accuracy: 0.6218\n",
            "Epoch 4/50\n",
            "40/40 [==============================] - 3s 74ms/step - loss: 2.3820 - accuracy: 0.6460 - val_loss: 2.1575 - val_accuracy: 0.6672\n",
            "Epoch 5/50\n",
            "40/40 [==============================] - 4s 97ms/step - loss: 1.9962 - accuracy: 0.6816 - val_loss: 1.8596 - val_accuracy: 0.6990\n",
            "Epoch 6/50\n",
            "40/40 [==============================] - 3s 73ms/step - loss: 1.7454 - accuracy: 0.7133 - val_loss: 1.7033 - val_accuracy: 0.7184\n",
            "Epoch 7/50\n",
            "40/40 [==============================] - 3s 75ms/step - loss: 1.6056 - accuracy: 0.7289 - val_loss: 1.6931 - val_accuracy: 0.7266\n",
            "Epoch 8/50\n",
            "40/40 [==============================] - 3s 73ms/step - loss: 1.4253 - accuracy: 0.7502 - val_loss: 1.4056 - val_accuracy: 0.7504\n",
            "Epoch 9/50\n",
            "40/40 [==============================] - 3s 76ms/step - loss: 1.3049 - accuracy: 0.7637 - val_loss: 1.4336 - val_accuracy: 0.7510\n",
            "Epoch 10/50\n",
            "40/40 [==============================] - 3s 77ms/step - loss: 1.2801 - accuracy: 0.7753 - val_loss: 1.2356 - val_accuracy: 0.7716\n",
            "Epoch 11/50\n",
            "40/40 [==============================] - 4s 94ms/step - loss: 1.1891 - accuracy: 0.7847 - val_loss: 1.1585 - val_accuracy: 0.7806\n",
            "Epoch 12/50\n",
            "40/40 [==============================] - 3s 74ms/step - loss: 1.0486 - accuracy: 0.7993 - val_loss: 1.0797 - val_accuracy: 0.7894\n",
            "Epoch 13/50\n",
            "40/40 [==============================] - 3s 75ms/step - loss: 0.9920 - accuracy: 0.8075 - val_loss: 1.0935 - val_accuracy: 0.8000\n",
            "Epoch 14/50\n",
            "40/40 [==============================] - 3s 75ms/step - loss: 0.9562 - accuracy: 0.8113 - val_loss: 1.0202 - val_accuracy: 0.8070\n",
            "Epoch 15/50\n",
            "40/40 [==============================] - 3s 72ms/step - loss: 0.8773 - accuracy: 0.8216 - val_loss: 1.3654 - val_accuracy: 0.7916\n",
            "Epoch 16/50\n",
            "40/40 [==============================] - 3s 73ms/step - loss: 0.8742 - accuracy: 0.8214 - val_loss: 0.9565 - val_accuracy: 0.8166\n",
            "Epoch 17/50\n",
            "40/40 [==============================] - 4s 104ms/step - loss: 0.8127 - accuracy: 0.8291 - val_loss: 0.9441 - val_accuracy: 0.8184\n",
            "Epoch 18/50\n",
            "40/40 [==============================] - 3s 74ms/step - loss: 0.8143 - accuracy: 0.8281 - val_loss: 0.9146 - val_accuracy: 0.8210\n",
            "Epoch 19/50\n",
            "40/40 [==============================] - 3s 78ms/step - loss: 0.7410 - accuracy: 0.8336 - val_loss: 0.9367 - val_accuracy: 0.8270\n",
            "Epoch 20/50\n",
            "40/40 [==============================] - 4s 96ms/step - loss: 0.7682 - accuracy: 0.8360 - val_loss: 0.9272 - val_accuracy: 0.8288\n",
            "Epoch 21/50\n",
            "40/40 [==============================] - 3s 73ms/step - loss: 0.7106 - accuracy: 0.8426 - val_loss: 0.9205 - val_accuracy: 0.8202\n",
            "Epoch 22/50\n",
            "40/40 [==============================] - 3s 75ms/step - loss: 0.7615 - accuracy: 0.8381 - val_loss: 1.0042 - val_accuracy: 0.8280\n",
            "Epoch 23/50\n",
            "40/40 [==============================] - 4s 97ms/step - loss: 0.7655 - accuracy: 0.8373 - val_loss: 0.8804 - val_accuracy: 0.8388\n",
            "Epoch 24/50\n",
            "40/40 [==============================] - 3s 77ms/step - loss: 0.6526 - accuracy: 0.8487 - val_loss: 0.9049 - val_accuracy: 0.8318\n",
            "Epoch 25/50\n",
            "40/40 [==============================] - 3s 72ms/step - loss: 0.6846 - accuracy: 0.8486 - val_loss: 0.8665 - val_accuracy: 0.8420\n",
            "Epoch 26/50\n",
            "40/40 [==============================] - 3s 74ms/step - loss: 0.6584 - accuracy: 0.8512 - val_loss: 1.0214 - val_accuracy: 0.8114\n",
            "Epoch 27/50\n",
            "40/40 [==============================] - 3s 72ms/step - loss: 0.7043 - accuracy: 0.8475 - val_loss: 1.1864 - val_accuracy: 0.7964\n",
            "Epoch 28/50\n",
            "40/40 [==============================] - 3s 74ms/step - loss: 0.7352 - accuracy: 0.8462 - val_loss: 0.9031 - val_accuracy: 0.8400\n",
            "Epoch 29/50\n",
            "40/40 [==============================] - 4s 90ms/step - loss: 0.6454 - accuracy: 0.8517 - val_loss: 0.8719 - val_accuracy: 0.8410\n",
            "Epoch 30/50\n",
            "40/40 [==============================] - 3s 72ms/step - loss: 0.6689 - accuracy: 0.8480 - val_loss: 1.8996 - val_accuracy: 0.7346\n"
          ]
        }
      ],
      "source": [
        "history_BoW_1L_lin = model_BoW_1L_lin.fit(\n",
        "    train_ds.shuffle(buffer_size=BUFFER_SIZE).batch(BATCH_SIZE),\n",
        "    validation_data = val_ds.batch(BATCH_SIZE),\n",
        "    epochs = NUM_EPOCHS, verbose = 1,\n",
        "    callbacks = [ EarlyStopping(monitor='val_accuracy', patience=5,\n",
        "                                verbose=False, restore_best_weights=True)])"
      ]
    },
    {
      "cell_type": "code",
      "execution_count": null,
      "metadata": {
        "id": "I5mJAVoVuDgE"
      },
      "outputs": [],
      "source": [
        "model_BoW_1L_lin.save_weights('model_BoW_1L_lin')"
      ]
    },
    {
      "cell_type": "markdown",
      "metadata": {
        "id": "Z3k76VNhLB7G"
      },
      "source": [
        "## Evaluation\n",
        "Our simple model already has an accuracy of some 84% on the validation data. Let's check the performance on the test data:"
      ]
    },
    {
      "cell_type": "code",
      "execution_count": null,
      "metadata": {
        "colab": {
          "base_uri": "https://localhost:8080/"
        },
        "id": "XgBK0v20LECJ",
        "outputId": "a06b1c94-bd07-4639-c437-8055e046d1bc"
      },
      "outputs": [
        {
          "output_type": "stream",
          "name": "stdout",
          "text": [
            "49/49 - 3s - loss: 0.7703 - accuracy: 0.8382 - 3s/epoch - 57ms/step\n",
            "loss: 0.770\n",
            "accuracy: 0.838\n"
          ]
        }
      ],
      "source": [
        "results1 = model_BoW_1L_lin.evaluate(test_ds.batch(BATCH_SIZE), verbose=2)\n",
        "\n",
        "for name, value in zip(model_BoW_1L_lin.metrics_names, results1):\n",
        "    print(\"%s: %.3f\" % (name, value))"
      ]
    },
    {
      "cell_type": "markdown",
      "metadata": {
        "id": "wq1CL2aeLOYU"
      },
      "source": [
        "We get similar performance on the novel test data."
      ]
    },
    {
      "cell_type": "markdown",
      "metadata": {
        "id": "ihSm4CvVHqHI"
      },
      "source": [
        "## Interpretation\n",
        "We want to try to interpret what the model has learned. To do so, we look at the weights that have been inferred."
      ]
    },
    {
      "cell_type": "code",
      "execution_count": null,
      "metadata": {
        "colab": {
          "base_uri": "https://localhost:8080/"
        },
        "id": "zvXOc-KyJdVf",
        "outputId": "84fba8ec-2eaa-4553-f93e-ea76ff182e17"
      },
      "outputs": [
        {
          "output_type": "execute_result",
          "data": {
            "text/plain": [
              "array([[-7.10924738e-04],\n",
              "       [ 2.26891916e-02],\n",
              "       [ 5.63038094e-03],\n",
              "       [ 1.12612201e-02],\n",
              "       [-2.62546558e-02],\n",
              "       [-1.72222219e-02],\n",
              "       [-1.41633991e-02],\n",
              "       [-4.64105885e-03],\n",
              "       [ 2.37019267e-02],\n",
              "       [ 1.32149849e-02],\n",
              "       [ 2.07915213e-02],\n",
              "       [-1.83392931e-02],\n",
              "       [ 2.44157505e-04],\n",
              "       [-3.46913151e-02],\n",
              "       [ 8.74994043e-03],\n",
              "       [-8.00711662e-03],\n",
              "       [-1.60832647e-02],\n",
              "       [ 5.69930580e-03],\n",
              "       [-1.95569452e-02],\n",
              "       [ 6.91074086e-03],\n",
              "       [-1.50114335e-02],\n",
              "       [-8.60764831e-03],\n",
              "       [ 3.57019380e-02],\n",
              "       [-1.39683788e-03],\n",
              "       [ 1.27037456e-02],\n",
              "       [-1.56751685e-02],\n",
              "       [ 9.46518872e-03],\n",
              "       [ 2.48311162e-02],\n",
              "       [ 5.26639353e-03],\n",
              "       [ 2.26827208e-02],\n",
              "       [ 1.20199202e-02],\n",
              "       [-7.78723881e-03],\n",
              "       [-9.04178433e-03],\n",
              "       [ 8.61328468e-03],\n",
              "       [-3.52988765e-02],\n",
              "       [ 6.27341121e-03],\n",
              "       [ 1.25573836e-02],\n",
              "       [-1.62137731e-05],\n",
              "       [ 7.89075159e-03],\n",
              "       [ 1.05796545e-03],\n",
              "       [-2.46016644e-02],\n",
              "       [-3.90973836e-02],\n",
              "       [ 1.13690104e-02],\n",
              "       [-2.33818367e-02],\n",
              "       [ 2.39893254e-02],\n",
              "       [-1.59229676e-03],\n",
              "       [-1.16363191e-03],\n",
              "       [-6.69752713e-04],\n",
              "       [ 3.61166708e-02],\n",
              "       [ 3.56220454e-02],\n",
              "       [ 4.62786481e-02],\n",
              "       [ 2.25970689e-02],\n",
              "       [ 2.95887589e-02],\n",
              "       [ 2.04466395e-02],\n",
              "       [ 2.05624979e-02],\n",
              "       [-5.50329164e-02],\n",
              "       [-4.49939445e-02],\n",
              "       [ 8.42963159e-03],\n",
              "       [-6.37444183e-02],\n",
              "       [ 6.22176146e-03],\n",
              "       [ 3.89179811e-02],\n",
              "       [-5.59061393e-02],\n",
              "       [ 6.37528067e-03],\n",
              "       [ 9.11284424e-03],\n",
              "       [ 5.36008179e-03],\n",
              "       [-1.83994882e-02],\n",
              "       [-2.65116221e-03],\n",
              "       [ 4.08720300e-02],\n",
              "       [ 1.16470158e-02],\n",
              "       [ 8.84339213e-03],\n",
              "       [ 1.24268979e-02],\n",
              "       [-7.47458264e-03],\n",
              "       [-3.22516896e-02],\n",
              "       [ 4.32994813e-02],\n",
              "       [-1.22308554e-02],\n",
              "       [ 3.05431932e-02],\n",
              "       [ 2.22553201e-02],\n",
              "       [ 1.87930502e-02],\n",
              "       [-2.73155235e-02],\n",
              "       [ 1.55995665e-02],\n",
              "       [ 3.53625044e-02],\n",
              "       [-1.36972079e-02],\n",
              "       [-1.54571561e-02],\n",
              "       [-1.15728728e-01],\n",
              "       [ 1.93884764e-02],\n",
              "       [ 1.20504566e-01],\n",
              "       [-2.62453631e-02],\n",
              "       [ 4.16667536e-02],\n",
              "       [ 1.36770448e-02],\n",
              "       [-9.41496063e-03],\n",
              "       [-3.34992409e-02],\n",
              "       [-2.70710774e-02],\n",
              "       [ 5.08236215e-02],\n",
              "       [-3.46653424e-02],\n",
              "       [-1.97234396e-02],\n",
              "       [ 2.26048403e-03],\n",
              "       [ 1.90120889e-04],\n",
              "       [-2.29062550e-02],\n",
              "       [-5.77391172e-03],\n",
              "       [-1.45507408e-02],\n",
              "       [-1.97537020e-02],\n",
              "       [-3.72673534e-02],\n",
              "       [ 5.61144911e-02],\n",
              "       [ 2.25513838e-02],\n",
              "       [ 1.73273887e-02],\n",
              "       [ 6.20006863e-03],\n",
              "       [-4.81274817e-03],\n",
              "       [ 2.56633293e-02],\n",
              "       [-1.49958360e-03],\n",
              "       [ 1.75189730e-02],\n",
              "       [-1.24521554e-02],\n",
              "       [-1.88724473e-02],\n",
              "       [ 6.76391497e-02],\n",
              "       [-6.53342903e-03],\n",
              "       [-2.94363406e-02],\n",
              "       [ 1.44701928e-01],\n",
              "       [ 4.26148617e-04],\n",
              "       [ 6.22585490e-02],\n",
              "       [ 3.95820756e-03],\n",
              "       [ 1.72312725e-02],\n",
              "       [ 2.01463327e-02],\n",
              "       [ 4.24772389e-02],\n",
              "       [-2.08207555e-02],\n",
              "       [-3.25319991e-02],\n",
              "       [ 4.12582010e-02],\n",
              "       [-3.35611179e-02],\n",
              "       [-1.21232225e-02],\n",
              "       [-1.46062602e-03],\n",
              "       [-8.26589763e-03],\n",
              "       [-2.63619721e-02],\n",
              "       [-7.17324670e-03],\n",
              "       [ 8.94979853e-03],\n",
              "       [ 2.99084447e-02],\n",
              "       [-1.88171193e-02],\n",
              "       [-5.27209453e-02],\n",
              "       [ 1.77044962e-02],\n",
              "       [-2.30442081e-02],\n",
              "       [-1.03507349e-02],\n",
              "       [-1.79004595e-02],\n",
              "       [-7.18575623e-03],\n",
              "       [-1.71081871e-02],\n",
              "       [-5.98334260e-02],\n",
              "       [-1.58472359e-02],\n",
              "       [ 4.69882526e-02],\n",
              "       [-1.76961608e-02],\n",
              "       [-1.35714766e-02],\n",
              "       [-8.83413106e-03],\n",
              "       [-4.12858464e-02],\n",
              "       [ 5.06607667e-02],\n",
              "       [ 1.76517386e-02],\n",
              "       [-7.49613997e-03],\n",
              "       [-9.74186603e-03],\n",
              "       [-3.51803936e-02],\n",
              "       [ 1.91441495e-02],\n",
              "       [ 1.48496572e-02],\n",
              "       [-6.26473352e-02],\n",
              "       [ 5.52183911e-02],\n",
              "       [-8.06404930e-03],\n",
              "       [-3.21783349e-02],\n",
              "       [ 5.93384765e-02],\n",
              "       [ 2.96296496e-02],\n",
              "       [-3.81285995e-02],\n",
              "       [ 1.15532922e-02],\n",
              "       [-5.56119122e-02],\n",
              "       [-2.69857738e-02],\n",
              "       [ 2.30641942e-02],\n",
              "       [ 2.71785911e-02],\n",
              "       [-9.82207712e-03],\n",
              "       [ 6.03560172e-02],\n",
              "       [ 3.68839763e-02],\n",
              "       [ 6.22857711e-04],\n",
              "       [-5.21621741e-02],\n",
              "       [ 2.89526414e-02],\n",
              "       [-2.07954610e-04],\n",
              "       [-3.01299188e-02],\n",
              "       [ 1.31203281e-03],\n",
              "       [ 3.03718131e-02],\n",
              "       [-4.04111343e-03],\n",
              "       [ 1.98518038e-02],\n",
              "       [ 4.56779972e-02],\n",
              "       [ 7.59067899e-03],\n",
              "       [-8.61226842e-02],\n",
              "       [ 1.15410723e-02],\n",
              "       [-1.65870376e-02],\n",
              "       [-3.64783010e-03],\n",
              "       [-9.00454149e-02],\n",
              "       [ 6.28343001e-02],\n",
              "       [-1.87802762e-02],\n",
              "       [-5.25507145e-02],\n",
              "       [-1.18833513e-03],\n",
              "       [-3.79450284e-02],\n",
              "       [ 6.43775682e-04],\n",
              "       [ 1.17904522e-01],\n",
              "       [ 5.21227531e-02],\n",
              "       [ 2.84316912e-02],\n",
              "       [ 1.60745427e-03],\n",
              "       [ 4.70802523e-02],\n",
              "       [-1.98206846e-02],\n",
              "       [ 2.27784216e-02],\n",
              "       [-6.60408586e-02],\n",
              "       [ 1.10128112e-02],\n",
              "       [ 7.05927387e-02],\n",
              "       [ 1.52508952e-02],\n",
              "       [ 4.99168485e-02],\n",
              "       [-5.00064492e-02],\n",
              "       [-1.25133116e-02],\n",
              "       [ 1.87170580e-02],\n",
              "       [ 1.48276379e-02],\n",
              "       [-1.91341601e-02],\n",
              "       [-8.24826807e-02],\n",
              "       [-3.60206775e-02],\n",
              "       [ 1.27013801e-02],\n",
              "       [ 3.99142429e-02],\n",
              "       [-6.39250353e-02],\n",
              "       [ 3.93667407e-02],\n",
              "       [ 1.03031136e-02],\n",
              "       [ 1.18626952e-02],\n",
              "       [ 8.27192888e-02],\n",
              "       [-2.86791157e-02],\n",
              "       [ 2.88003869e-02],\n",
              "       [ 4.10711132e-02],\n",
              "       [ 5.11732837e-03],\n",
              "       [-1.37456879e-03],\n",
              "       [ 3.93406823e-02],\n",
              "       [-6.75775632e-02],\n",
              "       [-3.52436602e-02],\n",
              "       [-1.28990952e-02],\n",
              "       [-3.06955017e-02],\n",
              "       [-4.43706177e-02],\n",
              "       [ 1.81955229e-02],\n",
              "       [-6.99254572e-02],\n",
              "       [ 5.95955476e-02],\n",
              "       [-2.93656420e-02],\n",
              "       [-1.05424121e-01],\n",
              "       [ 3.97719629e-02],\n",
              "       [-3.57418172e-02],\n",
              "       [ 1.14404038e-02],\n",
              "       [-4.97347349e-03],\n",
              "       [-3.82454670e-03],\n",
              "       [ 3.12520862e-02],\n",
              "       [-3.49151790e-01],\n",
              "       [-6.20114617e-03],\n",
              "       [-5.05646393e-02],\n",
              "       [ 1.47840660e-02],\n",
              "       [-9.56516564e-02],\n",
              "       [-3.60376053e-02],\n",
              "       [ 4.27756943e-02],\n",
              "       [ 2.01263484e-02],\n",
              "       [ 9.91702825e-03],\n",
              "       [ 8.96018520e-02],\n",
              "       [ 8.74684006e-03],\n",
              "       [ 1.46204636e-01],\n",
              "       [ 2.11762469e-02],\n",
              "       [ 7.23079294e-02],\n",
              "       [ 4.56195287e-02],\n",
              "       [-2.64794789e-02],\n",
              "       [ 5.28670289e-02],\n",
              "       [-3.06400899e-02],\n",
              "       [-1.94367766e-02],\n",
              "       [-9.47004706e-02],\n",
              "       [ 7.16750100e-02],\n",
              "       [ 2.02693827e-02],\n",
              "       [ 3.67079638e-02],\n",
              "       [-3.07294913e-02],\n",
              "       [ 6.99917600e-02],\n",
              "       [ 6.39035255e-02],\n",
              "       [-4.17902283e-02],\n",
              "       [-4.33294103e-03],\n",
              "       [-7.59945959e-02],\n",
              "       [ 9.53554548e-03],\n",
              "       [-1.16329221e-02],\n",
              "       [-1.74247064e-02],\n",
              "       [-4.28894050e-02],\n",
              "       [ 6.56565949e-02],\n",
              "       [-2.01095045e-02],\n",
              "       [ 7.18798041e-02],\n",
              "       [-3.72577086e-02],\n",
              "       [ 3.77199575e-02],\n",
              "       [-6.66058138e-02],\n",
              "       [-3.52362916e-02],\n",
              "       [-2.93888785e-02],\n",
              "       [-7.58816525e-02],\n",
              "       [ 3.15836743e-02],\n",
              "       [ 2.86748037e-02],\n",
              "       [ 1.29416995e-02],\n",
              "       [ 1.47672268e-02],\n",
              "       [-4.50873785e-02],\n",
              "       [-5.06476723e-02],\n",
              "       [-4.40621227e-02],\n",
              "       [ 8.55485052e-02],\n",
              "       [ 1.15308706e-02],\n",
              "       [ 7.77263194e-02],\n",
              "       [ 2.34221686e-02],\n",
              "       [ 1.85362175e-02],\n",
              "       [-3.50186564e-02],\n",
              "       [ 1.54559845e-02],\n",
              "       [-8.24651588e-03],\n",
              "       [ 1.00952592e-02],\n",
              "       [-1.02003790e-01],\n",
              "       [ 1.22534707e-02],\n",
              "       [ 8.20828602e-02],\n",
              "       [-2.86650509e-02],\n",
              "       [ 7.81907048e-03],\n",
              "       [-6.43016323e-02],\n",
              "       [-2.98482459e-02],\n",
              "       [-4.49342129e-04],\n",
              "       [ 3.45787825e-03],\n",
              "       [ 7.24485293e-02],\n",
              "       [ 1.47569522e-01],\n",
              "       [ 1.25779640e-02],\n",
              "       [ 7.54885841e-03],\n",
              "       [-1.32176625e-02],\n",
              "       [ 4.01839875e-02],\n",
              "       [ 1.97354838e-01],\n",
              "       [-1.08363689e-03],\n",
              "       [-6.62971437e-02],\n",
              "       [-6.40331581e-02],\n",
              "       [ 2.87119709e-02],\n",
              "       [ 9.13922712e-02],\n",
              "       [-6.12071157e-03],\n",
              "       [-1.89143457e-02],\n",
              "       [ 5.71677973e-03],\n",
              "       [-2.22854223e-02],\n",
              "       [-4.88380790e-02],\n",
              "       [-1.97176002e-02],\n",
              "       [-4.82324883e-03],\n",
              "       [-3.66690941e-02],\n",
              "       [-3.96226645e-02],\n",
              "       [ 2.74157687e-03],\n",
              "       [-4.61313687e-02],\n",
              "       [ 3.96414734e-02],\n",
              "       [ 1.40468786e-02],\n",
              "       [-1.45298228e-01],\n",
              "       [-2.56794738e-03],\n",
              "       [ 3.23919430e-02],\n",
              "       [-5.56383049e-03],\n",
              "       [ 1.71226822e-02],\n",
              "       [ 4.61673737e-03],\n",
              "       [-7.13825040e-03],\n",
              "       [-1.94969028e-02],\n",
              "       [ 1.00665271e-01],\n",
              "       [ 7.02784280e-04],\n",
              "       [-1.01948805e-01],\n",
              "       [ 1.04511686e-01],\n",
              "       [ 1.11725042e-02],\n",
              "       [ 2.31946651e-02],\n",
              "       [ 3.98738962e-03],\n",
              "       [-3.62046473e-02],\n",
              "       [ 6.49744868e-02],\n",
              "       [ 6.71179965e-02],\n",
              "       [-2.03724355e-01],\n",
              "       [ 9.29237604e-02],\n",
              "       [-4.49589342e-02],\n",
              "       [-3.14617320e-03],\n",
              "       [ 1.26540018e-02],\n",
              "       [ 2.93769836e-02],\n",
              "       [-5.02816588e-03],\n",
              "       [ 6.08267523e-02],\n",
              "       [-6.10749424e-02],\n",
              "       [-5.94187640e-02],\n",
              "       [ 2.28582453e-02],\n",
              "       [-5.72874844e-02],\n",
              "       [ 3.03326454e-02],\n",
              "       [ 6.57321885e-03],\n",
              "       [ 2.47529060e-01],\n",
              "       [ 6.47274256e-02],\n",
              "       [-4.41404358e-02],\n",
              "       [-3.34595423e-03],\n",
              "       [-6.54154178e-03],\n",
              "       [ 3.37322317e-02],\n",
              "       [ 6.84969425e-02],\n",
              "       [ 5.99860027e-03],\n",
              "       [-4.22847085e-03],\n",
              "       [ 4.41580117e-02],\n",
              "       [ 1.71255749e-02],\n",
              "       [-2.13616505e-01],\n",
              "       [-2.09084172e-02],\n",
              "       [-3.94399054e-02],\n",
              "       [-1.55316249e-01],\n",
              "       [-4.41361442e-02],\n",
              "       [-7.60414079e-02],\n",
              "       [ 1.86512079e-02],\n",
              "       [-2.48876408e-01],\n",
              "       [-3.39604951e-02],\n",
              "       [ 2.26566177e-02],\n",
              "       [ 1.37487158e-01],\n",
              "       [ 1.60394162e-02],\n",
              "       [ 6.00102507e-02],\n",
              "       [ 8.77397601e-03],\n",
              "       [-2.96488628e-02],\n",
              "       [ 2.27947365e-02],\n",
              "       [ 2.03426495e-01],\n",
              "       [ 7.39046559e-02],\n",
              "       [ 2.02572495e-02],\n",
              "       [ 5.96457981e-02],\n",
              "       [ 1.56140132e-02],\n",
              "       [-1.46522775e-01],\n",
              "       [-9.42857414e-02],\n",
              "       [-1.32310661e-02],\n",
              "       [ 1.37616202e-01],\n",
              "       [ 1.77445281e-02],\n",
              "       [-2.15695053e-02],\n",
              "       [ 2.78655551e-02],\n",
              "       [ 9.01699290e-02],\n",
              "       [-6.69743121e-02],\n",
              "       [-1.08671524e-02],\n",
              "       [-4.27965932e-02],\n",
              "       [-2.44849473e-02],\n",
              "       [-1.63178612e-02],\n",
              "       [ 4.40005912e-03],\n",
              "       [-8.34272301e-04],\n",
              "       [-4.92290333e-02],\n",
              "       [ 3.67660746e-02],\n",
              "       [ 3.40788551e-02],\n",
              "       [ 3.28485705e-02],\n",
              "       [ 4.11619246e-02],\n",
              "       [-1.00743240e-02],\n",
              "       [-3.83982539e-01],\n",
              "       [-5.04875891e-02],\n",
              "       [ 2.32432294e-03],\n",
              "       [ 2.70621497e-02],\n",
              "       [-5.47097325e-02],\n",
              "       [-3.39368023e-02],\n",
              "       [ 2.14947760e-02],\n",
              "       [ 2.44758278e-02],\n",
              "       [-1.55680999e-02],\n",
              "       [-8.20402279e-02],\n",
              "       [ 5.27259894e-03],\n",
              "       [ 5.67019545e-02],\n",
              "       [-1.37835834e-02],\n",
              "       [-2.31654972e-01],\n",
              "       [ 2.72855107e-02],\n",
              "       [-7.97918905e-03],\n",
              "       [ 1.96697358e-02],\n",
              "       [-1.39216408e-02],\n",
              "       [ 6.82660425e-03],\n",
              "       [ 6.71230406e-02],\n",
              "       [-1.70531422e-02],\n",
              "       [ 1.19257793e-01],\n",
              "       [-9.85999852e-02],\n",
              "       [-7.31784990e-03],\n",
              "       [ 1.81208700e-02],\n",
              "       [-4.81802272e-03],\n",
              "       [-1.91907659e-02],\n",
              "       [ 1.30556777e-01],\n",
              "       [ 3.37126404e-02],\n",
              "       [-8.63082632e-02],\n",
              "       [-7.96715170e-02],\n",
              "       [ 4.63736244e-02],\n",
              "       [-6.14487007e-02],\n",
              "       [-5.59846871e-02],\n",
              "       [-2.01632525e-03],\n",
              "       [ 1.47989420e-02],\n",
              "       [ 6.24096394e-02],\n",
              "       [ 7.77071863e-02],\n",
              "       [ 4.44353186e-02],\n",
              "       [-8.00065696e-02],\n",
              "       [-3.78370658e-02],\n",
              "       [-3.04533262e-03],\n",
              "       [ 6.03364315e-03],\n",
              "       [ 3.01174149e-02],\n",
              "       [-1.65665239e-01],\n",
              "       [-1.22138612e-01],\n",
              "       [-2.06633620e-02],\n",
              "       [-5.57451919e-02],\n",
              "       [ 5.25850803e-02],\n",
              "       [ 5.93865756e-03],\n",
              "       [ 1.03568006e-02],\n",
              "       [ 5.84801808e-02],\n",
              "       [ 6.62420923e-03],\n",
              "       [-2.71659112e-03],\n",
              "       [ 2.40623970e-02],\n",
              "       [-3.35024595e-02],\n",
              "       [-9.68463793e-02],\n",
              "       [-4.81958203e-02],\n",
              "       [-1.13566788e-02],\n",
              "       [ 5.32873757e-02],\n",
              "       [-1.41609255e-02],\n",
              "       [-1.67419668e-03],\n",
              "       [ 5.89123368e-03],\n",
              "       [ 3.69500294e-02],\n",
              "       [ 9.67254164e-04],\n",
              "       [ 1.15818739e-01],\n",
              "       [-3.05784717e-02],\n",
              "       [ 4.92413417e-02],\n",
              "       [ 5.85525334e-02],\n",
              "       [-8.12166780e-02],\n",
              "       [-3.50967795e-02],\n",
              "       [-4.91150282e-02],\n",
              "       [ 4.69037658e-03],\n",
              "       [ 2.16600120e-01],\n",
              "       [ 6.55940101e-02],\n",
              "       [-2.07141880e-03],\n",
              "       [ 5.69372773e-02],\n",
              "       [-5.68319969e-02],\n",
              "       [-1.28812138e-02],\n",
              "       [ 2.47831289e-02],\n",
              "       [ 1.82083547e-01],\n",
              "       [-3.51901688e-02],\n",
              "       [ 5.65699525e-02],\n",
              "       [-1.31804664e-02],\n",
              "       [-5.34382313e-02],\n",
              "       [ 2.97081936e-02],\n",
              "       [-2.04038650e-01],\n",
              "       [-1.84003245e-02],\n",
              "       [ 2.36580111e-02],\n",
              "       [ 1.48442119e-01],\n",
              "       [ 9.89232138e-02],\n",
              "       [ 5.16619012e-02],\n",
              "       [ 4.10487391e-02],\n",
              "       [-2.01973785e-03],\n",
              "       [-3.77805643e-02],\n",
              "       [ 8.63987580e-03],\n",
              "       [ 5.42082787e-02],\n",
              "       [-2.78778598e-02],\n",
              "       [-6.34538084e-02],\n",
              "       [-1.44043369e-02],\n",
              "       [ 4.18790095e-02],\n",
              "       [ 1.80321652e-02],\n",
              "       [ 1.82551086e-01],\n",
              "       [-3.89939547e-02],\n",
              "       [ 3.27455848e-02],\n",
              "       [-1.99291110e-02],\n",
              "       [ 3.46603058e-02],\n",
              "       [-5.08249290e-02],\n",
              "       [-4.11995575e-02],\n",
              "       [-4.17579412e-02],\n",
              "       [ 4.41264436e-02],\n",
              "       [ 4.38263267e-02],\n",
              "       [ 6.78414293e-03],\n",
              "       [-4.22771834e-02],\n",
              "       [ 4.64991704e-02],\n",
              "       [-5.73907141e-03],\n",
              "       [-2.04478893e-02],\n",
              "       [-1.78578887e-02],\n",
              "       [ 1.96802020e-01],\n",
              "       [ 1.04944017e-02],\n",
              "       [ 8.12691376e-02],\n",
              "       [-4.43662237e-03],\n",
              "       [ 5.42985536e-02],\n",
              "       [-2.73522623e-02],\n",
              "       [ 3.02126296e-02],\n",
              "       [ 7.13545922e-03],\n",
              "       [-4.62341346e-02],\n",
              "       [-1.84343401e-02],\n",
              "       [-5.03474697e-02],\n",
              "       [-3.27688083e-02],\n",
              "       [-6.72140643e-02],\n",
              "       [ 1.51380692e-02],\n",
              "       [ 8.07936639e-02],\n",
              "       [-1.09889492e-01],\n",
              "       [ 2.01280154e-02],\n",
              "       [ 1.50425628e-01],\n",
              "       [-2.95713488e-02],\n",
              "       [ 4.30127326e-03],\n",
              "       [-6.21532649e-02],\n",
              "       [ 5.07975258e-02],\n",
              "       [-8.49017650e-02],\n",
              "       [-1.19067356e-01],\n",
              "       [-1.74968969e-02],\n",
              "       [-2.88150497e-02],\n",
              "       [-7.80748352e-02],\n",
              "       [ 5.47933467e-02],\n",
              "       [-4.74089347e-02],\n",
              "       [-1.57815460e-02],\n",
              "       [-8.89351889e-02],\n",
              "       [ 6.62143901e-03],\n",
              "       [ 1.09105464e-02],\n",
              "       [ 4.39128838e-02],\n",
              "       [-7.89350122e-02],\n",
              "       [ 1.25844376e-02],\n",
              "       [-1.34612188e-01],\n",
              "       [ 2.02409904e-02],\n",
              "       [-5.94858788e-02],\n",
              "       [-2.17562094e-02],\n",
              "       [ 1.47175351e-02],\n",
              "       [ 6.17068522e-02],\n",
              "       [ 3.58288921e-03],\n",
              "       [ 4.31155302e-02],\n",
              "       [ 7.02190399e-02],\n",
              "       [ 2.04081405e-02],\n",
              "       [ 3.43484280e-04],\n",
              "       [ 1.66664407e-01],\n",
              "       [ 6.15883172e-02],\n",
              "       [ 4.41534035e-02],\n",
              "       [ 4.65342775e-02],\n",
              "       [ 4.40389253e-02],\n",
              "       [ 2.16948446e-02],\n",
              "       [-6.62108064e-02],\n",
              "       [-1.91705767e-02],\n",
              "       [-3.63482051e-02],\n",
              "       [-7.03697875e-02],\n",
              "       [-9.65323299e-02],\n",
              "       [ 2.08498035e-02],\n",
              "       [ 1.60823707e-02],\n",
              "       [-6.08783364e-02],\n",
              "       [-1.36990147e-02],\n",
              "       [-3.25569091e-03],\n",
              "       [ 2.49760803e-02],\n",
              "       [-8.64357315e-03],\n",
              "       [-1.53369643e-02],\n",
              "       [ 2.74345223e-02],\n",
              "       [ 8.18895549e-03],\n",
              "       [ 1.95189565e-02],\n",
              "       [-1.08091615e-01],\n",
              "       [-1.78675190e-01],\n",
              "       [-1.28845507e-02],\n",
              "       [-7.11110309e-02],\n",
              "       [-1.42858559e-02],\n",
              "       [ 5.00473566e-02],\n",
              "       [-1.80601254e-02],\n",
              "       [ 8.87174532e-03],\n",
              "       [ 1.43879671e-02],\n",
              "       [ 2.10603960e-02],\n",
              "       [-4.28793533e-03],\n",
              "       [-2.81010661e-02],\n",
              "       [ 4.16723378e-02],\n",
              "       [ 5.91631085e-02],\n",
              "       [ 2.32744813e-02],\n",
              "       [ 4.71856892e-02],\n",
              "       [-2.48597022e-02],\n",
              "       [ 7.38201216e-02],\n",
              "       [-6.46289671e-03],\n",
              "       [ 4.81943451e-02],\n",
              "       [ 3.25747095e-02],\n",
              "       [ 2.46167206e-03],\n",
              "       [-1.02621103e-02],\n",
              "       [-7.48071000e-02],\n",
              "       [ 3.70841809e-02],\n",
              "       [ 4.59444709e-02],\n",
              "       [ 1.69463595e-03],\n",
              "       [-3.04291397e-02],\n",
              "       [ 6.62448853e-02],\n",
              "       [-1.13673210e-01],\n",
              "       [-2.17281282e-01],\n",
              "       [ 3.27007957e-02],\n",
              "       [ 1.07826702e-02],\n",
              "       [ 1.75428838e-02],\n",
              "       [-3.83138424e-03],\n",
              "       [-4.51657325e-02],\n",
              "       [ 5.23926690e-03],\n",
              "       [-3.12529095e-02],\n",
              "       [ 9.66605619e-02],\n",
              "       [ 9.89875756e-03],\n",
              "       [ 1.42279807e-02],\n",
              "       [-8.05531964e-02],\n",
              "       [ 1.84823703e-02],\n",
              "       [-3.13442685e-02],\n",
              "       [-4.52407934e-02],\n",
              "       [ 4.67098970e-03],\n",
              "       [-4.92166393e-02],\n",
              "       [-7.78425671e-03],\n",
              "       [ 3.54807936e-02],\n",
              "       [-4.86409105e-02],\n",
              "       [-4.90423068e-02],\n",
              "       [-1.41363055e-01],\n",
              "       [ 1.55639961e-01],\n",
              "       [ 2.52295043e-02],\n",
              "       [-7.66379088e-02],\n",
              "       [ 2.18169130e-02],\n",
              "       [ 1.84504658e-01],\n",
              "       [ 1.29447198e-02],\n",
              "       [ 2.62321476e-02],\n",
              "       [-2.30112281e-02],\n",
              "       [-3.74093726e-02],\n",
              "       [-4.38132994e-02],\n",
              "       [ 3.31523418e-02],\n",
              "       [ 6.33298829e-02],\n",
              "       [ 7.19563663e-02],\n",
              "       [ 3.59461941e-02],\n",
              "       [ 3.89413461e-02],\n",
              "       [-9.08746868e-02],\n",
              "       [-7.47441873e-02],\n",
              "       [-1.96112618e-02],\n",
              "       [ 3.05634886e-02],\n",
              "       [ 5.42377718e-02],\n",
              "       [ 7.68041536e-02],\n",
              "       [-2.24425904e-02],\n",
              "       [ 8.10351409e-03],\n",
              "       [-6.09192960e-02],\n",
              "       [ 1.12503078e-02],\n",
              "       [ 7.00499397e-03],\n",
              "       [-1.06907338e-01],\n",
              "       [-3.55024636e-02],\n",
              "       [ 3.71861830e-02],\n",
              "       [ 4.91574295e-02],\n",
              "       [-2.07141358e-02],\n",
              "       [ 2.09909715e-02],\n",
              "       [-1.16879158e-02],\n",
              "       [ 3.91371511e-02],\n",
              "       [ 4.51483764e-02],\n",
              "       [ 6.36248365e-02],\n",
              "       [-1.09589532e-01],\n",
              "       [-4.92805988e-02],\n",
              "       [ 8.51252005e-02],\n",
              "       [ 5.82585558e-02],\n",
              "       [-1.16596088e-01],\n",
              "       [-3.80321499e-03],\n",
              "       [ 7.48162270e-02],\n",
              "       [ 9.78503674e-02],\n",
              "       [-6.15758225e-02],\n",
              "       [ 1.94306280e-02],\n",
              "       [-4.93686758e-02],\n",
              "       [ 6.18512928e-02],\n",
              "       [-4.03482392e-02],\n",
              "       [-2.70507578e-02],\n",
              "       [-9.31818485e-02],\n",
              "       [ 6.89888448e-02],\n",
              "       [ 7.82776438e-03],\n",
              "       [ 2.38226503e-02],\n",
              "       [ 7.63556212e-02],\n",
              "       [-2.61246618e-02],\n",
              "       [ 1.02238327e-01],\n",
              "       [ 2.32087113e-02],\n",
              "       [ 1.89888990e-03],\n",
              "       [ 1.25234544e-01],\n",
              "       [-4.79324013e-02],\n",
              "       [-1.26860393e-02],\n",
              "       [ 3.97324935e-02],\n",
              "       [-8.55815187e-02],\n",
              "       [-3.15907896e-02],\n",
              "       [ 2.16167867e-02],\n",
              "       [-1.45807508e-02],\n",
              "       [ 1.79427210e-02],\n",
              "       [-3.51895429e-02],\n",
              "       [-1.25748822e-02],\n",
              "       [-1.35356769e-01],\n",
              "       [ 1.48311869e-04],\n",
              "       [ 3.83478627e-02],\n",
              "       [ 6.15849122e-02],\n",
              "       [-4.13580127e-02],\n",
              "       [-2.24386603e-02],\n",
              "       [ 1.88851401e-01],\n",
              "       [ 4.43659863e-03],\n",
              "       [-2.21834239e-02],\n",
              "       [-5.52030019e-02],\n",
              "       [ 1.31478822e-02],\n",
              "       [-3.30820829e-02],\n",
              "       [-3.10480669e-02],\n",
              "       [ 1.68466702e-01],\n",
              "       [ 4.97604348e-02],\n",
              "       [-1.29077677e-02],\n",
              "       [ 3.26407366e-02],\n",
              "       [ 3.13527067e-03],\n",
              "       [ 4.37502190e-02],\n",
              "       [-2.73606572e-02],\n",
              "       [ 4.90343273e-02],\n",
              "       [-2.84678508e-02],\n",
              "       [ 5.35064638e-02],\n",
              "       [ 4.63687815e-02],\n",
              "       [ 3.64050083e-02],\n",
              "       [ 7.91083649e-03],\n",
              "       [ 7.57445022e-02],\n",
              "       [-8.19179118e-02],\n",
              "       [ 6.32515475e-02],\n",
              "       [ 3.88786346e-02],\n",
              "       [ 8.85881633e-02],\n",
              "       [ 1.74273714e-01],\n",
              "       [ 1.65808909e-02],\n",
              "       [-4.13133018e-02],\n",
              "       [ 1.93119850e-02],\n",
              "       [ 1.07354753e-01],\n",
              "       [-4.07376327e-02],\n",
              "       [-1.04647717e-02],\n",
              "       [ 3.41842324e-02],\n",
              "       [ 1.01863056e-01],\n",
              "       [ 1.41888736e-02],\n",
              "       [ 2.31234008e-04],\n",
              "       [-8.96964408e-03],\n",
              "       [ 4.00806405e-02],\n",
              "       [ 7.37623777e-03],\n",
              "       [-6.98686093e-02],\n",
              "       [-1.13389948e-02],\n",
              "       [-7.49511831e-03],\n",
              "       [-7.23728314e-02],\n",
              "       [-1.42039508e-01],\n",
              "       [ 1.01121115e-02],\n",
              "       [-8.51072744e-02],\n",
              "       [ 2.14352962e-02],\n",
              "       [ 5.63582289e-04],\n",
              "       [-2.55098194e-02],\n",
              "       [-3.94152589e-02],\n",
              "       [ 9.14232805e-03],\n",
              "       [ 4.06949185e-02],\n",
              "       [ 2.02382915e-02],\n",
              "       [ 1.75160766e-02],\n",
              "       [ 2.88455896e-02],\n",
              "       [ 3.81745235e-03],\n",
              "       [-1.58811405e-01],\n",
              "       [ 1.38885319e-01],\n",
              "       [ 9.00051817e-02],\n",
              "       [-1.41128479e-02],\n",
              "       [ 1.39294229e-02],\n",
              "       [ 1.09815665e-01],\n",
              "       [-6.73373640e-02],\n",
              "       [ 4.82902043e-02],\n",
              "       [ 6.09529093e-02],\n",
              "       [-8.29673838e-03],\n",
              "       [-2.71755397e-01],\n",
              "       [ 4.85463925e-02],\n",
              "       [ 1.99680358e-01],\n",
              "       [ 5.03559820e-02],\n",
              "       [ 1.15820214e-01],\n",
              "       [-5.04269116e-02],\n",
              "       [ 4.00476903e-02],\n",
              "       [-1.89542100e-02],\n",
              "       [-2.82620370e-01],\n",
              "       [ 3.70323062e-02],\n",
              "       [ 5.77182509e-02],\n",
              "       [-8.13601688e-02],\n",
              "       [-7.90860690e-03],\n",
              "       [ 3.19545045e-02],\n",
              "       [ 5.02087846e-02],\n",
              "       [ 9.11080688e-02],\n",
              "       [ 5.22594340e-03],\n",
              "       [ 7.84441829e-02],\n",
              "       [ 9.28686783e-02],\n",
              "       [-5.19637465e-02],\n",
              "       [ 7.61276409e-02],\n",
              "       [-7.28312880e-02],\n",
              "       [ 7.51273287e-03],\n",
              "       [-2.00623721e-01],\n",
              "       [ 1.99454352e-02],\n",
              "       [ 3.10186371e-02],\n",
              "       [ 1.94253176e-02],\n",
              "       [ 1.90944015e-03],\n",
              "       [ 1.07752413e-01],\n",
              "       [ 3.52996513e-02],\n",
              "       [-1.88510213e-02],\n",
              "       [ 1.27312183e-01],\n",
              "       [-1.82413626e-02],\n",
              "       [-1.88169349e-02],\n",
              "       [-1.40867382e-02],\n",
              "       [-4.20114025e-02],\n",
              "       [-3.00477911e-02],\n",
              "       [-3.87885451e-01],\n",
              "       [ 7.28252381e-02],\n",
              "       [-6.39815554e-02],\n",
              "       [ 1.49961133e-02],\n",
              "       [ 1.37036089e-02],\n",
              "       [ 1.17162324e-01],\n",
              "       [-3.23643200e-02],\n",
              "       [ 9.84918177e-02],\n",
              "       [-7.67018721e-02],\n",
              "       [-3.90394181e-02],\n",
              "       [ 7.08575770e-02],\n",
              "       [ 1.06468070e-02],\n",
              "       [ 1.71658210e-02],\n",
              "       [ 1.16078429e-01],\n",
              "       [-9.95635167e-02],\n",
              "       [ 5.42644262e-02],\n",
              "       [-2.39376370e-02],\n",
              "       [ 2.12606434e-02],\n",
              "       [ 4.07565199e-02],\n",
              "       [-3.55068110e-02],\n",
              "       [ 5.52931167e-02],\n",
              "       [ 3.27027552e-02],\n",
              "       [-1.45513847e-01],\n",
              "       [-6.69857040e-02],\n",
              "       [ 6.96059391e-02],\n",
              "       [ 1.02016013e-02],\n",
              "       [-9.12047327e-02],\n",
              "       [ 3.27662379e-02],\n",
              "       [-5.41597009e-02],\n",
              "       [ 2.76033836e-03],\n",
              "       [-1.65345613e-02],\n",
              "       [ 4.66377139e-02],\n",
              "       [ 6.80481493e-02],\n",
              "       [-1.98596418e-02],\n",
              "       [ 3.04494761e-02],\n",
              "       [-2.02182326e-02],\n",
              "       [-6.69679567e-02],\n",
              "       [-1.27464943e-02],\n",
              "       [-4.24146652e-02],\n",
              "       [-4.33277525e-03],\n",
              "       [ 5.48574217e-02],\n",
              "       [-1.12512021e-03],\n",
              "       [ 2.68942844e-02],\n",
              "       [ 6.89465273e-03],\n",
              "       [ 8.22637379e-02],\n",
              "       [ 2.69745979e-02],\n",
              "       [ 8.01186711e-02],\n",
              "       [ 1.76326428e-02],\n",
              "       [ 5.58637828e-03],\n",
              "       [ 7.77820721e-02],\n",
              "       [-5.64231314e-02],\n",
              "       [ 3.73190828e-02],\n",
              "       [ 3.08911409e-02],\n",
              "       [-2.19342753e-01],\n",
              "       [-1.96833387e-01],\n",
              "       [-1.32674463e-02],\n",
              "       [ 3.31063643e-02],\n",
              "       [-7.34114200e-02],\n",
              "       [-2.43109968e-02],\n",
              "       [ 4.00284156e-02],\n",
              "       [ 8.35469291e-02],\n",
              "       [ 6.82791248e-02],\n",
              "       [ 8.45740139e-02],\n",
              "       [ 4.87218760e-02],\n",
              "       [ 7.48061240e-02],\n",
              "       [ 8.80223364e-02],\n",
              "       [-1.08608212e-02],\n",
              "       [ 4.41405103e-02],\n",
              "       [-1.52048059e-02],\n",
              "       [ 4.05376814e-02],\n",
              "       [ 2.15421766e-01],\n",
              "       [ 1.11248959e-02],\n",
              "       [ 3.71300406e-03],\n",
              "       [ 1.03538129e-02],\n",
              "       [-1.18078431e-02],\n",
              "       [-3.86300795e-02],\n",
              "       [ 2.03028936e-02],\n",
              "       [ 6.24708012e-02],\n",
              "       [-6.39710203e-02],\n",
              "       [-7.45877717e-03],\n",
              "       [-1.38020618e-02],\n",
              "       [-1.29080728e-01],\n",
              "       [-2.41190325e-02],\n",
              "       [ 7.41899312e-02],\n",
              "       [-7.43410066e-02],\n",
              "       [ 2.87910607e-02],\n",
              "       [-9.02806222e-03],\n",
              "       [-4.01281752e-02],\n",
              "       [-7.66431307e-03],\n",
              "       [-1.00829909e-02],\n",
              "       [-4.19261493e-02],\n",
              "       [ 2.58011650e-02],\n",
              "       [ 2.43285358e-01],\n",
              "       [-5.73093593e-02],\n",
              "       [ 5.16093336e-02],\n",
              "       [ 1.17892064e-01],\n",
              "       [-1.81223173e-02],\n",
              "       [ 1.53438717e-01],\n",
              "       [ 3.54014114e-02],\n",
              "       [-3.54766995e-02],\n",
              "       [ 1.94175065e-01],\n",
              "       [ 2.53305323e-02],\n",
              "       [-8.86795893e-02],\n",
              "       [-7.68795907e-02],\n",
              "       [-3.10573559e-02],\n",
              "       [-4.59852405e-02],\n",
              "       [ 1.58567503e-02],\n",
              "       [-2.04782058e-02],\n",
              "       [-3.45074236e-02],\n",
              "       [-9.11462121e-06],\n",
              "       [ 8.03333819e-02],\n",
              "       [ 1.35574071e-02],\n",
              "       [-1.13954581e-02],\n",
              "       [-2.81836718e-01],\n",
              "       [ 5.96682392e-02],\n",
              "       [-3.78068760e-02],\n",
              "       [ 7.51250889e-04],\n",
              "       [-3.18179205e-02],\n",
              "       [ 8.48951458e-04],\n",
              "       [ 3.41349132e-02],\n",
              "       [-1.38677843e-02],\n",
              "       [-1.82056688e-02],\n",
              "       [-7.27818087e-02],\n",
              "       [ 8.79357532e-02],\n",
              "       [ 9.39600021e-02],\n",
              "       [ 6.74002767e-02],\n",
              "       [-3.20723541e-02],\n",
              "       [-8.71137232e-02],\n",
              "       [-5.15276454e-02],\n",
              "       [-6.49590492e-02],\n",
              "       [-3.91093716e-02],\n",
              "       [ 3.65934079e-03],\n",
              "       [ 1.76707637e-02],\n",
              "       [-1.25528146e-02],\n",
              "       [ 9.18391570e-02],\n",
              "       [ 4.17939387e-02],\n",
              "       [ 4.29422632e-02],\n",
              "       [ 2.63708867e-02],\n",
              "       [-1.12496233e-02],\n",
              "       [-1.09974211e-02],\n",
              "       [ 2.25753840e-02],\n",
              "       [ 2.00428933e-01],\n",
              "       [ 7.18431920e-02],\n",
              "       [-1.31310970e-01],\n",
              "       [-9.94377658e-02],\n",
              "       [-3.92899849e-02],\n",
              "       [-1.09801926e-01],\n",
              "       [-6.09900504e-02],\n",
              "       [-1.64825574e-01],\n",
              "       [ 2.27053817e-02],\n",
              "       [ 1.05877295e-01],\n",
              "       [ 3.65820453e-02],\n",
              "       [-2.31410041e-02],\n",
              "       [ 2.56789792e-02],\n",
              "       [ 3.34858894e-02],\n",
              "       [ 4.77512106e-02],\n",
              "       [ 3.22044119e-02],\n",
              "       [-7.58864284e-02],\n",
              "       [-8.59399214e-02],\n",
              "       [ 1.02104328e-03],\n",
              "       [ 8.47615227e-02],\n",
              "       [-1.43413469e-02],\n",
              "       [ 6.13159174e-03],\n",
              "       [-6.89635891e-03],\n",
              "       [ 1.74675062e-02]], dtype=float32)"
            ]
          },
          "metadata": {},
          "execution_count": 41
        }
      ],
      "source": [
        "model_BoW_1L_lin_weights = model_BoW_1L_lin.layers[1].get_weights()[0]\n",
        "model_BoW_1L_lin_weights"
      ]
    },
    {
      "cell_type": "markdown",
      "metadata": {
        "id": "3_H0DfftJ7VV"
      },
      "source": [
        "`model1_BoW_weights[0]` contains the 1000 weights for the words in the dictionary, while `model1_BoW_weights[1]` is the bias or intercept of the linear regression. We look at the weights and search the indices with the largest values -- these will be the words that are the most positive:\n"
      ]
    },
    {
      "cell_type": "code",
      "execution_count": null,
      "metadata": {
        "colab": {
          "base_uri": "https://localhost:8080/"
        },
        "id": "P3RQKlqOJmhu",
        "outputId": "371c0b9c-df7e-4511-85a1-871e47f53fac"
      },
      "outputs": [
        {
          "output_type": "execute_result",
          "data": {
            "text/plain": [
              "array([['perfect'],\n",
              "       ['superb'],\n",
              "       ['amazing'],\n",
              "       ['perfectly'],\n",
              "       ['wonderful']], dtype='<U14')"
            ]
          },
          "metadata": {},
          "execution_count": 42
        }
      ],
      "source": [
        "model_BoW_1L_lin_sortOrder = np.argsort(model_BoW_1L_lin_weights, axis=0)\n",
        "vocab[model_BoW_1L_lin_sortOrder[-5:]]"
      ]
    },
    {
      "cell_type": "markdown",
      "metadata": {
        "id": "2nynz2lrJz7G"
      },
      "source": [
        "That seems plausible! Similarly, we can look for the words that best indicate a bad review:"
      ]
    },
    {
      "cell_type": "code",
      "execution_count": null,
      "metadata": {
        "colab": {
          "base_uri": "https://localhost:8080/"
        },
        "id": "WHG7MoCoKqK4",
        "outputId": "956bc762-4b74-4473-9581-87d5423c6c59"
      },
      "outputs": [
        {
          "output_type": "execute_result",
          "data": {
            "text/plain": [
              "array([['poorly'],\n",
              "       ['waste'],\n",
              "       ['worst'],\n",
              "       ['dull'],\n",
              "       ['mess']], dtype='<U14')"
            ]
          },
          "metadata": {},
          "execution_count": 43
        }
      ],
      "source": [
        "vocab[model_BoW_1L_lin_sortOrder[:5]]"
      ]
    },
    {
      "cell_type": "markdown",
      "metadata": {
        "id": "6RmSWdR2L98d"
      },
      "source": [
        "## Evaluate Performance Development\n",
        "Using the history (which we got from the fit() function), we can also check the evolution of the performance over the training epochs:"
      ]
    },
    {
      "cell_type": "code",
      "execution_count": null,
      "metadata": {
        "id": "Hn6aBttNLcBh"
      },
      "outputs": [],
      "source": [
        "history_BoW_1L_lin_dict = history_BoW_1L_lin.history\n",
        "\n",
        "train_acc_BoW_1L_lin = history_BoW_1L_lin_dict['accuracy']\n",
        "val_acc_BoW_1L_lin   = history_BoW_1L_lin_dict['val_accuracy']\n",
        "\n",
        "train_loss_BoW_1L_lin = history_BoW_1L_lin_dict['loss']\n",
        "val_loss_BoW_1L_lin   = history_BoW_1L_lin_dict['val_loss']\n",
        "\n",
        "epochs_BoW_1L_lin    = range(1, len(train_acc_BoW_1L_lin) + 1)"
      ]
    },
    {
      "cell_type": "code",
      "execution_count": null,
      "metadata": {
        "colab": {
          "base_uri": "https://localhost:8080/",
          "height": 472
        },
        "id": "w0cbUF6YLW13",
        "outputId": "037f8811-b21a-4eea-c109-1fad8369a94f"
      },
      "outputs": [
        {
          "output_type": "display_data",
          "data": {
            "text/plain": [
              "<Figure size 640x480 with 2 Axes>"
            ],
            "image/png": "[encoded data removed]"
          },
          "metadata": {}
        }
      ],
      "source": [
        "plt.subplot(2, 1, 1)\n",
        "plt.plot(epochs_BoW_1L_lin, train_loss_BoW_1L_lin, 'b:', label='model_BoW_1L_lin, Training loss')\n",
        "plt.plot(epochs_BoW_1L_lin, val_loss_BoW_1L_lin,   'b',  label='model_BoW_1L_lin, Validation loss')\n",
        "plt.title('Training and validation loss')\n",
        "\n",
        "plt.subplot(2, 1, 2)\n",
        "plt.plot(epochs_BoW_1L_lin, train_acc_BoW_1L_lin, 'r:', label='model_BoW_1L_lin, Training acc')\n",
        "plt.plot(epochs_BoW_1L_lin, val_acc_BoW_1L_lin,   'r',  label='model_BoW_1L_lin, Validation acc')\n",
        "plt.title('Training and validation accuracy')\n",
        "plt.xlabel('Epochs')\n",
        "plt.grid(True)\n",
        "plt.show()"
      ]
    },
    {
      "cell_type": "markdown",
      "metadata": {
        "id": "0fzAjNI-Ls9T"
      },
      "source": [
        "# A slightly more advanced Model: Logistic Regression\n",
        "As the output is binary, we might also see the task as binary classification, and logistic regression seems a natural choice. In the model above, we only need to change the activation function to `sigmoid`, and we already have a neural network doing logistic regression:"
      ]
    },
    {
      "cell_type": "code",
      "execution_count": null,
      "metadata": {
        "id": "_5TT6Vc_gbcQ"
      },
      "outputs": [],
      "source": [
        "# initialize random number generators to ensure reproducibility:\n",
        "tf.random.set_seed(123)\n",
        "np.random.seed(123)"
      ]
    },
    {
      "cell_type": "code",
      "execution_count": null,
      "metadata": {
        "id": "rIfedTzSMse5"
      },
      "outputs": [],
      "source": [
        "model_BoW_1L_sig = Sequential()\n",
        "model_BoW_1L_sig.add(Input(shape=(1,), dtype='string'))\n",
        "model_BoW_1L_sig.add(encoderBoW)\n",
        "model_BoW_1L_sig.add(Dense(1, activation=\"sigmoid\"))"
      ]
    },
    {
      "cell_type": "code",
      "execution_count": null,
      "metadata": {
        "id": "ljD-hQwnNzO0"
      },
      "outputs": [],
      "source": [
        "model_BoW_1L_sig.compile(loss = 'binary_crossentropy', metrics = ['accuracy'])"
      ]
    },
    {
      "cell_type": "code",
      "execution_count": null,
      "metadata": {
        "colab": {
          "base_uri": "https://localhost:8080/"
        },
        "id": "o-xsEJR1LI09",
        "outputId": "1cf1c98a-705b-4cd7-d5e3-cc091e0fe4da"
      },
      "outputs": [
        {
          "output_type": "stream",
          "name": "stdout",
          "text": [
            "Epoch 1/50\n",
            "40/40 [==============================] - 4s 80ms/step - loss: 0.8717 - accuracy: 0.5486 - val_loss: 0.6628 - val_accuracy: 0.6206\n",
            "Epoch 2/50\n",
            "40/40 [==============================] - 3s 75ms/step - loss: 0.5999 - accuracy: 0.6892 - val_loss: 0.5539 - val_accuracy: 0.7264\n",
            "Epoch 3/50\n",
            "40/40 [==============================] - 3s 72ms/step - loss: 0.5213 - accuracy: 0.7626 - val_loss: 0.5057 - val_accuracy: 0.7734\n",
            "Epoch 4/50\n",
            "40/40 [==============================] - 4s 102ms/step - loss: 0.4753 - accuracy: 0.7970 - val_loss: 0.4717 - val_accuracy: 0.7980\n",
            "Epoch 5/50\n",
            "40/40 [==============================] - 3s 76ms/step - loss: 0.4434 - accuracy: 0.8175 - val_loss: 0.4390 - val_accuracy: 0.8242\n",
            "Epoch 6/50\n",
            "40/40 [==============================] - 3s 72ms/step - loss: 0.4202 - accuracy: 0.8307 - val_loss: 0.4214 - val_accuracy: 0.8308\n",
            "Epoch 7/50\n",
            "40/40 [==============================] - 4s 98ms/step - loss: 0.4025 - accuracy: 0.8403 - val_loss: 0.4078 - val_accuracy: 0.8338\n",
            "Epoch 8/50\n",
            "40/40 [==============================] - 3s 75ms/step - loss: 0.3886 - accuracy: 0.8449 - val_loss: 0.3975 - val_accuracy: 0.8368\n",
            "Epoch 9/50\n",
            "40/40 [==============================] - 3s 72ms/step - loss: 0.3768 - accuracy: 0.8520 - val_loss: 0.3880 - val_accuracy: 0.8458\n",
            "Epoch 10/50\n",
            "40/40 [==============================] - 4s 93ms/step - loss: 0.3675 - accuracy: 0.8559 - val_loss: 0.3821 - val_accuracy: 0.8458\n",
            "Epoch 11/50\n",
            "40/40 [==============================] - 3s 74ms/step - loss: 0.3603 - accuracy: 0.8591 - val_loss: 0.3917 - val_accuracy: 0.8456\n",
            "Epoch 12/50\n",
            "40/40 [==============================] - 3s 72ms/step - loss: 0.3537 - accuracy: 0.8615 - val_loss: 0.3759 - val_accuracy: 0.8520\n",
            "Epoch 13/50\n",
            "40/40 [==============================] - 4s 96ms/step - loss: 0.3488 - accuracy: 0.8623 - val_loss: 0.3819 - val_accuracy: 0.8492\n",
            "Epoch 14/50\n",
            "40/40 [==============================] - 3s 73ms/step - loss: 0.3437 - accuracy: 0.8643 - val_loss: 0.3637 - val_accuracy: 0.8558\n",
            "Epoch 15/50\n",
            "40/40 [==============================] - 3s 73ms/step - loss: 0.3386 - accuracy: 0.8674 - val_loss: 0.3630 - val_accuracy: 0.8550\n",
            "Epoch 16/50\n",
            "40/40 [==============================] - 3s 72ms/step - loss: 0.3353 - accuracy: 0.8680 - val_loss: 0.3636 - val_accuracy: 0.8578\n",
            "Epoch 17/50\n",
            "40/40 [==============================] - 4s 97ms/step - loss: 0.3322 - accuracy: 0.8679 - val_loss: 0.3568 - val_accuracy: 0.8596\n",
            "Epoch 18/50\n",
            "40/40 [==============================] - 3s 78ms/step - loss: 0.3295 - accuracy: 0.8691 - val_loss: 0.3596 - val_accuracy: 0.8544\n",
            "Epoch 19/50\n",
            "40/40 [==============================] - 3s 77ms/step - loss: 0.3268 - accuracy: 0.8702 - val_loss: 0.3653 - val_accuracy: 0.8510\n",
            "Epoch 20/50\n",
            "40/40 [==============================] - 4s 94ms/step - loss: 0.3247 - accuracy: 0.8713 - val_loss: 0.3556 - val_accuracy: 0.8570\n",
            "Epoch 21/50\n",
            "40/40 [==============================] - 3s 75ms/step - loss: 0.3226 - accuracy: 0.8705 - val_loss: 0.3639 - val_accuracy: 0.8520\n",
            "Epoch 22/50\n",
            "40/40 [==============================] - 3s 72ms/step - loss: 0.3207 - accuracy: 0.8717 - val_loss: 0.3619 - val_accuracy: 0.8554\n"
          ]
        }
      ],
      "source": [
        "history_BoW_1L_sig = model_BoW_1L_sig.fit(\n",
        "    train_ds.shuffle(buffer_size=BUFFER_SIZE).batch(BATCH_SIZE),\n",
        "    validation_data = val_ds.batch(BATCH_SIZE),\n",
        "    epochs = NUM_EPOCHS, verbose = 1,\n",
        "    callbacks = [ EarlyStopping(monitor='val_accuracy', patience=5,\n",
        "                                verbose=False, restore_best_weights=True)])\n",
        "\n",
        "# Evaluate Training Progress\n",
        "history_BoW_1L_sig_dict = history_BoW_1L_sig.history\n",
        "\n",
        "train_acc_BoW_1L_sig = history_BoW_1L_sig_dict['accuracy']\n",
        "val_acc_BoW_1L_sig   = history_BoW_1L_sig_dict['val_accuracy']\n",
        "epochs_BoW_1L_sig    = range(1, len(train_acc_BoW_1L_sig) + 1)"
      ]
    },
    {
      "cell_type": "code",
      "execution_count": null,
      "metadata": {
        "id": "Zbslz02duKpd"
      },
      "outputs": [],
      "source": [
        "model_BoW_1L_sig.save_weights('model_BoW_1L_sig')"
      ]
    },
    {
      "cell_type": "code",
      "execution_count": null,
      "metadata": {
        "colab": {
          "base_uri": "https://localhost:8080/",
          "height": 472
        },
        "id": "zGLBdWEgMud2",
        "outputId": "da2204c8-dbbf-4404-f5b8-a170b296e148"
      },
      "outputs": [
        {
          "output_type": "display_data",
          "data": {
            "text/plain": [
              "<Figure size 640x480 with 1 Axes>"
            ],
            "image/png": "[encoded data removed]"
          },
          "metadata": {}
        }
      ],
      "source": [
        "plt.plot(epochs_BoW_1L_lin, train_acc_BoW_1L_lin, 'r:', label='model_BoW_1L_lin, Training acc')\n",
        "plt.plot(epochs_BoW_1L_lin, val_acc_BoW_1L_lin,   'r',  label='model_BoW_1L_lin, Validation acc')\n",
        "plt.plot(epochs_BoW_1L_sig, train_acc_BoW_1L_sig, 'g:', label='model_BoW_1L_sig, Training acc')\n",
        "plt.plot(epochs_BoW_1L_sig, val_acc_BoW_1L_sig,   'g',  label='model_BoW_1L_sig, Validation acc')\n",
        "plt.title('Training and validation accuracy')\n",
        "plt.xlabel('Epochs')\n",
        "plt.ylabel('Accuracy')\n",
        "plt.legend(loc='lower right')\n",
        "plt.grid(True)\n",
        "plt.show()"
      ]
    },
    {
      "cell_type": "markdown",
      "metadata": {
        "id": "tY706ZsMb50B"
      },
      "source": [
        "# Word Embeddings\n",
        "Until now, we have represented all words as an index (represented as an integer number or as one-hot encoding). This representation does not take similarities in the meaning of words into acocunt - two words are either the same or different.\n",
        "\n",
        "Using a word embedding, we get a more detailed notion of word similarity. In a high-dimensional representation, the distance between two words will be defined by how similar they are (as infered from the training data). While word embeddings are usually used in connection with more complex models, we start here with a"
      ]
    },
    {
      "cell_type": "code",
      "execution_count": null,
      "metadata": {
        "id": "dCSO6NDvged3"
      },
      "outputs": [],
      "source": [
        "# initialize random number generators to ensure reproducibility:\n",
        "tf.random.set_seed(123)\n",
        "np.random.seed(123)"
      ]
    },
    {
      "cell_type": "code",
      "execution_count": null,
      "metadata": {
        "id": "4w8UPk4Qb5Sm"
      },
      "outputs": [],
      "source": [
        "model_embed_BoW_1L_sig = Sequential()\n",
        "model_embed_BoW_1L_sig.add(Input(shape=(1,), dtype='string'))\n",
        "model_embed_BoW_1L_sig.add(encoderBoW)\n",
        "model_embed_BoW_1L_sig.add(Embedding(VOCAB_SIZE, EMBED_DIM))\n",
        "model_embed_BoW_1L_sig.add(Flatten())\n",
        "model_embed_BoW_1L_sig.add(Dense(1, activation=\"sigmoid\"))"
      ]
    },
    {
      "cell_type": "code",
      "execution_count": null,
      "metadata": {
        "id": "jGRy-p8Gd0J8"
      },
      "outputs": [],
      "source": [
        "model_embed_BoW_1L_sig.compile(loss = 'binary_crossentropy', metrics = ['accuracy'])"
      ]
    },
    {
      "cell_type": "code",
      "execution_count": null,
      "metadata": {
        "colab": {
          "base_uri": "https://localhost:8080/"
        },
        "id": "Ox-RZkEud0MT",
        "outputId": "ef50eb88-a565-4b18-87d6-36319849ecd8"
      },
      "outputs": [
        {
          "output_type": "stream",
          "name": "stdout",
          "text": [
            "Model: \"sequential_3\"\n",
            "_________________________________________________________________\n",
            " Layer (type)                Output Shape              Param #   \n",
            "=================================================================\n",
            " text_vectorization_1 (Text  (None, 1000)              0         \n",
            " Vectorization)                                                  \n",
            "                                                                 \n",
            " embedding (Embedding)       (None, 1000, 100)         100000    \n",
            "                                                                 \n",
            " flatten (Flatten)           (None, 100000)            0         \n",
            "                                                                 \n",
            " dense_3 (Dense)             (None, 1)                 100001    \n",
            "                                                                 \n",
            "=================================================================\n",
            "Total params: 200001 (781.25 KB)\n",
            "Trainable params: 200001 (781.25 KB)\n",
            "Non-trainable params: 0 (0.00 Byte)\n",
            "_________________________________________________________________\n"
          ]
        }
      ],
      "source": [
        "model_embed_BoW_1L_sig.summary()"
      ]
    },
    {
      "cell_type": "code",
      "execution_count": null,
      "metadata": {
        "colab": {
          "base_uri": "https://localhost:8080/"
        },
        "id": "u3XpKgr1d0O2",
        "outputId": "4f4e7c49-3239-4c2b-e5fe-e3d47e51e3f0"
      },
      "outputs": [
        {
          "output_type": "stream",
          "name": "stdout",
          "text": [
            "Epoch 1/50\n",
            "40/40 [==============================] - 4s 105ms/step - loss: 0.7399 - accuracy: 0.5760 - val_loss: 0.5931 - val_accuracy: 0.6420\n",
            "Epoch 2/50\n",
            "40/40 [==============================] - 3s 86ms/step - loss: 0.5001 - accuracy: 0.7642 - val_loss: 0.4145 - val_accuracy: 0.8290\n",
            "Epoch 3/50\n",
            "40/40 [==============================] - 3s 83ms/step - loss: 0.3929 - accuracy: 0.8293 - val_loss: 0.3589 - val_accuracy: 0.8460\n",
            "Epoch 4/50\n",
            "40/40 [==============================] - 4s 106ms/step - loss: 0.3496 - accuracy: 0.8500 - val_loss: 0.3672 - val_accuracy: 0.8382\n",
            "Epoch 5/50\n",
            "40/40 [==============================] - 3s 84ms/step - loss: 0.3296 - accuracy: 0.8619 - val_loss: 0.3410 - val_accuracy: 0.8540\n",
            "Epoch 6/50\n",
            "40/40 [==============================] - 3s 84ms/step - loss: 0.3156 - accuracy: 0.8683 - val_loss: 0.3402 - val_accuracy: 0.8588\n",
            "Epoch 7/50\n",
            "40/40 [==============================] - 4s 101ms/step - loss: 0.3095 - accuracy: 0.8701 - val_loss: 0.3982 - val_accuracy: 0.8336\n",
            "Epoch 8/50\n",
            "40/40 [==============================] - 4s 106ms/step - loss: 0.3057 - accuracy: 0.8726 - val_loss: 0.3482 - val_accuracy: 0.8578\n",
            "Epoch 9/50\n",
            "40/40 [==============================] - 3s 83ms/step - loss: 0.2988 - accuracy: 0.8745 - val_loss: 0.3434 - val_accuracy: 0.8584\n",
            "Epoch 10/50\n",
            "40/40 [==============================] - 4s 105ms/step - loss: 0.2957 - accuracy: 0.8751 - val_loss: 0.3549 - val_accuracy: 0.8536\n",
            "Epoch 11/50\n",
            "40/40 [==============================] - 3s 84ms/step - loss: 0.2931 - accuracy: 0.8784 - val_loss: 0.3929 - val_accuracy: 0.8362\n"
          ]
        }
      ],
      "source": [
        "history_embed_BoW_1L_sig = model_embed_BoW_1L_sig.fit(\n",
        "    train_ds.shuffle(buffer_size=BUFFER_SIZE).batch(BATCH_SIZE),\n",
        "    validation_data = val_ds.batch(BATCH_SIZE),\n",
        "    epochs = NUM_EPOCHS, verbose = 1,\n",
        "    callbacks = [ EarlyStopping(monitor='val_accuracy', patience=5,\n",
        "                                verbose=False, restore_best_weights=True)])"
      ]
    },
    {
      "cell_type": "code",
      "execution_count": null,
      "metadata": {
        "id": "I44-vCOc_hnz"
      },
      "outputs": [],
      "source": [
        "model_embed_BoW_1L_sig.save_weights('model_embed_BoW_1L_sig')"
      ]
    },
    {
      "cell_type": "code",
      "execution_count": null,
      "metadata": {
        "id": "TZx2GtOvfJyD"
      },
      "outputs": [],
      "source": [
        "# Evaluate Training Progress\n",
        "history_embed_BoW_1L_sig_dict = history_embed_BoW_1L_sig.history\n",
        "\n",
        "train_acc_embed_BoW_1L_sig_dict = history_embed_BoW_1L_sig_dict['accuracy']\n",
        "val_acc_embed_BoW_1L_sig_dict   = history_embed_BoW_1L_sig_dict['val_accuracy']\n",
        "epochs_embed_BoW_1L_sig_dict    = range(1, len(train_acc_embed_BoW_1L_sig_dict) + 1)"
      ]
    },
    {
      "cell_type": "code",
      "execution_count": null,
      "metadata": {
        "colab": {
          "base_uri": "https://localhost:8080/",
          "height": 472
        },
        "id": "TqMlyFR3hm89",
        "outputId": "96b5de71-7752-4efa-f1c8-fad6a5cfdc1c"
      },
      "outputs": [
        {
          "output_type": "display_data",
          "data": {
            "text/plain": [
              "<Figure size 640x480 with 1 Axes>"
            ],
            "image/png": "[encoded data removed]"
          },
          "metadata": {}
        }
      ],
      "source": [
        "plt.plot(epochs_BoW_1L_lin, train_acc_BoW_1L_lin, 'r:', label='model_BoW_1L_lin, Training acc')\n",
        "plt.plot(epochs_BoW_1L_lin, val_acc_BoW_1L_lin,   'r',  label='model_BoW_1L_lin, Validation acc')\n",
        "\n",
        "plt.plot(epochs_BoW_1L_sig, train_acc_BoW_1L_sig, 'g:', label='model_BoW_1L_sig, Training acc')\n",
        "plt.plot(epochs_BoW_1L_sig, val_acc_BoW_1L_sig,   'g',  label='model_BoW_1L_sig, Validation acc')\n",
        "\n",
        "plt.plot(epochs_embed_BoW_1L_sig_dict, train_acc_embed_BoW_1L_sig_dict, 'b:', label='model_embed_BoW_1L_sig, Training acc')\n",
        "plt.plot(epochs_embed_BoW_1L_sig_dict, val_acc_embed_BoW_1L_sig_dict,   'b',  label='model_embed_BoW_1L_sig, Validation acc')\n",
        "\n",
        "plt.title('Training and validation accuracy')\n",
        "plt.xlabel('Epochs')\n",
        "plt.ylabel('Accuracy')\n",
        "plt.legend(loc='lower right')\n",
        "plt.grid(True)\n",
        "plt.show()"
      ]
    },
    {
      "cell_type": "markdown",
      "metadata": {
        "id": "1FU8MSsujmeb"
      },
      "source": [
        "The plot shows us several things:\n",
        "* Embeddings do yield somewhat better results, but the improvement is not exciting - we might have expected more.\n",
        "* Overfitting is becoming an issue: We reach the optimal performance on the validation data already after a few steps - afterwards, training performance continues to go up, but validation performance decreases.\n",
        "\n",
        "Hence, we need some more advanced concepts - especially, as we still ignore the order of the words."
      ]
    },
    {
      "cell_type": "code",
      "execution_count": null,
      "metadata": {
        "id": "5-BkVPJXizLv"
      },
      "outputs": [],
      "source": []
    }
  ],
  "metadata": {
    "accelerator": "GPU",
    "colab": {
      "gpuType": "T4",
      "provenance": [],
      "toc_visible": true,
      "include_colab_link": true
    },
    "kernelspec": {
      "display_name": "Python 3 (ipykernel)",
      "language": "python",
      "name": "python3"
    },
    "language_info": {
      "codemirror_mode": {
        "name": "ipython",
        "version": 3
      },
      "file_extension": ".py",
      "mimetype": "text/x-python",
      "name": "python",
      "nbconvert_exporter": "python",
      "pygments_lexer": "ipython3",
      "version": "3.11.7"
    }
  },
  "nbformat": 4,
  "nbformat_minor": 0
}